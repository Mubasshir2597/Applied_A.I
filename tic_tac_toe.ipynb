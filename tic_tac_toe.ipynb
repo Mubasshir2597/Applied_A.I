{
  "nbformat": 4,
  "nbformat_minor": 0,
  "metadata": {
    "colab": {
      "provenance": [],
      "authorship_tag": "ABX9TyM35y8S2FBGtGdfidcCvyjo",
      "include_colab_link": true
    },
    "kernelspec": {
      "name": "python3",
      "display_name": "Python 3"
    },
    "language_info": {
      "name": "python"
    }
  },
  "cells": [
    {
      "cell_type": "markdown",
      "metadata": {
        "id": "view-in-github",
        "colab_type": "text"
      },
      "source": [
        "<a href=\"https://colab.research.google.com/github/Mubasshir2597/Applied_A.I_2023/blob/main/tic_tac_toe.ipynb\" target=\"_parent\"><img src=\"https://colab.research.google.com/assets/colab-badge.svg\" alt=\"Open In Colab\"/></a>"
      ]
    },
    {
      "cell_type": "markdown",
      "source": [
        "Play against A.I"
      ],
      "metadata": {
        "id": "QyfepHqxpJ0u"
      }
    },
    {
      "cell_type": "code",
      "source": [
        "def ConstBoard(board):\n",
        "    print(\"Current State of the Board: \\n\\n\")\n",
        "    for i in range(0, 9):\n",
        "        if (i > 0) and (i % 3 == 0):\n",
        "            print(\"\\n\");\n",
        "        if board[i] == 0:\n",
        "            print(\"_\", end=\" \")\n",
        "        if board[i] == 1:\n",
        "            print(\"O\", end=\" \")\n",
        "        if board[i] == -1:\n",
        "            print(\"x\", end=\" \")\n",
        "    print(\"\\n\\n\")"
      ],
      "metadata": {
        "id": "7KRLXHX9o6gR"
      },
      "execution_count": 38,
      "outputs": []
    },
    {
      "cell_type": "code",
      "source": [
        "def User1Turn(board):\n",
        "    pos = input(\"Enter X's position from [1, 2, ..., 9]: \")\n",
        "    pos = int(pos)\n",
        "    if board[pos - 1] != 0:\n",
        "        print(\"Wrong Move\")\n",
        "        exit(0)\n",
        "    board[pos - 1] = -1\n"
      ],
      "metadata": {
        "id": "TXtk_jJ-oQqj"
      },
      "execution_count": 39,
      "outputs": []
    },
    {
      "cell_type": "code",
      "source": [
        "def User2Turn(board):\n",
        "    pos = input(\"Enter O's position from [1, 2, ..., 9]: \")\n",
        "    pos = int(pos)\n",
        "    if board[pos - 1] != 0:\n",
        "        print(\"Wrong Move\")\n",
        "        exit(0)\n",
        "    board[pos - 1] = 1\n",
        "\n",
        "\n",
        "def minmax(board, player):\n",
        "    x = analyzeboard(board)\n",
        "    if x != 0:\n",
        "        return x * player\n",
        "    pos = -1\n",
        "    value = -2\n",
        "    for i in range(0, 9):\n",
        "        if board[i] == 0:\n",
        "            board[i] = player\n",
        "            score = -minmax(board, player*-1)\n",
        "            board[i] = 0\n",
        "            if score > value:\n",
        "                value = score\n",
        "                pos = i\n",
        "    if pos == -1:\n",
        "        return 0\n",
        "    return value\n",
        "\n",
        "\n",
        "\n",
        "def CompTurn(board):\n",
        "    pos = -1\n",
        "    value = -2\n",
        "    for i in range(0, 9):\n",
        "        if board[i] == 0:\n",
        "            board[i] = 1\n",
        "            score = -minmax(board, -1)\n",
        "            board[i] = 0\n",
        "            if score > value:\n",
        "                value = score\n",
        "                pos = i\n",
        "    board[pos] = 1\n",
        "\n"
      ],
      "metadata": {
        "id": "Q6NMYAPgpOJv"
      },
      "execution_count": 40,
      "outputs": []
    },
    {
      "cell_type": "code",
      "source": [
        "def analyzeboard(board):\n",
        "    cb = [[0,1,2], [3,4,5], [6,7,8], [0,3,6], [1,4,7], [2,5,8], [0,4,8], [2,4,6]]\n",
        "    for i in range(0,8):\n",
        "        if(board[cb[i][0]]!=0 and board[cb[i][0]]==board[cb[i][1]] and board[cb[i][0]]==board[cb[i][2]]):\n",
        "            return board[cb[i][0]]\n",
        "    return 0"
      ],
      "metadata": {
        "id": "LPFLxsXrpOMd"
      },
      "execution_count": 41,
      "outputs": []
    },
    {
      "cell_type": "code",
      "source": [
        "def main():\n",
        "    choice = input(\"1 for single player and 2 for multi player\")\n",
        "    choice = int(choice)\n",
        "    board = [0,0,0,0,0,0,0,0,0]\n",
        "    if(choice == 1):\n",
        "        print(\"Computer: 0 vs You: X\")\n",
        "        player = input(\"Enter to play 1st or 2nd\")\n",
        "        player = int(player)\n",
        "        for i in range(0, 9):\n",
        "            if(analyzeboard(board) != 0):\n",
        "                break\n",
        "            if((i+player) % 2 == 0):\n",
        "                CompTurn(board)\n",
        "            else:\n",
        "                ConstBoard(board)\n",
        "                User1Turn(board)\n",
        "    else:\n",
        "        for i in range(0, 9):\n",
        "            if(analyzeboard(board) != 0):\n",
        "                break\n",
        "            if(i % 2 == 0):\n",
        "                ConstBoard(board)\n",
        "                User1Turn(board)\n",
        "            else:\n",
        "                ConstBoard(board)\n",
        "                User1Turn(board)\n",
        "    x = analyzeboard(board)\n",
        "    if(x==0):\n",
        "        ConstBoard(board)\n",
        "        print('draw')\n",
        "    if(x==-1):\n",
        "        ConstBoard(board)\n",
        "        print('player x is the winner')\n",
        "    if(x==1):\n",
        "        ConstBoard(board)\n",
        "        print('player 0 is the winner')\n"
      ],
      "metadata": {
        "id": "KyHoj39dpOPL"
      },
      "execution_count": 42,
      "outputs": []
    },
    {
      "cell_type": "code",
      "source": [
        "main()"
      ],
      "metadata": {
        "id": "6W21Jh2ciTNg",
        "colab": {
          "base_uri": "https://localhost:8080/"
        },
        "outputId": "a9a0183a-5485-49e8-a0b8-3ed4afe6facc"
      },
      "execution_count": 43,
      "outputs": [
        {
          "output_type": "stream",
          "name": "stdout",
          "text": [
            "1 for single player and 2 for multi player1\n",
            "Computer: 0 vs You: X\n",
            "Enter to play 1st or 2nd1\n",
            "Current State of the Board: \n",
            "\n",
            "\n",
            "_ _ _ \n",
            "\n",
            "_ _ _ \n",
            "\n",
            "_ _ _ \n",
            "\n",
            "\n",
            "Enter X's position from [1, 2, ..., 9]: 2\n",
            "Current State of the Board: \n",
            "\n",
            "\n",
            "O x _ \n",
            "\n",
            "_ _ _ \n",
            "\n",
            "_ _ _ \n",
            "\n",
            "\n",
            "Enter X's position from [1, 2, ..., 9]: 6\n",
            "Current State of the Board: \n",
            "\n",
            "\n",
            "O x _ \n",
            "\n",
            "_ _ x \n",
            "\n",
            "O _ _ \n",
            "\n",
            "\n",
            "Enter X's position from [1, 2, ..., 9]: 4\n",
            "Current State of the Board: \n",
            "\n",
            "\n",
            "O x _ \n",
            "\n",
            "x O x \n",
            "\n",
            "O _ _ \n",
            "\n",
            "\n",
            "Enter X's position from [1, 2, ..., 9]: 9\n",
            "Current State of the Board: \n",
            "\n",
            "\n",
            "O x O \n",
            "\n",
            "x O x \n",
            "\n",
            "O _ x \n",
            "\n",
            "\n",
            "player 0 is the winner\n"
          ]
        }
      ]
    }
  ]
}