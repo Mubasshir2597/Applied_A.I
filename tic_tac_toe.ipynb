{
  "cells": [
    {
      "cell_type": "markdown",
      "metadata": {
        "id": "view-in-github",
        "colab_type": "text"
      },
      "source": [
        "<a href=\"https://colab.research.google.com/github/Mubasshir2597/Applied_A.I_2023/blob/main/tic_tac_toe.ipynb\" target=\"_parent\"><img src=\"https://colab.research.google.com/assets/colab-badge.svg\" alt=\"Open In Colab\"/></a>"
      ]
    },
    {
      "cell_type": "markdown",
      "metadata": {
        "id": "QyfepHqxpJ0u"
      },
      "source": [
        "Play against A.I"
      ]
    },
    {
      "cell_type": "code",
      "source": [
        "def ConstBoard(board):\n",
        "    print(\"Current State of the Board: \\n\\n\")\n",
        "    for i in range(0, 9):\n",
        "        if (i > 0) and (i % 3 == 0):\n",
        "            print(\"\\n\");\n",
        "        if board[i] == 0:\n",
        "            print(\"_\", end=\" \")\n",
        "        if board[i] == 1:\n",
        "            print(\"O\", end=\" \")\n",
        "        if board[i] == -1:\n",
        "            print(\"x\", end=\" \")\n",
        "    print(\"\\n\\n\")\n",
        "     \n",
        "\n",
        "def User1Turn(board):\n",
        "    pos = input(\"Enter X's position from [1, 2, ..., 9]: \")\n",
        "    pos = int(pos)\n",
        "    if board[pos - 1] != 0:\n",
        "        print(\"Wrong Move\")\n",
        "        exit(0)\n",
        "    board[pos - 1] = -1\n",
        "\n",
        "     \n",
        "\n",
        "def User2Turn(board):\n",
        "    pos = input(\"Enter O's position from [1, 2, ..., 9]: \")\n",
        "    pos = int(pos)\n",
        "    if board[pos - 1] != 0:\n",
        "        print(\"Wrong Move\")\n",
        "        exit(0)\n",
        "    board[pos - 1] = 1\n",
        "\n",
        "\n",
        "def minmax(board, player):\n",
        "    x = analyzeboard(board)\n",
        "    if x != 0:\n",
        "        return x * player\n",
        "    pos = -1\n",
        "    value = -2\n",
        "    for i in range(0, 9):\n",
        "        if board[i] == 0:\n",
        "            board[i] = player\n",
        "            score = -minmax(board, player*-1)\n",
        "            board[i] = 0\n",
        "            if score > value:\n",
        "                value = score\n",
        "                pos = i\n",
        "    if pos == -1:\n",
        "        return 0\n",
        "    return value\n",
        "\n",
        "\n",
        "\n",
        "def CompTurn(board):\n",
        "    pos = -1\n",
        "    value = -2\n",
        "    for i in range(0, 9):\n",
        "        if board[i] == 0:\n",
        "            board[i] = 1\n",
        "            score = -minmax(board, -1)\n",
        "            board[i] = 0\n",
        "            if score > value:\n",
        "                value = score\n",
        "                pos = i\n",
        "    board[pos] = 1\n",
        "\n",
        "\n",
        "     \n",
        "\n",
        "def analyzeboard(board):\n",
        "    cb = [[0,1,2], [3,4,5], [6,7,8], [0,3,6], [1,4,7], [2,5,8], [0,4,8], [2,4,6]]\n",
        "    for i in range(0,8):\n",
        "        if(board[cb[i][0]]!=0 and board[cb[i][0]]==board[cb[i][1]] and board[cb[i][0]]==board[cb[i][2]]):\n",
        "            return board[cb[i][0]]\n",
        "    return 0\n",
        "     \n",
        "\n",
        "def main():\n",
        "    choice = input(\"Press 1 to start\")\n",
        "    choice = int(choice)\n",
        "    board = [0,0,0,0,0,0,0,0,0]\n",
        "    if(choice == 1):\n",
        "        print(\"Computer: 0 vs You: X\")\n",
        "        player = input(\"Enter to play 1st or 2nd\")\n",
        "        player = int(player)\n",
        "        for i in range(0, 9):\n",
        "            if(analyzeboard(board) != 0):\n",
        "                break\n",
        "            if((i+player) % 2 == 0):\n",
        "                CompTurn(board)\n",
        "            else:\n",
        "                ConstBoard(board)\n",
        "                User1Turn(board)\n",
        "    else:\n",
        "        for i in range(0, 9):\n",
        "            if(analyzeboard(board) != 0):\n",
        "                break\n",
        "            if(i % 2 == 0):\n",
        "                ConstBoard(board)\n",
        "                User1Turn(board)\n",
        "            else:\n",
        "                ConstBoard(board)\n",
        "                User1Turn(board)\n",
        "    x = analyzeboard(board)\n",
        "    if(x==0):\n",
        "        ConstBoard(board)\n",
        "        print('draw')\n",
        "    if(x==-1):\n",
        "        ConstBoard(board)\n",
        "        print('player x is the winner')\n",
        "    if(x==1):\n",
        "        ConstBoard(board)\n",
        "        print('player 0 is the winner')\n",
        "\n",
        "     \n",
        "\n",
        "main()"
      ],
      "metadata": {
        "colab": {
          "base_uri": "https://localhost:8080/"
        },
        "id": "U5vEKKXsaFBh",
        "outputId": "bbfc8d9c-d3b9-41b3-8937-93b8bd0ba989"
      },
      "execution_count": null,
      "outputs": [
        {
          "output_type": "stream",
          "name": "stdout",
          "text": [
            "Press 1 to start1\n",
            "Computer: 0 vs You: X\n"
          ]
        }
      ]
    },
    {
      "cell_type": "markdown",
      "source": [
        "Multiplayer"
      ],
      "metadata": {
        "id": "7AogMkYKXVUW"
      }
    },
    {
      "cell_type": "code",
      "source": [
        "def ConstBoard(board):\n",
        "    print(\"Current State of the Board: \\n\\n\")\n",
        "    for i in range(0, 9):\n",
        "        if (i > 0) and (i % 3 == 0):\n",
        "            print(\"\\n\")\n",
        "        if board[i] == 0:\n",
        "            print(\"_\", end=\" \")\n",
        "        if board[i] == 1:\n",
        "            print(\"O\", end=\" \")\n",
        "        if board[i] == -1:\n",
        "            print(\"X\", end=\" \")\n",
        "    print(\"\\n\\n\")\n",
        "\n",
        "def User1Turn(board):\n",
        "    pos = input(\"Enter X's position from [1, 2, ..., 9]: \")\n",
        "    pos = int(pos)\n",
        "    if board[pos - 1] != 0:\n",
        "        print(\"Wrong Move\")\n",
        "        User1Turn(board)\n",
        "    else:\n",
        "        board[pos - 1] = -1\n",
        "\n",
        "def User2Turn(board):\n",
        "    pos = input(\"Enter O's position from [1, 2, ..., 9]: \")\n",
        "    pos = int(pos)\n",
        "    if board[pos - 1] != 0:\n",
        "        print(\"Wrong Move\")\n",
        "        User2Turn(board)\n",
        "    else:\n",
        "        board[pos - 1] = 1\n",
        "\n",
        "def main():\n",
        "    choice = input(\"1 for single player and 2 for multi player\")\n",
        "    choice = int(choice)\n",
        "    board = [0,0,0,0,0,0,0,0,0]\n",
        "    if(choice == 1):\n",
        "        print(\"Computer: 0 vs You: X\")\n",
        "        player = input(\"Enter to play 1st or 2nd\")\n",
        "        player = int(player)\n",
        "        for i in range(0, 9):\n",
        "            if(analyzeboard(board) != 0):\n",
        "                break\n",
        "            if((i+player) % 2 == 0):\n",
        "                CompTurn(board)\n",
        "            else:\n",
        "                ConstBoard(board)\n",
        "                User1Turn(board)\n",
        "    else:\n",
        "        for i in range(0, 9):\n",
        "            if(analyzeboard(board) != 0):\n",
        "                break\n",
        "            if(i % 2 == 0):\n",
        "                ConstBoard(board)\n",
        "                User1Turn(board)\n",
        "            else:\n",
        "                ConstBoard(board)\n",
        "                User2Turn(board)\n",
        "    x = analyzeboard(board)\n",
        "    if(x==0):\n",
        "        ConstBoard(board)\n",
        "        print('Draw')\n",
        "    if(x==-1):\n",
        "        ConstBoard(board)\n",
        "        print('Player X is the winner')\n",
        "    if(x==1):\n",
        "        ConstBoard(board)\n",
        "        print('Player O is the winner')\n",
        "\n",
        "main()\n"
      ],
      "metadata": {
        "id": "a9uAFNRkYfip"
      },
      "execution_count": null,
      "outputs": []
    },
    {
      "cell_type": "code",
      "source": [],
      "metadata": {
        "id": "lTF-oFBXYflw"
      },
      "execution_count": null,
      "outputs": []
    },
    {
      "cell_type": "code",
      "source": [],
      "metadata": {
        "id": "S6ORu29PYfrV"
      },
      "execution_count": null,
      "outputs": []
    },
    {
      "cell_type": "code",
      "source": [],
      "metadata": {
        "id": "_hzHrXDXYft_"
      },
      "execution_count": null,
      "outputs": []
    }
  ],
  "metadata": {
    "colab": {
      "provenance": [],
      "authorship_tag": "ABX9TyP9tV3aKAUpaYbjHzqyshSK",
      "include_colab_link": true
    },
    "kernelspec": {
      "display_name": "Python 3",
      "name": "python3"
    },
    "language_info": {
      "name": "python"
    }
  },
  "nbformat": 4,
  "nbformat_minor": 0
}