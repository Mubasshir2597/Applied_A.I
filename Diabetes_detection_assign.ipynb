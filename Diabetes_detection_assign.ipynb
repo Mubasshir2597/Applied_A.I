{
  "cells": [
    {
      "cell_type": "markdown",
      "metadata": {
        "id": "l2kEctVS8hme"
      },
      "source": [
        "## Importing Libraries  "
      ]
    },
    {
      "cell_type": "markdown",
      "source": [
        "**Introduction**\n",
        "This report is to analyze the data from two .csv files: “train.csv” and “test.csv” in order to predict the possibility to have diabetes based on patient medical records of Pima Indians. The analysis process includes data cleaning, data exploration, data preprocessing, model creation, model optimization and model evaluation. \n",
        "\n",
        "**Data Cleaning**\n",
        "The first step is to clean the data, which involves removing any missing or incorrect values, as well as any outliers. We then need to check the data types to make sure they are appropriate for the type of analysis we are doing. For example, if we are dealing with numerical data, then we need to make sure all the values are in numerical form.\n",
        "\n",
        "**Data Exploration**\n",
        "The second step is to explore the data. This involves looking at the distributions of the data, checking for correlations between the different variables, and visualizing the data. This will help us get an understanding of the data and help us make decisions about which features to include in our model.\n",
        "\n",
        "**Data Preprocessin**g\n",
        "The third step is to preprocess the data. This involves normalizing the data, scaling the data, and transforming the data. These processes will help make the data more suitable for machine learning algorithms.\n",
        "\n",
        "**Model Creation**\n",
        "The fourth step is to create the model. This involves selecting the appropriate machine learning algorithm, such as a neural network, and training the model. We will use the concepts covered during the sessions in order to optimize the model and get the best results.\n",
        "\n",
        "**Model Optimization**\n",
        "The fifth step is to optimize the model. This involves tuning the hyperparameters of the model, such as the learning rate, the number of neurons, and the number of layers, in order to get the best results.\n",
        "\n",
        "**Model Evaluation**\n",
        "The final step is to evaluate the model. This involves testing the model on the test data set and measuring its performance. This will help us determine if the model is accurate and if it is appropriate for the task."
      ],
      "metadata": {
        "id": "Dv6NEukh7l4T"
      }
    },
    {
      "cell_type": "code",
      "execution_count": null,
      "metadata": {
        "id": "Cs-bLH88OiXu"
      },
      "outputs": [],
      "source": [
        "#Importing Libraries\n",
        "import pandas as pd\n",
        "import numpy as np\n",
        "import seaborn as sns\n",
        "import matplotlib.pyplot as plt\n",
        "%matplotlib inline\n",
        "from numpy.random import seed\n",
        "seed(100)\n",
        "import tensorflow\n",
        "tensorflow.random.set_seed(100)\n",
        "from sklearn.preprocessing import StandardScaler\n",
        "from sklearn.model_selection import GridSearchCV, KFold\n",
        "from keras.models import Sequential\n",
        "from keras.layers import Dense\n",
        "from keras.wrappers.scikit_learn import KerasClassifier\n",
        "from keras.layers import Dropout\n",
        "import tensorflow as tf\n",
        "import sklearn\n",
        "from sklearn.model_selection import train_test_split\n",
        "from sklearn.metrics import classification_report, accuracy_score\n"
      ]
    },
    {
      "cell_type": "markdown",
      "metadata": {
        "id": "ubwRVZDp8rXQ"
      },
      "source": [
        "## Reading Train and Test Data"
      ]
    },
    {
      "cell_type": "code",
      "execution_count": null,
      "metadata": {
        "id": "hB9M7yynO5Bd"
      },
      "outputs": [],
      "source": [
        "train_df = pd.read_csv('/content/train.csv')"
      ]
    },
    {
      "cell_type": "code",
      "execution_count": null,
      "metadata": {
        "id": "zv7znMbGO9Nr"
      },
      "outputs": [],
      "source": [
        "test_df = pd.read_csv('/content/test.csv')"
      ]
    },
    {
      "cell_type": "code",
      "execution_count": null,
      "metadata": {
        "colab": {
          "base_uri": "https://localhost:8080/",
          "height": 206
        },
        "id": "vVxeWzkxPIpg",
        "outputId": "f48a558b-1a32-4bce-817f-81a75b2a15fa"
      },
      "outputs": [
        {
          "output_type": "execute_result",
          "data": {
            "text/plain": [
              "   id  A1   A2  A3  A4   A5    A6     A7  A8  class\n",
              "0   1   6  148  72  35    0  33.6  0.627  50      1\n",
              "1   2   1   85  66  29    0  26.6  0.351  31      0\n",
              "2   3   8  183  64   0    0  23.3  0.672  32      1\n",
              "3   4   1   89  66  23   94  28.1  0.167  21      0\n",
              "4   5   0  137  40  35  168  43.1  2.288  33      1"
            ],
            "text/html": [
              "\n",
              "  <div id=\"df-841ee8f8-3fcb-4382-9c93-81141dab859b\">\n",
              "    <div class=\"colab-df-container\">\n",
              "      <div>\n",
              "<style scoped>\n",
              "    .dataframe tbody tr th:only-of-type {\n",
              "        vertical-align: middle;\n",
              "    }\n",
              "\n",
              "    .dataframe tbody tr th {\n",
              "        vertical-align: top;\n",
              "    }\n",
              "\n",
              "    .dataframe thead th {\n",
              "        text-align: right;\n",
              "    }\n",
              "</style>\n",
              "<table border=\"1\" class=\"dataframe\">\n",
              "  <thead>\n",
              "    <tr style=\"text-align: right;\">\n",
              "      <th></th>\n",
              "      <th>id</th>\n",
              "      <th>A1</th>\n",
              "      <th>A2</th>\n",
              "      <th>A3</th>\n",
              "      <th>A4</th>\n",
              "      <th>A5</th>\n",
              "      <th>A6</th>\n",
              "      <th>A7</th>\n",
              "      <th>A8</th>\n",
              "      <th>class</th>\n",
              "    </tr>\n",
              "  </thead>\n",
              "  <tbody>\n",
              "    <tr>\n",
              "      <th>0</th>\n",
              "      <td>1</td>\n",
              "      <td>6</td>\n",
              "      <td>148</td>\n",
              "      <td>72</td>\n",
              "      <td>35</td>\n",
              "      <td>0</td>\n",
              "      <td>33.6</td>\n",
              "      <td>0.627</td>\n",
              "      <td>50</td>\n",
              "      <td>1</td>\n",
              "    </tr>\n",
              "    <tr>\n",
              "      <th>1</th>\n",
              "      <td>2</td>\n",
              "      <td>1</td>\n",
              "      <td>85</td>\n",
              "      <td>66</td>\n",
              "      <td>29</td>\n",
              "      <td>0</td>\n",
              "      <td>26.6</td>\n",
              "      <td>0.351</td>\n",
              "      <td>31</td>\n",
              "      <td>0</td>\n",
              "    </tr>\n",
              "    <tr>\n",
              "      <th>2</th>\n",
              "      <td>3</td>\n",
              "      <td>8</td>\n",
              "      <td>183</td>\n",
              "      <td>64</td>\n",
              "      <td>0</td>\n",
              "      <td>0</td>\n",
              "      <td>23.3</td>\n",
              "      <td>0.672</td>\n",
              "      <td>32</td>\n",
              "      <td>1</td>\n",
              "    </tr>\n",
              "    <tr>\n",
              "      <th>3</th>\n",
              "      <td>4</td>\n",
              "      <td>1</td>\n",
              "      <td>89</td>\n",
              "      <td>66</td>\n",
              "      <td>23</td>\n",
              "      <td>94</td>\n",
              "      <td>28.1</td>\n",
              "      <td>0.167</td>\n",
              "      <td>21</td>\n",
              "      <td>0</td>\n",
              "    </tr>\n",
              "    <tr>\n",
              "      <th>4</th>\n",
              "      <td>5</td>\n",
              "      <td>0</td>\n",
              "      <td>137</td>\n",
              "      <td>40</td>\n",
              "      <td>35</td>\n",
              "      <td>168</td>\n",
              "      <td>43.1</td>\n",
              "      <td>2.288</td>\n",
              "      <td>33</td>\n",
              "      <td>1</td>\n",
              "    </tr>\n",
              "  </tbody>\n",
              "</table>\n",
              "</div>\n",
              "      <button class=\"colab-df-convert\" onclick=\"convertToInteractive('df-841ee8f8-3fcb-4382-9c93-81141dab859b')\"\n",
              "              title=\"Convert this dataframe to an interactive table.\"\n",
              "              style=\"display:none;\">\n",
              "        \n",
              "  <svg xmlns=\"http://www.w3.org/2000/svg\" height=\"24px\"viewBox=\"0 0 24 24\"\n",
              "       width=\"24px\">\n",
              "    <path d=\"M0 0h24v24H0V0z\" fill=\"none\"/>\n",
              "    <path d=\"M18.56 5.44l.94 2.06.94-2.06 2.06-.94-2.06-.94-.94-2.06-.94 2.06-2.06.94zm-11 1L8.5 8.5l.94-2.06 2.06-.94-2.06-.94L8.5 2.5l-.94 2.06-2.06.94zm10 10l.94 2.06.94-2.06 2.06-.94-2.06-.94-.94-2.06-.94 2.06-2.06.94z\"/><path d=\"M17.41 7.96l-1.37-1.37c-.4-.4-.92-.59-1.43-.59-.52 0-1.04.2-1.43.59L10.3 9.45l-7.72 7.72c-.78.78-.78 2.05 0 2.83L4 21.41c.39.39.9.59 1.41.59.51 0 1.02-.2 1.41-.59l7.78-7.78 2.81-2.81c.8-.78.8-2.07 0-2.86zM5.41 20L4 18.59l7.72-7.72 1.47 1.35L5.41 20z\"/>\n",
              "  </svg>\n",
              "      </button>\n",
              "      \n",
              "  <style>\n",
              "    .colab-df-container {\n",
              "      display:flex;\n",
              "      flex-wrap:wrap;\n",
              "      gap: 12px;\n",
              "    }\n",
              "\n",
              "    .colab-df-convert {\n",
              "      background-color: #E8F0FE;\n",
              "      border: none;\n",
              "      border-radius: 50%;\n",
              "      cursor: pointer;\n",
              "      display: none;\n",
              "      fill: #1967D2;\n",
              "      height: 32px;\n",
              "      padding: 0 0 0 0;\n",
              "      width: 32px;\n",
              "    }\n",
              "\n",
              "    .colab-df-convert:hover {\n",
              "      background-color: #E2EBFA;\n",
              "      box-shadow: 0px 1px 2px rgba(60, 64, 67, 0.3), 0px 1px 3px 1px rgba(60, 64, 67, 0.15);\n",
              "      fill: #174EA6;\n",
              "    }\n",
              "\n",
              "    [theme=dark] .colab-df-convert {\n",
              "      background-color: #3B4455;\n",
              "      fill: #D2E3FC;\n",
              "    }\n",
              "\n",
              "    [theme=dark] .colab-df-convert:hover {\n",
              "      background-color: #434B5C;\n",
              "      box-shadow: 0px 1px 3px 1px rgba(0, 0, 0, 0.15);\n",
              "      filter: drop-shadow(0px 1px 2px rgba(0, 0, 0, 0.3));\n",
              "      fill: #FFFFFF;\n",
              "    }\n",
              "  </style>\n",
              "\n",
              "      <script>\n",
              "        const buttonEl =\n",
              "          document.querySelector('#df-841ee8f8-3fcb-4382-9c93-81141dab859b button.colab-df-convert');\n",
              "        buttonEl.style.display =\n",
              "          google.colab.kernel.accessAllowed ? 'block' : 'none';\n",
              "\n",
              "        async function convertToInteractive(key) {\n",
              "          const element = document.querySelector('#df-841ee8f8-3fcb-4382-9c93-81141dab859b');\n",
              "          const dataTable =\n",
              "            await google.colab.kernel.invokeFunction('convertToInteractive',\n",
              "                                                     [key], {});\n",
              "          if (!dataTable) return;\n",
              "\n",
              "          const docLinkHtml = 'Like what you see? Visit the ' +\n",
              "            '<a target=\"_blank\" href=https://colab.research.google.com/notebooks/data_table.ipynb>data table notebook</a>'\n",
              "            + ' to learn more about interactive tables.';\n",
              "          element.innerHTML = '';\n",
              "          dataTable['output_type'] = 'display_data';\n",
              "          await google.colab.output.renderOutput(dataTable, element);\n",
              "          const docLink = document.createElement('div');\n",
              "          docLink.innerHTML = docLinkHtml;\n",
              "          element.appendChild(docLink);\n",
              "        }\n",
              "      </script>\n",
              "    </div>\n",
              "  </div>\n",
              "  "
            ]
          },
          "metadata": {},
          "execution_count": 6
        }
      ],
      "source": [
        "train_df.head()"
      ]
    },
    {
      "cell_type": "code",
      "execution_count": null,
      "metadata": {
        "colab": {
          "base_uri": "https://localhost:8080/",
          "height": 206
        },
        "id": "V4gRIYgwPJmS",
        "outputId": "43d73402-2298-428c-d688-8c1261bff8e2"
      },
      "outputs": [
        {
          "output_type": "execute_result",
          "data": {
            "text/plain": [
              "   id  A1   A2   A3  A4   A5    A6     A7  A8\n",
              "0   1   6   98   58  33  190  34.0  0.430  43\n",
              "1   2   9  154   78  30  100  30.9  0.164  45\n",
              "2   3   6  165   68  26  168  33.6  0.631  49\n",
              "3   4   1   99   58  10    0  25.4  0.551  21\n",
              "4   5  10   68  106  23   49  35.5  0.285  47"
            ],
            "text/html": [
              "\n",
              "  <div id=\"df-23d7c11d-3f2b-43d0-badb-54ebc62758b1\">\n",
              "    <div class=\"colab-df-container\">\n",
              "      <div>\n",
              "<style scoped>\n",
              "    .dataframe tbody tr th:only-of-type {\n",
              "        vertical-align: middle;\n",
              "    }\n",
              "\n",
              "    .dataframe tbody tr th {\n",
              "        vertical-align: top;\n",
              "    }\n",
              "\n",
              "    .dataframe thead th {\n",
              "        text-align: right;\n",
              "    }\n",
              "</style>\n",
              "<table border=\"1\" class=\"dataframe\">\n",
              "  <thead>\n",
              "    <tr style=\"text-align: right;\">\n",
              "      <th></th>\n",
              "      <th>id</th>\n",
              "      <th>A1</th>\n",
              "      <th>A2</th>\n",
              "      <th>A3</th>\n",
              "      <th>A4</th>\n",
              "      <th>A5</th>\n",
              "      <th>A6</th>\n",
              "      <th>A7</th>\n",
              "      <th>A8</th>\n",
              "    </tr>\n",
              "  </thead>\n",
              "  <tbody>\n",
              "    <tr>\n",
              "      <th>0</th>\n",
              "      <td>1</td>\n",
              "      <td>6</td>\n",
              "      <td>98</td>\n",
              "      <td>58</td>\n",
              "      <td>33</td>\n",
              "      <td>190</td>\n",
              "      <td>34.0</td>\n",
              "      <td>0.430</td>\n",
              "      <td>43</td>\n",
              "    </tr>\n",
              "    <tr>\n",
              "      <th>1</th>\n",
              "      <td>2</td>\n",
              "      <td>9</td>\n",
              "      <td>154</td>\n",
              "      <td>78</td>\n",
              "      <td>30</td>\n",
              "      <td>100</td>\n",
              "      <td>30.9</td>\n",
              "      <td>0.164</td>\n",
              "      <td>45</td>\n",
              "    </tr>\n",
              "    <tr>\n",
              "      <th>2</th>\n",
              "      <td>3</td>\n",
              "      <td>6</td>\n",
              "      <td>165</td>\n",
              "      <td>68</td>\n",
              "      <td>26</td>\n",
              "      <td>168</td>\n",
              "      <td>33.6</td>\n",
              "      <td>0.631</td>\n",
              "      <td>49</td>\n",
              "    </tr>\n",
              "    <tr>\n",
              "      <th>3</th>\n",
              "      <td>4</td>\n",
              "      <td>1</td>\n",
              "      <td>99</td>\n",
              "      <td>58</td>\n",
              "      <td>10</td>\n",
              "      <td>0</td>\n",
              "      <td>25.4</td>\n",
              "      <td>0.551</td>\n",
              "      <td>21</td>\n",
              "    </tr>\n",
              "    <tr>\n",
              "      <th>4</th>\n",
              "      <td>5</td>\n",
              "      <td>10</td>\n",
              "      <td>68</td>\n",
              "      <td>106</td>\n",
              "      <td>23</td>\n",
              "      <td>49</td>\n",
              "      <td>35.5</td>\n",
              "      <td>0.285</td>\n",
              "      <td>47</td>\n",
              "    </tr>\n",
              "  </tbody>\n",
              "</table>\n",
              "</div>\n",
              "      <button class=\"colab-df-convert\" onclick=\"convertToInteractive('df-23d7c11d-3f2b-43d0-badb-54ebc62758b1')\"\n",
              "              title=\"Convert this dataframe to an interactive table.\"\n",
              "              style=\"display:none;\">\n",
              "        \n",
              "  <svg xmlns=\"http://www.w3.org/2000/svg\" height=\"24px\"viewBox=\"0 0 24 24\"\n",
              "       width=\"24px\">\n",
              "    <path d=\"M0 0h24v24H0V0z\" fill=\"none\"/>\n",
              "    <path d=\"M18.56 5.44l.94 2.06.94-2.06 2.06-.94-2.06-.94-.94-2.06-.94 2.06-2.06.94zm-11 1L8.5 8.5l.94-2.06 2.06-.94-2.06-.94L8.5 2.5l-.94 2.06-2.06.94zm10 10l.94 2.06.94-2.06 2.06-.94-2.06-.94-.94-2.06-.94 2.06-2.06.94z\"/><path d=\"M17.41 7.96l-1.37-1.37c-.4-.4-.92-.59-1.43-.59-.52 0-1.04.2-1.43.59L10.3 9.45l-7.72 7.72c-.78.78-.78 2.05 0 2.83L4 21.41c.39.39.9.59 1.41.59.51 0 1.02-.2 1.41-.59l7.78-7.78 2.81-2.81c.8-.78.8-2.07 0-2.86zM5.41 20L4 18.59l7.72-7.72 1.47 1.35L5.41 20z\"/>\n",
              "  </svg>\n",
              "      </button>\n",
              "      \n",
              "  <style>\n",
              "    .colab-df-container {\n",
              "      display:flex;\n",
              "      flex-wrap:wrap;\n",
              "      gap: 12px;\n",
              "    }\n",
              "\n",
              "    .colab-df-convert {\n",
              "      background-color: #E8F0FE;\n",
              "      border: none;\n",
              "      border-radius: 50%;\n",
              "      cursor: pointer;\n",
              "      display: none;\n",
              "      fill: #1967D2;\n",
              "      height: 32px;\n",
              "      padding: 0 0 0 0;\n",
              "      width: 32px;\n",
              "    }\n",
              "\n",
              "    .colab-df-convert:hover {\n",
              "      background-color: #E2EBFA;\n",
              "      box-shadow: 0px 1px 2px rgba(60, 64, 67, 0.3), 0px 1px 3px 1px rgba(60, 64, 67, 0.15);\n",
              "      fill: #174EA6;\n",
              "    }\n",
              "\n",
              "    [theme=dark] .colab-df-convert {\n",
              "      background-color: #3B4455;\n",
              "      fill: #D2E3FC;\n",
              "    }\n",
              "\n",
              "    [theme=dark] .colab-df-convert:hover {\n",
              "      background-color: #434B5C;\n",
              "      box-shadow: 0px 1px 3px 1px rgba(0, 0, 0, 0.15);\n",
              "      filter: drop-shadow(0px 1px 2px rgba(0, 0, 0, 0.3));\n",
              "      fill: #FFFFFF;\n",
              "    }\n",
              "  </style>\n",
              "\n",
              "      <script>\n",
              "        const buttonEl =\n",
              "          document.querySelector('#df-23d7c11d-3f2b-43d0-badb-54ebc62758b1 button.colab-df-convert');\n",
              "        buttonEl.style.display =\n",
              "          google.colab.kernel.accessAllowed ? 'block' : 'none';\n",
              "\n",
              "        async function convertToInteractive(key) {\n",
              "          const element = document.querySelector('#df-23d7c11d-3f2b-43d0-badb-54ebc62758b1');\n",
              "          const dataTable =\n",
              "            await google.colab.kernel.invokeFunction('convertToInteractive',\n",
              "                                                     [key], {});\n",
              "          if (!dataTable) return;\n",
              "\n",
              "          const docLinkHtml = 'Like what you see? Visit the ' +\n",
              "            '<a target=\"_blank\" href=https://colab.research.google.com/notebooks/data_table.ipynb>data table notebook</a>'\n",
              "            + ' to learn more about interactive tables.';\n",
              "          element.innerHTML = '';\n",
              "          dataTable['output_type'] = 'display_data';\n",
              "          await google.colab.output.renderOutput(dataTable, element);\n",
              "          const docLink = document.createElement('div');\n",
              "          docLink.innerHTML = docLinkHtml;\n",
              "          element.appendChild(docLink);\n",
              "        }\n",
              "      </script>\n",
              "    </div>\n",
              "  </div>\n",
              "  "
            ]
          },
          "metadata": {},
          "execution_count": 7
        }
      ],
      "source": [
        "test_df.head()"
      ]
    },
    {
      "cell_type": "code",
      "execution_count": null,
      "metadata": {
        "colab": {
          "base_uri": "https://localhost:8080/"
        },
        "id": "TKMCTRNtPKNM",
        "outputId": "56f9c0ff-0669-4b52-9d8a-8dde6d328fce"
      },
      "outputs": [
        {
          "output_type": "execute_result",
          "data": {
            "text/plain": [
              "((668, 10), (100, 9))"
            ]
          },
          "metadata": {},
          "execution_count": 8
        }
      ],
      "source": [
        "# shape of the train & test data\n",
        "train_df.shape, test_df.shape"
      ]
    },
    {
      "cell_type": "code",
      "execution_count": null,
      "metadata": {
        "colab": {
          "base_uri": "https://localhost:8080/"
        },
        "id": "nLQDW_LTPpcf",
        "outputId": "fbb2ab1c-bbdd-4c8a-d05e-b2f21c17ec70"
      },
      "outputs": [
        {
          "output_type": "stream",
          "name": "stdout",
          "text": [
            "<class 'pandas.core.frame.DataFrame'>\n",
            "RangeIndex: 668 entries, 0 to 667\n",
            "Data columns (total 10 columns):\n",
            " #   Column  Non-Null Count  Dtype  \n",
            "---  ------  --------------  -----  \n",
            " 0   id      668 non-null    int64  \n",
            " 1   A1      668 non-null    int64  \n",
            " 2   A2      668 non-null    int64  \n",
            " 3   A3      668 non-null    int64  \n",
            " 4   A4      668 non-null    int64  \n",
            " 5   A5      668 non-null    int64  \n",
            " 6   A6      668 non-null    float64\n",
            " 7   A7      668 non-null    float64\n",
            " 8   A8      668 non-null    int64  \n",
            " 9   class   668 non-null    int64  \n",
            "dtypes: float64(2), int64(8)\n",
            "memory usage: 52.3 KB\n"
          ]
        }
      ],
      "source": [
        "# checking the train data type\n",
        "train_df.info()"
      ]
    },
    {
      "cell_type": "markdown",
      "metadata": {
        "id": "kpfk5Jus81t5"
      },
      "source": [
        "## Missing Values in Train Data"
      ]
    },
    {
      "cell_type": "code",
      "execution_count": null,
      "metadata": {
        "colab": {
          "base_uri": "https://localhost:8080/"
        },
        "id": "KzLzFsW5Psti",
        "outputId": "97021b2c-001e-4825-f2bb-7bd13520f2be"
      },
      "outputs": [
        {
          "output_type": "execute_result",
          "data": {
            "text/plain": [
              "id       0\n",
              "A1       0\n",
              "A2       0\n",
              "A3       0\n",
              "A4       0\n",
              "A5       0\n",
              "A6       0\n",
              "A7       0\n",
              "A8       0\n",
              "class    0\n",
              "dtype: int64"
            ]
          },
          "metadata": {},
          "execution_count": 10
        }
      ],
      "source": [
        "# checking missing values in the data\n",
        "train_df.isnull().sum()"
      ]
    },
    {
      "cell_type": "markdown",
      "metadata": {
        "id": "fk43HPXO8_B2"
      },
      "source": [
        "## Descriptive Statistics of Train Data"
      ]
    },
    {
      "cell_type": "code",
      "execution_count": null,
      "metadata": {
        "colab": {
          "base_uri": "https://localhost:8080/",
          "height": 344
        },
        "id": "RIetNC4XPvjK",
        "outputId": "af25bced-d57f-4ff1-9c62-6d88c4231495"
      },
      "outputs": [
        {
          "output_type": "execute_result",
          "data": {
            "text/plain": [
              "               id          A1          A2          A3          A4          A5  \\\n",
              "count  668.000000  668.000000  668.000000  668.000000  668.000000  668.000000   \n",
              "mean   334.500000    3.812874  120.405689   68.748503   20.567365   79.654192   \n",
              "std    192.979273    3.365672   32.291473   19.526392   16.020600  115.827750   \n",
              "min      1.000000    0.000000    0.000000    0.000000    0.000000    0.000000   \n",
              "25%    167.750000    1.000000   99.000000   64.000000    0.000000    0.000000   \n",
              "50%    334.500000    3.000000  116.000000   72.000000   23.000000   36.500000   \n",
              "75%    501.250000    6.000000  140.000000   80.000000   32.000000  126.000000   \n",
              "max    668.000000   17.000000  199.000000  122.000000   99.000000  846.000000   \n",
              "\n",
              "               A6          A7          A8       class  \n",
              "count  668.000000  668.000000  668.000000  668.000000  \n",
              "mean    31.860180    0.477329   33.091317    0.345808  \n",
              "std      7.827111    0.341398   11.711386    0.475988  \n",
              "min      0.000000    0.078000   21.000000    0.000000  \n",
              "25%     27.100000    0.238750   24.000000    0.000000  \n",
              "50%     32.000000    0.377000   29.000000    0.000000  \n",
              "75%     36.500000    0.641250   40.000000    1.000000  \n",
              "max     67.100000    2.420000   81.000000    1.000000  "
            ],
            "text/html": [
              "\n",
              "  <div id=\"df-0f9b5dcf-4ea1-4298-9b82-d0b6962ee075\">\n",
              "    <div class=\"colab-df-container\">\n",
              "      <div>\n",
              "<style scoped>\n",
              "    .dataframe tbody tr th:only-of-type {\n",
              "        vertical-align: middle;\n",
              "    }\n",
              "\n",
              "    .dataframe tbody tr th {\n",
              "        vertical-align: top;\n",
              "    }\n",
              "\n",
              "    .dataframe thead th {\n",
              "        text-align: right;\n",
              "    }\n",
              "</style>\n",
              "<table border=\"1\" class=\"dataframe\">\n",
              "  <thead>\n",
              "    <tr style=\"text-align: right;\">\n",
              "      <th></th>\n",
              "      <th>id</th>\n",
              "      <th>A1</th>\n",
              "      <th>A2</th>\n",
              "      <th>A3</th>\n",
              "      <th>A4</th>\n",
              "      <th>A5</th>\n",
              "      <th>A6</th>\n",
              "      <th>A7</th>\n",
              "      <th>A8</th>\n",
              "      <th>class</th>\n",
              "    </tr>\n",
              "  </thead>\n",
              "  <tbody>\n",
              "    <tr>\n",
              "      <th>count</th>\n",
              "      <td>668.000000</td>\n",
              "      <td>668.000000</td>\n",
              "      <td>668.000000</td>\n",
              "      <td>668.000000</td>\n",
              "      <td>668.000000</td>\n",
              "      <td>668.000000</td>\n",
              "      <td>668.000000</td>\n",
              "      <td>668.000000</td>\n",
              "      <td>668.000000</td>\n",
              "      <td>668.000000</td>\n",
              "    </tr>\n",
              "    <tr>\n",
              "      <th>mean</th>\n",
              "      <td>334.500000</td>\n",
              "      <td>3.812874</td>\n",
              "      <td>120.405689</td>\n",
              "      <td>68.748503</td>\n",
              "      <td>20.567365</td>\n",
              "      <td>79.654192</td>\n",
              "      <td>31.860180</td>\n",
              "      <td>0.477329</td>\n",
              "      <td>33.091317</td>\n",
              "      <td>0.345808</td>\n",
              "    </tr>\n",
              "    <tr>\n",
              "      <th>std</th>\n",
              "      <td>192.979273</td>\n",
              "      <td>3.365672</td>\n",
              "      <td>32.291473</td>\n",
              "      <td>19.526392</td>\n",
              "      <td>16.020600</td>\n",
              "      <td>115.827750</td>\n",
              "      <td>7.827111</td>\n",
              "      <td>0.341398</td>\n",
              "      <td>11.711386</td>\n",
              "      <td>0.475988</td>\n",
              "    </tr>\n",
              "    <tr>\n",
              "      <th>min</th>\n",
              "      <td>1.000000</td>\n",
              "      <td>0.000000</td>\n",
              "      <td>0.000000</td>\n",
              "      <td>0.000000</td>\n",
              "      <td>0.000000</td>\n",
              "      <td>0.000000</td>\n",
              "      <td>0.000000</td>\n",
              "      <td>0.078000</td>\n",
              "      <td>21.000000</td>\n",
              "      <td>0.000000</td>\n",
              "    </tr>\n",
              "    <tr>\n",
              "      <th>25%</th>\n",
              "      <td>167.750000</td>\n",
              "      <td>1.000000</td>\n",
              "      <td>99.000000</td>\n",
              "      <td>64.000000</td>\n",
              "      <td>0.000000</td>\n",
              "      <td>0.000000</td>\n",
              "      <td>27.100000</td>\n",
              "      <td>0.238750</td>\n",
              "      <td>24.000000</td>\n",
              "      <td>0.000000</td>\n",
              "    </tr>\n",
              "    <tr>\n",
              "      <th>50%</th>\n",
              "      <td>334.500000</td>\n",
              "      <td>3.000000</td>\n",
              "      <td>116.000000</td>\n",
              "      <td>72.000000</td>\n",
              "      <td>23.000000</td>\n",
              "      <td>36.500000</td>\n",
              "      <td>32.000000</td>\n",
              "      <td>0.377000</td>\n",
              "      <td>29.000000</td>\n",
              "      <td>0.000000</td>\n",
              "    </tr>\n",
              "    <tr>\n",
              "      <th>75%</th>\n",
              "      <td>501.250000</td>\n",
              "      <td>6.000000</td>\n",
              "      <td>140.000000</td>\n",
              "      <td>80.000000</td>\n",
              "      <td>32.000000</td>\n",
              "      <td>126.000000</td>\n",
              "      <td>36.500000</td>\n",
              "      <td>0.641250</td>\n",
              "      <td>40.000000</td>\n",
              "      <td>1.000000</td>\n",
              "    </tr>\n",
              "    <tr>\n",
              "      <th>max</th>\n",
              "      <td>668.000000</td>\n",
              "      <td>17.000000</td>\n",
              "      <td>199.000000</td>\n",
              "      <td>122.000000</td>\n",
              "      <td>99.000000</td>\n",
              "      <td>846.000000</td>\n",
              "      <td>67.100000</td>\n",
              "      <td>2.420000</td>\n",
              "      <td>81.000000</td>\n",
              "      <td>1.000000</td>\n",
              "    </tr>\n",
              "  </tbody>\n",
              "</table>\n",
              "</div>\n",
              "      <button class=\"colab-df-convert\" onclick=\"convertToInteractive('df-0f9b5dcf-4ea1-4298-9b82-d0b6962ee075')\"\n",
              "              title=\"Convert this dataframe to an interactive table.\"\n",
              "              style=\"display:none;\">\n",
              "        \n",
              "  <svg xmlns=\"http://www.w3.org/2000/svg\" height=\"24px\"viewBox=\"0 0 24 24\"\n",
              "       width=\"24px\">\n",
              "    <path d=\"M0 0h24v24H0V0z\" fill=\"none\"/>\n",
              "    <path d=\"M18.56 5.44l.94 2.06.94-2.06 2.06-.94-2.06-.94-.94-2.06-.94 2.06-2.06.94zm-11 1L8.5 8.5l.94-2.06 2.06-.94-2.06-.94L8.5 2.5l-.94 2.06-2.06.94zm10 10l.94 2.06.94-2.06 2.06-.94-2.06-.94-.94-2.06-.94 2.06-2.06.94z\"/><path d=\"M17.41 7.96l-1.37-1.37c-.4-.4-.92-.59-1.43-.59-.52 0-1.04.2-1.43.59L10.3 9.45l-7.72 7.72c-.78.78-.78 2.05 0 2.83L4 21.41c.39.39.9.59 1.41.59.51 0 1.02-.2 1.41-.59l7.78-7.78 2.81-2.81c.8-.78.8-2.07 0-2.86zM5.41 20L4 18.59l7.72-7.72 1.47 1.35L5.41 20z\"/>\n",
              "  </svg>\n",
              "      </button>\n",
              "      \n",
              "  <style>\n",
              "    .colab-df-container {\n",
              "      display:flex;\n",
              "      flex-wrap:wrap;\n",
              "      gap: 12px;\n",
              "    }\n",
              "\n",
              "    .colab-df-convert {\n",
              "      background-color: #E8F0FE;\n",
              "      border: none;\n",
              "      border-radius: 50%;\n",
              "      cursor: pointer;\n",
              "      display: none;\n",
              "      fill: #1967D2;\n",
              "      height: 32px;\n",
              "      padding: 0 0 0 0;\n",
              "      width: 32px;\n",
              "    }\n",
              "\n",
              "    .colab-df-convert:hover {\n",
              "      background-color: #E2EBFA;\n",
              "      box-shadow: 0px 1px 2px rgba(60, 64, 67, 0.3), 0px 1px 3px 1px rgba(60, 64, 67, 0.15);\n",
              "      fill: #174EA6;\n",
              "    }\n",
              "\n",
              "    [theme=dark] .colab-df-convert {\n",
              "      background-color: #3B4455;\n",
              "      fill: #D2E3FC;\n",
              "    }\n",
              "\n",
              "    [theme=dark] .colab-df-convert:hover {\n",
              "      background-color: #434B5C;\n",
              "      box-shadow: 0px 1px 3px 1px rgba(0, 0, 0, 0.15);\n",
              "      filter: drop-shadow(0px 1px 2px rgba(0, 0, 0, 0.3));\n",
              "      fill: #FFFFFF;\n",
              "    }\n",
              "  </style>\n",
              "\n",
              "      <script>\n",
              "        const buttonEl =\n",
              "          document.querySelector('#df-0f9b5dcf-4ea1-4298-9b82-d0b6962ee075 button.colab-df-convert');\n",
              "        buttonEl.style.display =\n",
              "          google.colab.kernel.accessAllowed ? 'block' : 'none';\n",
              "\n",
              "        async function convertToInteractive(key) {\n",
              "          const element = document.querySelector('#df-0f9b5dcf-4ea1-4298-9b82-d0b6962ee075');\n",
              "          const dataTable =\n",
              "            await google.colab.kernel.invokeFunction('convertToInteractive',\n",
              "                                                     [key], {});\n",
              "          if (!dataTable) return;\n",
              "\n",
              "          const docLinkHtml = 'Like what you see? Visit the ' +\n",
              "            '<a target=\"_blank\" href=https://colab.research.google.com/notebooks/data_table.ipynb>data table notebook</a>'\n",
              "            + ' to learn more about interactive tables.';\n",
              "          element.innerHTML = '';\n",
              "          dataTable['output_type'] = 'display_data';\n",
              "          await google.colab.output.renderOutput(dataTable, element);\n",
              "          const docLink = document.createElement('div');\n",
              "          docLink.innerHTML = docLinkHtml;\n",
              "          element.appendChild(docLink);\n",
              "        }\n",
              "      </script>\n",
              "    </div>\n",
              "  </div>\n",
              "  "
            ]
          },
          "metadata": {},
          "execution_count": 11
        }
      ],
      "source": [
        "# Checking Descriptive Statistics of Train Data\n",
        "train_df.describe()"
      ]
    },
    {
      "cell_type": "markdown",
      "metadata": {
        "id": "IjxSb9Tx9GcM"
      },
      "source": [
        "### Checking Distribution"
      ]
    },
    {
      "cell_type": "code",
      "execution_count": null,
      "metadata": {
        "colab": {
          "base_uri": "https://localhost:8080/"
        },
        "id": "YHY_d0gfPx9-",
        "outputId": "a71db462-360a-4cd5-d7f0-9fc4026a1a3f"
      },
      "outputs": [
        {
          "output_type": "execute_result",
          "data": {
            "text/plain": [
              "0    437\n",
              "1    231\n",
              "Name: class, dtype: int64"
            ]
          },
          "metadata": {},
          "execution_count": 12
        }
      ],
      "source": [
        "#Checking Distribution of \"Class\" Attribute ( Target)\n",
        "train_df['class'].value_counts()"
      ]
    },
    {
      "cell_type": "markdown",
      "metadata": {
        "id": "9mu2TSqe9Rl_"
      },
      "source": [
        "###  Plotting Histogram"
      ]
    },
    {
      "cell_type": "code",
      "execution_count": null,
      "metadata": {
        "colab": {
          "base_uri": "https://localhost:8080/",
          "height": 744
        },
        "id": "etNJDb1KP3Qq",
        "outputId": "51ced8f0-dd5f-4311-8b2c-dfda2554d0aa"
      },
      "outputs": [
        {
          "output_type": "display_data",
          "data": {
            "text/plain": [
              "<Figure size 1440x1080 with 12 Axes>"
            ],
            "image/png": "[encoded data removed]"
          },
          "metadata": {
            "needs_background": "light"
          }
        }
      ],
      "source": [
        "# Histogram to Check the distribution of each attribute\n",
        "train_df.hist(bins=30, figsize=(20, 15))\n",
        "plt.title(\"Histogram to Check the distribution of each attribute\",fontsize = 14, weight = 'bold')\n",
        "plt.show()"
      ]
    },
    {
      "cell_type": "markdown",
      "metadata": {
        "id": "G4wNuWzm9a3K"
      },
      "source": [
        "### Plotting Density plots to check the Distribution of all Attributes"
      ]
    },
    {
      "cell_type": "code",
      "execution_count": null,
      "metadata": {
        "colab": {
          "base_uri": "https://localhost:8080/",
          "height": 710
        },
        "id": "HzFSIMu8P6vC",
        "outputId": "eaa1935b-c0ef-4314-ed42-ccebdf8421ff"
      },
      "outputs": [
        {
          "output_type": "display_data",
          "data": {
            "text/plain": [
              "<Figure size 1440x1080 with 12 Axes>"
            ],
            "image/png": "[encoded data removed]"
          },
          "metadata": {
            "needs_background": "light"
          }
        }
      ],
      "source": [
        "# Density plots to check the Distribution of each Attribute\n",
        "train_df.plot(kind='density', subplots=True, layout=(4,3), figsize=(20, 15), sharex=False)\n",
        "plt.show()"
      ]
    },
    {
      "cell_type": "code",
      "execution_count": null,
      "metadata": {
        "colab": {
          "base_uri": "https://localhost:8080/",
          "height": 206
        },
        "id": "wv7zMWBQQAoa",
        "outputId": "70660c53-d881-4fa2-bbd2-5711892ac2d7"
      },
      "outputs": [
        {
          "output_type": "execute_result",
          "data": {
            "text/plain": [
              "   id  A1   A2  A3  A4   A5    A6     A7  A8  class\n",
              "0   1   6  148  72  35    0  33.6  0.627  50      1\n",
              "1   2   1   85  66  29    0  26.6  0.351  31      0\n",
              "2   3   8  183  64   0    0  23.3  0.672  32      1\n",
              "3   4   1   89  66  23   94  28.1  0.167  21      0\n",
              "4   5   0  137  40  35  168  43.1  2.288  33      1"
            ],
            "text/html": [
              "\n",
              "  <div id=\"df-874327ee-c9cd-4d5b-84b3-10a8f3442427\">\n",
              "    <div class=\"colab-df-container\">\n",
              "      <div>\n",
              "<style scoped>\n",
              "    .dataframe tbody tr th:only-of-type {\n",
              "        vertical-align: middle;\n",
              "    }\n",
              "\n",
              "    .dataframe tbody tr th {\n",
              "        vertical-align: top;\n",
              "    }\n",
              "\n",
              "    .dataframe thead th {\n",
              "        text-align: right;\n",
              "    }\n",
              "</style>\n",
              "<table border=\"1\" class=\"dataframe\">\n",
              "  <thead>\n",
              "    <tr style=\"text-align: right;\">\n",
              "      <th></th>\n",
              "      <th>id</th>\n",
              "      <th>A1</th>\n",
              "      <th>A2</th>\n",
              "      <th>A3</th>\n",
              "      <th>A4</th>\n",
              "      <th>A5</th>\n",
              "      <th>A6</th>\n",
              "      <th>A7</th>\n",
              "      <th>A8</th>\n",
              "      <th>class</th>\n",
              "    </tr>\n",
              "  </thead>\n",
              "  <tbody>\n",
              "    <tr>\n",
              "      <th>0</th>\n",
              "      <td>1</td>\n",
              "      <td>6</td>\n",
              "      <td>148</td>\n",
              "      <td>72</td>\n",
              "      <td>35</td>\n",
              "      <td>0</td>\n",
              "      <td>33.6</td>\n",
              "      <td>0.627</td>\n",
              "      <td>50</td>\n",
              "      <td>1</td>\n",
              "    </tr>\n",
              "    <tr>\n",
              "      <th>1</th>\n",
              "      <td>2</td>\n",
              "      <td>1</td>\n",
              "      <td>85</td>\n",
              "      <td>66</td>\n",
              "      <td>29</td>\n",
              "      <td>0</td>\n",
              "      <td>26.6</td>\n",
              "      <td>0.351</td>\n",
              "      <td>31</td>\n",
              "      <td>0</td>\n",
              "    </tr>\n",
              "    <tr>\n",
              "      <th>2</th>\n",
              "      <td>3</td>\n",
              "      <td>8</td>\n",
              "      <td>183</td>\n",
              "      <td>64</td>\n",
              "      <td>0</td>\n",
              "      <td>0</td>\n",
              "      <td>23.3</td>\n",
              "      <td>0.672</td>\n",
              "      <td>32</td>\n",
              "      <td>1</td>\n",
              "    </tr>\n",
              "    <tr>\n",
              "      <th>3</th>\n",
              "      <td>4</td>\n",
              "      <td>1</td>\n",
              "      <td>89</td>\n",
              "      <td>66</td>\n",
              "      <td>23</td>\n",
              "      <td>94</td>\n",
              "      <td>28.1</td>\n",
              "      <td>0.167</td>\n",
              "      <td>21</td>\n",
              "      <td>0</td>\n",
              "    </tr>\n",
              "    <tr>\n",
              "      <th>4</th>\n",
              "      <td>5</td>\n",
              "      <td>0</td>\n",
              "      <td>137</td>\n",
              "      <td>40</td>\n",
              "      <td>35</td>\n",
              "      <td>168</td>\n",
              "      <td>43.1</td>\n",
              "      <td>2.288</td>\n",
              "      <td>33</td>\n",
              "      <td>1</td>\n",
              "    </tr>\n",
              "  </tbody>\n",
              "</table>\n",
              "</div>\n",
              "      <button class=\"colab-df-convert\" onclick=\"convertToInteractive('df-874327ee-c9cd-4d5b-84b3-10a8f3442427')\"\n",
              "              title=\"Convert this dataframe to an interactive table.\"\n",
              "              style=\"display:none;\">\n",
              "        \n",
              "  <svg xmlns=\"http://www.w3.org/2000/svg\" height=\"24px\"viewBox=\"0 0 24 24\"\n",
              "       width=\"24px\">\n",
              "    <path d=\"M0 0h24v24H0V0z\" fill=\"none\"/>\n",
              "    <path d=\"M18.56 5.44l.94 2.06.94-2.06 2.06-.94-2.06-.94-.94-2.06-.94 2.06-2.06.94zm-11 1L8.5 8.5l.94-2.06 2.06-.94-2.06-.94L8.5 2.5l-.94 2.06-2.06.94zm10 10l.94 2.06.94-2.06 2.06-.94-2.06-.94-.94-2.06-.94 2.06-2.06.94z\"/><path d=\"M17.41 7.96l-1.37-1.37c-.4-.4-.92-.59-1.43-.59-.52 0-1.04.2-1.43.59L10.3 9.45l-7.72 7.72c-.78.78-.78 2.05 0 2.83L4 21.41c.39.39.9.59 1.41.59.51 0 1.02-.2 1.41-.59l7.78-7.78 2.81-2.81c.8-.78.8-2.07 0-2.86zM5.41 20L4 18.59l7.72-7.72 1.47 1.35L5.41 20z\"/>\n",
              "  </svg>\n",
              "      </button>\n",
              "      \n",
              "  <style>\n",
              "    .colab-df-container {\n",
              "      display:flex;\n",
              "      flex-wrap:wrap;\n",
              "      gap: 12px;\n",
              "    }\n",
              "\n",
              "    .colab-df-convert {\n",
              "      background-color: #E8F0FE;\n",
              "      border: none;\n",
              "      border-radius: 50%;\n",
              "      cursor: pointer;\n",
              "      display: none;\n",
              "      fill: #1967D2;\n",
              "      height: 32px;\n",
              "      padding: 0 0 0 0;\n",
              "      width: 32px;\n",
              "    }\n",
              "\n",
              "    .colab-df-convert:hover {\n",
              "      background-color: #E2EBFA;\n",
              "      box-shadow: 0px 1px 2px rgba(60, 64, 67, 0.3), 0px 1px 3px 1px rgba(60, 64, 67, 0.15);\n",
              "      fill: #174EA6;\n",
              "    }\n",
              "\n",
              "    [theme=dark] .colab-df-convert {\n",
              "      background-color: #3B4455;\n",
              "      fill: #D2E3FC;\n",
              "    }\n",
              "\n",
              "    [theme=dark] .colab-df-convert:hover {\n",
              "      background-color: #434B5C;\n",
              "      box-shadow: 0px 1px 3px 1px rgba(0, 0, 0, 0.15);\n",
              "      filter: drop-shadow(0px 1px 2px rgba(0, 0, 0, 0.3));\n",
              "      fill: #FFFFFF;\n",
              "    }\n",
              "  </style>\n",
              "\n",
              "      <script>\n",
              "        const buttonEl =\n",
              "          document.querySelector('#df-874327ee-c9cd-4d5b-84b3-10a8f3442427 button.colab-df-convert');\n",
              "        buttonEl.style.display =\n",
              "          google.colab.kernel.accessAllowed ? 'block' : 'none';\n",
              "\n",
              "        async function convertToInteractive(key) {\n",
              "          const element = document.querySelector('#df-874327ee-c9cd-4d5b-84b3-10a8f3442427');\n",
              "          const dataTable =\n",
              "            await google.colab.kernel.invokeFunction('convertToInteractive',\n",
              "                                                     [key], {});\n",
              "          if (!dataTable) return;\n",
              "\n",
              "          const docLinkHtml = 'Like what you see? Visit the ' +\n",
              "            '<a target=\"_blank\" href=https://colab.research.google.com/notebooks/data_table.ipynb>data table notebook</a>'\n",
              "            + ' to learn more about interactive tables.';\n",
              "          element.innerHTML = '';\n",
              "          dataTable['output_type'] = 'display_data';\n",
              "          await google.colab.output.renderOutput(dataTable, element);\n",
              "          const docLink = document.createElement('div');\n",
              "          docLink.innerHTML = docLinkHtml;\n",
              "          element.appendChild(docLink);\n",
              "        }\n",
              "      </script>\n",
              "    </div>\n",
              "  </div>\n",
              "  "
            ]
          },
          "metadata": {},
          "execution_count": 15
        }
      ],
      "source": [
        "train_df.head()"
      ]
    },
    {
      "cell_type": "markdown",
      "metadata": {
        "id": "wM46P2ZE92iL"
      },
      "source": [
        "## Feature Scaling"
      ]
    },
    {
      "cell_type": "markdown",
      "source": [
        "This code is selecting the columns from the dataframe called 'train_df' and assigning them to a variable called 'X'. The columns being chosen are 'id', 'A1', 'A2', 'A3', 'A4', 'A5', 'A6', 'A7', and 'A8'. It is also assigning the target column, 'class', to a variable called 'Y' and converting it to an integer."
      ],
      "metadata": {
        "id": "3cwaqZqCOYBZ"
      }
    },
    {
      "cell_type": "code",
      "execution_count": null,
      "metadata": {
        "id": "MA2G-6yOQR8E"
      },
      "outputs": [],
      "source": [
        "col = ['id','A1','A2','A3','A4','A5','A6','A7','A8']\n",
        "target='class'\n",
        "X=train_df[col]\n",
        "Y=train_df[target].astype(int)"
      ]
    },
    {
      "cell_type": "markdown",
      "source": [
        "This code is using the StandardScaler from the sklearn library to normalize the data in the X variable. The scaler object is then fitted to the X data and the scaler object is printed."
      ],
      "metadata": {
        "id": "ZSL2kBtxOgmA"
      }
    },
    {
      "cell_type": "code",
      "execution_count": null,
      "metadata": {
        "colab": {
          "base_uri": "https://localhost:8080/"
        },
        "id": "T1nc9wTPQDNY",
        "outputId": "1ebbe4fc-5ca7-472f-81c4-4d66d7f34261"
      },
      "outputs": [
        {
          "output_type": "stream",
          "name": "stdout",
          "text": [
            "StandardScaler()\n"
          ]
        }
      ],
      "source": [
        "# Normalize the data using sklearn StandardScaler\n",
        "from sklearn.preprocessing import StandardScaler\n",
        "\n",
        "scaler=StandardScaler().fit(X)\n",
        "print(scaler)"
      ]
    },
    {
      "cell_type": "markdown",
      "source": [
        "This code is transforming the training data by scaling it with a pre-defined scaler. The scaler is used to normalize the data by transforming it such that the mean of each feature is 0 and the standard deviation is 1. The transformed data is then stored in a Pandas DataFrame and descriptive statistics are displayed to summarize the data."
      ],
      "metadata": {
        "id": "Cr-XkIvUOqfp"
      }
    },
    {
      "cell_type": "code",
      "execution_count": null,
      "metadata": {
        "colab": {
          "base_uri": "https://localhost:8080/",
          "height": 416
        },
        "id": "toi00Lo3QzqP",
        "outputId": "11d55624-7c01-4c92-8bb5-62d4f655e714"
      },
      "outputs": [
        {
          "output_type": "execute_result",
          "data": {
            "text/plain": [
              "                  0             1             2             3             4  \\\n",
              "count  6.680000e+02  6.680000e+02  6.680000e+02  6.680000e+02  6.680000e+02   \n",
              "mean  -8.509494e-17 -5.318434e-17 -1.675307e-16  2.140670e-16 -2.925139e-17   \n",
              "std    1.000749e+00  1.000749e+00  1.000749e+00  1.000749e+00  1.000749e+00   \n",
              "min   -1.729460e+00 -1.133720e+00 -3.731509e+00 -3.523437e+00 -1.284769e+00   \n",
              "25%   -8.647299e-01 -8.363803e-01 -6.633866e-01 -2.433661e-01 -1.284769e+00   \n",
              "50%    0.000000e+00 -2.417001e-01 -1.365373e-01  1.666428e-01  1.519580e-01   \n",
              "75%    8.647299e-01  6.503202e-01  6.072499e-01  5.766518e-01  7.141556e-01   \n",
              "max    1.729460e+00  3.921061e+00  2.435727e+00  2.729199e+00  4.899405e+00   \n",
              "\n",
              "                  5             6             7             8  \n",
              "count  6.680000e+02  6.680000e+02  6.680000e+02  6.680000e+02  \n",
              "mean   5.983238e-18  4.148378e-16  2.127373e-17 -3.988825e-18  \n",
              "std    1.000749e+00  1.000749e+00  1.000749e+00  1.000749e+00  \n",
              "min   -6.882106e-01 -4.073541e+00 -1.170564e+00 -1.033215e+00  \n",
              "25%   -6.882106e-01 -6.086214e-01 -6.993538e-01 -7.768619e-01  \n",
              "50%   -3.728513e-01  1.787698e-02 -2.940980e-01 -3.496070e-01  \n",
              "75%    4.004268e-01  5.932326e-01  4.805049e-01  5.903537e-01  \n",
              "max    6.621212e+00  4.505651e+00  5.694601e+00  4.093844e+00  "
            ],
            "text/html": [
              "\n",
              "  <div id=\"df-e192c84e-7ab3-4da8-9ced-ce80613631a8\">\n",
              "    <div class=\"colab-df-container\">\n",
              "      <div>\n",
              "<style scoped>\n",
              "    .dataframe tbody tr th:only-of-type {\n",
              "        vertical-align: middle;\n",
              "    }\n",
              "\n",
              "    .dataframe tbody tr th {\n",
              "        vertical-align: top;\n",
              "    }\n",
              "\n",
              "    .dataframe thead th {\n",
              "        text-align: right;\n",
              "    }\n",
              "</style>\n",
              "<table border=\"1\" class=\"dataframe\">\n",
              "  <thead>\n",
              "    <tr style=\"text-align: right;\">\n",
              "      <th></th>\n",
              "      <th>0</th>\n",
              "      <th>1</th>\n",
              "      <th>2</th>\n",
              "      <th>3</th>\n",
              "      <th>4</th>\n",
              "      <th>5</th>\n",
              "      <th>6</th>\n",
              "      <th>7</th>\n",
              "      <th>8</th>\n",
              "    </tr>\n",
              "  </thead>\n",
              "  <tbody>\n",
              "    <tr>\n",
              "      <th>count</th>\n",
              "      <td>6.680000e+02</td>\n",
              "      <td>6.680000e+02</td>\n",
              "      <td>6.680000e+02</td>\n",
              "      <td>6.680000e+02</td>\n",
              "      <td>6.680000e+02</td>\n",
              "      <td>6.680000e+02</td>\n",
              "      <td>6.680000e+02</td>\n",
              "      <td>6.680000e+02</td>\n",
              "      <td>6.680000e+02</td>\n",
              "    </tr>\n",
              "    <tr>\n",
              "      <th>mean</th>\n",
              "      <td>-8.509494e-17</td>\n",
              "      <td>-5.318434e-17</td>\n",
              "      <td>-1.675307e-16</td>\n",
              "      <td>2.140670e-16</td>\n",
              "      <td>-2.925139e-17</td>\n",
              "      <td>5.983238e-18</td>\n",
              "      <td>4.148378e-16</td>\n",
              "      <td>2.127373e-17</td>\n",
              "      <td>-3.988825e-18</td>\n",
              "    </tr>\n",
              "    <tr>\n",
              "      <th>std</th>\n",
              "      <td>1.000749e+00</td>\n",
              "      <td>1.000749e+00</td>\n",
              "      <td>1.000749e+00</td>\n",
              "      <td>1.000749e+00</td>\n",
              "      <td>1.000749e+00</td>\n",
              "      <td>1.000749e+00</td>\n",
              "      <td>1.000749e+00</td>\n",
              "      <td>1.000749e+00</td>\n",
              "      <td>1.000749e+00</td>\n",
              "    </tr>\n",
              "    <tr>\n",
              "      <th>min</th>\n",
              "      <td>-1.729460e+00</td>\n",
              "      <td>-1.133720e+00</td>\n",
              "      <td>-3.731509e+00</td>\n",
              "      <td>-3.523437e+00</td>\n",
              "      <td>-1.284769e+00</td>\n",
              "      <td>-6.882106e-01</td>\n",
              "      <td>-4.073541e+00</td>\n",
              "      <td>-1.170564e+00</td>\n",
              "      <td>-1.033215e+00</td>\n",
              "    </tr>\n",
              "    <tr>\n",
              "      <th>25%</th>\n",
              "      <td>-8.647299e-01</td>\n",
              "      <td>-8.363803e-01</td>\n",
              "      <td>-6.633866e-01</td>\n",
              "      <td>-2.433661e-01</td>\n",
              "      <td>-1.284769e+00</td>\n",
              "      <td>-6.882106e-01</td>\n",
              "      <td>-6.086214e-01</td>\n",
              "      <td>-6.993538e-01</td>\n",
              "      <td>-7.768619e-01</td>\n",
              "    </tr>\n",
              "    <tr>\n",
              "      <th>50%</th>\n",
              "      <td>0.000000e+00</td>\n",
              "      <td>-2.417001e-01</td>\n",
              "      <td>-1.365373e-01</td>\n",
              "      <td>1.666428e-01</td>\n",
              "      <td>1.519580e-01</td>\n",
              "      <td>-3.728513e-01</td>\n",
              "      <td>1.787698e-02</td>\n",
              "      <td>-2.940980e-01</td>\n",
              "      <td>-3.496070e-01</td>\n",
              "    </tr>\n",
              "    <tr>\n",
              "      <th>75%</th>\n",
              "      <td>8.647299e-01</td>\n",
              "      <td>6.503202e-01</td>\n",
              "      <td>6.072499e-01</td>\n",
              "      <td>5.766518e-01</td>\n",
              "      <td>7.141556e-01</td>\n",
              "      <td>4.004268e-01</td>\n",
              "      <td>5.932326e-01</td>\n",
              "      <td>4.805049e-01</td>\n",
              "      <td>5.903537e-01</td>\n",
              "    </tr>\n",
              "    <tr>\n",
              "      <th>max</th>\n",
              "      <td>1.729460e+00</td>\n",
              "      <td>3.921061e+00</td>\n",
              "      <td>2.435727e+00</td>\n",
              "      <td>2.729199e+00</td>\n",
              "      <td>4.899405e+00</td>\n",
              "      <td>6.621212e+00</td>\n",
              "      <td>4.505651e+00</td>\n",
              "      <td>5.694601e+00</td>\n",
              "      <td>4.093844e+00</td>\n",
              "    </tr>\n",
              "  </tbody>\n",
              "</table>\n",
              "</div>\n",
              "      <button class=\"colab-df-convert\" onclick=\"convertToInteractive('df-e192c84e-7ab3-4da8-9ced-ce80613631a8')\"\n",
              "              title=\"Convert this dataframe to an interactive table.\"\n",
              "              style=\"display:none;\">\n",
              "        \n",
              "  <svg xmlns=\"http://www.w3.org/2000/svg\" height=\"24px\"viewBox=\"0 0 24 24\"\n",
              "       width=\"24px\">\n",
              "    <path d=\"M0 0h24v24H0V0z\" fill=\"none\"/>\n",
              "    <path d=\"M18.56 5.44l.94 2.06.94-2.06 2.06-.94-2.06-.94-.94-2.06-.94 2.06-2.06.94zm-11 1L8.5 8.5l.94-2.06 2.06-.94-2.06-.94L8.5 2.5l-.94 2.06-2.06.94zm10 10l.94 2.06.94-2.06 2.06-.94-2.06-.94-.94-2.06-.94 2.06-2.06.94z\"/><path d=\"M17.41 7.96l-1.37-1.37c-.4-.4-.92-.59-1.43-.59-.52 0-1.04.2-1.43.59L10.3 9.45l-7.72 7.72c-.78.78-.78 2.05 0 2.83L4 21.41c.39.39.9.59 1.41.59.51 0 1.02-.2 1.41-.59l7.78-7.78 2.81-2.81c.8-.78.8-2.07 0-2.86zM5.41 20L4 18.59l7.72-7.72 1.47 1.35L5.41 20z\"/>\n",
              "  </svg>\n",
              "      </button>\n",
              "      \n",
              "  <style>\n",
              "    .colab-df-container {\n",
              "      display:flex;\n",
              "      flex-wrap:wrap;\n",
              "      gap: 12px;\n",
              "    }\n",
              "\n",
              "    .colab-df-convert {\n",
              "      background-color: #E8F0FE;\n",
              "      border: none;\n",
              "      border-radius: 50%;\n",
              "      cursor: pointer;\n",
              "      display: none;\n",
              "      fill: #1967D2;\n",
              "      height: 32px;\n",
              "      padding: 0 0 0 0;\n",
              "      width: 32px;\n",
              "    }\n",
              "\n",
              "    .colab-df-convert:hover {\n",
              "      background-color: #E2EBFA;\n",
              "      box-shadow: 0px 1px 2px rgba(60, 64, 67, 0.3), 0px 1px 3px 1px rgba(60, 64, 67, 0.15);\n",
              "      fill: #174EA6;\n",
              "    }\n",
              "\n",
              "    [theme=dark] .colab-df-convert {\n",
              "      background-color: #3B4455;\n",
              "      fill: #D2E3FC;\n",
              "    }\n",
              "\n",
              "    [theme=dark] .colab-df-convert:hover {\n",
              "      background-color: #434B5C;\n",
              "      box-shadow: 0px 1px 3px 1px rgba(0, 0, 0, 0.15);\n",
              "      filter: drop-shadow(0px 1px 2px rgba(0, 0, 0, 0.3));\n",
              "      fill: #FFFFFF;\n",
              "    }\n",
              "  </style>\n",
              "\n",
              "      <script>\n",
              "        const buttonEl =\n",
              "          document.querySelector('#df-e192c84e-7ab3-4da8-9ced-ce80613631a8 button.colab-df-convert');\n",
              "        buttonEl.style.display =\n",
              "          google.colab.kernel.accessAllowed ? 'block' : 'none';\n",
              "\n",
              "        async function convertToInteractive(key) {\n",
              "          const element = document.querySelector('#df-e192c84e-7ab3-4da8-9ced-ce80613631a8');\n",
              "          const dataTable =\n",
              "            await google.colab.kernel.invokeFunction('convertToInteractive',\n",
              "                                                     [key], {});\n",
              "          if (!dataTable) return;\n",
              "\n",
              "          const docLinkHtml = 'Like what you see? Visit the ' +\n",
              "            '<a target=\"_blank\" href=https://colab.research.google.com/notebooks/data_table.ipynb>data table notebook</a>'\n",
              "            + ' to learn more about interactive tables.';\n",
              "          element.innerHTML = '';\n",
              "          dataTable['output_type'] = 'display_data';\n",
              "          await google.colab.output.renderOutput(dataTable, element);\n",
              "          const docLink = document.createElement('div');\n",
              "          docLink.innerHTML = docLinkHtml;\n",
              "          element.appendChild(docLink);\n",
              "        }\n",
              "      </script>\n",
              "    </div>\n",
              "  </div>\n",
              "  "
            ]
          },
          "metadata": {},
          "execution_count": 18
        }
      ],
      "source": [
        "# Transform and display the training data\n",
        "X_standardized = scaler.transform(X)\n",
        "data = pd.DataFrame(X_standardized)\n",
        "data.describe()"
      ]
    },
    {
      "cell_type": "code",
      "execution_count": null,
      "metadata": {
        "id": "WHPF_0KJQ_2G"
      },
      "outputs": [],
      "source": [
        "#import necessary packages\n",
        "from sklearn.model_selection import GridSearchCV, KFold\n",
        "from keras.models import Sequential\n",
        "from keras.layers import Dense\n",
        "from keras.wrappers.scikit_learn import KerasClassifier\n"
      ]
    },
    {
      "cell_type": "markdown",
      "source": [
        "This code is creating a neural network model using the Sequential model from the Keras library. The model is composed of three layers. The first layer has 8 neurons and takes inputs of 9 dimensions. The second layer has 4 neurons and takes inputs of 9 dimensions. The third layer has 1 output neuron and uses a sigmoid activation function. Finally, the model is compiled with a binary crossentropy loss function and Adam optimizer."
      ],
      "metadata": {
        "id": "TGOQnN_WOzjA"
      }
    },
    {
      "cell_type": "code",
      "execution_count": null,
      "metadata": {
        "id": "t2HVg9_tQz5n"
      },
      "outputs": [],
      "source": [
        "#Start defining the model\n",
        "def create_model():\n",
        "    model=Sequential()\n",
        "    model.add(Dense(8,input_dim=9,kernel_initializer='normal',activation='tanh'))\n",
        "    model.add(Dense(16,input_dim=9,kernel_initializer='normal',activation='tanh'))\n",
        "    model.add(Dense(1,activation='sigmoid'))\n",
        "    model.compile(loss = 'binary_crossentropy', optimizer = 'Adam', metrics = ['accuracy'])\n",
        "    return model"
      ]
    },
    {
      "cell_type": "code",
      "execution_count": null,
      "metadata": {
        "colab": {
          "base_uri": "https://localhost:8080/"
        },
        "id": "RJBtPwzaRo10",
        "outputId": "9e3cba28-3a63-44f7-f3da-2609cfd1c6b5"
      },
      "outputs": [
        {
          "output_type": "stream",
          "name": "stdout",
          "text": [
            "Model: \"sequential\"\n",
            "_________________________________________________________________\n",
            " Layer (type)                Output Shape              Param #   \n",
            "=================================================================\n",
            " dense (Dense)               (None, 8)                 80        \n",
            "                                                                 \n",
            " dense_1 (Dense)             (None, 16)                144       \n",
            "                                                                 \n",
            " dense_2 (Dense)             (None, 1)                 17        \n",
            "                                                                 \n",
            "=================================================================\n",
            "Total params: 241\n",
            "Trainable params: 241\n",
            "Non-trainable params: 0\n",
            "_________________________________________________________________\n",
            "None\n"
          ]
        }
      ],
      "source": [
        "model = create_model()\n",
        "print(model.summary())"
      ]
    },
    {
      "cell_type": "code",
      "execution_count": null,
      "metadata": {
        "id": "wo1Y7QhReHYy"
      },
      "outputs": [],
      "source": [
        "# Setting Random State as '100' to reproduce same results\n",
        "from numpy.random import seed\n",
        "seed(100)\n",
        "import tensorflow\n",
        "tensorflow.random.set_seed(100)"
      ]
    },
    {
      "cell_type": "markdown",
      "source": [
        "\n",
        "This code is a simple example of a grid search to determine the best parameters for a Keras neural network model. The code defines a model with two hidden layers and a sigmoid output layer. The grid search parameters are defined as batch_size and epochs. A dictionary of these parameters is then created, and a GridSearchCV object is built and fit on the data. The best parameters and results are then printed."
      ],
      "metadata": {
        "id": "0-WoLSi2O_3x"
      }
    },
    {
      "cell_type": "code",
      "execution_count": null,
      "metadata": {
        "colab": {
          "base_uri": "https://localhost:8080/"
        },
        "id": "SsxGIvr-R65o",
        "outputId": "38c771e9-a8c2-47b6-ba69-9d5199469c5f"
      },
      "outputs": [
        {
          "output_type": "stream",
          "name": "stdout",
          "text": [
            "Fitting 5 folds for each of 1 candidates, totalling 5 fits\n",
            "[CV 1/5; 1/1] START batch_size=50, epochs=250...................................\n"
          ]
        },
        {
          "output_type": "stream",
          "name": "stderr",
          "text": [
            "<ipython-input-23-e961ee52bf13>:11: DeprecationWarning: KerasClassifier is deprecated, use Sci-Keras (https://github.com/adriangb/scikeras) instead. See https://www.adriangb.com/scikeras/stable/migration.html for help migrating.\n",
            "  model=KerasClassifier(build_fn=create_model, verbose=0)\n"
          ]
        },
        {
          "output_type": "stream",
          "name": "stdout",
          "text": [
            "[CV 1/5; 1/1] END ....batch_size=50, epochs=250;, score=0.672 total time=   6.2s\n",
            "[CV 2/5; 1/1] START batch_size=50, epochs=250...................................\n",
            "[CV 2/5; 1/1] END ....batch_size=50, epochs=250;, score=0.724 total time=   5.9s\n",
            "[CV 3/5; 1/1] START batch_size=50, epochs=250...................................\n",
            "[CV 3/5; 1/1] END ....batch_size=50, epochs=250;, score=0.716 total time=   4.8s\n",
            "[CV 4/5; 1/1] START batch_size=50, epochs=250...................................\n",
            "[CV 4/5; 1/1] END ....batch_size=50, epochs=250;, score=0.812 total time=   5.9s\n",
            "[CV 5/5; 1/1] START batch_size=50, epochs=250...................................\n"
          ]
        },
        {
          "output_type": "stream",
          "name": "stderr",
          "text": [
            "WARNING:tensorflow:5 out of the last 13 calls to <function Model.make_test_function.<locals>.test_function at 0x7f6d308ec160> triggered tf.function retracing. Tracing is expensive and the excessive number of tracings could be due to (1) creating @tf.function repeatedly in a loop, (2) passing tensors with different shapes, (3) passing Python objects instead of tensors. For (1), please define your @tf.function outside of the loop. For (2), @tf.function has reduce_retracing=True option that can avoid unnecessary retracing. For (3), please refer to https://www.tensorflow.org/guide/function#controlling_retracing and https://www.tensorflow.org/api_docs/python/tf/function for  more details.\n"
          ]
        },
        {
          "output_type": "stream",
          "name": "stdout",
          "text": [
            "[CV 5/5; 1/1] END ....batch_size=50, epochs=250;, score=0.767 total time=   4.7s\n",
            "Best: 0.7381775259971619, using {'batch_size': 50, 'epochs': 250}\n",
            "0.7381775259971619 (0.04771805486339872) with: {'batch_size': 50, 'epochs': 250}\n"
          ]
        }
      ],
      "source": [
        "#Start defining the model\n",
        "def create_model():\n",
        "    model=Sequential()\n",
        "    model.add(Dense(8,input_dim=9,kernel_initializer='normal',activation='relu'))\n",
        "    model.add(Dense(16,input_dim=9,kernel_initializer='normal',activation='relu'))\n",
        "    model.add(Dense(1,activation='sigmoid'))\n",
        "    model.compile(loss = 'binary_crossentropy', optimizer = 'Adam', metrics = ['accuracy'])\n",
        "    return model\n",
        "\n",
        "#create model\n",
        "model=KerasClassifier(build_fn=create_model, verbose=0)\n",
        "\n",
        "# Define the grid search parameters\n",
        "#batch_size = [10,20,30,40,50]\n",
        "#epochs = [10,50, 100,150,200,250]\n",
        "batch_size = [50]\n",
        "epochs = [250]\n",
        "\n",
        "# make a dictionary of the grid search parameters\n",
        "param_grid = dict(batch_size=batch_size, epochs=epochs)\n",
        "\n",
        "# build and fit the GridSearchCV\n",
        "grid = GridSearchCV(estimator=model, param_grid=param_grid, cv = KFold(), verbose=10)\n",
        "grid_result = grid.fit(X_standardized, Y)\n",
        "\n",
        "# summarize the results\n",
        "print(\"Best: {0}, using {1}\".format(grid_result.best_score_, grid_result.best_params_))\n",
        "means = grid_result.cv_results_['mean_test_score']\n",
        "stds = grid_result.cv_results_['std_test_score']\n",
        "params = grid_result.cv_results_['params']\n",
        "for mean, stdev, param in zip(means, stds, params):\n",
        "    print('{0} ({1}) with: {2}'.format(mean, stdev, param))"
      ]
    },
    {
      "cell_type": "markdown",
      "source": [
        "\n",
        "This code is used to create a model and perform a grid search to determine the best hyperparameters. The model is created using the KerasClassifier which takes in parameters such as the number of epochs and batch size. The parameters for the grid search are then specified and a dictionary of the parameters is created. Finally, the GridSearchCV is built and fit onto the data, using the KFold cross-validation. The verbose parameter is used to control the amount of output printed to the console."
      ],
      "metadata": {
        "id": "hOZNjxrqPP6A"
      }
    },
    {
      "cell_type": "code",
      "execution_count": null,
      "metadata": {
        "colab": {
          "base_uri": "https://localhost:8080/"
        },
        "id": "BpSXKPnchJTe",
        "outputId": "8f0bd07b-9acf-470d-b671-fd463c9fa395"
      },
      "outputs": [
        {
          "output_type": "stream",
          "name": "stdout",
          "text": [
            "Fitting 5 folds for each of 1 candidates, totalling 5 fits\n",
            "[CV 1/5; 1/1] START dropout_rate=0.2, learn_rate=0.0001.........................\n"
          ]
        },
        {
          "output_type": "stream",
          "name": "stderr",
          "text": [
            "<ipython-input-24-ff8fe5c2a514>:25: DeprecationWarning: KerasClassifier is deprecated, use Sci-Keras (https://github.com/adriangb/scikeras) instead. See https://www.adriangb.com/scikeras/stable/migration.html for help migrating.\n",
            "  model = KerasClassifier(build_fn = create_model, epochs=epochs, batch_size=batch_size, verbose = 0) # This comes from the previous best\n",
            "WARNING:tensorflow:5 out of the last 13 calls to <function Model.make_test_function.<locals>.test_function at 0x7f6d3d5b80d0> triggered tf.function retracing. Tracing is expensive and the excessive number of tracings could be due to (1) creating @tf.function repeatedly in a loop, (2) passing tensors with different shapes, (3) passing Python objects instead of tensors. For (1), please define your @tf.function outside of the loop. For (2), @tf.function has reduce_retracing=True option that can avoid unnecessary retracing. For (3), please refer to https://www.tensorflow.org/guide/function#controlling_retracing and https://www.tensorflow.org/api_docs/python/tf/function for  more details.\n"
          ]
        },
        {
          "output_type": "stream",
          "name": "stdout",
          "text": [
            "[CV 1/5; 1/1] END dropout_rate=0.2, learn_rate=0.0001;, score=0.746 total time=   6.0s\n",
            "[CV 2/5; 1/1] START dropout_rate=0.2, learn_rate=0.0001.........................\n",
            "[CV 2/5; 1/1] END dropout_rate=0.2, learn_rate=0.0001;, score=0.746 total time=   4.5s\n",
            "[CV 3/5; 1/1] START dropout_rate=0.2, learn_rate=0.0001.........................\n",
            "[CV 3/5; 1/1] END dropout_rate=0.2, learn_rate=0.0001;, score=0.739 total time=   4.1s\n",
            "[CV 4/5; 1/1] START dropout_rate=0.2, learn_rate=0.0001.........................\n",
            "[CV 4/5; 1/1] END dropout_rate=0.2, learn_rate=0.0001;, score=0.820 total time=   4.8s\n",
            "[CV 5/5; 1/1] START dropout_rate=0.2, learn_rate=0.0001.........................\n",
            "[CV 5/5; 1/1] END dropout_rate=0.2, learn_rate=0.0001;, score=0.789 total time=   5.8s\n"
          ]
        }
      ],
      "source": [
        "# import necessary packages\n",
        "from keras.layers import Dropout\n",
        "# Define a random seed\n",
        "seed = 100\n",
        "np.random.seed(seed)\n",
        "epochs=250\n",
        "batch_size=50\n",
        "# Start defining the model\n",
        "def create_model(learn_rate, dropout_rate):\n",
        "    # Create model\n",
        "    model = Sequential()\n",
        "    model.add(Dense(8, input_dim = 9, kernel_initializer = 'normal', activation = 'tanh'))\n",
        "    #model.add(Dropout(dropout_rate))\n",
        "    model.add(Dense(16, input_dim = 9, kernel_initializer = 'normal', activation = 'tanh'))\n",
        "    #model.add(Dropout(dropout_rate))\n",
        "    model.add(Dense(1, activation = 'sigmoid'))\n",
        "    \n",
        "    # Compile the model\n",
        "    import tensorflow as tf\n",
        "    opt = tf.keras.optimizers.Adam(learning_rate = learn_rate)\n",
        "    model.compile(loss = 'binary_crossentropy', optimizer = opt, metrics = ['accuracy'])\n",
        "    return model\n",
        "\n",
        "# Create the model\n",
        "model = KerasClassifier(build_fn = create_model, epochs=epochs, batch_size=batch_size, verbose = 0) # This comes from the previous best\n",
        "\n",
        "# define the grid search parameters\n",
        "#learn_rate = [0.0001, 0.001, 0.01, 0.1]\n",
        "#dropout_rate = [0.0, 0.1, 0.2, 0.3]\n",
        "learn_rate = [0.0001]\n",
        "dropout_rate = [0.2]\n",
        "\n",
        "# make a dictionary of the grid search parameters\n",
        "param_grid = dict(learn_rate=learn_rate,dropout_rate=dropout_rate)\n",
        "\n",
        "# build and fit the GridSearchCV\n",
        "grid = GridSearchCV(estimator=model, param_grid=param_grid, cv = KFold(), verbose=10)\n",
        "grid_result = grid.fit(X_standardized, Y)"
      ]
    },
    {
      "cell_type": "markdown",
      "source": [
        "\n",
        "This code is used to find the best model parameters for a machine learning algorithm using a grid search approach. \n",
        "It iterates over multiple combinations of model parameters and evaluates each set of parameters against a specified metric. The best model parameters are then selected based on the highest score.\n",
        "The code prints out the best score and the parameters used for that score, as well as the mean, standard deviation, and parameters for all the tested combinations."
      ],
      "metadata": {
        "id": "qYwYVfp0Pbvq"
      }
    },
    {
      "cell_type": "code",
      "execution_count": null,
      "metadata": {
        "id": "nrGJR7uulUl5",
        "colab": {
          "base_uri": "https://localhost:8080/"
        },
        "outputId": "fdb9b01b-1586-4f85-b420-5a2b3eb4c0ef"
      },
      "outputs": [
        {
          "output_type": "stream",
          "name": "stdout",
          "text": [
            "Best: 0.7680731534957885, using {'dropout_rate': 0.2, 'learn_rate': 0.0001}\n",
            "0.7680731534957885 (0.03135338729765089) with: {'dropout_rate': 0.2, 'learn_rate': 0.0001}\n"
          ]
        }
      ],
      "source": [
        "# summarize the results\n",
        "print(\"Best: {0}, using {1}\".format(grid_result.best_score_, grid_result.best_params_))\n",
        "means = grid_result.cv_results_['mean_test_score']\n",
        "stds = grid_result.cv_results_['std_test_score']\n",
        "params = grid_result.cv_results_['params']\n",
        "for mean, stdev, param in zip(means, stds, params):\n",
        "    print('{0} ({1}) with: {2}'.format(mean, stdev, param))"
      ]
    },
    {
      "cell_type": "markdown",
      "source": [
        "This code is used to define a model and perform a grid search using the KerasClassifier in order to find the best hyperparameters for the model. The model consists of three dense layers with an input dimension of 9, a dropout rate of 0.2, and an Adam optimizer with a learning rate of 0.0001. The grid search parameters are the activations ('softmax', 'relu', 'tanh', 'linear') and initializers ('uniform', 'normal', 'zero'). The model is then evaluated using KFold cross-validation, and the best score and parameters are printed."
      ],
      "metadata": {
        "id": "pBDt87XNPlGr"
      }
    },
    {
      "cell_type": "code",
      "execution_count": null,
      "metadata": {
        "colab": {
          "base_uri": "https://localhost:8080/"
        },
        "id": "KqUn4qCx0sOf",
        "outputId": "34b4e1eb-116a-4d48-8bc1-1bba9a963eea"
      },
      "outputs": [
        {
          "output_type": "stream",
          "name": "stdout",
          "text": [
            "Fitting 5 folds for each of 1 candidates, totalling 5 fits\n",
            "[CV 1/5; 1/1] START activation=tanh, init=uniform...............................\n"
          ]
        },
        {
          "output_type": "stream",
          "name": "stderr",
          "text": [
            "<ipython-input-26-e186e071bd03>:25: DeprecationWarning: KerasClassifier is deprecated, use Sci-Keras (https://github.com/adriangb/scikeras) instead. See https://www.adriangb.com/scikeras/stable/migration.html for help migrating.\n",
            "  model = KerasClassifier(build_fn = create_model, epochs=epochs, batch_size=batch_size, verbose = 0) # This comes from the previous best\n"
          ]
        },
        {
          "output_type": "stream",
          "name": "stdout",
          "text": [
            "[CV 1/5; 1/1] END activation=tanh, init=uniform;, score=0.754 total time=   5.9s\n",
            "[CV 2/5; 1/1] START activation=tanh, init=uniform...............................\n",
            "[CV 2/5; 1/1] END activation=tanh, init=uniform;, score=0.739 total time=   5.0s\n",
            "[CV 3/5; 1/1] START activation=tanh, init=uniform...............................\n",
            "[CV 3/5; 1/1] END activation=tanh, init=uniform;, score=0.739 total time=   4.2s\n",
            "[CV 4/5; 1/1] START activation=tanh, init=uniform...............................\n",
            "[CV 4/5; 1/1] END activation=tanh, init=uniform;, score=0.812 total time=   5.9s\n",
            "[CV 5/5; 1/1] START activation=tanh, init=uniform...............................\n",
            "[CV 5/5; 1/1] END activation=tanh, init=uniform;, score=0.789 total time=   4.6s\n",
            "Best: 0.7665694117546081, using {'activation': 'tanh', 'init': 'uniform'}\n",
            "0.7665694117546081 (0.029317960507278536) with: {'activation': 'tanh', 'init': 'uniform'}\n"
          ]
        }
      ],
      "source": [
        "# Define a random seed\n",
        "seed = 100\n",
        "np.random.seed(seed)\n",
        "epochs=250\n",
        "batch_size=50\n",
        "#dropout_rate = 0.5\n",
        "learn_rate = 0.0001\n",
        "# Start defining the model\n",
        "def create_model(activation, init):\n",
        "    # Create model\n",
        "    model = Sequential()\n",
        "    model.add(Dense(8, input_dim = 9, kernel_initializer = init, activation = activation))\n",
        "    #model.add(Dropout(dropout_rate))\n",
        "    model.add(Dense(16, input_dim = 9, kernel_initializer = init, activation = activation))\n",
        "    #model.add(Dropout(dropout_rate))\n",
        "    model.add(Dense(1, activation = 'sigmoid'))\n",
        "    \n",
        "    # Compile the model\n",
        "    import tensorflow as tf\n",
        "    opt = tf.keras.optimizers.Adam(learning_rate = learn_rate)\n",
        "    model.compile(loss = 'binary_crossentropy', optimizer = opt, metrics = ['accuracy'])\n",
        "    return model\n",
        "\n",
        "# Create the model\n",
        "model = KerasClassifier(build_fn = create_model, epochs=epochs, batch_size=batch_size, verbose = 0) # This comes from the previous best\n",
        "\n",
        "# define the grid search parameters\n",
        "#activations = ['softmax', 'relu', 'tanh', 'linear']\n",
        "#initializers = ['uniform', 'normal', 'zero']\n",
        "activations = ['tanh']\n",
        "initializers = ['uniform']\n",
        "\n",
        "# make a dictionary of the grid search parameters\n",
        "param_grid = dict(activation = activations, init = initializers)\n",
        "\n",
        "# build and fit the GridSearchCV\n",
        "grid = GridSearchCV(estimator=model, param_grid=param_grid, cv = KFold(), verbose=10)\n",
        "grid_result = grid.fit(X_standardized, Y)\n",
        "\n",
        "# summarize the results\n",
        "print(\"Best: {0}, using {1}\".format(grid_result.best_score_, grid_result.best_params_))\n",
        "means = grid_result.cv_results_['mean_test_score']\n",
        "stds = grid_result.cv_results_['std_test_score']\n",
        "params = grid_result.cv_results_['params']\n",
        "for mean, stdev, param in zip(means, stds, params):\n",
        "    print('{0} ({1}) with: {2}'.format(mean, stdev, param))"
      ]
    },
    {
      "cell_type": "markdown",
      "source": [
        "This code is a GridSearchCV with KerasClassifier to perform hyperparameter tuning. \n",
        "It uses a create_model function that takes in two parameters - neuron1 and neuron2 - and creates a neural network with the specified parameters. \n",
        "The GridSearchCV then takes in the parameters neuron1 and neuron2 and creates a grid of possible combinations of those parameters. \n",
        "It then fits the model with the standardized data, X_standardized and Y, and prints out the best parameters and the associated score."
      ],
      "metadata": {
        "id": "eKcBSWDEPyn4"
      }
    },
    {
      "cell_type": "code",
      "execution_count": null,
      "metadata": {
        "id": "H7kJ2kTY5N_A",
        "colab": {
          "base_uri": "https://localhost:8080/"
        },
        "outputId": "9fe65aef-3d53-4434-d4fc-99f30839e38e"
      },
      "outputs": [
        {
          "output_type": "stream",
          "name": "stdout",
          "text": [
            "Fitting 5 folds for each of 1 candidates, totalling 5 fits\n",
            "[CV 1/5; 1/1] START neuron1=16, neuron2=8.......................................\n"
          ]
        },
        {
          "output_type": "stream",
          "name": "stderr",
          "text": [
            "<ipython-input-27-2c06cb74e6e8>:26: DeprecationWarning: KerasClassifier is deprecated, use Sci-Keras (https://github.com/adriangb/scikeras) instead. See https://www.adriangb.com/scikeras/stable/migration.html for help migrating.\n",
            "  model = KerasClassifier(build_fn = create_model, epochs=epochs, batch_size=batch_size, verbose = 0)\n"
          ]
        },
        {
          "output_type": "stream",
          "name": "stdout",
          "text": [
            "[CV 1/5; 1/1] END ........neuron1=16, neuron2=8;, score=0.739 total time=   4.8s\n",
            "[CV 2/5; 1/1] START neuron1=16, neuron2=8.......................................\n",
            "[CV 2/5; 1/1] END ........neuron1=16, neuron2=8;, score=0.739 total time=   5.8s\n",
            "[CV 3/5; 1/1] START neuron1=16, neuron2=8.......................................\n",
            "[CV 3/5; 1/1] END ........neuron1=16, neuron2=8;, score=0.754 total time=   4.8s\n",
            "[CV 4/5; 1/1] START neuron1=16, neuron2=8.......................................\n",
            "[CV 4/5; 1/1] END ........neuron1=16, neuron2=8;, score=0.820 total time=   5.9s\n",
            "[CV 5/5; 1/1] START neuron1=16, neuron2=8.......................................\n",
            "[CV 5/5; 1/1] END ........neuron1=16, neuron2=8;, score=0.782 total time=   4.5s\n",
            "Best: 0.7665693998336792, using {'neuron1': 16, 'neuron2': 8}\n",
            "0.7665693998336792 (0.030821966579063956) with: {'neuron1': 16, 'neuron2': 8}\n"
          ]
        }
      ],
      "source": [
        "# Define a random seed\n",
        "seed = 100\n",
        "np.random.seed(seed)\n",
        "init = 'uniform'   # taken from previous results\n",
        "activation = 'relu'\n",
        "learn_rate = 0.0001\n",
        "epochs=250\n",
        "batch_size=50\n",
        "# Start defining the model\n",
        "def create_model(neuron1, neuron2):\n",
        "    # Create model\n",
        "    model = Sequential()\n",
        "    model.add(Dense(neuron1, input_dim = 9, kernel_initializer = init, activation = activation))\n",
        "    #model.add(Dropout(dropout_rate))\n",
        "    model.add(Dense(neuron2, input_dim = neuron1, kernel_initializer = init, activation = activation))\n",
        "    #model.add(Dropout(dropout_rate))\n",
        "    model.add(Dense(1, activation = 'sigmoid'))\n",
        "    \n",
        "    # Compile the model\n",
        "    import tensorflow as tf\n",
        "    opt = tf.keras.optimizers.Adam(learning_rate = learn_rate)\n",
        "    model.compile(loss = 'binary_crossentropy', optimizer = opt, metrics = ['accuracy'])\n",
        "    return model\n",
        "\n",
        "# Create the model\n",
        "model = KerasClassifier(build_fn = create_model, epochs=epochs, batch_size=batch_size, verbose = 0) \n",
        "\n",
        "# define the grid search parameters\n",
        "#neuron1 = [4, 8, 16,32,64]\n",
        "#neuron2 = [2, 4, 8,16]\n",
        "neuron1 = [16]\n",
        "neuron2 = [8]\n",
        "\n",
        "# make a dictionary of the grid search parameters\n",
        "param_grid = dict(neuron1 = neuron1, neuron2 = neuron2)\n",
        "\n",
        "# build and fit the GridSearchCV\n",
        "grid = GridSearchCV(estimator=model, param_grid=param_grid, cv = KFold(), refit=True, verbose=10) # To retrain with the best parameters found so far\n",
        "grid_result = grid.fit(X_standardized, Y)\n",
        "\n",
        "# summarize the results\n",
        "print(\"Best: {0}, using {1}\".format(grid_result.best_score_, grid_result.best_params_))\n",
        "means = grid_result.cv_results_['mean_test_score']\n",
        "stds = grid_result.cv_results_['std_test_score']\n",
        "params = grid_result.cv_results_['params']\n",
        "for mean, stdev, param in zip(means, stds, params):\n",
        "    print('{0} ({1}) with: {2}'.format(mean, stdev, param))"
      ]
    },
    {
      "cell_type": "markdown",
      "metadata": {
        "id": "7h1v6gt0_kBT"
      },
      "source": [
        "## Model Building"
      ]
    },
    {
      "cell_type": "markdown",
      "source": [
        "This code is checking the shape of two variables, X_standardized and Y. The shape of a variable describes the number of elements or values that are contained within it, and in this code we are seeing what the shape of X_standardized and Y are. This could be useful for checking if the two variables have the same number of elements or values, as this is necessary for performing certain operations on them."
      ],
      "metadata": {
        "id": "fI4BshcbP8Uz"
      }
    },
    {
      "cell_type": "code",
      "execution_count": null,
      "metadata": {
        "id": "rFHGqg8iKUD5",
        "colab": {
          "base_uri": "https://localhost:8080/"
        },
        "outputId": "87b26c08-2a5a-4f1f-d8dc-14e074d25c07"
      },
      "outputs": [
        {
          "output_type": "execute_result",
          "data": {
            "text/plain": [
              "((668, 9), (668,))"
            ]
          },
          "metadata": {},
          "execution_count": 28
        }
      ],
      "source": [
        "X_standardized.shape, Y.shape"
      ]
    },
    {
      "cell_type": "markdown",
      "source": [
        "This code is used to split a dataset into a training set and a validation set. The X_train and y_train variables are the training dataset, which is composed of 70% of the original dataset. The X_val and y_val variables are the validation dataset, which is composed of 30% of the original dataset. The random_state variable is used to ensure that the same split is applied each time the code is run. The test_size variable specifies the proportion of the dataset to include in the validation set."
      ],
      "metadata": {
        "id": "695_nsxyQFqB"
      }
    },
    {
      "cell_type": "code",
      "execution_count": null,
      "metadata": {
        "id": "56LrsYz7KYgN"
      },
      "outputs": [],
      "source": [
        "# Train Test Split the Training Data to 70% and Validation Data to 30%\n",
        "import sklearn\n",
        "from sklearn.model_selection import train_test_split\n",
        "from sklearn.metrics import accuracy_score\n",
        "\n",
        "X_train,X_val,y_train,y_val = train_test_split(X_standardized,Y,random_state=100,test_size=0.3)"
      ]
    },
    {
      "cell_type": "markdown",
      "source": [
        "This code is splitting a dataset into two sets: a training set and a validation set. This is done using the train_test_split function from the Scikit-learn library. The function takes in two parameters: X and y, which represent the feature matrix and the target vector respectively. The split is done by specifying the test_size parameter, which is set to 0.2 in the given code, indicating that 20% of the data will be used as the validation set. The output of the function are two sets of feature matrix and target vector, X_train and y_train for the training set and X_val and y_val for the validation set. The shape of the two sets is also printed out, showing the number of samples and features for each set."
      ],
      "metadata": {
        "id": "UwTOU_9oQQLB"
      }
    },
    {
      "cell_type": "code",
      "execution_count": null,
      "metadata": {
        "id": "2X2nIO4VKoki",
        "colab": {
          "base_uri": "https://localhost:8080/"
        },
        "outputId": "22404f9d-66ed-4428-a34b-1a01d7818185"
      },
      "outputs": [
        {
          "output_type": "execute_result",
          "data": {
            "text/plain": [
              "(((467, 9), (467,)), ((201, 9), (201,)))"
            ]
          },
          "metadata": {},
          "execution_count": 30
        }
      ],
      "source": [
        "# shape of training and validation set\n",
        "(X_train.shape, y_train.shape), (X_val.shape, y_val.shape)"
      ]
    },
    {
      "cell_type": "code",
      "execution_count": null,
      "metadata": {
        "id": "dA2TqMbsglMq",
        "scrolled": true,
        "colab": {
          "base_uri": "https://localhost:8080/"
        },
        "outputId": "e056d814-52a4-4a6a-e45c-6562543c7bdc"
      },
      "outputs": [
        {
          "output_type": "execute_result",
          "data": {
            "text/plain": [
              "9"
            ]
          },
          "metadata": {},
          "execution_count": 31
        }
      ],
      "source": [
        "# number of features in the data\n",
        "X_train.shape[1]"
      ]
    },
    {
      "cell_type": "code",
      "execution_count": null,
      "metadata": {
        "id": "ajgIDiLSglMx"
      },
      "outputs": [],
      "source": [
        "input_neurons = X_train.shape[1]"
      ]
    },
    {
      "cell_type": "code",
      "execution_count": null,
      "metadata": {
        "id": "fu76LxuVglM6"
      },
      "outputs": [],
      "source": [
        "output_neurons = 1"
      ]
    },
    {
      "cell_type": "code",
      "execution_count": null,
      "metadata": {
        "id": "QeDLw3PqNPxg"
      },
      "outputs": [],
      "source": [
        "# importing the sequential model\n",
        "from keras.models import Sequential\n",
        "# importing different layers from keras\n",
        "from keras.layers import InputLayer, Dense"
      ]
    },
    {
      "cell_type": "code",
      "execution_count": null,
      "metadata": {
        "id": "2atRIAaeMz21"
      },
      "outputs": [],
      "source": [
        "number_of_hidden_layers = 2\n",
        "neuron_hidden_layer_1 = 4\n",
        "neuron_hidden_layer_2 = 16"
      ]
    },
    {
      "cell_type": "markdown",
      "source": [
        "This code is defining an artificial neural network (ANN) model with three layers: an input layer, two hidden layers, and an output layer. The input layer has the same number of neurons as the number of features in the input dataset. The two hidden layers each have a set number of neurons, with the activation function set to tanh. Finally, the output layer has as many neurons as the number of classes in the output, and the activation function is set to sigmoid."
      ],
      "metadata": {
        "id": "z0tuIxf1QbBx"
      }
    },
    {
      "cell_type": "code",
      "execution_count": null,
      "metadata": {
        "id": "lJeV8sQyq1rj"
      },
      "outputs": [],
      "source": [
        "# defining the architecture of the model\n",
        "model_final = Sequential()\n",
        "model_final.add(InputLayer(input_shape=(input_neurons,)))\n",
        "model_final.add(Dense(units=neuron_hidden_layer_1,kernel_initializer = 'uniform', activation='tanh'))\n",
        "model_final.add(Dense(units=neuron_hidden_layer_2, kernel_initializer = 'uniform',activation='tanh'))\n",
        "model_final.add(Dense(units=output_neurons, activation='sigmoid'))"
      ]
    },
    {
      "cell_type": "code",
      "execution_count": null,
      "metadata": {
        "id": "E9tXg_08q3n0",
        "colab": {
          "base_uri": "https://localhost:8080/"
        },
        "outputId": "0ad232f4-026c-46b8-b291-1cbdbb98f7ab"
      },
      "outputs": [
        {
          "output_type": "stream",
          "name": "stdout",
          "text": [
            "Model: \"sequential_25\"\n",
            "_________________________________________________________________\n",
            " Layer (type)                Output Shape              Param #   \n",
            "=================================================================\n",
            " dense_75 (Dense)            (None, 4)                 40        \n",
            "                                                                 \n",
            " dense_76 (Dense)            (None, 16)                80        \n",
            "                                                                 \n",
            " dense_77 (Dense)            (None, 1)                 17        \n",
            "                                                                 \n",
            "=================================================================\n",
            "Total params: 137\n",
            "Trainable params: 137\n",
            "Non-trainable params: 0\n",
            "_________________________________________________________________\n"
          ]
        }
      ],
      "source": [
        "# summary of the model\n",
        "model_final.summary()"
      ]
    },
    {
      "cell_type": "code",
      "execution_count": null,
      "metadata": {
        "id": "P6hqkDWIglN0"
      },
      "outputs": [],
      "source": [
        "learn_rate = 0.0001\n",
        "import tensorflow as tf\n",
        "opt = tf.keras.optimizers.Adam(learning_rate = learn_rate)\n",
        "model_final.compile(loss='binary_crossentropy',optimizer=opt,metrics=['accuracy'])"
      ]
    },
    {
      "cell_type": "markdown",
      "source": [
        "This code is fitting a model called \"model_final\" using the X_train and y_train datasets for the training data and the X_val and y_val datasets for the validation data. The model will be trained for 250 epochs with a batch size of 50."
      ],
      "metadata": {
        "id": "Yxd629PuQoCb"
      }
    },
    {
      "cell_type": "code",
      "execution_count": null,
      "metadata": {
        "id": "pViJI3-TglN6",
        "colab": {
          "base_uri": "https://localhost:8080/"
        },
        "outputId": "eba4224e-4f98-4b0f-99de-52b9a098fd00"
      },
      "outputs": [
        {
          "output_type": "stream",
          "name": "stdout",
          "text": [
            "Epoch 1/250\n",
            "10/10 [==============================] - 1s 21ms/step - loss: 0.6928 - accuracy: 0.5760 - val_loss: 0.6922 - val_accuracy: 0.6915\n",
            "Epoch 2/250\n",
            "10/10 [==============================] - 0s 6ms/step - loss: 0.6919 - accuracy: 0.6595 - val_loss: 0.6913 - val_accuracy: 0.6716\n",
            "Epoch 3/250\n",
            "10/10 [==============================] - 0s 6ms/step - loss: 0.6911 - accuracy: 0.6595 - val_loss: 0.6904 - val_accuracy: 0.6567\n",
            "Epoch 4/250\n",
            "10/10 [==============================] - 0s 7ms/step - loss: 0.6903 - accuracy: 0.6552 - val_loss: 0.6895 - val_accuracy: 0.6567\n",
            "Epoch 5/250\n",
            "10/10 [==============================] - 0s 7ms/step - loss: 0.6893 - accuracy: 0.6531 - val_loss: 0.6885 - val_accuracy: 0.6567\n",
            "Epoch 6/250\n",
            "10/10 [==============================] - 0s 8ms/step - loss: 0.6884 - accuracy: 0.6531 - val_loss: 0.6876 - val_accuracy: 0.6567\n",
            "Epoch 7/250\n",
            "10/10 [==============================] - 0s 8ms/step - loss: 0.6875 - accuracy: 0.6531 - val_loss: 0.6866 - val_accuracy: 0.6567\n",
            "Epoch 8/250\n",
            "10/10 [==============================] - 0s 7ms/step - loss: 0.6866 - accuracy: 0.6531 - val_loss: 0.6855 - val_accuracy: 0.6567\n",
            "Epoch 9/250\n",
            "10/10 [==============================] - 0s 7ms/step - loss: 0.6855 - accuracy: 0.6531 - val_loss: 0.6844 - val_accuracy: 0.6567\n",
            "Epoch 10/250\n",
            "10/10 [==============================] - 0s 5ms/step - loss: 0.6845 - accuracy: 0.6510 - val_loss: 0.6833 - val_accuracy: 0.6567\n",
            "Epoch 11/250\n",
            "10/10 [==============================] - 0s 5ms/step - loss: 0.6834 - accuracy: 0.6510 - val_loss: 0.6820 - val_accuracy: 0.6567\n",
            "Epoch 12/250\n",
            "10/10 [==============================] - 0s 5ms/step - loss: 0.6822 - accuracy: 0.6510 - val_loss: 0.6807 - val_accuracy: 0.6567\n",
            "Epoch 13/250\n",
            "10/10 [==============================] - 0s 6ms/step - loss: 0.6809 - accuracy: 0.6510 - val_loss: 0.6793 - val_accuracy: 0.6567\n",
            "Epoch 14/250\n",
            "10/10 [==============================] - 0s 7ms/step - loss: 0.6796 - accuracy: 0.6510 - val_loss: 0.6778 - val_accuracy: 0.6617\n",
            "Epoch 15/250\n",
            "10/10 [==============================] - 0s 5ms/step - loss: 0.6782 - accuracy: 0.6531 - val_loss: 0.6763 - val_accuracy: 0.6667\n",
            "Epoch 16/250\n",
            "10/10 [==============================] - 0s 7ms/step - loss: 0.6768 - accuracy: 0.6552 - val_loss: 0.6746 - val_accuracy: 0.6716\n",
            "Epoch 17/250\n",
            "10/10 [==============================] - 0s 5ms/step - loss: 0.6753 - accuracy: 0.6552 - val_loss: 0.6730 - val_accuracy: 0.6766\n",
            "Epoch 18/250\n",
            "10/10 [==============================] - 0s 5ms/step - loss: 0.6737 - accuracy: 0.6574 - val_loss: 0.6712 - val_accuracy: 0.6766\n",
            "Epoch 19/250\n",
            "10/10 [==============================] - 0s 6ms/step - loss: 0.6721 - accuracy: 0.6574 - val_loss: 0.6693 - val_accuracy: 0.6766\n",
            "Epoch 20/250\n",
            "10/10 [==============================] - 0s 5ms/step - loss: 0.6703 - accuracy: 0.6595 - val_loss: 0.6673 - val_accuracy: 0.6816\n",
            "Epoch 21/250\n",
            "10/10 [==============================] - 0s 5ms/step - loss: 0.6684 - accuracy: 0.6617 - val_loss: 0.6653 - val_accuracy: 0.6915\n",
            "Epoch 22/250\n",
            "10/10 [==============================] - 0s 5ms/step - loss: 0.6666 - accuracy: 0.6660 - val_loss: 0.6632 - val_accuracy: 0.6915\n",
            "Epoch 23/250\n",
            "10/10 [==============================] - 0s 6ms/step - loss: 0.6646 - accuracy: 0.6660 - val_loss: 0.6611 - val_accuracy: 0.6915\n",
            "Epoch 24/250\n",
            "10/10 [==============================] - 0s 6ms/step - loss: 0.6626 - accuracy: 0.6702 - val_loss: 0.6588 - val_accuracy: 0.7065\n",
            "Epoch 25/250\n",
            "10/10 [==============================] - 0s 7ms/step - loss: 0.6606 - accuracy: 0.6702 - val_loss: 0.6564 - val_accuracy: 0.7164\n",
            "Epoch 26/250\n",
            "10/10 [==============================] - 0s 5ms/step - loss: 0.6584 - accuracy: 0.6767 - val_loss: 0.6541 - val_accuracy: 0.7264\n",
            "Epoch 27/250\n",
            "10/10 [==============================] - 0s 8ms/step - loss: 0.6562 - accuracy: 0.6809 - val_loss: 0.6516 - val_accuracy: 0.7313\n",
            "Epoch 28/250\n",
            "10/10 [==============================] - 0s 6ms/step - loss: 0.6540 - accuracy: 0.6831 - val_loss: 0.6490 - val_accuracy: 0.7313\n",
            "Epoch 29/250\n",
            "10/10 [==============================] - 0s 6ms/step - loss: 0.6516 - accuracy: 0.6874 - val_loss: 0.6463 - val_accuracy: 0.7363\n",
            "Epoch 30/250\n",
            "10/10 [==============================] - 0s 7ms/step - loss: 0.6492 - accuracy: 0.6959 - val_loss: 0.6438 - val_accuracy: 0.7363\n",
            "Epoch 31/250\n",
            "10/10 [==============================] - 0s 4ms/step - loss: 0.6469 - accuracy: 0.6981 - val_loss: 0.6410 - val_accuracy: 0.7512\n",
            "Epoch 32/250\n",
            "10/10 [==============================] - 0s 6ms/step - loss: 0.6445 - accuracy: 0.7002 - val_loss: 0.6383 - val_accuracy: 0.7562\n",
            "Epoch 33/250\n",
            "10/10 [==============================] - 0s 6ms/step - loss: 0.6420 - accuracy: 0.7066 - val_loss: 0.6356 - val_accuracy: 0.7562\n",
            "Epoch 34/250\n",
            "10/10 [==============================] - 0s 7ms/step - loss: 0.6396 - accuracy: 0.7109 - val_loss: 0.6328 - val_accuracy: 0.7612\n",
            "Epoch 35/250\n",
            "10/10 [==============================] - 0s 5ms/step - loss: 0.6371 - accuracy: 0.7131 - val_loss: 0.6300 - val_accuracy: 0.7562\n",
            "Epoch 36/250\n",
            "10/10 [==============================] - 0s 6ms/step - loss: 0.6345 - accuracy: 0.7088 - val_loss: 0.6272 - val_accuracy: 0.7612\n",
            "Epoch 37/250\n",
            "10/10 [==============================] - 0s 6ms/step - loss: 0.6320 - accuracy: 0.7088 - val_loss: 0.6244 - val_accuracy: 0.7612\n",
            "Epoch 38/250\n",
            "10/10 [==============================] - 0s 7ms/step - loss: 0.6295 - accuracy: 0.7131 - val_loss: 0.6214 - val_accuracy: 0.7612\n",
            "Epoch 39/250\n",
            "10/10 [==============================] - 0s 5ms/step - loss: 0.6268 - accuracy: 0.7131 - val_loss: 0.6186 - val_accuracy: 0.7612\n",
            "Epoch 40/250\n",
            "10/10 [==============================] - 0s 5ms/step - loss: 0.6245 - accuracy: 0.7152 - val_loss: 0.6155 - val_accuracy: 0.7612\n",
            "Epoch 41/250\n",
            "10/10 [==============================] - 0s 5ms/step - loss: 0.6218 - accuracy: 0.7131 - val_loss: 0.6128 - val_accuracy: 0.7612\n",
            "Epoch 42/250\n",
            "10/10 [==============================] - 0s 5ms/step - loss: 0.6193 - accuracy: 0.7131 - val_loss: 0.6100 - val_accuracy: 0.7562\n",
            "Epoch 43/250\n",
            "10/10 [==============================] - 0s 6ms/step - loss: 0.6169 - accuracy: 0.7131 - val_loss: 0.6072 - val_accuracy: 0.7612\n",
            "Epoch 44/250\n",
            "10/10 [==============================] - 0s 5ms/step - loss: 0.6144 - accuracy: 0.7152 - val_loss: 0.6042 - val_accuracy: 0.7562\n",
            "Epoch 45/250\n",
            "10/10 [==============================] - 0s 7ms/step - loss: 0.6119 - accuracy: 0.7152 - val_loss: 0.6013 - val_accuracy: 0.7562\n",
            "Epoch 46/250\n",
            "10/10 [==============================] - 0s 6ms/step - loss: 0.6095 - accuracy: 0.7131 - val_loss: 0.5984 - val_accuracy: 0.7562\n",
            "Epoch 47/250\n",
            "10/10 [==============================] - 0s 7ms/step - loss: 0.6069 - accuracy: 0.7152 - val_loss: 0.5957 - val_accuracy: 0.7562\n",
            "Epoch 48/250\n",
            "10/10 [==============================] - 0s 6ms/step - loss: 0.6045 - accuracy: 0.7173 - val_loss: 0.5930 - val_accuracy: 0.7562\n",
            "Epoch 49/250\n",
            "10/10 [==============================] - 0s 7ms/step - loss: 0.6021 - accuracy: 0.7238 - val_loss: 0.5900 - val_accuracy: 0.7512\n",
            "Epoch 50/250\n",
            "10/10 [==============================] - 0s 6ms/step - loss: 0.5996 - accuracy: 0.7281 - val_loss: 0.5872 - val_accuracy: 0.7512\n",
            "Epoch 51/250\n",
            "10/10 [==============================] - 0s 6ms/step - loss: 0.5972 - accuracy: 0.7238 - val_loss: 0.5844 - val_accuracy: 0.7512\n",
            "Epoch 52/250\n",
            "10/10 [==============================] - 0s 10ms/step - loss: 0.5948 - accuracy: 0.7238 - val_loss: 0.5815 - val_accuracy: 0.7512\n",
            "Epoch 53/250\n",
            "10/10 [==============================] - 0s 10ms/step - loss: 0.5925 - accuracy: 0.7238 - val_loss: 0.5789 - val_accuracy: 0.7512\n",
            "Epoch 54/250\n",
            "10/10 [==============================] - 0s 9ms/step - loss: 0.5903 - accuracy: 0.7259 - val_loss: 0.5762 - val_accuracy: 0.7512\n",
            "Epoch 55/250\n",
            "10/10 [==============================] - 0s 11ms/step - loss: 0.5879 - accuracy: 0.7281 - val_loss: 0.5736 - val_accuracy: 0.7512\n",
            "Epoch 56/250\n",
            "10/10 [==============================] - 0s 6ms/step - loss: 0.5857 - accuracy: 0.7323 - val_loss: 0.5710 - val_accuracy: 0.7512\n",
            "Epoch 57/250\n",
            "10/10 [==============================] - 0s 7ms/step - loss: 0.5834 - accuracy: 0.7302 - val_loss: 0.5684 - val_accuracy: 0.7512\n",
            "Epoch 58/250\n",
            "10/10 [==============================] - 0s 9ms/step - loss: 0.5813 - accuracy: 0.7302 - val_loss: 0.5657 - val_accuracy: 0.7512\n",
            "Epoch 59/250\n",
            "10/10 [==============================] - 0s 9ms/step - loss: 0.5790 - accuracy: 0.7302 - val_loss: 0.5633 - val_accuracy: 0.7463\n",
            "Epoch 60/250\n",
            "10/10 [==============================] - 0s 7ms/step - loss: 0.5769 - accuracy: 0.7281 - val_loss: 0.5609 - val_accuracy: 0.7463\n",
            "Epoch 61/250\n",
            "10/10 [==============================] - 0s 10ms/step - loss: 0.5749 - accuracy: 0.7281 - val_loss: 0.5585 - val_accuracy: 0.7463\n",
            "Epoch 62/250\n",
            "10/10 [==============================] - 0s 8ms/step - loss: 0.5729 - accuracy: 0.7259 - val_loss: 0.5561 - val_accuracy: 0.7463\n",
            "Epoch 63/250\n",
            "10/10 [==============================] - 0s 9ms/step - loss: 0.5709 - accuracy: 0.7259 - val_loss: 0.5539 - val_accuracy: 0.7463\n",
            "Epoch 64/250\n",
            "10/10 [==============================] - 0s 8ms/step - loss: 0.5691 - accuracy: 0.7259 - val_loss: 0.5516 - val_accuracy: 0.7562\n",
            "Epoch 65/250\n",
            "10/10 [==============================] - 0s 9ms/step - loss: 0.5672 - accuracy: 0.7259 - val_loss: 0.5495 - val_accuracy: 0.7512\n",
            "Epoch 66/250\n",
            "10/10 [==============================] - 0s 8ms/step - loss: 0.5653 - accuracy: 0.7281 - val_loss: 0.5472 - val_accuracy: 0.7463\n",
            "Epoch 67/250\n",
            "10/10 [==============================] - 0s 8ms/step - loss: 0.5635 - accuracy: 0.7302 - val_loss: 0.5450 - val_accuracy: 0.7463\n",
            "Epoch 68/250\n",
            "10/10 [==============================] - 0s 8ms/step - loss: 0.5617 - accuracy: 0.7302 - val_loss: 0.5430 - val_accuracy: 0.7463\n",
            "Epoch 69/250\n",
            "10/10 [==============================] - 0s 9ms/step - loss: 0.5600 - accuracy: 0.7302 - val_loss: 0.5410 - val_accuracy: 0.7463\n",
            "Epoch 70/250\n",
            "10/10 [==============================] - 0s 8ms/step - loss: 0.5585 - accuracy: 0.7259 - val_loss: 0.5388 - val_accuracy: 0.7463\n",
            "Epoch 71/250\n",
            "10/10 [==============================] - 0s 7ms/step - loss: 0.5567 - accuracy: 0.7281 - val_loss: 0.5370 - val_accuracy: 0.7463\n",
            "Epoch 72/250\n",
            "10/10 [==============================] - 0s 7ms/step - loss: 0.5551 - accuracy: 0.7281 - val_loss: 0.5351 - val_accuracy: 0.7463\n",
            "Epoch 73/250\n",
            "10/10 [==============================] - 0s 5ms/step - loss: 0.5536 - accuracy: 0.7302 - val_loss: 0.5333 - val_accuracy: 0.7463\n",
            "Epoch 74/250\n",
            "10/10 [==============================] - 0s 4ms/step - loss: 0.5522 - accuracy: 0.7302 - val_loss: 0.5315 - val_accuracy: 0.7463\n",
            "Epoch 75/250\n",
            "10/10 [==============================] - 0s 6ms/step - loss: 0.5507 - accuracy: 0.7302 - val_loss: 0.5299 - val_accuracy: 0.7463\n",
            "Epoch 76/250\n",
            "10/10 [==============================] - 0s 4ms/step - loss: 0.5492 - accuracy: 0.7345 - val_loss: 0.5282 - val_accuracy: 0.7413\n",
            "Epoch 77/250\n",
            "10/10 [==============================] - 0s 5ms/step - loss: 0.5479 - accuracy: 0.7323 - val_loss: 0.5265 - val_accuracy: 0.7413\n",
            "Epoch 78/250\n",
            "10/10 [==============================] - 0s 6ms/step - loss: 0.5466 - accuracy: 0.7302 - val_loss: 0.5249 - val_accuracy: 0.7413\n",
            "Epoch 79/250\n",
            "10/10 [==============================] - 0s 5ms/step - loss: 0.5452 - accuracy: 0.7323 - val_loss: 0.5233 - val_accuracy: 0.7413\n",
            "Epoch 80/250\n",
            "10/10 [==============================] - 0s 5ms/step - loss: 0.5438 - accuracy: 0.7323 - val_loss: 0.5217 - val_accuracy: 0.7413\n",
            "Epoch 81/250\n",
            "10/10 [==============================] - 0s 7ms/step - loss: 0.5426 - accuracy: 0.7323 - val_loss: 0.5201 - val_accuracy: 0.7463\n",
            "Epoch 82/250\n",
            "10/10 [==============================] - 0s 5ms/step - loss: 0.5413 - accuracy: 0.7345 - val_loss: 0.5185 - val_accuracy: 0.7463\n",
            "Epoch 83/250\n",
            "10/10 [==============================] - 0s 5ms/step - loss: 0.5400 - accuracy: 0.7323 - val_loss: 0.5170 - val_accuracy: 0.7463\n",
            "Epoch 84/250\n",
            "10/10 [==============================] - 0s 5ms/step - loss: 0.5389 - accuracy: 0.7323 - val_loss: 0.5155 - val_accuracy: 0.7463\n",
            "Epoch 85/250\n",
            "10/10 [==============================] - 0s 5ms/step - loss: 0.5378 - accuracy: 0.7323 - val_loss: 0.5142 - val_accuracy: 0.7512\n",
            "Epoch 86/250\n",
            "10/10 [==============================] - 0s 5ms/step - loss: 0.5366 - accuracy: 0.7323 - val_loss: 0.5130 - val_accuracy: 0.7512\n",
            "Epoch 87/250\n",
            "10/10 [==============================] - 0s 5ms/step - loss: 0.5356 - accuracy: 0.7323 - val_loss: 0.5118 - val_accuracy: 0.7512\n",
            "Epoch 88/250\n",
            "10/10 [==============================] - 0s 5ms/step - loss: 0.5345 - accuracy: 0.7323 - val_loss: 0.5106 - val_accuracy: 0.7512\n",
            "Epoch 89/250\n",
            "10/10 [==============================] - 0s 5ms/step - loss: 0.5334 - accuracy: 0.7323 - val_loss: 0.5094 - val_accuracy: 0.7562\n",
            "Epoch 90/250\n",
            "10/10 [==============================] - 0s 8ms/step - loss: 0.5323 - accuracy: 0.7323 - val_loss: 0.5081 - val_accuracy: 0.7612\n",
            "Epoch 91/250\n",
            "10/10 [==============================] - 0s 6ms/step - loss: 0.5313 - accuracy: 0.7323 - val_loss: 0.5070 - val_accuracy: 0.7612\n",
            "Epoch 92/250\n",
            "10/10 [==============================] - 0s 7ms/step - loss: 0.5303 - accuracy: 0.7302 - val_loss: 0.5057 - val_accuracy: 0.7612\n",
            "Epoch 93/250\n",
            "10/10 [==============================] - 0s 7ms/step - loss: 0.5293 - accuracy: 0.7323 - val_loss: 0.5045 - val_accuracy: 0.7612\n",
            "Epoch 94/250\n",
            "10/10 [==============================] - 0s 7ms/step - loss: 0.5284 - accuracy: 0.7323 - val_loss: 0.5034 - val_accuracy: 0.7612\n",
            "Epoch 95/250\n",
            "10/10 [==============================] - 0s 5ms/step - loss: 0.5275 - accuracy: 0.7388 - val_loss: 0.5023 - val_accuracy: 0.7612\n",
            "Epoch 96/250\n",
            "10/10 [==============================] - 0s 7ms/step - loss: 0.5266 - accuracy: 0.7409 - val_loss: 0.5011 - val_accuracy: 0.7612\n",
            "Epoch 97/250\n",
            "10/10 [==============================] - 0s 5ms/step - loss: 0.5257 - accuracy: 0.7409 - val_loss: 0.4998 - val_accuracy: 0.7612\n",
            "Epoch 98/250\n",
            "10/10 [==============================] - 0s 5ms/step - loss: 0.5248 - accuracy: 0.7409 - val_loss: 0.4987 - val_accuracy: 0.7612\n",
            "Epoch 99/250\n",
            "10/10 [==============================] - 0s 5ms/step - loss: 0.5240 - accuracy: 0.7430 - val_loss: 0.4977 - val_accuracy: 0.7612\n",
            "Epoch 100/250\n",
            "10/10 [==============================] - 0s 6ms/step - loss: 0.5232 - accuracy: 0.7430 - val_loss: 0.4967 - val_accuracy: 0.7662\n",
            "Epoch 101/250\n",
            "10/10 [==============================] - 0s 5ms/step - loss: 0.5224 - accuracy: 0.7430 - val_loss: 0.4958 - val_accuracy: 0.7662\n",
            "Epoch 102/250\n",
            "10/10 [==============================] - 0s 6ms/step - loss: 0.5216 - accuracy: 0.7452 - val_loss: 0.4948 - val_accuracy: 0.7662\n",
            "Epoch 103/250\n",
            "10/10 [==============================] - 0s 6ms/step - loss: 0.5209 - accuracy: 0.7452 - val_loss: 0.4939 - val_accuracy: 0.7662\n",
            "Epoch 104/250\n",
            "10/10 [==============================] - 0s 6ms/step - loss: 0.5202 - accuracy: 0.7473 - val_loss: 0.4929 - val_accuracy: 0.7662\n",
            "Epoch 105/250\n",
            "10/10 [==============================] - 0s 5ms/step - loss: 0.5194 - accuracy: 0.7495 - val_loss: 0.4921 - val_accuracy: 0.7662\n",
            "Epoch 106/250\n",
            "10/10 [==============================] - 0s 7ms/step - loss: 0.5187 - accuracy: 0.7495 - val_loss: 0.4913 - val_accuracy: 0.7612\n",
            "Epoch 107/250\n",
            "10/10 [==============================] - 0s 6ms/step - loss: 0.5180 - accuracy: 0.7495 - val_loss: 0.4904 - val_accuracy: 0.7662\n",
            "Epoch 108/250\n",
            "10/10 [==============================] - 0s 6ms/step - loss: 0.5173 - accuracy: 0.7495 - val_loss: 0.4897 - val_accuracy: 0.7662\n",
            "Epoch 109/250\n",
            "10/10 [==============================] - 0s 8ms/step - loss: 0.5167 - accuracy: 0.7495 - val_loss: 0.4889 - val_accuracy: 0.7662\n",
            "Epoch 110/250\n",
            "10/10 [==============================] - 0s 7ms/step - loss: 0.5160 - accuracy: 0.7516 - val_loss: 0.4881 - val_accuracy: 0.7662\n",
            "Epoch 111/250\n",
            "10/10 [==============================] - 0s 5ms/step - loss: 0.5154 - accuracy: 0.7495 - val_loss: 0.4873 - val_accuracy: 0.7662\n",
            "Epoch 112/250\n",
            "10/10 [==============================] - 0s 7ms/step - loss: 0.5148 - accuracy: 0.7495 - val_loss: 0.4864 - val_accuracy: 0.7711\n",
            "Epoch 113/250\n",
            "10/10 [==============================] - 0s 7ms/step - loss: 0.5141 - accuracy: 0.7495 - val_loss: 0.4856 - val_accuracy: 0.7761\n",
            "Epoch 114/250\n",
            "10/10 [==============================] - 0s 6ms/step - loss: 0.5135 - accuracy: 0.7495 - val_loss: 0.4848 - val_accuracy: 0.7761\n",
            "Epoch 115/250\n",
            "10/10 [==============================] - 0s 6ms/step - loss: 0.5129 - accuracy: 0.7495 - val_loss: 0.4840 - val_accuracy: 0.7761\n",
            "Epoch 116/250\n",
            "10/10 [==============================] - 0s 7ms/step - loss: 0.5123 - accuracy: 0.7473 - val_loss: 0.4832 - val_accuracy: 0.7761\n",
            "Epoch 117/250\n",
            "10/10 [==============================] - 0s 6ms/step - loss: 0.5117 - accuracy: 0.7473 - val_loss: 0.4824 - val_accuracy: 0.7761\n",
            "Epoch 118/250\n",
            "10/10 [==============================] - 0s 6ms/step - loss: 0.5111 - accuracy: 0.7473 - val_loss: 0.4819 - val_accuracy: 0.7761\n",
            "Epoch 119/250\n",
            "10/10 [==============================] - 0s 6ms/step - loss: 0.5106 - accuracy: 0.7516 - val_loss: 0.4813 - val_accuracy: 0.7761\n",
            "Epoch 120/250\n",
            "10/10 [==============================] - 0s 7ms/step - loss: 0.5101 - accuracy: 0.7516 - val_loss: 0.4806 - val_accuracy: 0.7761\n",
            "Epoch 121/250\n",
            "10/10 [==============================] - 0s 7ms/step - loss: 0.5095 - accuracy: 0.7495 - val_loss: 0.4802 - val_accuracy: 0.7811\n",
            "Epoch 122/250\n",
            "10/10 [==============================] - 0s 7ms/step - loss: 0.5090 - accuracy: 0.7495 - val_loss: 0.4796 - val_accuracy: 0.7811\n",
            "Epoch 123/250\n",
            "10/10 [==============================] - 0s 7ms/step - loss: 0.5085 - accuracy: 0.7516 - val_loss: 0.4789 - val_accuracy: 0.7811\n",
            "Epoch 124/250\n",
            "10/10 [==============================] - 0s 6ms/step - loss: 0.5080 - accuracy: 0.7537 - val_loss: 0.4784 - val_accuracy: 0.7761\n",
            "Epoch 125/250\n",
            "10/10 [==============================] - 0s 6ms/step - loss: 0.5075 - accuracy: 0.7537 - val_loss: 0.4777 - val_accuracy: 0.7811\n",
            "Epoch 126/250\n",
            "10/10 [==============================] - 0s 7ms/step - loss: 0.5071 - accuracy: 0.7537 - val_loss: 0.4772 - val_accuracy: 0.7861\n",
            "Epoch 127/250\n",
            "10/10 [==============================] - 0s 6ms/step - loss: 0.5065 - accuracy: 0.7537 - val_loss: 0.4766 - val_accuracy: 0.7811\n",
            "Epoch 128/250\n",
            "10/10 [==============================] - 0s 7ms/step - loss: 0.5060 - accuracy: 0.7559 - val_loss: 0.4761 - val_accuracy: 0.7811\n",
            "Epoch 129/250\n",
            "10/10 [==============================] - 0s 6ms/step - loss: 0.5055 - accuracy: 0.7559 - val_loss: 0.4757 - val_accuracy: 0.7811\n",
            "Epoch 130/250\n",
            "10/10 [==============================] - 0s 6ms/step - loss: 0.5051 - accuracy: 0.7559 - val_loss: 0.4751 - val_accuracy: 0.7811\n",
            "Epoch 131/250\n",
            "10/10 [==============================] - 0s 5ms/step - loss: 0.5046 - accuracy: 0.7537 - val_loss: 0.4746 - val_accuracy: 0.7811\n",
            "Epoch 132/250\n",
            "10/10 [==============================] - 0s 6ms/step - loss: 0.5042 - accuracy: 0.7559 - val_loss: 0.4740 - val_accuracy: 0.7811\n",
            "Epoch 133/250\n",
            "10/10 [==============================] - 0s 6ms/step - loss: 0.5037 - accuracy: 0.7537 - val_loss: 0.4736 - val_accuracy: 0.7811\n",
            "Epoch 134/250\n",
            "10/10 [==============================] - 0s 6ms/step - loss: 0.5033 - accuracy: 0.7537 - val_loss: 0.4732 - val_accuracy: 0.7811\n",
            "Epoch 135/250\n",
            "10/10 [==============================] - 0s 6ms/step - loss: 0.5029 - accuracy: 0.7537 - val_loss: 0.4728 - val_accuracy: 0.7811\n",
            "Epoch 136/250\n",
            "10/10 [==============================] - 0s 6ms/step - loss: 0.5025 - accuracy: 0.7559 - val_loss: 0.4722 - val_accuracy: 0.7811\n",
            "Epoch 137/250\n",
            "10/10 [==============================] - 0s 6ms/step - loss: 0.5021 - accuracy: 0.7559 - val_loss: 0.4717 - val_accuracy: 0.7861\n",
            "Epoch 138/250\n",
            "10/10 [==============================] - 0s 5ms/step - loss: 0.5017 - accuracy: 0.7580 - val_loss: 0.4712 - val_accuracy: 0.7861\n",
            "Epoch 139/250\n",
            "10/10 [==============================] - 0s 5ms/step - loss: 0.5014 - accuracy: 0.7580 - val_loss: 0.4709 - val_accuracy: 0.7861\n",
            "Epoch 140/250\n",
            "10/10 [==============================] - 0s 7ms/step - loss: 0.5010 - accuracy: 0.7602 - val_loss: 0.4705 - val_accuracy: 0.7861\n",
            "Epoch 141/250\n",
            "10/10 [==============================] - 0s 7ms/step - loss: 0.5007 - accuracy: 0.7623 - val_loss: 0.4700 - val_accuracy: 0.7811\n",
            "Epoch 142/250\n",
            "10/10 [==============================] - 0s 5ms/step - loss: 0.5004 - accuracy: 0.7623 - val_loss: 0.4696 - val_accuracy: 0.7811\n",
            "Epoch 143/250\n",
            "10/10 [==============================] - 0s 5ms/step - loss: 0.5000 - accuracy: 0.7645 - val_loss: 0.4693 - val_accuracy: 0.7861\n",
            "Epoch 144/250\n",
            "10/10 [==============================] - 0s 5ms/step - loss: 0.4996 - accuracy: 0.7645 - val_loss: 0.4689 - val_accuracy: 0.7861\n",
            "Epoch 145/250\n",
            "10/10 [==============================] - 0s 5ms/step - loss: 0.4994 - accuracy: 0.7645 - val_loss: 0.4685 - val_accuracy: 0.7861\n",
            "Epoch 146/250\n",
            "10/10 [==============================] - 0s 7ms/step - loss: 0.4990 - accuracy: 0.7602 - val_loss: 0.4681 - val_accuracy: 0.7861\n",
            "Epoch 147/250\n",
            "10/10 [==============================] - 0s 4ms/step - loss: 0.4987 - accuracy: 0.7602 - val_loss: 0.4678 - val_accuracy: 0.7861\n",
            "Epoch 148/250\n",
            "10/10 [==============================] - 0s 5ms/step - loss: 0.4984 - accuracy: 0.7602 - val_loss: 0.4675 - val_accuracy: 0.7861\n",
            "Epoch 149/250\n",
            "10/10 [==============================] - 0s 5ms/step - loss: 0.4981 - accuracy: 0.7602 - val_loss: 0.4672 - val_accuracy: 0.7861\n",
            "Epoch 150/250\n",
            "10/10 [==============================] - 0s 5ms/step - loss: 0.4977 - accuracy: 0.7602 - val_loss: 0.4666 - val_accuracy: 0.7861\n",
            "Epoch 151/250\n",
            "10/10 [==============================] - 0s 5ms/step - loss: 0.4974 - accuracy: 0.7602 - val_loss: 0.4663 - val_accuracy: 0.7861\n",
            "Epoch 152/250\n",
            "10/10 [==============================] - 0s 5ms/step - loss: 0.4971 - accuracy: 0.7623 - val_loss: 0.4658 - val_accuracy: 0.7861\n",
            "Epoch 153/250\n",
            "10/10 [==============================] - 0s 5ms/step - loss: 0.4967 - accuracy: 0.7602 - val_loss: 0.4656 - val_accuracy: 0.7861\n",
            "Epoch 154/250\n",
            "10/10 [==============================] - 0s 7ms/step - loss: 0.4964 - accuracy: 0.7623 - val_loss: 0.4653 - val_accuracy: 0.7861\n",
            "Epoch 155/250\n",
            "10/10 [==============================] - 0s 5ms/step - loss: 0.4961 - accuracy: 0.7645 - val_loss: 0.4649 - val_accuracy: 0.7861\n",
            "Epoch 156/250\n",
            "10/10 [==============================] - 0s 7ms/step - loss: 0.4957 - accuracy: 0.7645 - val_loss: 0.4646 - val_accuracy: 0.7861\n",
            "Epoch 157/250\n",
            "10/10 [==============================] - 0s 6ms/step - loss: 0.4955 - accuracy: 0.7645 - val_loss: 0.4643 - val_accuracy: 0.7861\n",
            "Epoch 158/250\n",
            "10/10 [==============================] - 0s 8ms/step - loss: 0.4952 - accuracy: 0.7645 - val_loss: 0.4638 - val_accuracy: 0.7861\n",
            "Epoch 159/250\n",
            "10/10 [==============================] - 0s 7ms/step - loss: 0.4949 - accuracy: 0.7645 - val_loss: 0.4635 - val_accuracy: 0.7861\n",
            "Epoch 160/250\n",
            "10/10 [==============================] - 0s 6ms/step - loss: 0.4947 - accuracy: 0.7645 - val_loss: 0.4633 - val_accuracy: 0.7861\n",
            "Epoch 161/250\n",
            "10/10 [==============================] - 0s 7ms/step - loss: 0.4944 - accuracy: 0.7645 - val_loss: 0.4631 - val_accuracy: 0.7861\n",
            "Epoch 162/250\n",
            "10/10 [==============================] - 0s 7ms/step - loss: 0.4942 - accuracy: 0.7645 - val_loss: 0.4627 - val_accuracy: 0.7861\n",
            "Epoch 163/250\n",
            "10/10 [==============================] - 0s 7ms/step - loss: 0.4940 - accuracy: 0.7645 - val_loss: 0.4624 - val_accuracy: 0.7861\n",
            "Epoch 164/250\n",
            "10/10 [==============================] - 0s 7ms/step - loss: 0.4939 - accuracy: 0.7645 - val_loss: 0.4621 - val_accuracy: 0.7861\n",
            "Epoch 165/250\n",
            "10/10 [==============================] - 0s 6ms/step - loss: 0.4936 - accuracy: 0.7645 - val_loss: 0.4619 - val_accuracy: 0.7861\n",
            "Epoch 166/250\n",
            "10/10 [==============================] - 0s 7ms/step - loss: 0.4933 - accuracy: 0.7645 - val_loss: 0.4616 - val_accuracy: 0.7861\n",
            "Epoch 167/250\n",
            "10/10 [==============================] - 0s 5ms/step - loss: 0.4931 - accuracy: 0.7666 - val_loss: 0.4614 - val_accuracy: 0.7861\n",
            "Epoch 168/250\n",
            "10/10 [==============================] - 0s 5ms/step - loss: 0.4929 - accuracy: 0.7666 - val_loss: 0.4613 - val_accuracy: 0.7861\n",
            "Epoch 169/250\n",
            "10/10 [==============================] - 0s 8ms/step - loss: 0.4927 - accuracy: 0.7666 - val_loss: 0.4609 - val_accuracy: 0.7861\n",
            "Epoch 170/250\n",
            "10/10 [==============================] - 0s 7ms/step - loss: 0.4925 - accuracy: 0.7687 - val_loss: 0.4608 - val_accuracy: 0.7861\n",
            "Epoch 171/250\n",
            "10/10 [==============================] - 0s 6ms/step - loss: 0.4923 - accuracy: 0.7687 - val_loss: 0.4605 - val_accuracy: 0.7861\n",
            "Epoch 172/250\n",
            "10/10 [==============================] - 0s 6ms/step - loss: 0.4921 - accuracy: 0.7687 - val_loss: 0.4603 - val_accuracy: 0.7861\n",
            "Epoch 173/250\n",
            "10/10 [==============================] - 0s 6ms/step - loss: 0.4920 - accuracy: 0.7687 - val_loss: 0.4603 - val_accuracy: 0.7861\n",
            "Epoch 174/250\n",
            "10/10 [==============================] - 0s 6ms/step - loss: 0.4918 - accuracy: 0.7687 - val_loss: 0.4600 - val_accuracy: 0.7861\n",
            "Epoch 175/250\n",
            "10/10 [==============================] - 0s 7ms/step - loss: 0.4916 - accuracy: 0.7687 - val_loss: 0.4597 - val_accuracy: 0.7861\n",
            "Epoch 176/250\n",
            "10/10 [==============================] - 0s 7ms/step - loss: 0.4914 - accuracy: 0.7687 - val_loss: 0.4595 - val_accuracy: 0.7861\n",
            "Epoch 177/250\n",
            "10/10 [==============================] - 0s 6ms/step - loss: 0.4913 - accuracy: 0.7687 - val_loss: 0.4591 - val_accuracy: 0.7861\n",
            "Epoch 178/250\n",
            "10/10 [==============================] - 0s 8ms/step - loss: 0.4911 - accuracy: 0.7687 - val_loss: 0.4589 - val_accuracy: 0.7861\n",
            "Epoch 179/250\n",
            "10/10 [==============================] - 0s 6ms/step - loss: 0.4909 - accuracy: 0.7687 - val_loss: 0.4588 - val_accuracy: 0.7861\n",
            "Epoch 180/250\n",
            "10/10 [==============================] - 0s 6ms/step - loss: 0.4908 - accuracy: 0.7687 - val_loss: 0.4587 - val_accuracy: 0.7861\n",
            "Epoch 181/250\n",
            "10/10 [==============================] - 0s 7ms/step - loss: 0.4906 - accuracy: 0.7687 - val_loss: 0.4585 - val_accuracy: 0.7861\n",
            "Epoch 182/250\n",
            "10/10 [==============================] - 0s 9ms/step - loss: 0.4905 - accuracy: 0.7687 - val_loss: 0.4584 - val_accuracy: 0.7861\n",
            "Epoch 183/250\n",
            "10/10 [==============================] - 0s 6ms/step - loss: 0.4903 - accuracy: 0.7687 - val_loss: 0.4582 - val_accuracy: 0.7861\n",
            "Epoch 184/250\n",
            "10/10 [==============================] - 0s 8ms/step - loss: 0.4902 - accuracy: 0.7687 - val_loss: 0.4578 - val_accuracy: 0.7861\n",
            "Epoch 185/250\n",
            "10/10 [==============================] - 0s 7ms/step - loss: 0.4900 - accuracy: 0.7687 - val_loss: 0.4577 - val_accuracy: 0.7960\n",
            "Epoch 186/250\n",
            "10/10 [==============================] - 0s 7ms/step - loss: 0.4899 - accuracy: 0.7687 - val_loss: 0.4575 - val_accuracy: 0.7960\n",
            "Epoch 187/250\n",
            "10/10 [==============================] - 0s 7ms/step - loss: 0.4897 - accuracy: 0.7687 - val_loss: 0.4574 - val_accuracy: 0.7960\n",
            "Epoch 188/250\n",
            "10/10 [==============================] - 0s 7ms/step - loss: 0.4896 - accuracy: 0.7687 - val_loss: 0.4573 - val_accuracy: 0.7960\n",
            "Epoch 189/250\n",
            "10/10 [==============================] - 0s 6ms/step - loss: 0.4895 - accuracy: 0.7687 - val_loss: 0.4570 - val_accuracy: 0.7960\n",
            "Epoch 190/250\n",
            "10/10 [==============================] - 0s 6ms/step - loss: 0.4893 - accuracy: 0.7709 - val_loss: 0.4568 - val_accuracy: 0.7960\n",
            "Epoch 191/250\n",
            "10/10 [==============================] - 0s 7ms/step - loss: 0.4892 - accuracy: 0.7709 - val_loss: 0.4567 - val_accuracy: 0.7960\n",
            "Epoch 192/250\n",
            "10/10 [==============================] - 0s 6ms/step - loss: 0.4890 - accuracy: 0.7709 - val_loss: 0.4565 - val_accuracy: 0.7960\n",
            "Epoch 193/250\n",
            "10/10 [==============================] - 0s 8ms/step - loss: 0.4889 - accuracy: 0.7709 - val_loss: 0.4562 - val_accuracy: 0.7960\n",
            "Epoch 194/250\n",
            "10/10 [==============================] - 0s 6ms/step - loss: 0.4887 - accuracy: 0.7687 - val_loss: 0.4561 - val_accuracy: 0.7960\n",
            "Epoch 195/250\n",
            "10/10 [==============================] - 0s 5ms/step - loss: 0.4886 - accuracy: 0.7687 - val_loss: 0.4559 - val_accuracy: 0.7960\n",
            "Epoch 196/250\n",
            "10/10 [==============================] - 0s 7ms/step - loss: 0.4885 - accuracy: 0.7687 - val_loss: 0.4558 - val_accuracy: 0.7960\n",
            "Epoch 197/250\n",
            "10/10 [==============================] - 0s 5ms/step - loss: 0.4884 - accuracy: 0.7645 - val_loss: 0.4556 - val_accuracy: 0.7960\n",
            "Epoch 198/250\n",
            "10/10 [==============================] - 0s 5ms/step - loss: 0.4883 - accuracy: 0.7666 - val_loss: 0.4555 - val_accuracy: 0.7960\n",
            "Epoch 199/250\n",
            "10/10 [==============================] - 0s 6ms/step - loss: 0.4882 - accuracy: 0.7666 - val_loss: 0.4555 - val_accuracy: 0.7960\n",
            "Epoch 200/250\n",
            "10/10 [==============================] - 0s 5ms/step - loss: 0.4880 - accuracy: 0.7666 - val_loss: 0.4555 - val_accuracy: 0.7960\n",
            "Epoch 201/250\n",
            "10/10 [==============================] - 0s 8ms/step - loss: 0.4879 - accuracy: 0.7666 - val_loss: 0.4553 - val_accuracy: 0.7960\n",
            "Epoch 202/250\n",
            "10/10 [==============================] - 0s 5ms/step - loss: 0.4878 - accuracy: 0.7666 - val_loss: 0.4553 - val_accuracy: 0.7960\n",
            "Epoch 203/250\n",
            "10/10 [==============================] - 0s 5ms/step - loss: 0.4877 - accuracy: 0.7666 - val_loss: 0.4551 - val_accuracy: 0.7960\n",
            "Epoch 204/250\n",
            "10/10 [==============================] - 0s 7ms/step - loss: 0.4876 - accuracy: 0.7666 - val_loss: 0.4551 - val_accuracy: 0.7960\n",
            "Epoch 205/250\n",
            "10/10 [==============================] - 0s 6ms/step - loss: 0.4875 - accuracy: 0.7666 - val_loss: 0.4548 - val_accuracy: 0.7960\n",
            "Epoch 206/250\n",
            "10/10 [==============================] - 0s 6ms/step - loss: 0.4874 - accuracy: 0.7666 - val_loss: 0.4546 - val_accuracy: 0.7960\n",
            "Epoch 207/250\n",
            "10/10 [==============================] - 0s 6ms/step - loss: 0.4873 - accuracy: 0.7666 - val_loss: 0.4546 - val_accuracy: 0.7960\n",
            "Epoch 208/250\n",
            "10/10 [==============================] - 0s 8ms/step - loss: 0.4872 - accuracy: 0.7666 - val_loss: 0.4545 - val_accuracy: 0.7960\n",
            "Epoch 209/250\n",
            "10/10 [==============================] - 0s 7ms/step - loss: 0.4870 - accuracy: 0.7666 - val_loss: 0.4544 - val_accuracy: 0.7960\n",
            "Epoch 210/250\n",
            "10/10 [==============================] - 0s 7ms/step - loss: 0.4870 - accuracy: 0.7666 - val_loss: 0.4541 - val_accuracy: 0.7960\n",
            "Epoch 211/250\n",
            "10/10 [==============================] - 0s 5ms/step - loss: 0.4869 - accuracy: 0.7666 - val_loss: 0.4540 - val_accuracy: 0.7960\n",
            "Epoch 212/250\n",
            "10/10 [==============================] - 0s 6ms/step - loss: 0.4868 - accuracy: 0.7666 - val_loss: 0.4539 - val_accuracy: 0.7960\n",
            "Epoch 213/250\n",
            "10/10 [==============================] - 0s 7ms/step - loss: 0.4867 - accuracy: 0.7666 - val_loss: 0.4539 - val_accuracy: 0.7960\n",
            "Epoch 214/250\n",
            "10/10 [==============================] - 0s 5ms/step - loss: 0.4866 - accuracy: 0.7666 - val_loss: 0.4539 - val_accuracy: 0.7960\n",
            "Epoch 215/250\n",
            "10/10 [==============================] - 0s 5ms/step - loss: 0.4865 - accuracy: 0.7666 - val_loss: 0.4539 - val_accuracy: 0.7960\n",
            "Epoch 216/250\n",
            "10/10 [==============================] - 0s 5ms/step - loss: 0.4864 - accuracy: 0.7666 - val_loss: 0.4540 - val_accuracy: 0.7960\n",
            "Epoch 217/250\n",
            "10/10 [==============================] - 0s 6ms/step - loss: 0.4863 - accuracy: 0.7666 - val_loss: 0.4538 - val_accuracy: 0.7960\n",
            "Epoch 218/250\n",
            "10/10 [==============================] - 0s 5ms/step - loss: 0.4862 - accuracy: 0.7687 - val_loss: 0.4537 - val_accuracy: 0.7960\n",
            "Epoch 219/250\n",
            "10/10 [==============================] - 0s 6ms/step - loss: 0.4862 - accuracy: 0.7709 - val_loss: 0.4536 - val_accuracy: 0.7960\n",
            "Epoch 220/250\n",
            "10/10 [==============================] - 0s 7ms/step - loss: 0.4861 - accuracy: 0.7730 - val_loss: 0.4534 - val_accuracy: 0.7960\n",
            "Epoch 221/250\n",
            "10/10 [==============================] - 0s 8ms/step - loss: 0.4860 - accuracy: 0.7730 - val_loss: 0.4534 - val_accuracy: 0.7960\n",
            "Epoch 222/250\n",
            "10/10 [==============================] - 0s 8ms/step - loss: 0.4859 - accuracy: 0.7730 - val_loss: 0.4533 - val_accuracy: 0.7960\n",
            "Epoch 223/250\n",
            "10/10 [==============================] - 0s 9ms/step - loss: 0.4859 - accuracy: 0.7752 - val_loss: 0.4533 - val_accuracy: 0.7960\n",
            "Epoch 224/250\n",
            "10/10 [==============================] - 0s 7ms/step - loss: 0.4858 - accuracy: 0.7752 - val_loss: 0.4531 - val_accuracy: 0.7960\n",
            "Epoch 225/250\n",
            "10/10 [==============================] - 0s 10ms/step - loss: 0.4857 - accuracy: 0.7752 - val_loss: 0.4530 - val_accuracy: 0.7960\n",
            "Epoch 226/250\n",
            "10/10 [==============================] - 0s 9ms/step - loss: 0.4857 - accuracy: 0.7752 - val_loss: 0.4528 - val_accuracy: 0.7960\n",
            "Epoch 227/250\n",
            "10/10 [==============================] - 0s 11ms/step - loss: 0.4856 - accuracy: 0.7752 - val_loss: 0.4526 - val_accuracy: 0.7960\n",
            "Epoch 228/250\n",
            "10/10 [==============================] - 0s 8ms/step - loss: 0.4856 - accuracy: 0.7752 - val_loss: 0.4528 - val_accuracy: 0.7960\n",
            "Epoch 229/250\n",
            "10/10 [==============================] - 0s 7ms/step - loss: 0.4855 - accuracy: 0.7730 - val_loss: 0.4527 - val_accuracy: 0.7960\n",
            "Epoch 230/250\n",
            "10/10 [==============================] - 0s 7ms/step - loss: 0.4854 - accuracy: 0.7730 - val_loss: 0.4526 - val_accuracy: 0.7910\n",
            "Epoch 231/250\n",
            "10/10 [==============================] - 0s 6ms/step - loss: 0.4854 - accuracy: 0.7730 - val_loss: 0.4526 - val_accuracy: 0.7910\n",
            "Epoch 232/250\n",
            "10/10 [==============================] - 0s 9ms/step - loss: 0.4854 - accuracy: 0.7730 - val_loss: 0.4526 - val_accuracy: 0.7910\n",
            "Epoch 233/250\n",
            "10/10 [==============================] - 0s 8ms/step - loss: 0.4852 - accuracy: 0.7730 - val_loss: 0.4526 - val_accuracy: 0.7910\n",
            "Epoch 234/250\n",
            "10/10 [==============================] - 0s 10ms/step - loss: 0.4852 - accuracy: 0.7730 - val_loss: 0.4524 - val_accuracy: 0.7910\n",
            "Epoch 235/250\n",
            "10/10 [==============================] - 0s 10ms/step - loss: 0.4852 - accuracy: 0.7730 - val_loss: 0.4524 - val_accuracy: 0.7910\n",
            "Epoch 236/250\n",
            "10/10 [==============================] - 0s 9ms/step - loss: 0.4851 - accuracy: 0.7730 - val_loss: 0.4522 - val_accuracy: 0.7910\n",
            "Epoch 237/250\n",
            "10/10 [==============================] - 0s 8ms/step - loss: 0.4850 - accuracy: 0.7730 - val_loss: 0.4522 - val_accuracy: 0.7910\n",
            "Epoch 238/250\n",
            "10/10 [==============================] - 0s 8ms/step - loss: 0.4850 - accuracy: 0.7730 - val_loss: 0.4522 - val_accuracy: 0.7910\n",
            "Epoch 239/250\n",
            "10/10 [==============================] - 0s 10ms/step - loss: 0.4849 - accuracy: 0.7752 - val_loss: 0.4521 - val_accuracy: 0.7910\n",
            "Epoch 240/250\n",
            "10/10 [==============================] - 0s 7ms/step - loss: 0.4849 - accuracy: 0.7730 - val_loss: 0.4520 - val_accuracy: 0.7910\n",
            "Epoch 241/250\n",
            "10/10 [==============================] - 0s 9ms/step - loss: 0.4848 - accuracy: 0.7709 - val_loss: 0.4518 - val_accuracy: 0.7910\n",
            "Epoch 242/250\n",
            "10/10 [==============================] - 0s 7ms/step - loss: 0.4848 - accuracy: 0.7709 - val_loss: 0.4518 - val_accuracy: 0.7960\n",
            "Epoch 243/250\n",
            "10/10 [==============================] - 0s 7ms/step - loss: 0.4847 - accuracy: 0.7709 - val_loss: 0.4518 - val_accuracy: 0.7960\n",
            "Epoch 244/250\n",
            "10/10 [==============================] - 0s 6ms/step - loss: 0.4847 - accuracy: 0.7709 - val_loss: 0.4516 - val_accuracy: 0.7960\n",
            "Epoch 245/250\n",
            "10/10 [==============================] - 0s 6ms/step - loss: 0.4846 - accuracy: 0.7709 - val_loss: 0.4517 - val_accuracy: 0.7960\n",
            "Epoch 246/250\n",
            "10/10 [==============================] - 0s 6ms/step - loss: 0.4846 - accuracy: 0.7709 - val_loss: 0.4516 - val_accuracy: 0.7960\n",
            "Epoch 247/250\n",
            "10/10 [==============================] - 0s 5ms/step - loss: 0.4845 - accuracy: 0.7709 - val_loss: 0.4515 - val_accuracy: 0.7960\n",
            "Epoch 248/250\n",
            "10/10 [==============================] - 0s 7ms/step - loss: 0.4845 - accuracy: 0.7709 - val_loss: 0.4515 - val_accuracy: 0.7960\n",
            "Epoch 249/250\n",
            "10/10 [==============================] - 0s 7ms/step - loss: 0.4845 - accuracy: 0.7730 - val_loss: 0.4515 - val_accuracy: 0.7960\n",
            "Epoch 250/250\n",
            "10/10 [==============================] - 0s 8ms/step - loss: 0.4844 - accuracy: 0.7709 - val_loss: 0.4515 - val_accuracy: 0.7960\n"
          ]
        }
      ],
      "source": [
        "model_history = model_final.fit(X_train, y_train, validation_data=(X_val, y_val), epochs= 250,batch_size = 50)"
      ]
    },
    {
      "cell_type": "markdown",
      "source": [
        "This code is using the model_final object to predict values for the X_val object. The model_final object is a machine learning model that has been trained on data and is used to generate predictions for new data. The X_val object is a dataset of input values that the model_final object will use to make predictions. The prediction variable will store the output of the model_final object, which is the predicted values for the X_val data."
      ],
      "metadata": {
        "id": "BCjT1LceQzJ4"
      }
    },
    {
      "cell_type": "code",
      "execution_count": null,
      "metadata": {
        "id": "qpBoHi7jglN_",
        "colab": {
          "base_uri": "https://localhost:8080/"
        },
        "outputId": "428d2a12-3c9d-4b2e-c8e7-f2236d84f74b"
      },
      "outputs": [
        {
          "output_type": "stream",
          "name": "stdout",
          "text": [
            "7/7 [==============================] - 0s 2ms/step\n"
          ]
        }
      ],
      "source": [
        "# getting predictions for the validation set\n",
        "prediction = model_final.predict(X_val)"
      ]
    },
    {
      "cell_type": "markdown",
      "source": [
        "This code is converting the predicted values in the list 'prediction' to categorical values of 0 or 1. If the prediction is greater than 0.5, the value will be set to 1, otherwise it will be set to 0."
      ],
      "metadata": {
        "id": "qKnN-F2VQ55x"
      }
    },
    {
      "cell_type": "code",
      "execution_count": null,
      "metadata": {
        "id": "dMrjL18pUhIV"
      },
      "outputs": [],
      "source": [
        "# convert to categorical predictions\n",
        "y_pred_categorical1 = [1 if pred > 0.5 else 0 for pred in prediction]"
      ]
    },
    {
      "cell_type": "markdown",
      "metadata": {
        "id": "0irZdcXXBBKs"
      },
      "source": [
        "## Model Accuracy"
      ]
    },
    {
      "cell_type": "markdown",
      "source": [
        "This code is evaluating the accuracy of a machine learning model. It is printing the results of the training and validation accuracy of the model. The first part of the code creates the final model by compiling the necessary layers. The second part prints out the results of the model's accuracy scores. The scores are calculated by using the evaluate function on the training and validation data sets."
      ],
      "metadata": {
        "id": "HNukFY3FRCjj"
      }
    },
    {
      "cell_type": "code",
      "execution_count": null,
      "metadata": {
        "id": "rgwR3wN8CV8A",
        "colab": {
          "base_uri": "https://localhost:8080/"
        },
        "outputId": "e1a2f925-8969-428e-d4eb-4a43751ed4af"
      },
      "outputs": [
        {
          "output_type": "stream",
          "name": "stdout",
          "text": [
            "Results:\n",
            "--------\n",
            "Training Accuracy: 77.09%\n",
            "\n",
            "Validation Accuracy: 79.60%\n",
            "\n"
          ]
        }
      ],
      "source": [
        "#Model Accuracy Results\n",
        "print(\"Results:\")\n",
        "print(\"--------\")\n",
        "scores = model_final.evaluate(X_train, y_train, verbose=False)\n",
        "print(\"Training Accuracy: %.2f%%\\n\" % (scores[1] * 100))\n",
        "scores = model_final.evaluate(X_val, y_val, verbose=False)\n",
        "print(\"Validation Accuracy: %.2f%%\\n\" % (scores[1] * 100))"
      ]
    },
    {
      "cell_type": "markdown",
      "metadata": {
        "id": "yBf0oIMxBRbG"
      },
      "source": [
        "## Model Evaluation"
      ]
    },
    {
      "cell_type": "code",
      "execution_count": null,
      "metadata": {
        "id": "YWPyay6BOe_m",
        "colab": {
          "base_uri": "https://localhost:8080/"
        },
        "outputId": "170ed633-5888-4446-ee0a-1444cd9c023d"
      },
      "outputs": [
        {
          "output_type": "stream",
          "name": "stdout",
          "text": [
            "0.7960199004975125\n",
            "              precision    recall  f1-score   support\n",
            "\n",
            "           0       0.83      0.86      0.85       132\n",
            "           1       0.72      0.67      0.69        69\n",
            "\n",
            "    accuracy                           0.80       201\n",
            "   macro avg       0.78      0.77      0.77       201\n",
            "weighted avg       0.79      0.80      0.79       201\n",
            "\n"
          ]
        }
      ],
      "source": [
        "from sklearn.metrics import classification_report, accuracy_score\n",
        "\n",
        "print(accuracy_score(y_val, y_pred_categorical1))\n",
        "print(classification_report(y_val,y_pred_categorical1))"
      ]
    },
    {
      "cell_type": "code",
      "execution_count": null,
      "metadata": {
        "id": "68APv0UuglOI",
        "colab": {
          "base_uri": "https://localhost:8080/",
          "height": 458
        },
        "outputId": "e4747558-00de-45c0-c355-faab6deef58a"
      },
      "outputs": [
        {
          "output_type": "display_data",
          "data": {
            "text/plain": [
              "<Figure size 1080x504 with 1 Axes>"
            ],
            "image/png": "[encoded data removed]"
          },
          "metadata": {
            "needs_background": "light"
          }
        }
      ],
      "source": [
        "plt.figure(figsize = (15,7))\n",
        "plt.plot(model_history.history['loss'])\n",
        "plt.plot(model_history.history['val_loss'])\n",
        "plt.title('Model loss')\n",
        "plt.ylabel('Loss')\n",
        "plt.xlabel('Epoch')\n",
        "plt.legend(['Train Loss', 'Validation Loss'], loc='upper right')\n",
        "plt.xlim(0,50)\n",
        "plt.ylim(0.3,0.9)\n",
        "plt.show()"
      ]
    },
    {
      "cell_type": "markdown",
      "source": [
        "The output of this plot shows the training and validation loss for the model over 50 epochs. The training loss is decreasing over time, indicating that the model is learning. The validation loss initially decreases but then begins to plateau, indicating that the model is not improving beyond a certain point. This suggests that the model has reached its optimal performance and further training would not result in significant improvement."
      ],
      "metadata": {
        "id": "FrtPnrJLVqSs"
      }
    },
    {
      "cell_type": "code",
      "execution_count": null,
      "metadata": {
        "id": "AiKe0wBbglOM",
        "colab": {
          "base_uri": "https://localhost:8080/",
          "height": 458
        },
        "outputId": "c946459c-a903-4d0e-9887-4edcff8a6638"
      },
      "outputs": [
        {
          "output_type": "display_data",
          "data": {
            "text/plain": [
              "<Figure size 1080x504 with 1 Axes>"
            ],
            "image/png": "[encoded data removed]"
          },
          "metadata": {
            "needs_background": "light"
          }
        }
      ],
      "source": [
        "plt.figure(figsize = (15,7))\n",
        "plt.plot(model_history.history['accuracy'])\n",
        "plt.plot(model_history.history['val_accuracy'])\n",
        "plt.title('Model Accuracy')\n",
        "plt.ylabel('Accuracy')\n",
        "plt.xlabel('Epoch')\n",
        "plt.legend(['Train Accuracy', 'Validation Accuracy'], loc='upper right')\n",
        "plt.xlim(0,50)\n",
        "plt.ylim(0.3,0.9)\n",
        "plt.show()"
      ]
    },
    {
      "cell_type": "markdown",
      "source": [
        "This plot displays the model accuracy for both the training and validation sets over the course of 50 epochs. The accuracy of the training set increases over time, while the accuracy of the validation set reaches a plateau after a certain number of epochs."
      ],
      "metadata": {
        "id": "8tA91KstV405"
      }
    },
    {
      "cell_type": "markdown",
      "metadata": {
        "id": "LuDvZLABCQUg"
      },
      "source": [
        "## Predictions on Test Data"
      ]
    },
    {
      "cell_type": "code",
      "execution_count": null,
      "metadata": {
        "id": "70BRFvR3w4Pu",
        "colab": {
          "base_uri": "https://localhost:8080/",
          "height": 206
        },
        "outputId": "9d3fbb1a-877b-4d9d-8531-88436e84a6b2"
      },
      "outputs": [
        {
          "output_type": "execute_result",
          "data": {
            "text/plain": [
              "   id  A1   A2   A3  A4   A5    A6     A7  A8\n",
              "0   1   6   98   58  33  190  34.0  0.430  43\n",
              "1   2   9  154   78  30  100  30.9  0.164  45\n",
              "2   3   6  165   68  26  168  33.6  0.631  49\n",
              "3   4   1   99   58  10    0  25.4  0.551  21\n",
              "4   5  10   68  106  23   49  35.5  0.285  47"
            ],
            "text/html": [
              "\n",
              "  <div id=\"df-3504a989-3be5-42e0-81cc-a763ff5cd058\">\n",
              "    <div class=\"colab-df-container\">\n",
              "      <div>\n",
              "<style scoped>\n",
              "    .dataframe tbody tr th:only-of-type {\n",
              "        vertical-align: middle;\n",
              "    }\n",
              "\n",
              "    .dataframe tbody tr th {\n",
              "        vertical-align: top;\n",
              "    }\n",
              "\n",
              "    .dataframe thead th {\n",
              "        text-align: right;\n",
              "    }\n",
              "</style>\n",
              "<table border=\"1\" class=\"dataframe\">\n",
              "  <thead>\n",
              "    <tr style=\"text-align: right;\">\n",
              "      <th></th>\n",
              "      <th>id</th>\n",
              "      <th>A1</th>\n",
              "      <th>A2</th>\n",
              "      <th>A3</th>\n",
              "      <th>A4</th>\n",
              "      <th>A5</th>\n",
              "      <th>A6</th>\n",
              "      <th>A7</th>\n",
              "      <th>A8</th>\n",
              "    </tr>\n",
              "  </thead>\n",
              "  <tbody>\n",
              "    <tr>\n",
              "      <th>0</th>\n",
              "      <td>1</td>\n",
              "      <td>6</td>\n",
              "      <td>98</td>\n",
              "      <td>58</td>\n",
              "      <td>33</td>\n",
              "      <td>190</td>\n",
              "      <td>34.0</td>\n",
              "      <td>0.430</td>\n",
              "      <td>43</td>\n",
              "    </tr>\n",
              "    <tr>\n",
              "      <th>1</th>\n",
              "      <td>2</td>\n",
              "      <td>9</td>\n",
              "      <td>154</td>\n",
              "      <td>78</td>\n",
              "      <td>30</td>\n",
              "      <td>100</td>\n",
              "      <td>30.9</td>\n",
              "      <td>0.164</td>\n",
              "      <td>45</td>\n",
              "    </tr>\n",
              "    <tr>\n",
              "      <th>2</th>\n",
              "      <td>3</td>\n",
              "      <td>6</td>\n",
              "      <td>165</td>\n",
              "      <td>68</td>\n",
              "      <td>26</td>\n",
              "      <td>168</td>\n",
              "      <td>33.6</td>\n",
              "      <td>0.631</td>\n",
              "      <td>49</td>\n",
              "    </tr>\n",
              "    <tr>\n",
              "      <th>3</th>\n",
              "      <td>4</td>\n",
              "      <td>1</td>\n",
              "      <td>99</td>\n",
              "      <td>58</td>\n",
              "      <td>10</td>\n",
              "      <td>0</td>\n",
              "      <td>25.4</td>\n",
              "      <td>0.551</td>\n",
              "      <td>21</td>\n",
              "    </tr>\n",
              "    <tr>\n",
              "      <th>4</th>\n",
              "      <td>5</td>\n",
              "      <td>10</td>\n",
              "      <td>68</td>\n",
              "      <td>106</td>\n",
              "      <td>23</td>\n",
              "      <td>49</td>\n",
              "      <td>35.5</td>\n",
              "      <td>0.285</td>\n",
              "      <td>47</td>\n",
              "    </tr>\n",
              "  </tbody>\n",
              "</table>\n",
              "</div>\n",
              "      <button class=\"colab-df-convert\" onclick=\"convertToInteractive('df-3504a989-3be5-42e0-81cc-a763ff5cd058')\"\n",
              "              title=\"Convert this dataframe to an interactive table.\"\n",
              "              style=\"display:none;\">\n",
              "        \n",
              "  <svg xmlns=\"http://www.w3.org/2000/svg\" height=\"24px\"viewBox=\"0 0 24 24\"\n",
              "       width=\"24px\">\n",
              "    <path d=\"M0 0h24v24H0V0z\" fill=\"none\"/>\n",
              "    <path d=\"M18.56 5.44l.94 2.06.94-2.06 2.06-.94-2.06-.94-.94-2.06-.94 2.06-2.06.94zm-11 1L8.5 8.5l.94-2.06 2.06-.94-2.06-.94L8.5 2.5l-.94 2.06-2.06.94zm10 10l.94 2.06.94-2.06 2.06-.94-2.06-.94-.94-2.06-.94 2.06-2.06.94z\"/><path d=\"M17.41 7.96l-1.37-1.37c-.4-.4-.92-.59-1.43-.59-.52 0-1.04.2-1.43.59L10.3 9.45l-7.72 7.72c-.78.78-.78 2.05 0 2.83L4 21.41c.39.39.9.59 1.41.59.51 0 1.02-.2 1.41-.59l7.78-7.78 2.81-2.81c.8-.78.8-2.07 0-2.86zM5.41 20L4 18.59l7.72-7.72 1.47 1.35L5.41 20z\"/>\n",
              "  </svg>\n",
              "      </button>\n",
              "      \n",
              "  <style>\n",
              "    .colab-df-container {\n",
              "      display:flex;\n",
              "      flex-wrap:wrap;\n",
              "      gap: 12px;\n",
              "    }\n",
              "\n",
              "    .colab-df-convert {\n",
              "      background-color: #E8F0FE;\n",
              "      border: none;\n",
              "      border-radius: 50%;\n",
              "      cursor: pointer;\n",
              "      display: none;\n",
              "      fill: #1967D2;\n",
              "      height: 32px;\n",
              "      padding: 0 0 0 0;\n",
              "      width: 32px;\n",
              "    }\n",
              "\n",
              "    .colab-df-convert:hover {\n",
              "      background-color: #E2EBFA;\n",
              "      box-shadow: 0px 1px 2px rgba(60, 64, 67, 0.3), 0px 1px 3px 1px rgba(60, 64, 67, 0.15);\n",
              "      fill: #174EA6;\n",
              "    }\n",
              "\n",
              "    [theme=dark] .colab-df-convert {\n",
              "      background-color: #3B4455;\n",
              "      fill: #D2E3FC;\n",
              "    }\n",
              "\n",
              "    [theme=dark] .colab-df-convert:hover {\n",
              "      background-color: #434B5C;\n",
              "      box-shadow: 0px 1px 3px 1px rgba(0, 0, 0, 0.15);\n",
              "      filter: drop-shadow(0px 1px 2px rgba(0, 0, 0, 0.3));\n",
              "      fill: #FFFFFF;\n",
              "    }\n",
              "  </style>\n",
              "\n",
              "      <script>\n",
              "        const buttonEl =\n",
              "          document.querySelector('#df-3504a989-3be5-42e0-81cc-a763ff5cd058 button.colab-df-convert');\n",
              "        buttonEl.style.display =\n",
              "          google.colab.kernel.accessAllowed ? 'block' : 'none';\n",
              "\n",
              "        async function convertToInteractive(key) {\n",
              "          const element = document.querySelector('#df-3504a989-3be5-42e0-81cc-a763ff5cd058');\n",
              "          const dataTable =\n",
              "            await google.colab.kernel.invokeFunction('convertToInteractive',\n",
              "                                                     [key], {});\n",
              "          if (!dataTable) return;\n",
              "\n",
              "          const docLinkHtml = 'Like what you see? Visit the ' +\n",
              "            '<a target=\"_blank\" href=https://colab.research.google.com/notebooks/data_table.ipynb>data table notebook</a>'\n",
              "            + ' to learn more about interactive tables.';\n",
              "          element.innerHTML = '';\n",
              "          dataTable['output_type'] = 'display_data';\n",
              "          await google.colab.output.renderOutput(dataTable, element);\n",
              "          const docLink = document.createElement('div');\n",
              "          docLink.innerHTML = docLinkHtml;\n",
              "          element.appendChild(docLink);\n",
              "        }\n",
              "      </script>\n",
              "    </div>\n",
              "  </div>\n",
              "  "
            ]
          },
          "metadata": {},
          "execution_count": 46
        }
      ],
      "source": [
        "test_df.head()"
      ]
    },
    {
      "cell_type": "code",
      "execution_count": null,
      "metadata": {
        "id": "ebWTL2sn6e_a"
      },
      "outputs": [],
      "source": [
        "# applying for loop to bring all the variables in range 0 to 1\n",
        "\n",
        "for i in test_df.columns[1:]:\n",
        "    test_df[i] = (test_df[i] - test_df[i].min()) / (test_df[i].max() - test_df[i].min())"
      ]
    },
    {
      "cell_type": "code",
      "execution_count": null,
      "metadata": {
        "id": "n3JMgvDX6pGC",
        "colab": {
          "base_uri": "https://localhost:8080/",
          "height": 206
        },
        "outputId": "cb14452c-2fa2-4319-fef3-425df6736d4a"
      },
      "outputs": [
        {
          "output_type": "execute_result",
          "data": {
            "text/plain": [
              "   id        A1        A2        A3        A4        A5        A6        A7  \\\n",
              "0   1  0.461538  0.302158  0.508772  0.673469  0.372549  0.593368  0.293233   \n",
              "1   2  0.692308  0.705036  0.684211  0.612245  0.196078  0.539267  0.043233   \n",
              "2   3  0.461538  0.784173  0.596491  0.530612  0.329412  0.586387  0.482143   \n",
              "3   4  0.076923  0.309353  0.508772  0.204082  0.000000  0.443281  0.406955   \n",
              "4   5  0.769231  0.086331  0.929825  0.469388  0.096078  0.619546  0.156955   \n",
              "\n",
              "         A8  \n",
              "0  0.458333  \n",
              "1  0.500000  \n",
              "2  0.583333  \n",
              "3  0.000000  \n",
              "4  0.541667  "
            ],
            "text/html": [
              "\n",
              "  <div id=\"df-6ef2ae53-b090-4524-a2cc-8b5bf274b17b\">\n",
              "    <div class=\"colab-df-container\">\n",
              "      <div>\n",
              "<style scoped>\n",
              "    .dataframe tbody tr th:only-of-type {\n",
              "        vertical-align: middle;\n",
              "    }\n",
              "\n",
              "    .dataframe tbody tr th {\n",
              "        vertical-align: top;\n",
              "    }\n",
              "\n",
              "    .dataframe thead th {\n",
              "        text-align: right;\n",
              "    }\n",
              "</style>\n",
              "<table border=\"1\" class=\"dataframe\">\n",
              "  <thead>\n",
              "    <tr style=\"text-align: right;\">\n",
              "      <th></th>\n",
              "      <th>id</th>\n",
              "      <th>A1</th>\n",
              "      <th>A2</th>\n",
              "      <th>A3</th>\n",
              "      <th>A4</th>\n",
              "      <th>A5</th>\n",
              "      <th>A6</th>\n",
              "      <th>A7</th>\n",
              "      <th>A8</th>\n",
              "    </tr>\n",
              "  </thead>\n",
              "  <tbody>\n",
              "    <tr>\n",
              "      <th>0</th>\n",
              "      <td>1</td>\n",
              "      <td>0.461538</td>\n",
              "      <td>0.302158</td>\n",
              "      <td>0.508772</td>\n",
              "      <td>0.673469</td>\n",
              "      <td>0.372549</td>\n",
              "      <td>0.593368</td>\n",
              "      <td>0.293233</td>\n",
              "      <td>0.458333</td>\n",
              "    </tr>\n",
              "    <tr>\n",
              "      <th>1</th>\n",
              "      <td>2</td>\n",
              "      <td>0.692308</td>\n",
              "      <td>0.705036</td>\n",
              "      <td>0.684211</td>\n",
              "      <td>0.612245</td>\n",
              "      <td>0.196078</td>\n",
              "      <td>0.539267</td>\n",
              "      <td>0.043233</td>\n",
              "      <td>0.500000</td>\n",
              "    </tr>\n",
              "    <tr>\n",
              "      <th>2</th>\n",
              "      <td>3</td>\n",
              "      <td>0.461538</td>\n",
              "      <td>0.784173</td>\n",
              "      <td>0.596491</td>\n",
              "      <td>0.530612</td>\n",
              "      <td>0.329412</td>\n",
              "      <td>0.586387</td>\n",
              "      <td>0.482143</td>\n",
              "      <td>0.583333</td>\n",
              "    </tr>\n",
              "    <tr>\n",
              "      <th>3</th>\n",
              "      <td>4</td>\n",
              "      <td>0.076923</td>\n",
              "      <td>0.309353</td>\n",
              "      <td>0.508772</td>\n",
              "      <td>0.204082</td>\n",
              "      <td>0.000000</td>\n",
              "      <td>0.443281</td>\n",
              "      <td>0.406955</td>\n",
              "      <td>0.000000</td>\n",
              "    </tr>\n",
              "    <tr>\n",
              "      <th>4</th>\n",
              "      <td>5</td>\n",
              "      <td>0.769231</td>\n",
              "      <td>0.086331</td>\n",
              "      <td>0.929825</td>\n",
              "      <td>0.469388</td>\n",
              "      <td>0.096078</td>\n",
              "      <td>0.619546</td>\n",
              "      <td>0.156955</td>\n",
              "      <td>0.541667</td>\n",
              "    </tr>\n",
              "  </tbody>\n",
              "</table>\n",
              "</div>\n",
              "      <button class=\"colab-df-convert\" onclick=\"convertToInteractive('df-6ef2ae53-b090-4524-a2cc-8b5bf274b17b')\"\n",
              "              title=\"Convert this dataframe to an interactive table.\"\n",
              "              style=\"display:none;\">\n",
              "        \n",
              "  <svg xmlns=\"http://www.w3.org/2000/svg\" height=\"24px\"viewBox=\"0 0 24 24\"\n",
              "       width=\"24px\">\n",
              "    <path d=\"M0 0h24v24H0V0z\" fill=\"none\"/>\n",
              "    <path d=\"M18.56 5.44l.94 2.06.94-2.06 2.06-.94-2.06-.94-.94-2.06-.94 2.06-2.06.94zm-11 1L8.5 8.5l.94-2.06 2.06-.94-2.06-.94L8.5 2.5l-.94 2.06-2.06.94zm10 10l.94 2.06.94-2.06 2.06-.94-2.06-.94-.94-2.06-.94 2.06-2.06.94z\"/><path d=\"M17.41 7.96l-1.37-1.37c-.4-.4-.92-.59-1.43-.59-.52 0-1.04.2-1.43.59L10.3 9.45l-7.72 7.72c-.78.78-.78 2.05 0 2.83L4 21.41c.39.39.9.59 1.41.59.51 0 1.02-.2 1.41-.59l7.78-7.78 2.81-2.81c.8-.78.8-2.07 0-2.86zM5.41 20L4 18.59l7.72-7.72 1.47 1.35L5.41 20z\"/>\n",
              "  </svg>\n",
              "      </button>\n",
              "      \n",
              "  <style>\n",
              "    .colab-df-container {\n",
              "      display:flex;\n",
              "      flex-wrap:wrap;\n",
              "      gap: 12px;\n",
              "    }\n",
              "\n",
              "    .colab-df-convert {\n",
              "      background-color: #E8F0FE;\n",
              "      border: none;\n",
              "      border-radius: 50%;\n",
              "      cursor: pointer;\n",
              "      display: none;\n",
              "      fill: #1967D2;\n",
              "      height: 32px;\n",
              "      padding: 0 0 0 0;\n",
              "      width: 32px;\n",
              "    }\n",
              "\n",
              "    .colab-df-convert:hover {\n",
              "      background-color: #E2EBFA;\n",
              "      box-shadow: 0px 1px 2px rgba(60, 64, 67, 0.3), 0px 1px 3px 1px rgba(60, 64, 67, 0.15);\n",
              "      fill: #174EA6;\n",
              "    }\n",
              "\n",
              "    [theme=dark] .colab-df-convert {\n",
              "      background-color: #3B4455;\n",
              "      fill: #D2E3FC;\n",
              "    }\n",
              "\n",
              "    [theme=dark] .colab-df-convert:hover {\n",
              "      background-color: #434B5C;\n",
              "      box-shadow: 0px 1px 3px 1px rgba(0, 0, 0, 0.15);\n",
              "      filter: drop-shadow(0px 1px 2px rgba(0, 0, 0, 0.3));\n",
              "      fill: #FFFFFF;\n",
              "    }\n",
              "  </style>\n",
              "\n",
              "      <script>\n",
              "        const buttonEl =\n",
              "          document.querySelector('#df-6ef2ae53-b090-4524-a2cc-8b5bf274b17b button.colab-df-convert');\n",
              "        buttonEl.style.display =\n",
              "          google.colab.kernel.accessAllowed ? 'block' : 'none';\n",
              "\n",
              "        async function convertToInteractive(key) {\n",
              "          const element = document.querySelector('#df-6ef2ae53-b090-4524-a2cc-8b5bf274b17b');\n",
              "          const dataTable =\n",
              "            await google.colab.kernel.invokeFunction('convertToInteractive',\n",
              "                                                     [key], {});\n",
              "          if (!dataTable) return;\n",
              "\n",
              "          const docLinkHtml = 'Like what you see? Visit the ' +\n",
              "            '<a target=\"_blank\" href=https://colab.research.google.com/notebooks/data_table.ipynb>data table notebook</a>'\n",
              "            + ' to learn more about interactive tables.';\n",
              "          element.innerHTML = '';\n",
              "          dataTable['output_type'] = 'display_data';\n",
              "          await google.colab.output.renderOutput(dataTable, element);\n",
              "          const docLink = document.createElement('div');\n",
              "          docLink.innerHTML = docLinkHtml;\n",
              "          element.appendChild(docLink);\n",
              "        }\n",
              "      </script>\n",
              "    </div>\n",
              "  </div>\n",
              "  "
            ]
          },
          "metadata": {},
          "execution_count": 48
        }
      ],
      "source": [
        "test_df.head()"
      ]
    },
    {
      "cell_type": "code",
      "execution_count": null,
      "metadata": {
        "id": "5Cs_kwmFw4UN",
        "colab": {
          "base_uri": "https://localhost:8080/"
        },
        "outputId": "3ba2c4df-35b3-4a0b-ce42-395d34f6732c"
      },
      "outputs": [
        {
          "output_type": "stream",
          "name": "stdout",
          "text": [
            "Number of entries: 100\n",
            "<class 'pandas.core.frame.DataFrame'>\n",
            "RangeIndex: 100 entries, 0 to 99\n",
            "Data columns (total 9 columns):\n",
            " #   Column  Non-Null Count  Dtype  \n",
            "---  ------  --------------  -----  \n",
            " 0   id      100 non-null    int64  \n",
            " 1   A1      100 non-null    float64\n",
            " 2   A2      100 non-null    float64\n",
            " 3   A3      100 non-null    float64\n",
            " 4   A4      100 non-null    float64\n",
            " 5   A5      100 non-null    float64\n",
            " 6   A6      100 non-null    float64\n",
            " 7   A7      100 non-null    float64\n",
            " 8   A8      100 non-null    float64\n",
            "dtypes: float64(8), int64(1)\n",
            "memory usage: 7.2 KB\n",
            "None\n"
          ]
        }
      ],
      "source": [
        "# summarise the details\n",
        "print(f'Number of entries: {len(test_df)}')\n",
        "\n",
        "X_test = test_df\n",
        "print(X_test.info())"
      ]
    },
    {
      "cell_type": "code",
      "execution_count": null,
      "metadata": {
        "id": "sBbF2jg9iy_l"
      },
      "outputs": [],
      "source": [
        "col = ['id','A1','A2','A3','A4','A5','A6','A7','A8']\n",
        "X=test_df[col]"
      ]
    },
    {
      "cell_type": "code",
      "execution_count": null,
      "metadata": {
        "id": "1BdITPBHi9OD",
        "colab": {
          "base_uri": "https://localhost:8080/"
        },
        "outputId": "6d2201ee-da18-4fd6-a304-76737caf9b5f"
      },
      "outputs": [
        {
          "output_type": "stream",
          "name": "stdout",
          "text": [
            "(100, 9)\n"
          ]
        }
      ],
      "source": [
        "print(X.shape)"
      ]
    },
    {
      "cell_type": "code",
      "execution_count": null,
      "metadata": {
        "id": "xxz4Tk0UjAad",
        "colab": {
          "base_uri": "https://localhost:8080/"
        },
        "outputId": "171db4c4-74b3-4a06-cbba-ce34ee2becf1"
      },
      "outputs": [
        {
          "output_type": "stream",
          "name": "stdout",
          "text": [
            "StandardScaler()\n"
          ]
        }
      ],
      "source": [
        "from sklearn.preprocessing import StandardScaler\n",
        "\n",
        "scaler=StandardScaler().fit(X)\n",
        "print(scaler)"
      ]
    },
    {
      "cell_type": "code",
      "execution_count": null,
      "metadata": {
        "id": "t1R9LWzxjFTG",
        "colab": {
          "base_uri": "https://localhost:8080/",
          "height": 364
        },
        "outputId": "cf761f68-0524-472f-f144-7f5f9de83069"
      },
      "outputs": [
        {
          "output_type": "execute_result",
          "data": {
            "text/plain": [
              "                  0             1             2             3             4  \\\n",
              "count  1.000000e+02  1.000000e+02  1.000000e+02  1.000000e+02  1.000000e+02   \n",
              "mean   4.440892e-18  1.265654e-16 -1.132427e-16  8.867906e-17  1.032507e-16   \n",
              "std    1.005038e+00  1.005038e+00  1.005038e+00  1.005038e+00  1.005038e+00   \n",
              "min   -1.714816e+00 -1.198459e+00 -2.306451e+00 -3.972464e+00 -1.312730e+00   \n",
              "25%   -8.574080e-01 -9.032721e-01 -7.583270e-01 -5.273281e-01 -1.312730e+00   \n",
              "50%    0.000000e+00 -3.128982e-01 -9.001115e-02  1.394724e-01  2.046904e-01   \n",
              "75%    8.574080e-01  5.726627e-01  5.783047e-01  5.840062e-01  7.535448e-01   \n",
              "max    1.714816e+00  2.638971e+00  2.397139e+00  2.362141e+00  1.851253e+00   \n",
              "\n",
              "                5             6             7             8  \n",
              "count  100.000000  1.000000e+02  1.000000e+02  1.000000e+02  \n",
              "mean     0.000000  4.213296e-16 -3.275158e-17 -1.609823e-16  \n",
              "std      1.005038  1.005038e+00  1.005038e+00  1.005038e+00  \n",
              "min     -0.725910 -4.009415e+00 -1.264048e+00 -1.100272e+00  \n",
              "25%     -0.725910 -5.459790e-01 -7.035985e-01 -8.509657e-01  \n",
              "50%     -0.725910 -9.390302e-03 -3.203424e-01 -3.108019e-01  \n",
              "75%      0.554790  4.997592e-01  5.377531e-01  7.279746e-01  \n",
              "max      3.857650  2.978433e+00  2.972674e+00  2.888630e+00  "
            ],
            "text/html": [
              "\n",
              "  <div id=\"df-eb7ba30f-36cd-4b74-81b4-65622b14f7c4\">\n",
              "    <div class=\"colab-df-container\">\n",
              "      <div>\n",
              "<style scoped>\n",
              "    .dataframe tbody tr th:only-of-type {\n",
              "        vertical-align: middle;\n",
              "    }\n",
              "\n",
              "    .dataframe tbody tr th {\n",
              "        vertical-align: top;\n",
              "    }\n",
              "\n",
              "    .dataframe thead th {\n",
              "        text-align: right;\n",
              "    }\n",
              "</style>\n",
              "<table border=\"1\" class=\"dataframe\">\n",
              "  <thead>\n",
              "    <tr style=\"text-align: right;\">\n",
              "      <th></th>\n",
              "      <th>0</th>\n",
              "      <th>1</th>\n",
              "      <th>2</th>\n",
              "      <th>3</th>\n",
              "      <th>4</th>\n",
              "      <th>5</th>\n",
              "      <th>6</th>\n",
              "      <th>7</th>\n",
              "      <th>8</th>\n",
              "    </tr>\n",
              "  </thead>\n",
              "  <tbody>\n",
              "    <tr>\n",
              "      <th>count</th>\n",
              "      <td>1.000000e+02</td>\n",
              "      <td>1.000000e+02</td>\n",
              "      <td>1.000000e+02</td>\n",
              "      <td>1.000000e+02</td>\n",
              "      <td>1.000000e+02</td>\n",
              "      <td>100.000000</td>\n",
              "      <td>1.000000e+02</td>\n",
              "      <td>1.000000e+02</td>\n",
              "      <td>1.000000e+02</td>\n",
              "    </tr>\n",
              "    <tr>\n",
              "      <th>mean</th>\n",
              "      <td>4.440892e-18</td>\n",
              "      <td>1.265654e-16</td>\n",
              "      <td>-1.132427e-16</td>\n",
              "      <td>8.867906e-17</td>\n",
              "      <td>1.032507e-16</td>\n",
              "      <td>0.000000</td>\n",
              "      <td>4.213296e-16</td>\n",
              "      <td>-3.275158e-17</td>\n",
              "      <td>-1.609823e-16</td>\n",
              "    </tr>\n",
              "    <tr>\n",
              "      <th>std</th>\n",
              "      <td>1.005038e+00</td>\n",
              "      <td>1.005038e+00</td>\n",
              "      <td>1.005038e+00</td>\n",
              "      <td>1.005038e+00</td>\n",
              "      <td>1.005038e+00</td>\n",
              "      <td>1.005038</td>\n",
              "      <td>1.005038e+00</td>\n",
              "      <td>1.005038e+00</td>\n",
              "      <td>1.005038e+00</td>\n",
              "    </tr>\n",
              "    <tr>\n",
              "      <th>min</th>\n",
              "      <td>-1.714816e+00</td>\n",
              "      <td>-1.198459e+00</td>\n",
              "      <td>-2.306451e+00</td>\n",
              "      <td>-3.972464e+00</td>\n",
              "      <td>-1.312730e+00</td>\n",
              "      <td>-0.725910</td>\n",
              "      <td>-4.009415e+00</td>\n",
              "      <td>-1.264048e+00</td>\n",
              "      <td>-1.100272e+00</td>\n",
              "    </tr>\n",
              "    <tr>\n",
              "      <th>25%</th>\n",
              "      <td>-8.574080e-01</td>\n",
              "      <td>-9.032721e-01</td>\n",
              "      <td>-7.583270e-01</td>\n",
              "      <td>-5.273281e-01</td>\n",
              "      <td>-1.312730e+00</td>\n",
              "      <td>-0.725910</td>\n",
              "      <td>-5.459790e-01</td>\n",
              "      <td>-7.035985e-01</td>\n",
              "      <td>-8.509657e-01</td>\n",
              "    </tr>\n",
              "    <tr>\n",
              "      <th>50%</th>\n",
              "      <td>0.000000e+00</td>\n",
              "      <td>-3.128982e-01</td>\n",
              "      <td>-9.001115e-02</td>\n",
              "      <td>1.394724e-01</td>\n",
              "      <td>2.046904e-01</td>\n",
              "      <td>-0.725910</td>\n",
              "      <td>-9.390302e-03</td>\n",
              "      <td>-3.203424e-01</td>\n",
              "      <td>-3.108019e-01</td>\n",
              "    </tr>\n",
              "    <tr>\n",
              "      <th>75%</th>\n",
              "      <td>8.574080e-01</td>\n",
              "      <td>5.726627e-01</td>\n",
              "      <td>5.783047e-01</td>\n",
              "      <td>5.840062e-01</td>\n",
              "      <td>7.535448e-01</td>\n",
              "      <td>0.554790</td>\n",
              "      <td>4.997592e-01</td>\n",
              "      <td>5.377531e-01</td>\n",
              "      <td>7.279746e-01</td>\n",
              "    </tr>\n",
              "    <tr>\n",
              "      <th>max</th>\n",
              "      <td>1.714816e+00</td>\n",
              "      <td>2.638971e+00</td>\n",
              "      <td>2.397139e+00</td>\n",
              "      <td>2.362141e+00</td>\n",
              "      <td>1.851253e+00</td>\n",
              "      <td>3.857650</td>\n",
              "      <td>2.978433e+00</td>\n",
              "      <td>2.972674e+00</td>\n",
              "      <td>2.888630e+00</td>\n",
              "    </tr>\n",
              "  </tbody>\n",
              "</table>\n",
              "</div>\n",
              "      <button class=\"colab-df-convert\" onclick=\"convertToInteractive('df-eb7ba30f-36cd-4b74-81b4-65622b14f7c4')\"\n",
              "              title=\"Convert this dataframe to an interactive table.\"\n",
              "              style=\"display:none;\">\n",
              "        \n",
              "  <svg xmlns=\"http://www.w3.org/2000/svg\" height=\"24px\"viewBox=\"0 0 24 24\"\n",
              "       width=\"24px\">\n",
              "    <path d=\"M0 0h24v24H0V0z\" fill=\"none\"/>\n",
              "    <path d=\"M18.56 5.44l.94 2.06.94-2.06 2.06-.94-2.06-.94-.94-2.06-.94 2.06-2.06.94zm-11 1L8.5 8.5l.94-2.06 2.06-.94-2.06-.94L8.5 2.5l-.94 2.06-2.06.94zm10 10l.94 2.06.94-2.06 2.06-.94-2.06-.94-.94-2.06-.94 2.06-2.06.94z\"/><path d=\"M17.41 7.96l-1.37-1.37c-.4-.4-.92-.59-1.43-.59-.52 0-1.04.2-1.43.59L10.3 9.45l-7.72 7.72c-.78.78-.78 2.05 0 2.83L4 21.41c.39.39.9.59 1.41.59.51 0 1.02-.2 1.41-.59l7.78-7.78 2.81-2.81c.8-.78.8-2.07 0-2.86zM5.41 20L4 18.59l7.72-7.72 1.47 1.35L5.41 20z\"/>\n",
              "  </svg>\n",
              "      </button>\n",
              "      \n",
              "  <style>\n",
              "    .colab-df-container {\n",
              "      display:flex;\n",
              "      flex-wrap:wrap;\n",
              "      gap: 12px;\n",
              "    }\n",
              "\n",
              "    .colab-df-convert {\n",
              "      background-color: #E8F0FE;\n",
              "      border: none;\n",
              "      border-radius: 50%;\n",
              "      cursor: pointer;\n",
              "      display: none;\n",
              "      fill: #1967D2;\n",
              "      height: 32px;\n",
              "      padding: 0 0 0 0;\n",
              "      width: 32px;\n",
              "    }\n",
              "\n",
              "    .colab-df-convert:hover {\n",
              "      background-color: #E2EBFA;\n",
              "      box-shadow: 0px 1px 2px rgba(60, 64, 67, 0.3), 0px 1px 3px 1px rgba(60, 64, 67, 0.15);\n",
              "      fill: #174EA6;\n",
              "    }\n",
              "\n",
              "    [theme=dark] .colab-df-convert {\n",
              "      background-color: #3B4455;\n",
              "      fill: #D2E3FC;\n",
              "    }\n",
              "\n",
              "    [theme=dark] .colab-df-convert:hover {\n",
              "      background-color: #434B5C;\n",
              "      box-shadow: 0px 1px 3px 1px rgba(0, 0, 0, 0.15);\n",
              "      filter: drop-shadow(0px 1px 2px rgba(0, 0, 0, 0.3));\n",
              "      fill: #FFFFFF;\n",
              "    }\n",
              "  </style>\n",
              "\n",
              "      <script>\n",
              "        const buttonEl =\n",
              "          document.querySelector('#df-eb7ba30f-36cd-4b74-81b4-65622b14f7c4 button.colab-df-convert');\n",
              "        buttonEl.style.display =\n",
              "          google.colab.kernel.accessAllowed ? 'block' : 'none';\n",
              "\n",
              "        async function convertToInteractive(key) {\n",
              "          const element = document.querySelector('#df-eb7ba30f-36cd-4b74-81b4-65622b14f7c4');\n",
              "          const dataTable =\n",
              "            await google.colab.kernel.invokeFunction('convertToInteractive',\n",
              "                                                     [key], {});\n",
              "          if (!dataTable) return;\n",
              "\n",
              "          const docLinkHtml = 'Like what you see? Visit the ' +\n",
              "            '<a target=\"_blank\" href=https://colab.research.google.com/notebooks/data_table.ipynb>data table notebook</a>'\n",
              "            + ' to learn more about interactive tables.';\n",
              "          element.innerHTML = '';\n",
              "          dataTable['output_type'] = 'display_data';\n",
              "          await google.colab.output.renderOutput(dataTable, element);\n",
              "          const docLink = document.createElement('div');\n",
              "          docLink.innerHTML = docLinkHtml;\n",
              "          element.appendChild(docLink);\n",
              "        }\n",
              "      </script>\n",
              "    </div>\n",
              "  </div>\n",
              "  "
            ]
          },
          "metadata": {},
          "execution_count": 53
        }
      ],
      "source": [
        "# Transform and display the training data\n",
        "X_standardized_test = scaler.transform(X)\n",
        "test_data = pd.DataFrame(X_standardized_test)\n",
        "test_data.describe()"
      ]
    },
    {
      "cell_type": "code",
      "execution_count": null,
      "metadata": {
        "id": "vo3MmSZdnheu",
        "colab": {
          "base_uri": "https://localhost:8080/",
          "height": 206
        },
        "outputId": "5924fe7b-7335-47d0-f437-276242e13535"
      },
      "outputs": [
        {
          "output_type": "execute_result",
          "data": {
            "text/plain": [
              "          0         1         2         3         4         5         6  \\\n",
              "0 -1.714816  0.572663 -0.885222 -0.749595  0.818116  0.981691  0.136952   \n",
              "1 -1.680173  1.458224  1.009749  0.361739  0.624403  0.172827 -0.241099   \n",
              "2 -1.645531  0.572663  1.381976 -0.193928  0.366118  0.783968  0.088171   \n",
              "3 -1.610888 -0.903272 -0.851384 -0.749595 -0.667019 -0.725910 -0.911835   \n",
              "4 -1.576245  1.753411 -1.900386  1.917607  0.172405 -0.285529  0.319880   \n",
              "\n",
              "          7         8  \n",
              "0 -0.021701  0.727975  \n",
              "1 -1.080882  0.894179  \n",
              "2  0.778657  1.226587  \n",
              "3  0.460106 -1.100272  \n",
              "4 -0.599074  1.060383  "
            ],
            "text/html": [
              "\n",
              "  <div id=\"df-ceb8fedc-db30-439f-aa6f-bc67961e3d27\">\n",
              "    <div class=\"colab-df-container\">\n",
              "      <div>\n",
              "<style scoped>\n",
              "    .dataframe tbody tr th:only-of-type {\n",
              "        vertical-align: middle;\n",
              "    }\n",
              "\n",
              "    .dataframe tbody tr th {\n",
              "        vertical-align: top;\n",
              "    }\n",
              "\n",
              "    .dataframe thead th {\n",
              "        text-align: right;\n",
              "    }\n",
              "</style>\n",
              "<table border=\"1\" class=\"dataframe\">\n",
              "  <thead>\n",
              "    <tr style=\"text-align: right;\">\n",
              "      <th></th>\n",
              "      <th>0</th>\n",
              "      <th>1</th>\n",
              "      <th>2</th>\n",
              "      <th>3</th>\n",
              "      <th>4</th>\n",
              "      <th>5</th>\n",
              "      <th>6</th>\n",
              "      <th>7</th>\n",
              "      <th>8</th>\n",
              "    </tr>\n",
              "  </thead>\n",
              "  <tbody>\n",
              "    <tr>\n",
              "      <th>0</th>\n",
              "      <td>-1.714816</td>\n",
              "      <td>0.572663</td>\n",
              "      <td>-0.885222</td>\n",
              "      <td>-0.749595</td>\n",
              "      <td>0.818116</td>\n",
              "      <td>0.981691</td>\n",
              "      <td>0.136952</td>\n",
              "      <td>-0.021701</td>\n",
              "      <td>0.727975</td>\n",
              "    </tr>\n",
              "    <tr>\n",
              "      <th>1</th>\n",
              "      <td>-1.680173</td>\n",
              "      <td>1.458224</td>\n",
              "      <td>1.009749</td>\n",
              "      <td>0.361739</td>\n",
              "      <td>0.624403</td>\n",
              "      <td>0.172827</td>\n",
              "      <td>-0.241099</td>\n",
              "      <td>-1.080882</td>\n",
              "      <td>0.894179</td>\n",
              "    </tr>\n",
              "    <tr>\n",
              "      <th>2</th>\n",
              "      <td>-1.645531</td>\n",
              "      <td>0.572663</td>\n",
              "      <td>1.381976</td>\n",
              "      <td>-0.193928</td>\n",
              "      <td>0.366118</td>\n",
              "      <td>0.783968</td>\n",
              "      <td>0.088171</td>\n",
              "      <td>0.778657</td>\n",
              "      <td>1.226587</td>\n",
              "    </tr>\n",
              "    <tr>\n",
              "      <th>3</th>\n",
              "      <td>-1.610888</td>\n",
              "      <td>-0.903272</td>\n",
              "      <td>-0.851384</td>\n",
              "      <td>-0.749595</td>\n",
              "      <td>-0.667019</td>\n",
              "      <td>-0.725910</td>\n",
              "      <td>-0.911835</td>\n",
              "      <td>0.460106</td>\n",
              "      <td>-1.100272</td>\n",
              "    </tr>\n",
              "    <tr>\n",
              "      <th>4</th>\n",
              "      <td>-1.576245</td>\n",
              "      <td>1.753411</td>\n",
              "      <td>-1.900386</td>\n",
              "      <td>1.917607</td>\n",
              "      <td>0.172405</td>\n",
              "      <td>-0.285529</td>\n",
              "      <td>0.319880</td>\n",
              "      <td>-0.599074</td>\n",
              "      <td>1.060383</td>\n",
              "    </tr>\n",
              "  </tbody>\n",
              "</table>\n",
              "</div>\n",
              "      <button class=\"colab-df-convert\" onclick=\"convertToInteractive('df-ceb8fedc-db30-439f-aa6f-bc67961e3d27')\"\n",
              "              title=\"Convert this dataframe to an interactive table.\"\n",
              "              style=\"display:none;\">\n",
              "        \n",
              "  <svg xmlns=\"http://www.w3.org/2000/svg\" height=\"24px\"viewBox=\"0 0 24 24\"\n",
              "       width=\"24px\">\n",
              "    <path d=\"M0 0h24v24H0V0z\" fill=\"none\"/>\n",
              "    <path d=\"M18.56 5.44l.94 2.06.94-2.06 2.06-.94-2.06-.94-.94-2.06-.94 2.06-2.06.94zm-11 1L8.5 8.5l.94-2.06 2.06-.94-2.06-.94L8.5 2.5l-.94 2.06-2.06.94zm10 10l.94 2.06.94-2.06 2.06-.94-2.06-.94-.94-2.06-.94 2.06-2.06.94z\"/><path d=\"M17.41 7.96l-1.37-1.37c-.4-.4-.92-.59-1.43-.59-.52 0-1.04.2-1.43.59L10.3 9.45l-7.72 7.72c-.78.78-.78 2.05 0 2.83L4 21.41c.39.39.9.59 1.41.59.51 0 1.02-.2 1.41-.59l7.78-7.78 2.81-2.81c.8-.78.8-2.07 0-2.86zM5.41 20L4 18.59l7.72-7.72 1.47 1.35L5.41 20z\"/>\n",
              "  </svg>\n",
              "      </button>\n",
              "      \n",
              "  <style>\n",
              "    .colab-df-container {\n",
              "      display:flex;\n",
              "      flex-wrap:wrap;\n",
              "      gap: 12px;\n",
              "    }\n",
              "\n",
              "    .colab-df-convert {\n",
              "      background-color: #E8F0FE;\n",
              "      border: none;\n",
              "      border-radius: 50%;\n",
              "      cursor: pointer;\n",
              "      display: none;\n",
              "      fill: #1967D2;\n",
              "      height: 32px;\n",
              "      padding: 0 0 0 0;\n",
              "      width: 32px;\n",
              "    }\n",
              "\n",
              "    .colab-df-convert:hover {\n",
              "      background-color: #E2EBFA;\n",
              "      box-shadow: 0px 1px 2px rgba(60, 64, 67, 0.3), 0px 1px 3px 1px rgba(60, 64, 67, 0.15);\n",
              "      fill: #174EA6;\n",
              "    }\n",
              "\n",
              "    [theme=dark] .colab-df-convert {\n",
              "      background-color: #3B4455;\n",
              "      fill: #D2E3FC;\n",
              "    }\n",
              "\n",
              "    [theme=dark] .colab-df-convert:hover {\n",
              "      background-color: #434B5C;\n",
              "      box-shadow: 0px 1px 3px 1px rgba(0, 0, 0, 0.15);\n",
              "      filter: drop-shadow(0px 1px 2px rgba(0, 0, 0, 0.3));\n",
              "      fill: #FFFFFF;\n",
              "    }\n",
              "  </style>\n",
              "\n",
              "      <script>\n",
              "        const buttonEl =\n",
              "          document.querySelector('#df-ceb8fedc-db30-439f-aa6f-bc67961e3d27 button.colab-df-convert');\n",
              "        buttonEl.style.display =\n",
              "          google.colab.kernel.accessAllowed ? 'block' : 'none';\n",
              "\n",
              "        async function convertToInteractive(key) {\n",
              "          const element = document.querySelector('#df-ceb8fedc-db30-439f-aa6f-bc67961e3d27');\n",
              "          const dataTable =\n",
              "            await google.colab.kernel.invokeFunction('convertToInteractive',\n",
              "                                                     [key], {});\n",
              "          if (!dataTable) return;\n",
              "\n",
              "          const docLinkHtml = 'Like what you see? Visit the ' +\n",
              "            '<a target=\"_blank\" href=https://colab.research.google.com/notebooks/data_table.ipynb>data table notebook</a>'\n",
              "            + ' to learn more about interactive tables.';\n",
              "          element.innerHTML = '';\n",
              "          dataTable['output_type'] = 'display_data';\n",
              "          await google.colab.output.renderOutput(dataTable, element);\n",
              "          const docLink = document.createElement('div');\n",
              "          docLink.innerHTML = docLinkHtml;\n",
              "          element.appendChild(docLink);\n",
              "        }\n",
              "      </script>\n",
              "    </div>\n",
              "  </div>\n",
              "  "
            ]
          },
          "metadata": {},
          "execution_count": 54
        }
      ],
      "source": [
        "test_data.head()"
      ]
    },
    {
      "cell_type": "code",
      "execution_count": null,
      "metadata": {
        "id": "qIf0cd3BlEe8",
        "colab": {
          "base_uri": "https://localhost:8080/"
        },
        "outputId": "601219ae-542c-417e-b391-5408370f6756"
      },
      "outputs": [
        {
          "output_type": "stream",
          "name": "stdout",
          "text": [
            "4/4 [==============================] - 0s 4ms/step\n",
            "[0, 1, 1, 0, 0, 1, 0, 1, 0, 0, 0, 0, 0, 1, 0, 0, 0, 0, 0, 0, 0, 1, 0, 1, 1, 1, 0, 0, 0, 0, 0, 1, 0, 0, 1, 1, 0, 0, 0, 0, 1, 0, 1, 0, 1, 0, 0, 1, 1, 0, 0, 0, 0, 0, 0, 0, 0, 0, 0, 0, 0, 0, 0, 0, 1, 0, 0, 0, 0, 0, 0, 0, 1, 0, 0, 1, 1, 0, 1, 1, 1, 0, 1, 0, 0, 1, 1, 1, 0, 0, 0, 1, 0, 1, 0, 0, 0, 0, 0, 0]\n"
          ]
        }
      ],
      "source": [
        "# make predictions using the best model\n",
        "test_pred = model_final.predict(X_standardized_test)\n",
        "\n",
        "# convert predictions to the required label format (o or 1)\n",
        "final_predictions = [1 if pred > 0.5 else 0 for pred in test_pred]\n",
        "print(final_predictions)"
      ]
    },
    {
      "cell_type": "code",
      "execution_count": null,
      "metadata": {
        "id": "PCeoIv9LlSlS"
      },
      "outputs": [],
      "source": [
        "# create data frame for submission\n",
        "submission = pd.DataFrame(columns = ['class'])\n",
        "submission['class'] = final_predictions\n"
      ]
    },
    {
      "cell_type": "code",
      "execution_count": null,
      "metadata": {
        "id": "dz5sp7o9prbP",
        "colab": {
          "base_uri": "https://localhost:8080/",
          "height": 423
        },
        "outputId": "7a3cb53a-57ee-41b3-fb40-14f21b33b953"
      },
      "outputs": [
        {
          "output_type": "execute_result",
          "data": {
            "text/plain": [
              "    class   id\n",
              "0       0    1\n",
              "1       1    2\n",
              "2       1    3\n",
              "3       0    4\n",
              "4       0    5\n",
              "..    ...  ...\n",
              "95      0   96\n",
              "96      0   97\n",
              "97      0   98\n",
              "98      0   99\n",
              "99      0  100\n",
              "\n",
              "[100 rows x 2 columns]"
            ],
            "text/html": [
              "\n",
              "  <div id=\"df-718a1363-3bfe-4ba9-ad9d-7b6d83c30656\">\n",
              "    <div class=\"colab-df-container\">\n",
              "      <div>\n",
              "<style scoped>\n",
              "    .dataframe tbody tr th:only-of-type {\n",
              "        vertical-align: middle;\n",
              "    }\n",
              "\n",
              "    .dataframe tbody tr th {\n",
              "        vertical-align: top;\n",
              "    }\n",
              "\n",
              "    .dataframe thead th {\n",
              "        text-align: right;\n",
              "    }\n",
              "</style>\n",
              "<table border=\"1\" class=\"dataframe\">\n",
              "  <thead>\n",
              "    <tr style=\"text-align: right;\">\n",
              "      <th></th>\n",
              "      <th>class</th>\n",
              "      <th>id</th>\n",
              "    </tr>\n",
              "  </thead>\n",
              "  <tbody>\n",
              "    <tr>\n",
              "      <th>0</th>\n",
              "      <td>0</td>\n",
              "      <td>1</td>\n",
              "    </tr>\n",
              "    <tr>\n",
              "      <th>1</th>\n",
              "      <td>1</td>\n",
              "      <td>2</td>\n",
              "    </tr>\n",
              "    <tr>\n",
              "      <th>2</th>\n",
              "      <td>1</td>\n",
              "      <td>3</td>\n",
              "    </tr>\n",
              "    <tr>\n",
              "      <th>3</th>\n",
              "      <td>0</td>\n",
              "      <td>4</td>\n",
              "    </tr>\n",
              "    <tr>\n",
              "      <th>4</th>\n",
              "      <td>0</td>\n",
              "      <td>5</td>\n",
              "    </tr>\n",
              "    <tr>\n",
              "      <th>...</th>\n",
              "      <td>...</td>\n",
              "      <td>...</td>\n",
              "    </tr>\n",
              "    <tr>\n",
              "      <th>95</th>\n",
              "      <td>0</td>\n",
              "      <td>96</td>\n",
              "    </tr>\n",
              "    <tr>\n",
              "      <th>96</th>\n",
              "      <td>0</td>\n",
              "      <td>97</td>\n",
              "    </tr>\n",
              "    <tr>\n",
              "      <th>97</th>\n",
              "      <td>0</td>\n",
              "      <td>98</td>\n",
              "    </tr>\n",
              "    <tr>\n",
              "      <th>98</th>\n",
              "      <td>0</td>\n",
              "      <td>99</td>\n",
              "    </tr>\n",
              "    <tr>\n",
              "      <th>99</th>\n",
              "      <td>0</td>\n",
              "      <td>100</td>\n",
              "    </tr>\n",
              "  </tbody>\n",
              "</table>\n",
              "<p>100 rows × 2 columns</p>\n",
              "</div>\n",
              "      <button class=\"colab-df-convert\" onclick=\"convertToInteractive('df-718a1363-3bfe-4ba9-ad9d-7b6d83c30656')\"\n",
              "              title=\"Convert this dataframe to an interactive table.\"\n",
              "              style=\"display:none;\">\n",
              "        \n",
              "  <svg xmlns=\"http://www.w3.org/2000/svg\" height=\"24px\"viewBox=\"0 0 24 24\"\n",
              "       width=\"24px\">\n",
              "    <path d=\"M0 0h24v24H0V0z\" fill=\"none\"/>\n",
              "    <path d=\"M18.56 5.44l.94 2.06.94-2.06 2.06-.94-2.06-.94-.94-2.06-.94 2.06-2.06.94zm-11 1L8.5 8.5l.94-2.06 2.06-.94-2.06-.94L8.5 2.5l-.94 2.06-2.06.94zm10 10l.94 2.06.94-2.06 2.06-.94-2.06-.94-.94-2.06-.94 2.06-2.06.94z\"/><path d=\"M17.41 7.96l-1.37-1.37c-.4-.4-.92-.59-1.43-.59-.52 0-1.04.2-1.43.59L10.3 9.45l-7.72 7.72c-.78.78-.78 2.05 0 2.83L4 21.41c.39.39.9.59 1.41.59.51 0 1.02-.2 1.41-.59l7.78-7.78 2.81-2.81c.8-.78.8-2.07 0-2.86zM5.41 20L4 18.59l7.72-7.72 1.47 1.35L5.41 20z\"/>\n",
              "  </svg>\n",
              "      </button>\n",
              "      \n",
              "  <style>\n",
              "    .colab-df-container {\n",
              "      display:flex;\n",
              "      flex-wrap:wrap;\n",
              "      gap: 12px;\n",
              "    }\n",
              "\n",
              "    .colab-df-convert {\n",
              "      background-color: #E8F0FE;\n",
              "      border: none;\n",
              "      border-radius: 50%;\n",
              "      cursor: pointer;\n",
              "      display: none;\n",
              "      fill: #1967D2;\n",
              "      height: 32px;\n",
              "      padding: 0 0 0 0;\n",
              "      width: 32px;\n",
              "    }\n",
              "\n",
              "    .colab-df-convert:hover {\n",
              "      background-color: #E2EBFA;\n",
              "      box-shadow: 0px 1px 2px rgba(60, 64, 67, 0.3), 0px 1px 3px 1px rgba(60, 64, 67, 0.15);\n",
              "      fill: #174EA6;\n",
              "    }\n",
              "\n",
              "    [theme=dark] .colab-df-convert {\n",
              "      background-color: #3B4455;\n",
              "      fill: #D2E3FC;\n",
              "    }\n",
              "\n",
              "    [theme=dark] .colab-df-convert:hover {\n",
              "      background-color: #434B5C;\n",
              "      box-shadow: 0px 1px 3px 1px rgba(0, 0, 0, 0.15);\n",
              "      filter: drop-shadow(0px 1px 2px rgba(0, 0, 0, 0.3));\n",
              "      fill: #FFFFFF;\n",
              "    }\n",
              "  </style>\n",
              "\n",
              "      <script>\n",
              "        const buttonEl =\n",
              "          document.querySelector('#df-718a1363-3bfe-4ba9-ad9d-7b6d83c30656 button.colab-df-convert');\n",
              "        buttonEl.style.display =\n",
              "          google.colab.kernel.accessAllowed ? 'block' : 'none';\n",
              "\n",
              "        async function convertToInteractive(key) {\n",
              "          const element = document.querySelector('#df-718a1363-3bfe-4ba9-ad9d-7b6d83c30656');\n",
              "          const dataTable =\n",
              "            await google.colab.kernel.invokeFunction('convertToInteractive',\n",
              "                                                     [key], {});\n",
              "          if (!dataTable) return;\n",
              "\n",
              "          const docLinkHtml = 'Like what you see? Visit the ' +\n",
              "            '<a target=\"_blank\" href=https://colab.research.google.com/notebooks/data_table.ipynb>data table notebook</a>'\n",
              "            + ' to learn more about interactive tables.';\n",
              "          element.innerHTML = '';\n",
              "          dataTable['output_type'] = 'display_data';\n",
              "          await google.colab.output.renderOutput(dataTable, element);\n",
              "          const docLink = document.createElement('div');\n",
              "          docLink.innerHTML = docLinkHtml;\n",
              "          element.appendChild(docLink);\n",
              "        }\n",
              "      </script>\n",
              "    </div>\n",
              "  </div>\n",
              "  "
            ]
          },
          "metadata": {},
          "execution_count": 57
        }
      ],
      "source": [
        "submission.insert(1, 'id', range(1, 1 + len(submission)))\n",
        "submission"
      ]
    },
    {
      "cell_type": "code",
      "source": [
        "submission = submission.reindex(columns=['id','class'])"
      ],
      "metadata": {
        "id": "4zcVjUMLFQf7"
      },
      "execution_count": null,
      "outputs": []
    },
    {
      "cell_type": "code",
      "execution_count": null,
      "metadata": {
        "id": "Tpd1CbYT4jx8",
        "colab": {
          "base_uri": "https://localhost:8080/"
        },
        "outputId": "79c56924-cdd0-4f61-e508-56e85ca3c535"
      },
      "outputs": [
        {
          "output_type": "execute_result",
          "data": {
            "text/plain": [
              "0    0.7\n",
              "1    0.3\n",
              "Name: class, dtype: float64"
            ]
          },
          "metadata": {},
          "execution_count": 59
        }
      ],
      "source": [
        "submission['class'].value_counts(normalize = True)"
      ]
    },
    {
      "cell_type": "code",
      "source": [
        "submission.head(10)"
      ],
      "metadata": {
        "colab": {
          "base_uri": "https://localhost:8080/",
          "height": 363
        },
        "id": "stgflMSPFgqg",
        "outputId": "0a247f00-801e-4cee-855e-1ba72c775c43"
      },
      "execution_count": null,
      "outputs": [
        {
          "output_type": "execute_result",
          "data": {
            "text/plain": [
              "   id  class\n",
              "0   1      0\n",
              "1   2      1\n",
              "2   3      1\n",
              "3   4      0\n",
              "4   5      0\n",
              "5   6      1\n",
              "6   7      0\n",
              "7   8      1\n",
              "8   9      0\n",
              "9  10      0"
            ],
            "text/html": [
              "\n",
              "  <div id=\"df-26e8a29c-6715-4b10-a2f8-c680887e08dc\">\n",
              "    <div class=\"colab-df-container\">\n",
              "      <div>\n",
              "<style scoped>\n",
              "    .dataframe tbody tr th:only-of-type {\n",
              "        vertical-align: middle;\n",
              "    }\n",
              "\n",
              "    .dataframe tbody tr th {\n",
              "        vertical-align: top;\n",
              "    }\n",
              "\n",
              "    .dataframe thead th {\n",
              "        text-align: right;\n",
              "    }\n",
              "</style>\n",
              "<table border=\"1\" class=\"dataframe\">\n",
              "  <thead>\n",
              "    <tr style=\"text-align: right;\">\n",
              "      <th></th>\n",
              "      <th>id</th>\n",
              "      <th>class</th>\n",
              "    </tr>\n",
              "  </thead>\n",
              "  <tbody>\n",
              "    <tr>\n",
              "      <th>0</th>\n",
              "      <td>1</td>\n",
              "      <td>0</td>\n",
              "    </tr>\n",
              "    <tr>\n",
              "      <th>1</th>\n",
              "      <td>2</td>\n",
              "      <td>1</td>\n",
              "    </tr>\n",
              "    <tr>\n",
              "      <th>2</th>\n",
              "      <td>3</td>\n",
              "      <td>1</td>\n",
              "    </tr>\n",
              "    <tr>\n",
              "      <th>3</th>\n",
              "      <td>4</td>\n",
              "      <td>0</td>\n",
              "    </tr>\n",
              "    <tr>\n",
              "      <th>4</th>\n",
              "      <td>5</td>\n",
              "      <td>0</td>\n",
              "    </tr>\n",
              "    <tr>\n",
              "      <th>5</th>\n",
              "      <td>6</td>\n",
              "      <td>1</td>\n",
              "    </tr>\n",
              "    <tr>\n",
              "      <th>6</th>\n",
              "      <td>7</td>\n",
              "      <td>0</td>\n",
              "    </tr>\n",
              "    <tr>\n",
              "      <th>7</th>\n",
              "      <td>8</td>\n",
              "      <td>1</td>\n",
              "    </tr>\n",
              "    <tr>\n",
              "      <th>8</th>\n",
              "      <td>9</td>\n",
              "      <td>0</td>\n",
              "    </tr>\n",
              "    <tr>\n",
              "      <th>9</th>\n",
              "      <td>10</td>\n",
              "      <td>0</td>\n",
              "    </tr>\n",
              "  </tbody>\n",
              "</table>\n",
              "</div>\n",
              "      <button class=\"colab-df-convert\" onclick=\"convertToInteractive('df-26e8a29c-6715-4b10-a2f8-c680887e08dc')\"\n",
              "              title=\"Convert this dataframe to an interactive table.\"\n",
              "              style=\"display:none;\">\n",
              "        \n",
              "  <svg xmlns=\"http://www.w3.org/2000/svg\" height=\"24px\"viewBox=\"0 0 24 24\"\n",
              "       width=\"24px\">\n",
              "    <path d=\"M0 0h24v24H0V0z\" fill=\"none\"/>\n",
              "    <path d=\"M18.56 5.44l.94 2.06.94-2.06 2.06-.94-2.06-.94-.94-2.06-.94 2.06-2.06.94zm-11 1L8.5 8.5l.94-2.06 2.06-.94-2.06-.94L8.5 2.5l-.94 2.06-2.06.94zm10 10l.94 2.06.94-2.06 2.06-.94-2.06-.94-.94-2.06-.94 2.06-2.06.94z\"/><path d=\"M17.41 7.96l-1.37-1.37c-.4-.4-.92-.59-1.43-.59-.52 0-1.04.2-1.43.59L10.3 9.45l-7.72 7.72c-.78.78-.78 2.05 0 2.83L4 21.41c.39.39.9.59 1.41.59.51 0 1.02-.2 1.41-.59l7.78-7.78 2.81-2.81c.8-.78.8-2.07 0-2.86zM5.41 20L4 18.59l7.72-7.72 1.47 1.35L5.41 20z\"/>\n",
              "  </svg>\n",
              "      </button>\n",
              "      \n",
              "  <style>\n",
              "    .colab-df-container {\n",
              "      display:flex;\n",
              "      flex-wrap:wrap;\n",
              "      gap: 12px;\n",
              "    }\n",
              "\n",
              "    .colab-df-convert {\n",
              "      background-color: #E8F0FE;\n",
              "      border: none;\n",
              "      border-radius: 50%;\n",
              "      cursor: pointer;\n",
              "      display: none;\n",
              "      fill: #1967D2;\n",
              "      height: 32px;\n",
              "      padding: 0 0 0 0;\n",
              "      width: 32px;\n",
              "    }\n",
              "\n",
              "    .colab-df-convert:hover {\n",
              "      background-color: #E2EBFA;\n",
              "      box-shadow: 0px 1px 2px rgba(60, 64, 67, 0.3), 0px 1px 3px 1px rgba(60, 64, 67, 0.15);\n",
              "      fill: #174EA6;\n",
              "    }\n",
              "\n",
              "    [theme=dark] .colab-df-convert {\n",
              "      background-color: #3B4455;\n",
              "      fill: #D2E3FC;\n",
              "    }\n",
              "\n",
              "    [theme=dark] .colab-df-convert:hover {\n",
              "      background-color: #434B5C;\n",
              "      box-shadow: 0px 1px 3px 1px rgba(0, 0, 0, 0.15);\n",
              "      filter: drop-shadow(0px 1px 2px rgba(0, 0, 0, 0.3));\n",
              "      fill: #FFFFFF;\n",
              "    }\n",
              "  </style>\n",
              "\n",
              "      <script>\n",
              "        const buttonEl =\n",
              "          document.querySelector('#df-26e8a29c-6715-4b10-a2f8-c680887e08dc button.colab-df-convert');\n",
              "        buttonEl.style.display =\n",
              "          google.colab.kernel.accessAllowed ? 'block' : 'none';\n",
              "\n",
              "        async function convertToInteractive(key) {\n",
              "          const element = document.querySelector('#df-26e8a29c-6715-4b10-a2f8-c680887e08dc');\n",
              "          const dataTable =\n",
              "            await google.colab.kernel.invokeFunction('convertToInteractive',\n",
              "                                                     [key], {});\n",
              "          if (!dataTable) return;\n",
              "\n",
              "          const docLinkHtml = 'Like what you see? Visit the ' +\n",
              "            '<a target=\"_blank\" href=https://colab.research.google.com/notebooks/data_table.ipynb>data table notebook</a>'\n",
              "            + ' to learn more about interactive tables.';\n",
              "          element.innerHTML = '';\n",
              "          dataTable['output_type'] = 'display_data';\n",
              "          await google.colab.output.renderOutput(dataTable, element);\n",
              "          const docLink = document.createElement('div');\n",
              "          docLink.innerHTML = docLinkHtml;\n",
              "          element.appendChild(docLink);\n",
              "        }\n",
              "      </script>\n",
              "    </div>\n",
              "  </div>\n",
              "  "
            ]
          },
          "metadata": {},
          "execution_count": 60
        }
      ]
    },
    {
      "cell_type": "code",
      "source": [
        "submission.rename(columns={'class': 'prediction'}, inplace=True)"
      ],
      "metadata": {
        "id": "MT3sPQTMGvY9"
      },
      "execution_count": null,
      "outputs": []
    },
    {
      "cell_type": "code",
      "execution_count": null,
      "metadata": {
        "id": "W4QXh4-kmCwd"
      },
      "outputs": [],
      "source": [
        "# save data frame to .csv file\n",
        "submission.to_csv('/content/test-predictions.csv', index=False)"
      ]
    },
    {
      "cell_type": "code",
      "source": [
        "import json\n",
        "\n",
        "import pandas as pd\n",
        "\n",
        "test_file_path = \"/content/test-predictions.csv\"\n",
        "df_test = pd.read_csv(test_file_path)\n",
        "df_test = df_test[[\"id\", \"prediction\"]]\n",
        "\n",
        "data = []\n",
        "for index, row in df_test.iterrows():\n",
        "    data.append({'id': int(row['id']), 'prediction': int(row['prediction'])})\n",
        "\n",
        "print(data[0:5])\n",
        "\n",
        "submission_file_path = \"submission.json\"\n",
        "with open(submission_file_path, 'w') as fp:\n",
        "    fp.write('\\n'.join(json.dumps(i) for i in data))"
      ],
      "metadata": {
        "colab": {
          "base_uri": "https://localhost:8080/"
        },
        "id": "5qGcXacKGWJZ",
        "outputId": "282c29d8-4976-409f-b07c-cf8dcae26724"
      },
      "execution_count": null,
      "outputs": [
        {
          "output_type": "stream",
          "name": "stdout",
          "text": [
            "[{'id': 1, 'prediction': 0}, {'id': 2, 'prediction': 1}, {'id': 3, 'prediction': 1}, {'id': 4, 'prediction': 0}, {'id': 5, 'prediction': 0}]\n"
          ]
        }
      ]
    }
  ],
  "metadata": {
    "accelerator": "GPU",
    "colab": {
      "provenance": []
    },
    "kernelspec": {
      "display_name": "Python 3",
      "name": "python3"
    },
    "language_info": {
      "name": "python"
    },
    "gpuClass": "standard"
  },
  "nbformat": 4,
  "nbformat_minor": 0
}