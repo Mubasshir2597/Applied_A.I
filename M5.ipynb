{
  "cells": [
    {
      "cell_type": "code",
      "execution_count": null,
      "metadata": {
        "id": "3es8QvDsYmoq"
      },
      "outputs": [],
      "source": [
        "# import libraries\n",
        "import os\n",
        "import pandas as pd\n",
        "import numpy as np\n",
        "\n",
        "import cv2\n",
        "from skimage.feature import hog\n",
        "\n",
        "from sklearn.model_selection import train_test_split\n",
        "\n",
        "from sklearn.decomposition import PCA\n",
        "\n",
        "# libraries for data plotting\n",
        "import seaborn as sns\n",
        "import matplotlib.pyplot as plt \n",
        "\n",
        "# library for evaluation\n",
        "from sklearn import metrics\n",
        "\n",
        "# libraries for ML algorithms\n",
        "from sklearn import svm\n",
        "\n",
        "from random import randint\n",
        "from random import seed\n",
        "\n",
        "RANDOM_SEED = 100"
      ]
    },
    {
      "cell_type": "markdown",
      "metadata": {
        "id": "wgUunytVzS49"
      },
      "source": [
        "Drive and file setup"
      ]
    },
    {
      "cell_type": "code",
      "execution_count": null,
      "metadata": {
        "colab": {
          "base_uri": "https://localhost:8080/"
        },
        "id": "Gl1vhXbrzTlz",
        "outputId": "8a28446f-ad03-46e1-d569-b5eaf31c1907"
      },
      "outputs": [
        {
          "output_type": "stream",
          "name": "stdout",
          "text": [
            "Drive already mounted at /content/drive; to attempt to forcibly remount, call drive.mount(\"/content/drive\", force_remount=True).\n"
          ]
        }
      ],
      "source": [
        "# mount your Google Drive\n",
        "from google.colab import drive\n",
        "drive.mount('/content/drive')"
      ]
    },
    {
      "cell_type": "code",
      "execution_count": null,
      "metadata": {
        "id": "G_roO6-UzVz0"
      },
      "outputs": [],
      "source": [
        " # unzip file\n",
        "import shutil\n",
        "shutil.unpack_archive('/content/drive/MyDrive/Colab Notebooks/train_images.zip')"
      ]
    },
    {
      "cell_type": "code",
      "execution_count": null,
      "metadata": {
        "id": "hH0nNkU-JhPN"
      },
      "outputs": [],
      "source": [
        "# unzip file\n",
        "import shutil\n",
        "shutil.unpack_archive('/content/drive/MyDrive/Colab Notebooks/test_images.zip')"
      ]
    },
    {
      "cell_type": "markdown",
      "metadata": {
        "id": "RLLNcRTAY4Es"
      },
      "source": [
        "##Load image data sets"
      ]
    },
    {
      "cell_type": "code",
      "execution_count": null,
      "metadata": {
        "id": "Ys8MHtxQ0Lvb"
      },
      "outputs": [],
      "source": [
        "data_train = ('/content/drive/MyDrive/Colab Notebooks/train.csv')"
      ]
    },
    {
      "cell_type": "code",
      "execution_count": null,
      "metadata": {
        "id": "kpJQccxVJpQt"
      },
      "outputs": [],
      "source": [
        "data_test = ('/content/drive/MyDrive/Colab Notebooks/test.csv')"
      ]
    },
    {
      "cell_type": "code",
      "execution_count": null,
      "metadata": {
        "colab": {
          "base_uri": "https://localhost:8080/",
          "height": 223
        },
        "id": "QXIG_cOKY1ig",
        "outputId": "9b01bb57-5382-4c47-9225-54d37a3db718"
      },
      "outputs": [
        {
          "output_type": "stream",
          "name": "stdout",
          "text": [
            "Number of entries: 10000\n"
          ]
        },
        {
          "output_type": "execute_result",
          "data": {
            "text/plain": [
              "   id label\n",
              "0   1   cat\n",
              "1   2   dog\n",
              "2   3   cat\n",
              "3   4   cat\n",
              "4   5   cat"
            ],
            "text/html": [
              "\n",
              "  <div id=\"df-b3281d86-7912-452f-97ca-bd8f5de9c973\">\n",
              "    <div class=\"colab-df-container\">\n",
              "      <div>\n",
              "<style scoped>\n",
              "    .dataframe tbody tr th:only-of-type {\n",
              "        vertical-align: middle;\n",
              "    }\n",
              "\n",
              "    .dataframe tbody tr th {\n",
              "        vertical-align: top;\n",
              "    }\n",
              "\n",
              "    .dataframe thead th {\n",
              "        text-align: right;\n",
              "    }\n",
              "</style>\n",
              "<table border=\"1\" class=\"dataframe\">\n",
              "  <thead>\n",
              "    <tr style=\"text-align: right;\">\n",
              "      <th></th>\n",
              "      <th>id</th>\n",
              "      <th>label</th>\n",
              "    </tr>\n",
              "  </thead>\n",
              "  <tbody>\n",
              "    <tr>\n",
              "      <th>0</th>\n",
              "      <td>1</td>\n",
              "      <td>cat</td>\n",
              "    </tr>\n",
              "    <tr>\n",
              "      <th>1</th>\n",
              "      <td>2</td>\n",
              "      <td>dog</td>\n",
              "    </tr>\n",
              "    <tr>\n",
              "      <th>2</th>\n",
              "      <td>3</td>\n",
              "      <td>cat</td>\n",
              "    </tr>\n",
              "    <tr>\n",
              "      <th>3</th>\n",
              "      <td>4</td>\n",
              "      <td>cat</td>\n",
              "    </tr>\n",
              "    <tr>\n",
              "      <th>4</th>\n",
              "      <td>5</td>\n",
              "      <td>cat</td>\n",
              "    </tr>\n",
              "  </tbody>\n",
              "</table>\n",
              "</div>\n",
              "      <button class=\"colab-df-convert\" onclick=\"convertToInteractive('df-b3281d86-7912-452f-97ca-bd8f5de9c973')\"\n",
              "              title=\"Convert this dataframe to an interactive table.\"\n",
              "              style=\"display:none;\">\n",
              "        \n",
              "  <svg xmlns=\"http://www.w3.org/2000/svg\" height=\"24px\"viewBox=\"0 0 24 24\"\n",
              "       width=\"24px\">\n",
              "    <path d=\"M0 0h24v24H0V0z\" fill=\"none\"/>\n",
              "    <path d=\"M18.56 5.44l.94 2.06.94-2.06 2.06-.94-2.06-.94-.94-2.06-.94 2.06-2.06.94zm-11 1L8.5 8.5l.94-2.06 2.06-.94-2.06-.94L8.5 2.5l-.94 2.06-2.06.94zm10 10l.94 2.06.94-2.06 2.06-.94-2.06-.94-.94-2.06-.94 2.06-2.06.94z\"/><path d=\"M17.41 7.96l-1.37-1.37c-.4-.4-.92-.59-1.43-.59-.52 0-1.04.2-1.43.59L10.3 9.45l-7.72 7.72c-.78.78-.78 2.05 0 2.83L4 21.41c.39.39.9.59 1.41.59.51 0 1.02-.2 1.41-.59l7.78-7.78 2.81-2.81c.8-.78.8-2.07 0-2.86zM5.41 20L4 18.59l7.72-7.72 1.47 1.35L5.41 20z\"/>\n",
              "  </svg>\n",
              "      </button>\n",
              "      \n",
              "  <style>\n",
              "    .colab-df-container {\n",
              "      display:flex;\n",
              "      flex-wrap:wrap;\n",
              "      gap: 12px;\n",
              "    }\n",
              "\n",
              "    .colab-df-convert {\n",
              "      background-color: #E8F0FE;\n",
              "      border: none;\n",
              "      border-radius: 50%;\n",
              "      cursor: pointer;\n",
              "      display: none;\n",
              "      fill: #1967D2;\n",
              "      height: 32px;\n",
              "      padding: 0 0 0 0;\n",
              "      width: 32px;\n",
              "    }\n",
              "\n",
              "    .colab-df-convert:hover {\n",
              "      background-color: #E2EBFA;\n",
              "      box-shadow: 0px 1px 2px rgba(60, 64, 67, 0.3), 0px 1px 3px 1px rgba(60, 64, 67, 0.15);\n",
              "      fill: #174EA6;\n",
              "    }\n",
              "\n",
              "    [theme=dark] .colab-df-convert {\n",
              "      background-color: #3B4455;\n",
              "      fill: #D2E3FC;\n",
              "    }\n",
              "\n",
              "    [theme=dark] .colab-df-convert:hover {\n",
              "      background-color: #434B5C;\n",
              "      box-shadow: 0px 1px 3px 1px rgba(0, 0, 0, 0.15);\n",
              "      filter: drop-shadow(0px 1px 2px rgba(0, 0, 0, 0.3));\n",
              "      fill: #FFFFFF;\n",
              "    }\n",
              "  </style>\n",
              "\n",
              "      <script>\n",
              "        const buttonEl =\n",
              "          document.querySelector('#df-b3281d86-7912-452f-97ca-bd8f5de9c973 button.colab-df-convert');\n",
              "        buttonEl.style.display =\n",
              "          google.colab.kernel.accessAllowed ? 'block' : 'none';\n",
              "\n",
              "        async function convertToInteractive(key) {\n",
              "          const element = document.querySelector('#df-b3281d86-7912-452f-97ca-bd8f5de9c973');\n",
              "          const dataTable =\n",
              "            await google.colab.kernel.invokeFunction('convertToInteractive',\n",
              "                                                     [key], {});\n",
              "          if (!dataTable) return;\n",
              "\n",
              "          const docLinkHtml = 'Like what you see? Visit the ' +\n",
              "            '<a target=\"_blank\" href=https://colab.research.google.com/notebooks/data_table.ipynb>data table notebook</a>'\n",
              "            + ' to learn more about interactive tables.';\n",
              "          element.innerHTML = '';\n",
              "          dataTable['output_type'] = 'display_data';\n",
              "          await google.colab.output.renderOutput(dataTable, element);\n",
              "          const docLink = document.createElement('div');\n",
              "          docLink.innerHTML = docLinkHtml;\n",
              "          element.appendChild(docLink);\n",
              "        }\n",
              "      </script>\n",
              "    </div>\n",
              "  </div>\n",
              "  "
            ]
          },
          "metadata": {},
          "execution_count": 26
        }
      ],
      "source": [
        "# load training data\n",
        "df_train = pd.read_csv(os.path.join(data_train))\n",
        "\n",
        "# summarise the details\n",
        "print(f'Number of entries: {len(df_train)}')\n",
        "df_train.head()"
      ]
    },
    {
      "cell_type": "code",
      "execution_count": null,
      "metadata": {
        "colab": {
          "base_uri": "https://localhost:8080/",
          "height": 223
        },
        "id": "9OnPaCcSktqc",
        "outputId": "fb9c8230-66a5-4300-9ff0-565cd630397e"
      },
      "outputs": [
        {
          "output_type": "stream",
          "name": "stdout",
          "text": [
            "Number of entries: 1000\n"
          ]
        },
        {
          "output_type": "execute_result",
          "data": {
            "text/plain": [
              "   id\n",
              "0   1\n",
              "1   2\n",
              "2   3\n",
              "3   4\n",
              "4   5"
            ],
            "text/html": [
              "\n",
              "  <div id=\"df-cf143be9-465a-44ff-94ac-dae9387e03cc\">\n",
              "    <div class=\"colab-df-container\">\n",
              "      <div>\n",
              "<style scoped>\n",
              "    .dataframe tbody tr th:only-of-type {\n",
              "        vertical-align: middle;\n",
              "    }\n",
              "\n",
              "    .dataframe tbody tr th {\n",
              "        vertical-align: top;\n",
              "    }\n",
              "\n",
              "    .dataframe thead th {\n",
              "        text-align: right;\n",
              "    }\n",
              "</style>\n",
              "<table border=\"1\" class=\"dataframe\">\n",
              "  <thead>\n",
              "    <tr style=\"text-align: right;\">\n",
              "      <th></th>\n",
              "      <th>id</th>\n",
              "    </tr>\n",
              "  </thead>\n",
              "  <tbody>\n",
              "    <tr>\n",
              "      <th>0</th>\n",
              "      <td>1</td>\n",
              "    </tr>\n",
              "    <tr>\n",
              "      <th>1</th>\n",
              "      <td>2</td>\n",
              "    </tr>\n",
              "    <tr>\n",
              "      <th>2</th>\n",
              "      <td>3</td>\n",
              "    </tr>\n",
              "    <tr>\n",
              "      <th>3</th>\n",
              "      <td>4</td>\n",
              "    </tr>\n",
              "    <tr>\n",
              "      <th>4</th>\n",
              "      <td>5</td>\n",
              "    </tr>\n",
              "  </tbody>\n",
              "</table>\n",
              "</div>\n",
              "      <button class=\"colab-df-convert\" onclick=\"convertToInteractive('df-cf143be9-465a-44ff-94ac-dae9387e03cc')\"\n",
              "              title=\"Convert this dataframe to an interactive table.\"\n",
              "              style=\"display:none;\">\n",
              "        \n",
              "  <svg xmlns=\"http://www.w3.org/2000/svg\" height=\"24px\"viewBox=\"0 0 24 24\"\n",
              "       width=\"24px\">\n",
              "    <path d=\"M0 0h24v24H0V0z\" fill=\"none\"/>\n",
              "    <path d=\"M18.56 5.44l.94 2.06.94-2.06 2.06-.94-2.06-.94-.94-2.06-.94 2.06-2.06.94zm-11 1L8.5 8.5l.94-2.06 2.06-.94-2.06-.94L8.5 2.5l-.94 2.06-2.06.94zm10 10l.94 2.06.94-2.06 2.06-.94-2.06-.94-.94-2.06-.94 2.06-2.06.94z\"/><path d=\"M17.41 7.96l-1.37-1.37c-.4-.4-.92-.59-1.43-.59-.52 0-1.04.2-1.43.59L10.3 9.45l-7.72 7.72c-.78.78-.78 2.05 0 2.83L4 21.41c.39.39.9.59 1.41.59.51 0 1.02-.2 1.41-.59l7.78-7.78 2.81-2.81c.8-.78.8-2.07 0-2.86zM5.41 20L4 18.59l7.72-7.72 1.47 1.35L5.41 20z\"/>\n",
              "  </svg>\n",
              "      </button>\n",
              "      \n",
              "  <style>\n",
              "    .colab-df-container {\n",
              "      display:flex;\n",
              "      flex-wrap:wrap;\n",
              "      gap: 12px;\n",
              "    }\n",
              "\n",
              "    .colab-df-convert {\n",
              "      background-color: #E8F0FE;\n",
              "      border: none;\n",
              "      border-radius: 50%;\n",
              "      cursor: pointer;\n",
              "      display: none;\n",
              "      fill: #1967D2;\n",
              "      height: 32px;\n",
              "      padding: 0 0 0 0;\n",
              "      width: 32px;\n",
              "    }\n",
              "\n",
              "    .colab-df-convert:hover {\n",
              "      background-color: #E2EBFA;\n",
              "      box-shadow: 0px 1px 2px rgba(60, 64, 67, 0.3), 0px 1px 3px 1px rgba(60, 64, 67, 0.15);\n",
              "      fill: #174EA6;\n",
              "    }\n",
              "\n",
              "    [theme=dark] .colab-df-convert {\n",
              "      background-color: #3B4455;\n",
              "      fill: #D2E3FC;\n",
              "    }\n",
              "\n",
              "    [theme=dark] .colab-df-convert:hover {\n",
              "      background-color: #434B5C;\n",
              "      box-shadow: 0px 1px 3px 1px rgba(0, 0, 0, 0.15);\n",
              "      filter: drop-shadow(0px 1px 2px rgba(0, 0, 0, 0.3));\n",
              "      fill: #FFFFFF;\n",
              "    }\n",
              "  </style>\n",
              "\n",
              "      <script>\n",
              "        const buttonEl =\n",
              "          document.querySelector('#df-cf143be9-465a-44ff-94ac-dae9387e03cc button.colab-df-convert');\n",
              "        buttonEl.style.display =\n",
              "          google.colab.kernel.accessAllowed ? 'block' : 'none';\n",
              "\n",
              "        async function convertToInteractive(key) {\n",
              "          const element = document.querySelector('#df-cf143be9-465a-44ff-94ac-dae9387e03cc');\n",
              "          const dataTable =\n",
              "            await google.colab.kernel.invokeFunction('convertToInteractive',\n",
              "                                                     [key], {});\n",
              "          if (!dataTable) return;\n",
              "\n",
              "          const docLinkHtml = 'Like what you see? Visit the ' +\n",
              "            '<a target=\"_blank\" href=https://colab.research.google.com/notebooks/data_table.ipynb>data table notebook</a>'\n",
              "            + ' to learn more about interactive tables.';\n",
              "          element.innerHTML = '';\n",
              "          dataTable['output_type'] = 'display_data';\n",
              "          await google.colab.output.renderOutput(dataTable, element);\n",
              "          const docLink = document.createElement('div');\n",
              "          docLink.innerHTML = docLinkHtml;\n",
              "          element.appendChild(docLink);\n",
              "        }\n",
              "      </script>\n",
              "    </div>\n",
              "  </div>\n",
              "  "
            ]
          },
          "metadata": {},
          "execution_count": 27
        }
      ],
      "source": [
        "# load testing data\n",
        "df_test = pd.read_csv(os.path.join(data_test))\n",
        "\n",
        "# summarise the details\n",
        "print(f'Number of entries: {len(df_test)}')\n",
        "df_test.head()"
      ]
    },
    {
      "cell_type": "code",
      "execution_count": null,
      "metadata": {
        "colab": {
          "base_uri": "https://localhost:8080/",
          "height": 296
        },
        "id": "4xDNv-HVz-zB",
        "outputId": "e117a1fc-2fad-43ba-8592-cecee3a7ea51"
      },
      "outputs": [
        {
          "output_type": "execute_result",
          "data": {
            "text/plain": [
              "<AxesSubplot:xlabel='label', ylabel='count'>"
            ]
          },
          "metadata": {},
          "execution_count": 28
        },
        {
          "output_type": "display_data",
          "data": {
            "text/plain": [
              "<Figure size 432x288 with 1 Axes>"
            ],
            "image/png": "[encoded data removed]"
          },
          "metadata": {
            "needs_background": "light"
          }
        }
      ],
      "source": [
        "# Summarise label details in training data\n",
        "sns.countplot(x=df_train['label'])"
      ]
    },
    {
      "cell_type": "markdown",
      "metadata": {
        "id": "0T1JqzBw02ov"
      },
      "source": [
        "Let's write a function to load images."
      ]
    },
    {
      "cell_type": "code",
      "execution_count": null,
      "metadata": {
        "id": "ihQijjmibPXj"
      },
      "outputs": [],
      "source": [
        "# parameters\n",
        "# ids - list of image ids\n",
        "# folder_path - path to image folder\n",
        "# dim - dimensions to resize images\n",
        "def load_images(ids, folder_path, dim):\n",
        "  images = []\n",
        "  for id in ids:\n",
        "    image_path = os.path.join(folder_path, f'{id}.jpg')\n",
        "    img = cv2.imread(image_path)\n",
        "\n",
        "    # Resize if necessary\n",
        "    if img.shape[0] != dim[1] or img.shape[1] != dim[0]:\n",
        "      img = cv2.resize(img, dim)\n",
        "    images.append(img)\n",
        "  return images"
      ]
    },
    {
      "cell_type": "code",
      "execution_count": null,
      "metadata": {
        "colab": {
          "base_uri": "https://localhost:8080/"
        },
        "id": "0ayw62e4kgZt",
        "outputId": "21b15853-f1c1-4d0f-b30b-deddaff77fbc"
      },
      "outputs": [
        {
          "output_type": "stream",
          "name": "stdout",
          "text": [
            "Number of training images loaded: 9000\n",
            "Number of testing images loaded: 1000\n"
          ]
        }
      ],
      "source": [
        "base_dim = (200, 200)\n",
        "\n",
        "# load train images\n",
        "train_image_folder = os.path.join('train_images')\n",
        "train_images = load_images(df_train['id'][0:9000], train_image_folder, base_dim)\n",
        "print(f'Number of training images loaded: {len(train_images)}')\n",
        "\n",
        "# load test images\n",
        "test_image_folder = os.path.join('test_images')\n",
        "test_images = load_images(df_test['id'], test_image_folder, base_dim)\n",
        "print(f'Number of testing images loaded: {len(test_images)}')"
      ]
    },
    {
      "cell_type": "markdown",
      "metadata": {
        "id": "LDgfRkS1kV9Q"
      },
      "source": [
        "## Feature extraction and model generation"
      ]
    },
    {
      "cell_type": "code",
      "execution_count": null,
      "metadata": {
        "id": "UKtAoOUcujQa"
      },
      "outputs": [],
      "source": [
        "# method to plot confusion matrix\n",
        "def plot_confusion_matrix(matrix):\n",
        "    plt.clf()\n",
        "    plt.imshow(matrix, interpolation='nearest', cmap=plt.cm.Set2_r)\n",
        "    classNames = ['0', '1']\n",
        "    plt.title('Confusion Matrix')\n",
        "    plt.ylabel('Actual')\n",
        "    plt.xlabel('Predicted')\n",
        "    tick_marks = np.arange(len(classNames))\n",
        "    plt.xticks(tick_marks, classNames)\n",
        "    plt.yticks(tick_marks, classNames)\n",
        "    s = [['TN','FP'], ['FN', 'TP']]\n",
        "\n",
        "    for i in range(2):\n",
        "        for j in range(2):\n",
        "            plt.text(j,i, str(s[i][j])+\" = \"+str(matrix[i][j]))\n",
        "    plt.show()\n",
        "\n",
        "# method to calculate evaluation results\n",
        "def evaluate(actuals, predictions):\n",
        "  accuracy = metrics.accuracy_score(actuals, predictions)\n",
        "  confusion_matrix = metrics.confusion_matrix(actuals, predictions)\n",
        "  return accuracy, confusion_matrix"
      ]
    },
    {
      "cell_type": "markdown",
      "metadata": {
        "id": "oUAtz0IKIlCd"
      },
      "source": [
        "### SVM"
      ]
    },
    {
      "cell_type": "code",
      "execution_count": null,
      "metadata": {
        "id": "miHFLfq69Bn9",
        "colab": {
          "base_uri": "https://localhost:8080/",
          "height": 53
        },
        "outputId": "7f9f088b-e453-4bce-a432-8cbcb778f0c5"
      },
      "outputs": [
        {
          "output_type": "execute_result",
          "data": {
            "text/plain": [
              "\"def build_svm_model(X_train, X_val, y_train, y_val):\\n  # build model\\n  clf = svm.SVC(kernel='linear', random_state=RANDOM_SEED) \\n  clf.fit(X_train, y_train)\\n  return clf \""
            ],
            "application/vnd.google.colaboratory.intrinsic+json": {
              "type": "string"
            }
          },
          "metadata": {},
          "execution_count": 32
        }
      ],
      "source": [
        "'''def build_svm_model(X_train, X_val, y_train, y_val):\n",
        "  # build model\n",
        "  clf = svm.SVC(kernel='linear', random_state=RANDOM_SEED) \n",
        "  clf.fit(X_train, y_train)\n",
        "  return clf '''"
      ]
    },
    {
      "cell_type": "code",
      "source": [
        "from sklearn.neighbors import KNeighborsClassifier\n",
        "\n",
        "def build_knn_model(X_train, X_val, y_train, y_val):\n",
        "  # build model\n",
        "  clf = KNeighborsClassifier(n_neighbors=3) \n",
        "  clf.fit(X_train, y_train)\n",
        "  return clf"
      ],
      "metadata": {
        "id": "-RxP9bwh3cwS"
      },
      "execution_count": null,
      "outputs": []
    },
    {
      "cell_type": "markdown",
      "metadata": {
        "id": "LJNCXRbPk3bj"
      },
      "source": [
        "#### Model M5\n",
        "\n",
        "Let's try to combine features.\n",
        "\n",
        "- Preprocessing - gray scaling <br>\n",
        "- Features - image vector + edge map vector<br>\n",
        "- Algorithm - SVM <br>"
      ]
    },
    {
      "cell_type": "code",
      "execution_count": null,
      "metadata": {
        "id": "wZtbSAjUkpUC"
      },
      "outputs": [],
      "source": [
        "# method to get image features\n",
        "def get_features_m5(images):\n",
        "  features_list = []\n",
        "  for img in images:\n",
        "    # image preprocessing\n",
        "    img_grayscaled = cv2.cvtColor(img, cv2.COLOR_BGR2GRAY)\n",
        "  \n",
        "    # feature extraction\n",
        "    edges_canny = cv2.Canny(img_grayscaled, 100, 200) \n",
        "    features1 = img_grayscaled.flatten()\n",
        "    features2 = edges_canny.flatten()\n",
        "    features = np.hstack((features1, features2))\n",
        "\n",
        "    features_list.append(features)\n",
        "\n",
        "  features_list = np.array(features_list)\n",
        "  return features_list"
      ]
    },
    {
      "cell_type": "markdown",
      "metadata": {
        "id": "S8OjWxhy_iUZ"
      },
      "source": [
        "Train and validate model"
      ]
    },
    {
      "cell_type": "code",
      "execution_count": null,
      "metadata": {
        "id": "VkuoF3aIJJS2",
        "colab": {
          "base_uri": "https://localhost:8080/"
        },
        "outputId": "832edceb-8e86-4b7a-c7ea-fd8846b8f393"
      },
      "outputs": [
        {
          "output_type": "stream",
          "name": "stdout",
          "text": [
            "(9000, 80000)\n"
          ]
        }
      ],
      "source": [
        "# feature extraction\n",
        "features_train = get_features_m5(train_images)\n",
        "print(features_train.shape)"
      ]
    },
    {
      "cell_type": "code",
      "execution_count": null,
      "metadata": {
        "id": "xNpWlh3GJMoI"
      },
      "outputs": [],
      "source": [
        "# data split for train and validation\n",
        "X_train, X_val, y_train, y_val = train_test_split(features_train, df_train['label'][0:9000], test_size=0.3, random_state=RANDOM_SEED)\n",
        "\n",
        "# train model\n",
        "m5 = build_knn_model(X_train, X_val, y_train, y_val)"
      ]
    },
    {
      "cell_type": "code",
      "execution_count": null,
      "metadata": {
        "id": "OKke5I8mJUP8",
        "colab": {
          "base_uri": "https://localhost:8080/",
          "height": 367
        },
        "outputId": "87007f29-a27a-48d2-e6b8-910f5400fd2e"
      },
      "outputs": [
        {
          "output_type": "stream",
          "name": "stderr",
          "text": [
            "/usr/local/lib/python3.8/dist-packages/sklearn/neighbors/_classification.py:228: FutureWarning: Unlike other reduction functions (e.g. `skew`, `kurtosis`), the default behavior of `mode` typically preserves the axis it acts along. In SciPy 1.11.0, this behavior will change: the default value of `keepdims` will become False, the `axis` over which the statistic is taken will be eliminated, and the value None will no longer be accepted. Set `keepdims` to True or False to avoid this warning.\n",
            "  mode, _ = stats.mode(_y[neigh_ind, k], axis=1)\n"
          ]
        },
        {
          "output_type": "stream",
          "name": "stdout",
          "text": [
            "Accuracy: 0.502962962962963\n"
          ]
        },
        {
          "output_type": "display_data",
          "data": {
            "text/plain": [
              "<Figure size 432x288 with 1 Axes>"
            ],
            "image/png": "[encoded data removed]"
          },
          "metadata": {
            "needs_background": "light"
          }
        }
      ],
      "source": [
        "# make predictions on validation data\n",
        "y_pred = m5.predict(X_val)\n",
        "\n",
        "# evaluate model\n",
        "accuracy, confusion_matrix = evaluate(y_val, y_pred)\n",
        "print(f'Accuracy: {accuracy}')\n",
        "plot_confusion_matrix(confusion_matrix)"
      ]
    },
    {
      "cell_type": "markdown",
      "metadata": {
        "id": "ETGu_xdgeoPj"
      },
      "source": [
        "Make predictions on test images"
      ]
    },
    {
      "cell_type": "code",
      "execution_count": null,
      "metadata": {
        "id": "kfV9V13ckoBM"
      },
      "outputs": [],
      "source": [
        "# feature extraction - test data\n",
        "features_test = get_features_m5(test_images)\n",
        "print(features_test.shape)\n",
        "\n",
        "# get model predictions\n",
        "predictions = m5.predict(features_test)\n",
        "print(predictions)"
      ]
    },
    {
      "cell_type": "code",
      "source": [
        "import pandas as pd\n",
        "\n",
        "# Create an array\n",
        "arr = predictions\n",
        "\n",
        "# Convert the array into a pandas DataFrame\n",
        "df = pd.DataFrame(arr, columns=['predictions'])\n",
        "\n",
        "print(df)"
      ],
      "metadata": {
        "id": "OdVXl4ZW-sTy"
      },
      "execution_count": null,
      "outputs": []
    },
    {
      "cell_type": "code",
      "source": [
        "id_add = df_test"
      ],
      "metadata": {
        "id": "dQR95msRGQRR"
      },
      "execution_count": null,
      "outputs": []
    },
    {
      "cell_type": "code",
      "source": [
        "final=pd.concat([df, id_add], axis=1)"
      ],
      "metadata": {
        "id": "N0EFGTzqBst1"
      },
      "execution_count": null,
      "outputs": []
    },
    {
      "cell_type": "code",
      "source": [
        "final.to_csv('submission.csv')"
      ],
      "metadata": {
        "id": "vIqCNABXAENJ"
      },
      "execution_count": null,
      "outputs": []
    },
    {
      "cell_type": "code",
      "source": [
        "final.head(10)"
      ],
      "metadata": {
        "id": "QVSCcczQCSu5"
      },
      "execution_count": null,
      "outputs": []
    },
    {
      "cell_type": "code",
      "source": [
        "fin_ren = final.rename(columns={'predictions': 'prediction'})"
      ],
      "metadata": {
        "id": "yBw8TXgqDNal"
      },
      "execution_count": null,
      "outputs": []
    },
    {
      "cell_type": "code",
      "source": [
        "import json\n",
        "\n",
        "import pandas as pd\n",
        "\n",
        "df_test = fin_ren[[\"id\", \"prediction\"]]\n",
        "\n",
        "data = []\n",
        "for index, row in df_test.iterrows():\n",
        "    data.append({'id': row['id'], 'prediction': row['prediction']})\n",
        "\n",
        "print(data[0:5])\n",
        "\n",
        "submission_file_path = \"submission.json\"\n",
        "with open(submission_file_path, 'w') as fp:\n",
        "    fp.write('\\n'.join(json.dumps(i) for i in data))\n"
      ],
      "metadata": {
        "id": "dUkGbu9f97VD"
      },
      "execution_count": null,
      "outputs": []
    },
    {
      "cell_type": "code",
      "source": [
        "'''pca = PCA(n_components=2)\n",
        "pca.fit(X)\n",
        "\n",
        "X_new = pca.transform(X)\n",
        "\n",
        "\n",
        "print(f'Shape of transformed data: {X_new.shape}')\n",
        "print(f'Transformed data:\\n {X_new}') '''"
      ],
      "metadata": {
        "id": "rQhQVity1sSq"
      },
      "execution_count": null,
      "outputs": []
    }
  ],
  "metadata": {
    "accelerator": "TPU",
    "colab": {
      "provenance": []
    },
    "gpuClass": "standard",
    "kernelspec": {
      "display_name": "Python 3",
      "name": "python3"
    }
  },
  "nbformat": 4,
  "nbformat_minor": 0
}