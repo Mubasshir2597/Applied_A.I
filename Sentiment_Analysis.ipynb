{
  "nbformat": 4,
  "nbformat_minor": 0,
  "metadata": {
    "colab": {
      "provenance": []
    },
    "kernelspec": {
      "name": "python3",
      "display_name": "Python 3"
    },
    "gpuClass": "standard"
  },
  "cells": [
    {
      "cell_type": "markdown",
      "source": [
        "Sentiment analysis is the process of understanding the opinions and emotions of people in a given data. In this task, we will use machine learning to classify tweets as positive or negative. \n",
        "The first step to solving this problem is to collect and label the tweets. We can use existing datasets or create a new one from scratch. After we have the dataset, we need to feature engineer it. This involves selecting the most relevant features from the dataset and transforming them into numerical values. The next step is to select a machine-learning algorithm for the classification task\n"
      ],
      "metadata": {
        "id": "JbQvuM7-UXYp"
      }
    },
    {
      "cell_type": "code",
      "metadata": {
        "colab": {
          "base_uri": "https://localhost:8080/"
        },
        "id": "lzZ6zwd2jwgs",
        "outputId": "88006b59-1732-4cbd-9029-d6258291160c"
      },
      "source": [
        "# import libraries\n",
        "import pandas as pd\n",
        "import numpy as np\n",
        "\n",
        "# libraries for data preprocessing\n",
        "import nltk\n",
        "# download modules available with NLTK\n",
        "nltk.download('punkt')\n",
        "nltk.download('wordnet')\n",
        "nltk.download('omw-1.4')\n",
        "nltk.download('stopwords')\n",
        "\n",
        "from nltk.tokenize import word_tokenize\n",
        "from nltk.stem import WordNetLemmatizer\n",
        "from nltk.corpus import stopwords\n",
        "\n",
        "# libraries for data split and feature extraction\n",
        "from sklearn.model_selection import train_test_split\n",
        "from sklearn.feature_extraction.text import CountVectorizer\n",
        "from sklearn.feature_extraction.text import TfidfVectorizer\n",
        "\n",
        "# library for evaluation\n",
        "from sklearn import metrics\n",
        "\n",
        "# libraries for ML algorithms\n",
        "from sklearn import svm\n",
        "from sklearn import tree\n",
        "from sklearn.naive_bayes import GaussianNB\n",
        "\n",
        "# libraries for data plotting\n",
        "import seaborn as sns\n",
        "import matplotlib.pyplot as plt \n",
        "\n",
        "RANDOM_SEED = 100"
      ],
      "execution_count": null,
      "outputs": [
        {
          "output_type": "stream",
          "name": "stderr",
          "text": [
            "[nltk_data] Downloading package punkt to /root/nltk_data...\n",
            "[nltk_data]   Unzipping tokenizers/punkt.zip.\n",
            "[nltk_data] Downloading package wordnet to /root/nltk_data...\n",
            "[nltk_data] Downloading package omw-1.4 to /root/nltk_data...\n",
            "[nltk_data] Downloading package stopwords to /root/nltk_data...\n",
            "[nltk_data]   Unzipping corpora/stopwords.zip.\n"
          ]
        }
      ]
    },
    {
      "cell_type": "code",
      "metadata": {
        "colab": {
          "base_uri": "https://localhost:8080/",
          "height": 223
        },
        "id": "HQKh1xpPMgs5",
        "outputId": "d934ffe4-563d-4629-b261-48c021e5fb86"
      },
      "source": [
        "# load the data set\n",
        "# As the parameter, the file path should be provided. Additionally, GitHub URL can also be provided as follows.\n",
        "train_df = pd.read_csv('/content/train.csv')\n",
        "test_df = pd.read_csv('/content/test.csv')\n",
        "\n",
        "print(train_df.shape)\n",
        "train_df.head()"
      ],
      "execution_count": null,
      "outputs": [
        {
          "output_type": "stream",
          "name": "stdout",
          "text": [
            "(16363, 3)\n"
          ]
        },
        {
          "output_type": "execute_result",
          "data": {
            "text/plain": [
              "           id                                               text sentiment\n",
              "0  549e992a42      Sooo SAD I will miss you here in San Diego!!!  negative\n",
              "1  088c60f138                          my boss is bullying me...  negative\n",
              "2  9642c003ef                     what interview! leave me alone  negative\n",
              "3  358bd9e861   Sons of ****, why couldn`t they put them on t...  negative\n",
              "4  6e0c6d75b1  2am feedings for the baby are fun when he is a...  positive"
            ],
            "text/html": [
              "\n",
              "  <div id=\"df-84bc155f-5694-454d-b634-c54b4a62d4db\">\n",
              "    <div class=\"colab-df-container\">\n",
              "      <div>\n",
              "<style scoped>\n",
              "    .dataframe tbody tr th:only-of-type {\n",
              "        vertical-align: middle;\n",
              "    }\n",
              "\n",
              "    .dataframe tbody tr th {\n",
              "        vertical-align: top;\n",
              "    }\n",
              "\n",
              "    .dataframe thead th {\n",
              "        text-align: right;\n",
              "    }\n",
              "</style>\n",
              "<table border=\"1\" class=\"dataframe\">\n",
              "  <thead>\n",
              "    <tr style=\"text-align: right;\">\n",
              "      <th></th>\n",
              "      <th>id</th>\n",
              "      <th>text</th>\n",
              "      <th>sentiment</th>\n",
              "    </tr>\n",
              "  </thead>\n",
              "  <tbody>\n",
              "    <tr>\n",
              "      <th>0</th>\n",
              "      <td>549e992a42</td>\n",
              "      <td>Sooo SAD I will miss you here in San Diego!!!</td>\n",
              "      <td>negative</td>\n",
              "    </tr>\n",
              "    <tr>\n",
              "      <th>1</th>\n",
              "      <td>088c60f138</td>\n",
              "      <td>my boss is bullying me...</td>\n",
              "      <td>negative</td>\n",
              "    </tr>\n",
              "    <tr>\n",
              "      <th>2</th>\n",
              "      <td>9642c003ef</td>\n",
              "      <td>what interview! leave me alone</td>\n",
              "      <td>negative</td>\n",
              "    </tr>\n",
              "    <tr>\n",
              "      <th>3</th>\n",
              "      <td>358bd9e861</td>\n",
              "      <td>Sons of ****, why couldn`t they put them on t...</td>\n",
              "      <td>negative</td>\n",
              "    </tr>\n",
              "    <tr>\n",
              "      <th>4</th>\n",
              "      <td>6e0c6d75b1</td>\n",
              "      <td>2am feedings for the baby are fun when he is a...</td>\n",
              "      <td>positive</td>\n",
              "    </tr>\n",
              "  </tbody>\n",
              "</table>\n",
              "</div>\n",
              "      <button class=\"colab-df-convert\" onclick=\"convertToInteractive('df-84bc155f-5694-454d-b634-c54b4a62d4db')\"\n",
              "              title=\"Convert this dataframe to an interactive table.\"\n",
              "              style=\"display:none;\">\n",
              "        \n",
              "  <svg xmlns=\"http://www.w3.org/2000/svg\" height=\"24px\"viewBox=\"0 0 24 24\"\n",
              "       width=\"24px\">\n",
              "    <path d=\"M0 0h24v24H0V0z\" fill=\"none\"/>\n",
              "    <path d=\"M18.56 5.44l.94 2.06.94-2.06 2.06-.94-2.06-.94-.94-2.06-.94 2.06-2.06.94zm-11 1L8.5 8.5l.94-2.06 2.06-.94-2.06-.94L8.5 2.5l-.94 2.06-2.06.94zm10 10l.94 2.06.94-2.06 2.06-.94-2.06-.94-.94-2.06-.94 2.06-2.06.94z\"/><path d=\"M17.41 7.96l-1.37-1.37c-.4-.4-.92-.59-1.43-.59-.52 0-1.04.2-1.43.59L10.3 9.45l-7.72 7.72c-.78.78-.78 2.05 0 2.83L4 21.41c.39.39.9.59 1.41.59.51 0 1.02-.2 1.41-.59l7.78-7.78 2.81-2.81c.8-.78.8-2.07 0-2.86zM5.41 20L4 18.59l7.72-7.72 1.47 1.35L5.41 20z\"/>\n",
              "  </svg>\n",
              "      </button>\n",
              "      \n",
              "  <style>\n",
              "    .colab-df-container {\n",
              "      display:flex;\n",
              "      flex-wrap:wrap;\n",
              "      gap: 12px;\n",
              "    }\n",
              "\n",
              "    .colab-df-convert {\n",
              "      background-color: #E8F0FE;\n",
              "      border: none;\n",
              "      border-radius: 50%;\n",
              "      cursor: pointer;\n",
              "      display: none;\n",
              "      fill: #1967D2;\n",
              "      height: 32px;\n",
              "      padding: 0 0 0 0;\n",
              "      width: 32px;\n",
              "    }\n",
              "\n",
              "    .colab-df-convert:hover {\n",
              "      background-color: #E2EBFA;\n",
              "      box-shadow: 0px 1px 2px rgba(60, 64, 67, 0.3), 0px 1px 3px 1px rgba(60, 64, 67, 0.15);\n",
              "      fill: #174EA6;\n",
              "    }\n",
              "\n",
              "    [theme=dark] .colab-df-convert {\n",
              "      background-color: #3B4455;\n",
              "      fill: #D2E3FC;\n",
              "    }\n",
              "\n",
              "    [theme=dark] .colab-df-convert:hover {\n",
              "      background-color: #434B5C;\n",
              "      box-shadow: 0px 1px 3px 1px rgba(0, 0, 0, 0.15);\n",
              "      filter: drop-shadow(0px 1px 2px rgba(0, 0, 0, 0.3));\n",
              "      fill: #FFFFFF;\n",
              "    }\n",
              "  </style>\n",
              "\n",
              "      <script>\n",
              "        const buttonEl =\n",
              "          document.querySelector('#df-84bc155f-5694-454d-b634-c54b4a62d4db button.colab-df-convert');\n",
              "        buttonEl.style.display =\n",
              "          google.colab.kernel.accessAllowed ? 'block' : 'none';\n",
              "\n",
              "        async function convertToInteractive(key) {\n",
              "          const element = document.querySelector('#df-84bc155f-5694-454d-b634-c54b4a62d4db');\n",
              "          const dataTable =\n",
              "            await google.colab.kernel.invokeFunction('convertToInteractive',\n",
              "                                                     [key], {});\n",
              "          if (!dataTable) return;\n",
              "\n",
              "          const docLinkHtml = 'Like what you see? Visit the ' +\n",
              "            '<a target=\"_blank\" href=https://colab.research.google.com/notebooks/data_table.ipynb>data table notebook</a>'\n",
              "            + ' to learn more about interactive tables.';\n",
              "          element.innerHTML = '';\n",
              "          dataTable['output_type'] = 'display_data';\n",
              "          await google.colab.output.renderOutput(dataTable, element);\n",
              "          const docLink = document.createElement('div');\n",
              "          docLink.innerHTML = docLinkHtml;\n",
              "          element.appendChild(docLink);\n",
              "        }\n",
              "      </script>\n",
              "    </div>\n",
              "  </div>\n",
              "  "
            ]
          },
          "metadata": {},
          "execution_count": 3
        }
      ]
    },
    {
      "cell_type": "markdown",
      "source": [
        "This code is a function that cleans tweets by removing URLs, usernames, hashtags, special characters and extra whitespace. It takes in a text as an argument and applies regular expression patterns to remove unwanted elements. Finally, it is applied to the train and test datasets."
      ],
      "metadata": {
        "id": "uKyaMfAs7x3z"
      }
    },
    {
      "cell_type": "code",
      "source": [
        "# import the necessary libraries \n",
        "import re \n",
        "\n",
        "# define a function to clean the tweets \n",
        "def clean_tweets(text): \n",
        "  text = re.sub(r\"http\\S+\", \"\", text) # remove URLs \n",
        "  text = re.sub(r\"@\\S+\", \"\", text) # remove usernames \n",
        "  text = re.sub(r\"#\\S+\", \"\", text) # remove hashtags \n",
        "  text = re.sub(r\"[^A-Za-z0-9(),!?@\\'\\`\\\"\\_\\n]\", \" \", text) # remove special characters \n",
        "  text = re.sub(r\"\\s{2,}\", \" \", text) # remove extra whitespace \n",
        "  return text \n",
        "\n",
        "# apply the function to the dataset \n",
        "train_df['text'] = train_df['text'].apply(clean_tweets)\n",
        "test_df['text'] = test_df['text'].apply(clean_tweets)"
      ],
      "metadata": {
        "id": "MnBvGP7UfdPg"
      },
      "execution_count": null,
      "outputs": []
    },
    {
      "cell_type": "code",
      "source": [
        "# Summarise class details\n",
        "sns.countplot(x=train_df['sentiment'])"
      ],
      "metadata": {
        "colab": {
          "base_uri": "https://localhost:8080/",
          "height": 296
        },
        "id": "MDW91-PxlrMC",
        "outputId": "91534a07-e5c8-473b-cb85-29ae73a8b51a"
      },
      "execution_count": null,
      "outputs": [
        {
          "output_type": "execute_result",
          "data": {
            "text/plain": [
              "<matplotlib.axes._subplots.AxesSubplot at 0x7fcd77752b80>"
            ]
          },
          "metadata": {},
          "execution_count": 5
        },
        {
          "output_type": "display_data",
          "data": {
            "text/plain": [
              "<Figure size 432x288 with 1 Axes>"
            ],
            "image/png": "[encoded data removed]"
          },
          "metadata": {
            "needs_background": "light"
          }
        }
      ]
    },
    {
      "cell_type": "markdown",
      "metadata": {
        "id": "PUqNa06H85M1"
      },
      "source": [
        "As we can see in the above output, there are 20,000 rows or reviews in this data set.\n",
        "\n",
        "The data set consists of 3 columns,\n",
        "- Id - Autogenerated incrementing number as row Id\n",
        "- Text - Review text\n",
        "- Sentiment - Label for sentiment (positive, negative)"
      ]
    },
    {
      "cell_type": "code",
      "metadata": {
        "id": "aGM4sA2aUvyB"
      },
      "source": [
        "# drop the rows where at least one element is missing\n",
        "train_df = train_df.dropna()\n",
        "test_df = test_df.dropna()"
      ],
      "execution_count": null,
      "outputs": []
    },
    {
      "cell_type": "code",
      "source": [
        "print(f'Number of entries: {len(train_df)}')\n",
        "print(f'Number of entries: {len(test_df)}')\n"
      ],
      "metadata": {
        "colab": {
          "base_uri": "https://localhost:8080/"
        },
        "id": "eVdijGrGztGZ",
        "outputId": "5a31b6c2-b272-4a25-f6d5-d90419395374"
      },
      "execution_count": null,
      "outputs": [
        {
          "output_type": "stream",
          "name": "stdout",
          "text": [
            "Number of entries: 16363\n",
            "Number of entries: 1000\n"
          ]
        }
      ]
    },
    {
      "cell_type": "markdown",
      "source": [
        "Tokenization is the process of breaking up a stream of text into meaningful elements called tokens. Tokenization is an important part of many text-processing tasks, such as natural language processing, information retrieval, and text mining. Tokens can be individual words, phrases, or even whole sentences."
      ],
      "metadata": {
        "id": "reD5c-IsO5ca"
      }
    },
    {
      "cell_type": "markdown",
      "source": [
        "This code is used to tokenize the text in the 'Text' column of the train_df data frame. The first step is to iterate through each row in the 'Text' column and convert the text to tokens using the word_tokenize function. These tokens are stored in a list (list1_tokenised_text). The second step is to join the tokens back together as one sentence and store them in a new list (list1_tokenised_sentences). Finally, a new column called 'Tokenised_Text1' is created on the train_df data frame containing the tokenised text from the lists."
      ],
      "metadata": {
        "id": "M_pYwZh0114U"
      }
    },
    {
      "cell_type": "code",
      "metadata": {
        "colab": {
          "base_uri": "https://localhost:8080/",
          "height": 241
        },
        "id": "TILRZ0e4ZpHR",
        "outputId": "f6baaad9-65f3-4655-b08f-81cc0983df39"
      },
      "source": [
        "# iterate through each row in 'Text' columm and convert text to tokens\n",
        "list1_tokenised_text = [word_tokenize(text) for text in train_df['text']]\n",
        "print(list1_tokenised_text[:2])\n",
        "\n",
        "list1_tokenised_sentences = [' '.join(tokens) for tokens in list1_tokenised_text]\n",
        "print(list1_tokenised_sentences[:2])\n",
        "\n",
        "# add new column to data frame\n",
        "train_df['Tokenised_Text1'] = list1_tokenised_sentences\n",
        "train_df.head()"
      ],
      "execution_count": null,
      "outputs": [
        {
          "output_type": "stream",
          "name": "stdout",
          "text": [
            "[['Sooo', 'SAD', 'I', 'will', 'miss', 'you', 'here', 'in', 'San', 'Diego', '!', '!', '!'], ['my', 'boss', 'is', 'bullying', 'me']]\n",
            "['Sooo SAD I will miss you here in San Diego ! ! !', 'my boss is bullying me']\n"
          ]
        },
        {
          "output_type": "execute_result",
          "data": {
            "text/plain": [
              "           id                                               text sentiment  \\\n",
              "0  549e992a42      Sooo SAD I will miss you here in San Diego!!!  negative   \n",
              "1  088c60f138                            my boss is bullying me   negative   \n",
              "2  9642c003ef                     what interview! leave me alone  negative   \n",
              "3  358bd9e861   Sons of , why couldn`t they put them on the r...  negative   \n",
              "4  6e0c6d75b1  2am feedings for the baby are fun when he is a...  positive   \n",
              "\n",
              "                                     Tokenised_Text1  \n",
              "0   Sooo SAD I will miss you here in San Diego ! ! !  \n",
              "1                             my boss is bullying me  \n",
              "2                    what interview ! leave me alone  \n",
              "3  Sons of , why couldn ` t they put them on the ...  \n",
              "4  2am feedings for the baby are fun when he is a...  "
            ],
            "text/html": [
              "\n",
              "  <div id=\"df-fe2a31ff-64a5-43b9-8b93-ef452cc22f63\">\n",
              "    <div class=\"colab-df-container\">\n",
              "      <div>\n",
              "<style scoped>\n",
              "    .dataframe tbody tr th:only-of-type {\n",
              "        vertical-align: middle;\n",
              "    }\n",
              "\n",
              "    .dataframe tbody tr th {\n",
              "        vertical-align: top;\n",
              "    }\n",
              "\n",
              "    .dataframe thead th {\n",
              "        text-align: right;\n",
              "    }\n",
              "</style>\n",
              "<table border=\"1\" class=\"dataframe\">\n",
              "  <thead>\n",
              "    <tr style=\"text-align: right;\">\n",
              "      <th></th>\n",
              "      <th>id</th>\n",
              "      <th>text</th>\n",
              "      <th>sentiment</th>\n",
              "      <th>Tokenised_Text1</th>\n",
              "    </tr>\n",
              "  </thead>\n",
              "  <tbody>\n",
              "    <tr>\n",
              "      <th>0</th>\n",
              "      <td>549e992a42</td>\n",
              "      <td>Sooo SAD I will miss you here in San Diego!!!</td>\n",
              "      <td>negative</td>\n",
              "      <td>Sooo SAD I will miss you here in San Diego ! ! !</td>\n",
              "    </tr>\n",
              "    <tr>\n",
              "      <th>1</th>\n",
              "      <td>088c60f138</td>\n",
              "      <td>my boss is bullying me</td>\n",
              "      <td>negative</td>\n",
              "      <td>my boss is bullying me</td>\n",
              "    </tr>\n",
              "    <tr>\n",
              "      <th>2</th>\n",
              "      <td>9642c003ef</td>\n",
              "      <td>what interview! leave me alone</td>\n",
              "      <td>negative</td>\n",
              "      <td>what interview ! leave me alone</td>\n",
              "    </tr>\n",
              "    <tr>\n",
              "      <th>3</th>\n",
              "      <td>358bd9e861</td>\n",
              "      <td>Sons of , why couldn`t they put them on the r...</td>\n",
              "      <td>negative</td>\n",
              "      <td>Sons of , why couldn ` t they put them on the ...</td>\n",
              "    </tr>\n",
              "    <tr>\n",
              "      <th>4</th>\n",
              "      <td>6e0c6d75b1</td>\n",
              "      <td>2am feedings for the baby are fun when he is a...</td>\n",
              "      <td>positive</td>\n",
              "      <td>2am feedings for the baby are fun when he is a...</td>\n",
              "    </tr>\n",
              "  </tbody>\n",
              "</table>\n",
              "</div>\n",
              "      <button class=\"colab-df-convert\" onclick=\"convertToInteractive('df-fe2a31ff-64a5-43b9-8b93-ef452cc22f63')\"\n",
              "              title=\"Convert this dataframe to an interactive table.\"\n",
              "              style=\"display:none;\">\n",
              "        \n",
              "  <svg xmlns=\"http://www.w3.org/2000/svg\" height=\"24px\"viewBox=\"0 0 24 24\"\n",
              "       width=\"24px\">\n",
              "    <path d=\"M0 0h24v24H0V0z\" fill=\"none\"/>\n",
              "    <path d=\"M18.56 5.44l.94 2.06.94-2.06 2.06-.94-2.06-.94-.94-2.06-.94 2.06-2.06.94zm-11 1L8.5 8.5l.94-2.06 2.06-.94-2.06-.94L8.5 2.5l-.94 2.06-2.06.94zm10 10l.94 2.06.94-2.06 2.06-.94-2.06-.94-.94-2.06-.94 2.06-2.06.94z\"/><path d=\"M17.41 7.96l-1.37-1.37c-.4-.4-.92-.59-1.43-.59-.52 0-1.04.2-1.43.59L10.3 9.45l-7.72 7.72c-.78.78-.78 2.05 0 2.83L4 21.41c.39.39.9.59 1.41.59.51 0 1.02-.2 1.41-.59l7.78-7.78 2.81-2.81c.8-.78.8-2.07 0-2.86zM5.41 20L4 18.59l7.72-7.72 1.47 1.35L5.41 20z\"/>\n",
              "  </svg>\n",
              "      </button>\n",
              "      \n",
              "  <style>\n",
              "    .colab-df-container {\n",
              "      display:flex;\n",
              "      flex-wrap:wrap;\n",
              "      gap: 12px;\n",
              "    }\n",
              "\n",
              "    .colab-df-convert {\n",
              "      background-color: #E8F0FE;\n",
              "      border: none;\n",
              "      border-radius: 50%;\n",
              "      cursor: pointer;\n",
              "      display: none;\n",
              "      fill: #1967D2;\n",
              "      height: 32px;\n",
              "      padding: 0 0 0 0;\n",
              "      width: 32px;\n",
              "    }\n",
              "\n",
              "    .colab-df-convert:hover {\n",
              "      background-color: #E2EBFA;\n",
              "      box-shadow: 0px 1px 2px rgba(60, 64, 67, 0.3), 0px 1px 3px 1px rgba(60, 64, 67, 0.15);\n",
              "      fill: #174EA6;\n",
              "    }\n",
              "\n",
              "    [theme=dark] .colab-df-convert {\n",
              "      background-color: #3B4455;\n",
              "      fill: #D2E3FC;\n",
              "    }\n",
              "\n",
              "    [theme=dark] .colab-df-convert:hover {\n",
              "      background-color: #434B5C;\n",
              "      box-shadow: 0px 1px 3px 1px rgba(0, 0, 0, 0.15);\n",
              "      filter: drop-shadow(0px 1px 2px rgba(0, 0, 0, 0.3));\n",
              "      fill: #FFFFFF;\n",
              "    }\n",
              "  </style>\n",
              "\n",
              "      <script>\n",
              "        const buttonEl =\n",
              "          document.querySelector('#df-fe2a31ff-64a5-43b9-8b93-ef452cc22f63 button.colab-df-convert');\n",
              "        buttonEl.style.display =\n",
              "          google.colab.kernel.accessAllowed ? 'block' : 'none';\n",
              "\n",
              "        async function convertToInteractive(key) {\n",
              "          const element = document.querySelector('#df-fe2a31ff-64a5-43b9-8b93-ef452cc22f63');\n",
              "          const dataTable =\n",
              "            await google.colab.kernel.invokeFunction('convertToInteractive',\n",
              "                                                     [key], {});\n",
              "          if (!dataTable) return;\n",
              "\n",
              "          const docLinkHtml = 'Like what you see? Visit the ' +\n",
              "            '<a target=\"_blank\" href=https://colab.research.google.com/notebooks/data_table.ipynb>data table notebook</a>'\n",
              "            + ' to learn more about interactive tables.';\n",
              "          element.innerHTML = '';\n",
              "          dataTable['output_type'] = 'display_data';\n",
              "          await google.colab.output.renderOutput(dataTable, element);\n",
              "          const docLink = document.createElement('div');\n",
              "          docLink.innerHTML = docLinkHtml;\n",
              "          element.appendChild(docLink);\n",
              "        }\n",
              "      </script>\n",
              "    </div>\n",
              "  </div>\n",
              "  "
            ]
          },
          "metadata": {},
          "execution_count": 8
        }
      ]
    },
    {
      "cell_type": "markdown",
      "source": [
        "\n",
        "This code is tokenizing text from the 'Text' column in a dataframe called test_df. It is looping through each row in the 'Text' column and uses the word_tokenize() function to convert the text into tokens. The tokens are then added to a new list, and the list is joined together to form a string of tokenized text. The tokenized text is added to a new column in the test_df dataframe called 'Tokenised_Text2'."
      ],
      "metadata": {
        "id": "biCWikL514xF"
      }
    },
    {
      "cell_type": "code",
      "source": [
        "# iterate through each row in 'Text' columm and convert text to tokens\n",
        "list2_tokenised_text = [word_tokenize(text) for text in test_df['text']]\n",
        "print(list2_tokenised_text[:2])\n",
        "\n",
        "list2_tokenised_sentences = [' '.join(tokens) for tokens in list2_tokenised_text]\n",
        "print(list2_tokenised_sentences[:2])\n",
        "\n",
        "# add new column to data frame\n",
        "test_df['Tokenised_Text2'] = list2_tokenised_sentences\n",
        "test_df.head()"
      ],
      "metadata": {
        "colab": {
          "base_uri": "https://localhost:8080/",
          "height": 261
        },
        "id": "eN3UjmoeIt2z",
        "outputId": "59f480c9-4f52-43f1-fd2a-be8203131d86"
      },
      "execution_count": null,
      "outputs": [
        {
          "output_type": "stream",
          "name": "stdout",
          "text": [
            "[['Shanghai', 'is', 'also', 'really', 'exciting', '(', 'precisely', 'skyscrapers', 'galore', ')', 'Good', 'tweeps', 'in', 'China', '(', 'SH', ')', '(', 'BJ', ')'], ['Recession', 'hit', 'Veronique', 'Branquinho', ',', 'she', 'has', 'to', 'quit', 'her', 'company', ',', 'such', 'a', 'shame', '!']]\n",
            "['Shanghai is also really exciting ( precisely skyscrapers galore ) Good tweeps in China ( SH ) ( BJ )', 'Recession hit Veronique Branquinho , she has to quit her company , such a shame !']\n"
          ]
        },
        {
          "output_type": "execute_result",
          "data": {
            "text/plain": [
              "           id                                               text  \\\n",
              "0  96d74cb729   Shanghai is also really exciting (precisely s...   \n",
              "1  eee518ae67  Recession hit Veronique Branquinho, she has to...   \n",
              "2  01082688c6                                        happy bday!   \n",
              "3  33987a8ee5                                        I like it!!   \n",
              "4  726e501993                    that`s great!! weee!! visitors!   \n",
              "\n",
              "                                     Tokenised_Text2  \n",
              "0  Shanghai is also really exciting ( precisely s...  \n",
              "1  Recession hit Veronique Branquinho , she has t...  \n",
              "2                                       happy bday !  \n",
              "3                                      I like it ! !  \n",
              "4             that ` s great ! ! weee ! ! visitors !  "
            ],
            "text/html": [
              "\n",
              "  <div id=\"df-3c21e153-477c-4ad7-8091-60d45e390897\">\n",
              "    <div class=\"colab-df-container\">\n",
              "      <div>\n",
              "<style scoped>\n",
              "    .dataframe tbody tr th:only-of-type {\n",
              "        vertical-align: middle;\n",
              "    }\n",
              "\n",
              "    .dataframe tbody tr th {\n",
              "        vertical-align: top;\n",
              "    }\n",
              "\n",
              "    .dataframe thead th {\n",
              "        text-align: right;\n",
              "    }\n",
              "</style>\n",
              "<table border=\"1\" class=\"dataframe\">\n",
              "  <thead>\n",
              "    <tr style=\"text-align: right;\">\n",
              "      <th></th>\n",
              "      <th>id</th>\n",
              "      <th>text</th>\n",
              "      <th>Tokenised_Text2</th>\n",
              "    </tr>\n",
              "  </thead>\n",
              "  <tbody>\n",
              "    <tr>\n",
              "      <th>0</th>\n",
              "      <td>96d74cb729</td>\n",
              "      <td>Shanghai is also really exciting (precisely s...</td>\n",
              "      <td>Shanghai is also really exciting ( precisely s...</td>\n",
              "    </tr>\n",
              "    <tr>\n",
              "      <th>1</th>\n",
              "      <td>eee518ae67</td>\n",
              "      <td>Recession hit Veronique Branquinho, she has to...</td>\n",
              "      <td>Recession hit Veronique Branquinho , she has t...</td>\n",
              "    </tr>\n",
              "    <tr>\n",
              "      <th>2</th>\n",
              "      <td>01082688c6</td>\n",
              "      <td>happy bday!</td>\n",
              "      <td>happy bday !</td>\n",
              "    </tr>\n",
              "    <tr>\n",
              "      <th>3</th>\n",
              "      <td>33987a8ee5</td>\n",
              "      <td>I like it!!</td>\n",
              "      <td>I like it ! !</td>\n",
              "    </tr>\n",
              "    <tr>\n",
              "      <th>4</th>\n",
              "      <td>726e501993</td>\n",
              "      <td>that`s great!! weee!! visitors!</td>\n",
              "      <td>that ` s great ! ! weee ! ! visitors !</td>\n",
              "    </tr>\n",
              "  </tbody>\n",
              "</table>\n",
              "</div>\n",
              "      <button class=\"colab-df-convert\" onclick=\"convertToInteractive('df-3c21e153-477c-4ad7-8091-60d45e390897')\"\n",
              "              title=\"Convert this dataframe to an interactive table.\"\n",
              "              style=\"display:none;\">\n",
              "        \n",
              "  <svg xmlns=\"http://www.w3.org/2000/svg\" height=\"24px\"viewBox=\"0 0 24 24\"\n",
              "       width=\"24px\">\n",
              "    <path d=\"M0 0h24v24H0V0z\" fill=\"none\"/>\n",
              "    <path d=\"M18.56 5.44l.94 2.06.94-2.06 2.06-.94-2.06-.94-.94-2.06-.94 2.06-2.06.94zm-11 1L8.5 8.5l.94-2.06 2.06-.94-2.06-.94L8.5 2.5l-.94 2.06-2.06.94zm10 10l.94 2.06.94-2.06 2.06-.94-2.06-.94-.94-2.06-.94 2.06-2.06.94z\"/><path d=\"M17.41 7.96l-1.37-1.37c-.4-.4-.92-.59-1.43-.59-.52 0-1.04.2-1.43.59L10.3 9.45l-7.72 7.72c-.78.78-.78 2.05 0 2.83L4 21.41c.39.39.9.59 1.41.59.51 0 1.02-.2 1.41-.59l7.78-7.78 2.81-2.81c.8-.78.8-2.07 0-2.86zM5.41 20L4 18.59l7.72-7.72 1.47 1.35L5.41 20z\"/>\n",
              "  </svg>\n",
              "      </button>\n",
              "      \n",
              "  <style>\n",
              "    .colab-df-container {\n",
              "      display:flex;\n",
              "      flex-wrap:wrap;\n",
              "      gap: 12px;\n",
              "    }\n",
              "\n",
              "    .colab-df-convert {\n",
              "      background-color: #E8F0FE;\n",
              "      border: none;\n",
              "      border-radius: 50%;\n",
              "      cursor: pointer;\n",
              "      display: none;\n",
              "      fill: #1967D2;\n",
              "      height: 32px;\n",
              "      padding: 0 0 0 0;\n",
              "      width: 32px;\n",
              "    }\n",
              "\n",
              "    .colab-df-convert:hover {\n",
              "      background-color: #E2EBFA;\n",
              "      box-shadow: 0px 1px 2px rgba(60, 64, 67, 0.3), 0px 1px 3px 1px rgba(60, 64, 67, 0.15);\n",
              "      fill: #174EA6;\n",
              "    }\n",
              "\n",
              "    [theme=dark] .colab-df-convert {\n",
              "      background-color: #3B4455;\n",
              "      fill: #D2E3FC;\n",
              "    }\n",
              "\n",
              "    [theme=dark] .colab-df-convert:hover {\n",
              "      background-color: #434B5C;\n",
              "      box-shadow: 0px 1px 3px 1px rgba(0, 0, 0, 0.15);\n",
              "      filter: drop-shadow(0px 1px 2px rgba(0, 0, 0, 0.3));\n",
              "      fill: #FFFFFF;\n",
              "    }\n",
              "  </style>\n",
              "\n",
              "      <script>\n",
              "        const buttonEl =\n",
              "          document.querySelector('#df-3c21e153-477c-4ad7-8091-60d45e390897 button.colab-df-convert');\n",
              "        buttonEl.style.display =\n",
              "          google.colab.kernel.accessAllowed ? 'block' : 'none';\n",
              "\n",
              "        async function convertToInteractive(key) {\n",
              "          const element = document.querySelector('#df-3c21e153-477c-4ad7-8091-60d45e390897');\n",
              "          const dataTable =\n",
              "            await google.colab.kernel.invokeFunction('convertToInteractive',\n",
              "                                                     [key], {});\n",
              "          if (!dataTable) return;\n",
              "\n",
              "          const docLinkHtml = 'Like what you see? Visit the ' +\n",
              "            '<a target=\"_blank\" href=https://colab.research.google.com/notebooks/data_table.ipynb>data table notebook</a>'\n",
              "            + ' to learn more about interactive tables.';\n",
              "          element.innerHTML = '';\n",
              "          dataTable['output_type'] = 'display_data';\n",
              "          await google.colab.output.renderOutput(dataTable, element);\n",
              "          const docLink = document.createElement('div');\n",
              "          docLink.innerHTML = docLinkHtml;\n",
              "          element.appendChild(docLink);\n",
              "        }\n",
              "      </script>\n",
              "    </div>\n",
              "  </div>\n",
              "  "
            ]
          },
          "metadata": {},
          "execution_count": 9
        }
      ]
    },
    {
      "cell_type": "markdown",
      "metadata": {
        "id": "0rwODa2SbqTk"
      },
      "source": [
        "## Text normalisation\n",
        "\n",
        "Under text normalisation, we discussed about 3 techniques; lower casing, stemming and lemmatisation.\n",
        "\n",
        "Lower casing can be easily done by setting an argument in vectorizer.\n",
        "\n",
        "Among stemming and lemmatisation, we will focus on lemmatisation in this tutorial because it is the more organised procedure."
      ]
    },
    {
      "cell_type": "markdown",
      "source": [
        "Lemmatization is the process of converting a word to its base form. This is done by analyzing the context of the word and removing any affixes (prefixes or suffixes) to return the base form of the word. It is a form of normalization for words that are used in natural language processing tasks."
      ],
      "metadata": {
        "id": "2z83QMzAQRPa"
      }
    },
    {
      "cell_type": "markdown",
      "source": [
        "Tokenization is the process of breaking down a large body of text into smaller pieces called tokens. These tokens can then be further analyzed to gain insight into the text. Tokenization is commonly used in natural language processing (NLP) tasks such as sentiment analysis, part-of-speech tagging, and word sense disambiguation."
      ],
      "metadata": {
        "id": "mhZ_cbK-RLgU"
      }
    },
    {
      "cell_type": "markdown",
      "source": [
        "This code is used to perform lemmatization on a list of tokenized text. This code begins by creating a WordNetLemmatizer object and an empty list to store the lemmatized sentences. It then iterates through each list of tokens and lemmatizes them using the WordNetLemmatizer object. The lemmatized words are then joined together with space and added to the list created earlier. The list is then added as a new column to the data frame. Finally, the head of the data frame is printed to show the new column."
      ],
      "metadata": {
        "id": "aPu7ds1p2qnE"
      }
    },
    {
      "cell_type": "code",
      "metadata": {
        "colab": {
          "base_uri": "https://localhost:8080/",
          "height": 223
        },
        "id": "M5XRnEWZbq3v",
        "outputId": "c687f882-b2d0-4a01-ece8-ae31e23f59af"
      },
      "source": [
        "wnl_train = WordNetLemmatizer()\n",
        "\n",
        "list1_lemmatised_sentences = []\n",
        "\n",
        "# iterate through each list of tokens and lemmatise the tokens\n",
        "for tokens in list1_tokenised_text:\n",
        "  lemma1_words = [wnl_train.lemmatize(word) for word in tokens]\n",
        "  lemma1_sentence = ' '.join(lemma1_words)\n",
        "  list1_lemmatised_sentences.append(lemma1_sentence)\n",
        "  \n",
        "print(list1_lemmatised_sentences[:2])\n",
        "\n",
        "# add new column to data frame\n",
        "train_df['Lemmatised_Text1'] = list1_lemmatised_sentences\n",
        "\n",
        "train_df.head()"
      ],
      "execution_count": null,
      "outputs": [
        {
          "output_type": "stream",
          "name": "stdout",
          "text": [
            "['Sooo SAD I will miss you here in San Diego ! ! !', 'my bos is bullying me']\n"
          ]
        },
        {
          "output_type": "execute_result",
          "data": {
            "text/plain": [
              "           id                                               text sentiment  \\\n",
              "0  549e992a42      Sooo SAD I will miss you here in San Diego!!!  negative   \n",
              "1  088c60f138                            my boss is bullying me   negative   \n",
              "2  9642c003ef                     what interview! leave me alone  negative   \n",
              "3  358bd9e861   Sons of , why couldn`t they put them on the r...  negative   \n",
              "4  6e0c6d75b1  2am feedings for the baby are fun when he is a...  positive   \n",
              "\n",
              "                                     Tokenised_Text1  \\\n",
              "0   Sooo SAD I will miss you here in San Diego ! ! !   \n",
              "1                             my boss is bullying me   \n",
              "2                    what interview ! leave me alone   \n",
              "3  Sons of , why couldn ` t they put them on the ...   \n",
              "4  2am feedings for the baby are fun when he is a...   \n",
              "\n",
              "                                    Lemmatised_Text1  \n",
              "0   Sooo SAD I will miss you here in San Diego ! ! !  \n",
              "1                              my bos is bullying me  \n",
              "2                    what interview ! leave me alone  \n",
              "3  Sons of , why couldn ` t they put them on the ...  \n",
              "4  2am feeding for the baby are fun when he is al...  "
            ],
            "text/html": [
              "\n",
              "  <div id=\"df-0aee62b3-e650-40a4-a544-6acdffafccd7\">\n",
              "    <div class=\"colab-df-container\">\n",
              "      <div>\n",
              "<style scoped>\n",
              "    .dataframe tbody tr th:only-of-type {\n",
              "        vertical-align: middle;\n",
              "    }\n",
              "\n",
              "    .dataframe tbody tr th {\n",
              "        vertical-align: top;\n",
              "    }\n",
              "\n",
              "    .dataframe thead th {\n",
              "        text-align: right;\n",
              "    }\n",
              "</style>\n",
              "<table border=\"1\" class=\"dataframe\">\n",
              "  <thead>\n",
              "    <tr style=\"text-align: right;\">\n",
              "      <th></th>\n",
              "      <th>id</th>\n",
              "      <th>text</th>\n",
              "      <th>sentiment</th>\n",
              "      <th>Tokenised_Text1</th>\n",
              "      <th>Lemmatised_Text1</th>\n",
              "    </tr>\n",
              "  </thead>\n",
              "  <tbody>\n",
              "    <tr>\n",
              "      <th>0</th>\n",
              "      <td>549e992a42</td>\n",
              "      <td>Sooo SAD I will miss you here in San Diego!!!</td>\n",
              "      <td>negative</td>\n",
              "      <td>Sooo SAD I will miss you here in San Diego ! ! !</td>\n",
              "      <td>Sooo SAD I will miss you here in San Diego ! ! !</td>\n",
              "    </tr>\n",
              "    <tr>\n",
              "      <th>1</th>\n",
              "      <td>088c60f138</td>\n",
              "      <td>my boss is bullying me</td>\n",
              "      <td>negative</td>\n",
              "      <td>my boss is bullying me</td>\n",
              "      <td>my bos is bullying me</td>\n",
              "    </tr>\n",
              "    <tr>\n",
              "      <th>2</th>\n",
              "      <td>9642c003ef</td>\n",
              "      <td>what interview! leave me alone</td>\n",
              "      <td>negative</td>\n",
              "      <td>what interview ! leave me alone</td>\n",
              "      <td>what interview ! leave me alone</td>\n",
              "    </tr>\n",
              "    <tr>\n",
              "      <th>3</th>\n",
              "      <td>358bd9e861</td>\n",
              "      <td>Sons of , why couldn`t they put them on the r...</td>\n",
              "      <td>negative</td>\n",
              "      <td>Sons of , why couldn ` t they put them on the ...</td>\n",
              "      <td>Sons of , why couldn ` t they put them on the ...</td>\n",
              "    </tr>\n",
              "    <tr>\n",
              "      <th>4</th>\n",
              "      <td>6e0c6d75b1</td>\n",
              "      <td>2am feedings for the baby are fun when he is a...</td>\n",
              "      <td>positive</td>\n",
              "      <td>2am feedings for the baby are fun when he is a...</td>\n",
              "      <td>2am feeding for the baby are fun when he is al...</td>\n",
              "    </tr>\n",
              "  </tbody>\n",
              "</table>\n",
              "</div>\n",
              "      <button class=\"colab-df-convert\" onclick=\"convertToInteractive('df-0aee62b3-e650-40a4-a544-6acdffafccd7')\"\n",
              "              title=\"Convert this dataframe to an interactive table.\"\n",
              "              style=\"display:none;\">\n",
              "        \n",
              "  <svg xmlns=\"http://www.w3.org/2000/svg\" height=\"24px\"viewBox=\"0 0 24 24\"\n",
              "       width=\"24px\">\n",
              "    <path d=\"M0 0h24v24H0V0z\" fill=\"none\"/>\n",
              "    <path d=\"M18.56 5.44l.94 2.06.94-2.06 2.06-.94-2.06-.94-.94-2.06-.94 2.06-2.06.94zm-11 1L8.5 8.5l.94-2.06 2.06-.94-2.06-.94L8.5 2.5l-.94 2.06-2.06.94zm10 10l.94 2.06.94-2.06 2.06-.94-2.06-.94-.94-2.06-.94 2.06-2.06.94z\"/><path d=\"M17.41 7.96l-1.37-1.37c-.4-.4-.92-.59-1.43-.59-.52 0-1.04.2-1.43.59L10.3 9.45l-7.72 7.72c-.78.78-.78 2.05 0 2.83L4 21.41c.39.39.9.59 1.41.59.51 0 1.02-.2 1.41-.59l7.78-7.78 2.81-2.81c.8-.78.8-2.07 0-2.86zM5.41 20L4 18.59l7.72-7.72 1.47 1.35L5.41 20z\"/>\n",
              "  </svg>\n",
              "      </button>\n",
              "      \n",
              "  <style>\n",
              "    .colab-df-container {\n",
              "      display:flex;\n",
              "      flex-wrap:wrap;\n",
              "      gap: 12px;\n",
              "    }\n",
              "\n",
              "    .colab-df-convert {\n",
              "      background-color: #E8F0FE;\n",
              "      border: none;\n",
              "      border-radius: 50%;\n",
              "      cursor: pointer;\n",
              "      display: none;\n",
              "      fill: #1967D2;\n",
              "      height: 32px;\n",
              "      padding: 0 0 0 0;\n",
              "      width: 32px;\n",
              "    }\n",
              "\n",
              "    .colab-df-convert:hover {\n",
              "      background-color: #E2EBFA;\n",
              "      box-shadow: 0px 1px 2px rgba(60, 64, 67, 0.3), 0px 1px 3px 1px rgba(60, 64, 67, 0.15);\n",
              "      fill: #174EA6;\n",
              "    }\n",
              "\n",
              "    [theme=dark] .colab-df-convert {\n",
              "      background-color: #3B4455;\n",
              "      fill: #D2E3FC;\n",
              "    }\n",
              "\n",
              "    [theme=dark] .colab-df-convert:hover {\n",
              "      background-color: #434B5C;\n",
              "      box-shadow: 0px 1px 3px 1px rgba(0, 0, 0, 0.15);\n",
              "      filter: drop-shadow(0px 1px 2px rgba(0, 0, 0, 0.3));\n",
              "      fill: #FFFFFF;\n",
              "    }\n",
              "  </style>\n",
              "\n",
              "      <script>\n",
              "        const buttonEl =\n",
              "          document.querySelector('#df-0aee62b3-e650-40a4-a544-6acdffafccd7 button.colab-df-convert');\n",
              "        buttonEl.style.display =\n",
              "          google.colab.kernel.accessAllowed ? 'block' : 'none';\n",
              "\n",
              "        async function convertToInteractive(key) {\n",
              "          const element = document.querySelector('#df-0aee62b3-e650-40a4-a544-6acdffafccd7');\n",
              "          const dataTable =\n",
              "            await google.colab.kernel.invokeFunction('convertToInteractive',\n",
              "                                                     [key], {});\n",
              "          if (!dataTable) return;\n",
              "\n",
              "          const docLinkHtml = 'Like what you see? Visit the ' +\n",
              "            '<a target=\"_blank\" href=https://colab.research.google.com/notebooks/data_table.ipynb>data table notebook</a>'\n",
              "            + ' to learn more about interactive tables.';\n",
              "          element.innerHTML = '';\n",
              "          dataTable['output_type'] = 'display_data';\n",
              "          await google.colab.output.renderOutput(dataTable, element);\n",
              "          const docLink = document.createElement('div');\n",
              "          docLink.innerHTML = docLinkHtml;\n",
              "          element.appendChild(docLink);\n",
              "        }\n",
              "      </script>\n",
              "    </div>\n",
              "  </div>\n",
              "  "
            ]
          },
          "metadata": {},
          "execution_count": 10
        }
      ]
    },
    {
      "cell_type": "markdown",
      "source": [
        "This code lemmatizes a list of tokenized text. First, the WordNetLemmatizer() is initialized, and an empty list is created for the lemmatized sentences. Then, the code iterates through each list of tokens and lemmatizes the tokens using the WordNetLemmatizer() function. Finally, a new column named 'Lemmatised_Text2' is added to the dataframe containing the lemmatized sentences."
      ],
      "metadata": {
        "id": "kHtb0UPn276e"
      }
    },
    {
      "cell_type": "code",
      "source": [
        "wnl_test = WordNetLemmatizer()\n",
        "\n",
        "list2_lemmatised_sentences = []\n",
        "\n",
        "# iterate through each list of tokens and lemmatise the tokens\n",
        "for tokens in list2_tokenised_text:\n",
        "  lemma2_words = [wnl_test.lemmatize(word) for word in tokens]\n",
        "  lemma2_sentence = ' '.join(lemma2_words)\n",
        "  list2_lemmatised_sentences.append(lemma2_sentence)\n",
        "  \n",
        "print(list2_lemmatised_sentences[:2])\n",
        "\n",
        "# add new column to data frame\n",
        "test_df['Lemmatised_Text2'] = list2_lemmatised_sentences\n",
        "\n",
        "test_df.head(20)"
      ],
      "metadata": {
        "colab": {
          "base_uri": "https://localhost:8080/",
          "height": 713
        },
        "id": "97XyfonkJ27x",
        "outputId": "81a80680-e382-4a6b-db20-209bffb5f049"
      },
      "execution_count": null,
      "outputs": [
        {
          "output_type": "stream",
          "name": "stdout",
          "text": [
            "['Shanghai is also really exciting ( precisely skyscraper galore ) Good tweeps in China ( SH ) ( BJ )', 'Recession hit Veronique Branquinho , she ha to quit her company , such a shame !']\n"
          ]
        },
        {
          "output_type": "execute_result",
          "data": {
            "text/plain": [
              "            id                                               text  \\\n",
              "0   96d74cb729   Shanghai is also really exciting (precisely s...   \n",
              "1   eee518ae67  Recession hit Veronique Branquinho, she has to...   \n",
              "2   01082688c6                                        happy bday!   \n",
              "3   33987a8ee5                                        I like it!!   \n",
              "4   726e501993                    that`s great!! weee!! visitors!   \n",
              "5   261932614e              I THINK EVERYONE HATES ME ON HERE lol   \n",
              "6   afa11da83f   soooooo wish i could, but im in school and my...   \n",
              "7   24c92644a4  My bike was put on hold should have known that...   \n",
              "8   5c1e0b61a1  I`m in VA for the weekend, my youngest son tur...   \n",
              "9   504e45d9d9  Its coming out the socket I feel like my phone...   \n",
              "10  ae93ad52a0  So hot today _ don`t like it and i hate my new...   \n",
              "11  9fce30159a                                           Miss you   \n",
              "12  00d5195223                                            Cramps    \n",
              "13  33f19050cf   you guys didn`t say hi or answer my questions...   \n",
              "14  9ef44428d0               Stupid storm No river for us tonight   \n",
              "15  be634ebeb0  My dead grandpa pays more attention to me than...   \n",
              "16  3dcf4f7e13   need retail therapy, bad AHHH gimme money geebus   \n",
              "17  8be365118e                you are lame go make me breakfast!!   \n",
              "18  c50bdd4567                                      thats so cool   \n",
              "19  1fa8e6ad66                     look who I found just for you    \n",
              "\n",
              "                                      Tokenised_Text2  \\\n",
              "0   Shanghai is also really exciting ( precisely s...   \n",
              "1   Recession hit Veronique Branquinho , she has t...   \n",
              "2                                        happy bday !   \n",
              "3                                       I like it ! !   \n",
              "4              that ` s great ! ! weee ! ! visitors !   \n",
              "5               I THINK EVERYONE HATES ME ON HERE lol   \n",
              "6   soooooo wish i could , but im in school and my...   \n",
              "7   My bike was put on hold should have known that...   \n",
              "8   I ` m in VA for the weekend , my youngest son ...   \n",
              "9   Its coming out the socket I feel like my phone...   \n",
              "10  So hot today _ don ` t like it and i hate my n...   \n",
              "11                                           Miss you   \n",
              "12                                             Cramps   \n",
              "13  you guys didn ` t say hi or answer my question...   \n",
              "14               Stupid storm No river for us tonight   \n",
              "15  My dead grandpa pays more attention to me than...   \n",
              "16  need retail therapy , bad AHHH gim me money ge...   \n",
              "17              you are lame go make me breakfast ! !   \n",
              "18                                      thats so cool   \n",
              "19                      look who I found just for you   \n",
              "\n",
              "                                     Lemmatised_Text2  \n",
              "0   Shanghai is also really exciting ( precisely s...  \n",
              "1   Recession hit Veronique Branquinho , she ha to...  \n",
              "2                                        happy bday !  \n",
              "3                                       I like it ! !  \n",
              "4               that ` s great ! ! weee ! ! visitor !  \n",
              "5               I THINK EVERYONE HATES ME ON HERE lol  \n",
              "6   soooooo wish i could , but im in school and my...  \n",
              "7   My bike wa put on hold should have known that ...  \n",
              "8   I ` m in VA for the weekend , my youngest son ...  \n",
              "9   Its coming out the socket I feel like my phone...  \n",
              "10  So hot today _ don ` t like it and i hate my n...  \n",
              "11                                           Miss you  \n",
              "12                                             Cramps  \n",
              "13  you guy didn ` t say hi or answer my question ...  \n",
              "14                Stupid storm No river for u tonight  \n",
              "15  My dead grandpa pay more attention to me than ...  \n",
              "16  need retail therapy , bad AHHH gim me money ge...  \n",
              "17              you are lame go make me breakfast ! !  \n",
              "18                                      thats so cool  \n",
              "19                      look who I found just for you  "
            ],
            "text/html": [
              "\n",
              "  <div id=\"df-0de1eba9-9d3a-4459-855e-71e8b15a10d7\">\n",
              "    <div class=\"colab-df-container\">\n",
              "      <div>\n",
              "<style scoped>\n",
              "    .dataframe tbody tr th:only-of-type {\n",
              "        vertical-align: middle;\n",
              "    }\n",
              "\n",
              "    .dataframe tbody tr th {\n",
              "        vertical-align: top;\n",
              "    }\n",
              "\n",
              "    .dataframe thead th {\n",
              "        text-align: right;\n",
              "    }\n",
              "</style>\n",
              "<table border=\"1\" class=\"dataframe\">\n",
              "  <thead>\n",
              "    <tr style=\"text-align: right;\">\n",
              "      <th></th>\n",
              "      <th>id</th>\n",
              "      <th>text</th>\n",
              "      <th>Tokenised_Text2</th>\n",
              "      <th>Lemmatised_Text2</th>\n",
              "    </tr>\n",
              "  </thead>\n",
              "  <tbody>\n",
              "    <tr>\n",
              "      <th>0</th>\n",
              "      <td>96d74cb729</td>\n",
              "      <td>Shanghai is also really exciting (precisely s...</td>\n",
              "      <td>Shanghai is also really exciting ( precisely s...</td>\n",
              "      <td>Shanghai is also really exciting ( precisely s...</td>\n",
              "    </tr>\n",
              "    <tr>\n",
              "      <th>1</th>\n",
              "      <td>eee518ae67</td>\n",
              "      <td>Recession hit Veronique Branquinho, she has to...</td>\n",
              "      <td>Recession hit Veronique Branquinho , she has t...</td>\n",
              "      <td>Recession hit Veronique Branquinho , she ha to...</td>\n",
              "    </tr>\n",
              "    <tr>\n",
              "      <th>2</th>\n",
              "      <td>01082688c6</td>\n",
              "      <td>happy bday!</td>\n",
              "      <td>happy bday !</td>\n",
              "      <td>happy bday !</td>\n",
              "    </tr>\n",
              "    <tr>\n",
              "      <th>3</th>\n",
              "      <td>33987a8ee5</td>\n",
              "      <td>I like it!!</td>\n",
              "      <td>I like it ! !</td>\n",
              "      <td>I like it ! !</td>\n",
              "    </tr>\n",
              "    <tr>\n",
              "      <th>4</th>\n",
              "      <td>726e501993</td>\n",
              "      <td>that`s great!! weee!! visitors!</td>\n",
              "      <td>that ` s great ! ! weee ! ! visitors !</td>\n",
              "      <td>that ` s great ! ! weee ! ! visitor !</td>\n",
              "    </tr>\n",
              "    <tr>\n",
              "      <th>5</th>\n",
              "      <td>261932614e</td>\n",
              "      <td>I THINK EVERYONE HATES ME ON HERE lol</td>\n",
              "      <td>I THINK EVERYONE HATES ME ON HERE lol</td>\n",
              "      <td>I THINK EVERYONE HATES ME ON HERE lol</td>\n",
              "    </tr>\n",
              "    <tr>\n",
              "      <th>6</th>\n",
              "      <td>afa11da83f</td>\n",
              "      <td>soooooo wish i could, but im in school and my...</td>\n",
              "      <td>soooooo wish i could , but im in school and my...</td>\n",
              "      <td>soooooo wish i could , but im in school and my...</td>\n",
              "    </tr>\n",
              "    <tr>\n",
              "      <th>7</th>\n",
              "      <td>24c92644a4</td>\n",
              "      <td>My bike was put on hold should have known that...</td>\n",
              "      <td>My bike was put on hold should have known that...</td>\n",
              "      <td>My bike wa put on hold should have known that ...</td>\n",
              "    </tr>\n",
              "    <tr>\n",
              "      <th>8</th>\n",
              "      <td>5c1e0b61a1</td>\n",
              "      <td>I`m in VA for the weekend, my youngest son tur...</td>\n",
              "      <td>I ` m in VA for the weekend , my youngest son ...</td>\n",
              "      <td>I ` m in VA for the weekend , my youngest son ...</td>\n",
              "    </tr>\n",
              "    <tr>\n",
              "      <th>9</th>\n",
              "      <td>504e45d9d9</td>\n",
              "      <td>Its coming out the socket I feel like my phone...</td>\n",
              "      <td>Its coming out the socket I feel like my phone...</td>\n",
              "      <td>Its coming out the socket I feel like my phone...</td>\n",
              "    </tr>\n",
              "    <tr>\n",
              "      <th>10</th>\n",
              "      <td>ae93ad52a0</td>\n",
              "      <td>So hot today _ don`t like it and i hate my new...</td>\n",
              "      <td>So hot today _ don ` t like it and i hate my n...</td>\n",
              "      <td>So hot today _ don ` t like it and i hate my n...</td>\n",
              "    </tr>\n",
              "    <tr>\n",
              "      <th>11</th>\n",
              "      <td>9fce30159a</td>\n",
              "      <td>Miss you</td>\n",
              "      <td>Miss you</td>\n",
              "      <td>Miss you</td>\n",
              "    </tr>\n",
              "    <tr>\n",
              "      <th>12</th>\n",
              "      <td>00d5195223</td>\n",
              "      <td>Cramps</td>\n",
              "      <td>Cramps</td>\n",
              "      <td>Cramps</td>\n",
              "    </tr>\n",
              "    <tr>\n",
              "      <th>13</th>\n",
              "      <td>33f19050cf</td>\n",
              "      <td>you guys didn`t say hi or answer my questions...</td>\n",
              "      <td>you guys didn ` t say hi or answer my question...</td>\n",
              "      <td>you guy didn ` t say hi or answer my question ...</td>\n",
              "    </tr>\n",
              "    <tr>\n",
              "      <th>14</th>\n",
              "      <td>9ef44428d0</td>\n",
              "      <td>Stupid storm No river for us tonight</td>\n",
              "      <td>Stupid storm No river for us tonight</td>\n",
              "      <td>Stupid storm No river for u tonight</td>\n",
              "    </tr>\n",
              "    <tr>\n",
              "      <th>15</th>\n",
              "      <td>be634ebeb0</td>\n",
              "      <td>My dead grandpa pays more attention to me than...</td>\n",
              "      <td>My dead grandpa pays more attention to me than...</td>\n",
              "      <td>My dead grandpa pay more attention to me than ...</td>\n",
              "    </tr>\n",
              "    <tr>\n",
              "      <th>16</th>\n",
              "      <td>3dcf4f7e13</td>\n",
              "      <td>need retail therapy, bad AHHH gimme money geebus</td>\n",
              "      <td>need retail therapy , bad AHHH gim me money ge...</td>\n",
              "      <td>need retail therapy , bad AHHH gim me money ge...</td>\n",
              "    </tr>\n",
              "    <tr>\n",
              "      <th>17</th>\n",
              "      <td>8be365118e</td>\n",
              "      <td>you are lame go make me breakfast!!</td>\n",
              "      <td>you are lame go make me breakfast ! !</td>\n",
              "      <td>you are lame go make me breakfast ! !</td>\n",
              "    </tr>\n",
              "    <tr>\n",
              "      <th>18</th>\n",
              "      <td>c50bdd4567</td>\n",
              "      <td>thats so cool</td>\n",
              "      <td>thats so cool</td>\n",
              "      <td>thats so cool</td>\n",
              "    </tr>\n",
              "    <tr>\n",
              "      <th>19</th>\n",
              "      <td>1fa8e6ad66</td>\n",
              "      <td>look who I found just for you</td>\n",
              "      <td>look who I found just for you</td>\n",
              "      <td>look who I found just for you</td>\n",
              "    </tr>\n",
              "  </tbody>\n",
              "</table>\n",
              "</div>\n",
              "      <button class=\"colab-df-convert\" onclick=\"convertToInteractive('df-0de1eba9-9d3a-4459-855e-71e8b15a10d7')\"\n",
              "              title=\"Convert this dataframe to an interactive table.\"\n",
              "              style=\"display:none;\">\n",
              "        \n",
              "  <svg xmlns=\"http://www.w3.org/2000/svg\" height=\"24px\"viewBox=\"0 0 24 24\"\n",
              "       width=\"24px\">\n",
              "    <path d=\"M0 0h24v24H0V0z\" fill=\"none\"/>\n",
              "    <path d=\"M18.56 5.44l.94 2.06.94-2.06 2.06-.94-2.06-.94-.94-2.06-.94 2.06-2.06.94zm-11 1L8.5 8.5l.94-2.06 2.06-.94-2.06-.94L8.5 2.5l-.94 2.06-2.06.94zm10 10l.94 2.06.94-2.06 2.06-.94-2.06-.94-.94-2.06-.94 2.06-2.06.94z\"/><path d=\"M17.41 7.96l-1.37-1.37c-.4-.4-.92-.59-1.43-.59-.52 0-1.04.2-1.43.59L10.3 9.45l-7.72 7.72c-.78.78-.78 2.05 0 2.83L4 21.41c.39.39.9.59 1.41.59.51 0 1.02-.2 1.41-.59l7.78-7.78 2.81-2.81c.8-.78.8-2.07 0-2.86zM5.41 20L4 18.59l7.72-7.72 1.47 1.35L5.41 20z\"/>\n",
              "  </svg>\n",
              "      </button>\n",
              "      \n",
              "  <style>\n",
              "    .colab-df-container {\n",
              "      display:flex;\n",
              "      flex-wrap:wrap;\n",
              "      gap: 12px;\n",
              "    }\n",
              "\n",
              "    .colab-df-convert {\n",
              "      background-color: #E8F0FE;\n",
              "      border: none;\n",
              "      border-radius: 50%;\n",
              "      cursor: pointer;\n",
              "      display: none;\n",
              "      fill: #1967D2;\n",
              "      height: 32px;\n",
              "      padding: 0 0 0 0;\n",
              "      width: 32px;\n",
              "    }\n",
              "\n",
              "    .colab-df-convert:hover {\n",
              "      background-color: #E2EBFA;\n",
              "      box-shadow: 0px 1px 2px rgba(60, 64, 67, 0.3), 0px 1px 3px 1px rgba(60, 64, 67, 0.15);\n",
              "      fill: #174EA6;\n",
              "    }\n",
              "\n",
              "    [theme=dark] .colab-df-convert {\n",
              "      background-color: #3B4455;\n",
              "      fill: #D2E3FC;\n",
              "    }\n",
              "\n",
              "    [theme=dark] .colab-df-convert:hover {\n",
              "      background-color: #434B5C;\n",
              "      box-shadow: 0px 1px 3px 1px rgba(0, 0, 0, 0.15);\n",
              "      filter: drop-shadow(0px 1px 2px rgba(0, 0, 0, 0.3));\n",
              "      fill: #FFFFFF;\n",
              "    }\n",
              "  </style>\n",
              "\n",
              "      <script>\n",
              "        const buttonEl =\n",
              "          document.querySelector('#df-0de1eba9-9d3a-4459-855e-71e8b15a10d7 button.colab-df-convert');\n",
              "        buttonEl.style.display =\n",
              "          google.colab.kernel.accessAllowed ? 'block' : 'none';\n",
              "\n",
              "        async function convertToInteractive(key) {\n",
              "          const element = document.querySelector('#df-0de1eba9-9d3a-4459-855e-71e8b15a10d7');\n",
              "          const dataTable =\n",
              "            await google.colab.kernel.invokeFunction('convertToInteractive',\n",
              "                                                     [key], {});\n",
              "          if (!dataTable) return;\n",
              "\n",
              "          const docLinkHtml = 'Like what you see? Visit the ' +\n",
              "            '<a target=\"_blank\" href=https://colab.research.google.com/notebooks/data_table.ipynb>data table notebook</a>'\n",
              "            + ' to learn more about interactive tables.';\n",
              "          element.innerHTML = '';\n",
              "          dataTable['output_type'] = 'display_data';\n",
              "          await google.colab.output.renderOutput(dataTable, element);\n",
              "          const docLink = document.createElement('div');\n",
              "          docLink.innerHTML = docLinkHtml;\n",
              "          element.appendChild(docLink);\n",
              "        }\n",
              "      </script>\n",
              "    </div>\n",
              "  </div>\n",
              "  "
            ]
          },
          "metadata": {},
          "execution_count": 11
        }
      ]
    },
    {
      "cell_type": "code",
      "metadata": {
        "colab": {
          "base_uri": "https://localhost:8080/",
          "height": 467
        },
        "id": "KfD-z-7orwu3",
        "outputId": "d01b25f1-aef4-4b0e-b2b9-e117367ba8d4"
      },
      "source": [
        "# save updated data frame to a file\n",
        "# This step is optional for the main flow. But by saving data to a file you can analyse the preprocessed text output more deeply. \n",
        "train_df.to_csv('/content/reviews_preprocessed.csv', index=False)\n",
        "\n",
        "train_df"
      ],
      "execution_count": null,
      "outputs": [
        {
          "output_type": "execute_result",
          "data": {
            "text/plain": [
              "               id                                               text  \\\n",
              "0      549e992a42      Sooo SAD I will miss you here in San Diego!!!   \n",
              "1      088c60f138                            my boss is bullying me    \n",
              "2      9642c003ef                     what interview! leave me alone   \n",
              "3      358bd9e861   Sons of , why couldn`t they put them on the r...   \n",
              "4      6e0c6d75b1  2am feedings for the baby are fun when he is a...   \n",
              "...           ...                                                ...   \n",
              "16358  b78ec00df5                                     enjoy ur night   \n",
              "16359  4eac33d1c0   wish we could come see u on Denver husband lo...   \n",
              "16360  4f4c4fc327   I`ve wondered about rake to The client has ma...   \n",
              "16361  f67aae2310   Yay good for both of you Enjoy the break you ...   \n",
              "16362  ed167662a5                               But it was worth it    \n",
              "\n",
              "      sentiment                                    Tokenised_Text1  \\\n",
              "0      negative   Sooo SAD I will miss you here in San Diego ! ! !   \n",
              "1      negative                             my boss is bullying me   \n",
              "2      negative                    what interview ! leave me alone   \n",
              "3      negative  Sons of , why couldn ` t they put them on the ...   \n",
              "4      positive  2am feedings for the baby are fun when he is a...   \n",
              "...         ...                                                ...   \n",
              "16358  positive                                     enjoy ur night   \n",
              "16359  negative  wish we could come see u on Denver husband los...   \n",
              "16360  negative  I ` ve wondered about rake to The client has m...   \n",
              "16361  positive  Yay good for both of you Enjoy the break you p...   \n",
              "16362  positive                                But it was worth it   \n",
              "\n",
              "                                        Lemmatised_Text1  \n",
              "0       Sooo SAD I will miss you here in San Diego ! ! !  \n",
              "1                                  my bos is bullying me  \n",
              "2                        what interview ! leave me alone  \n",
              "3      Sons of , why couldn ` t they put them on the ...  \n",
              "4      2am feeding for the baby are fun when he is al...  \n",
              "...                                                  ...  \n",
              "16358                                     enjoy ur night  \n",
              "16359  wish we could come see u on Denver husband los...  \n",
              "16360  I ` ve wondered about rake to The client ha ma...  \n",
              "16361  Yay good for both of you Enjoy the break you p...  \n",
              "16362                                 But it wa worth it  \n",
              "\n",
              "[16363 rows x 5 columns]"
            ],
            "text/html": [
              "\n",
              "  <div id=\"df-a0d79815-03bd-461a-806f-7d9fe63d9287\">\n",
              "    <div class=\"colab-df-container\">\n",
              "      <div>\n",
              "<style scoped>\n",
              "    .dataframe tbody tr th:only-of-type {\n",
              "        vertical-align: middle;\n",
              "    }\n",
              "\n",
              "    .dataframe tbody tr th {\n",
              "        vertical-align: top;\n",
              "    }\n",
              "\n",
              "    .dataframe thead th {\n",
              "        text-align: right;\n",
              "    }\n",
              "</style>\n",
              "<table border=\"1\" class=\"dataframe\">\n",
              "  <thead>\n",
              "    <tr style=\"text-align: right;\">\n",
              "      <th></th>\n",
              "      <th>id</th>\n",
              "      <th>text</th>\n",
              "      <th>sentiment</th>\n",
              "      <th>Tokenised_Text1</th>\n",
              "      <th>Lemmatised_Text1</th>\n",
              "    </tr>\n",
              "  </thead>\n",
              "  <tbody>\n",
              "    <tr>\n",
              "      <th>0</th>\n",
              "      <td>549e992a42</td>\n",
              "      <td>Sooo SAD I will miss you here in San Diego!!!</td>\n",
              "      <td>negative</td>\n",
              "      <td>Sooo SAD I will miss you here in San Diego ! ! !</td>\n",
              "      <td>Sooo SAD I will miss you here in San Diego ! ! !</td>\n",
              "    </tr>\n",
              "    <tr>\n",
              "      <th>1</th>\n",
              "      <td>088c60f138</td>\n",
              "      <td>my boss is bullying me</td>\n",
              "      <td>negative</td>\n",
              "      <td>my boss is bullying me</td>\n",
              "      <td>my bos is bullying me</td>\n",
              "    </tr>\n",
              "    <tr>\n",
              "      <th>2</th>\n",
              "      <td>9642c003ef</td>\n",
              "      <td>what interview! leave me alone</td>\n",
              "      <td>negative</td>\n",
              "      <td>what interview ! leave me alone</td>\n",
              "      <td>what interview ! leave me alone</td>\n",
              "    </tr>\n",
              "    <tr>\n",
              "      <th>3</th>\n",
              "      <td>358bd9e861</td>\n",
              "      <td>Sons of , why couldn`t they put them on the r...</td>\n",
              "      <td>negative</td>\n",
              "      <td>Sons of , why couldn ` t they put them on the ...</td>\n",
              "      <td>Sons of , why couldn ` t they put them on the ...</td>\n",
              "    </tr>\n",
              "    <tr>\n",
              "      <th>4</th>\n",
              "      <td>6e0c6d75b1</td>\n",
              "      <td>2am feedings for the baby are fun when he is a...</td>\n",
              "      <td>positive</td>\n",
              "      <td>2am feedings for the baby are fun when he is a...</td>\n",
              "      <td>2am feeding for the baby are fun when he is al...</td>\n",
              "    </tr>\n",
              "    <tr>\n",
              "      <th>...</th>\n",
              "      <td>...</td>\n",
              "      <td>...</td>\n",
              "      <td>...</td>\n",
              "      <td>...</td>\n",
              "      <td>...</td>\n",
              "    </tr>\n",
              "    <tr>\n",
              "      <th>16358</th>\n",
              "      <td>b78ec00df5</td>\n",
              "      <td>enjoy ur night</td>\n",
              "      <td>positive</td>\n",
              "      <td>enjoy ur night</td>\n",
              "      <td>enjoy ur night</td>\n",
              "    </tr>\n",
              "    <tr>\n",
              "      <th>16359</th>\n",
              "      <td>4eac33d1c0</td>\n",
              "      <td>wish we could come see u on Denver husband lo...</td>\n",
              "      <td>negative</td>\n",
              "      <td>wish we could come see u on Denver husband los...</td>\n",
              "      <td>wish we could come see u on Denver husband los...</td>\n",
              "    </tr>\n",
              "    <tr>\n",
              "      <th>16360</th>\n",
              "      <td>4f4c4fc327</td>\n",
              "      <td>I`ve wondered about rake to The client has ma...</td>\n",
              "      <td>negative</td>\n",
              "      <td>I ` ve wondered about rake to The client has m...</td>\n",
              "      <td>I ` ve wondered about rake to The client ha ma...</td>\n",
              "    </tr>\n",
              "    <tr>\n",
              "      <th>16361</th>\n",
              "      <td>f67aae2310</td>\n",
              "      <td>Yay good for both of you Enjoy the break you ...</td>\n",
              "      <td>positive</td>\n",
              "      <td>Yay good for both of you Enjoy the break you p...</td>\n",
              "      <td>Yay good for both of you Enjoy the break you p...</td>\n",
              "    </tr>\n",
              "    <tr>\n",
              "      <th>16362</th>\n",
              "      <td>ed167662a5</td>\n",
              "      <td>But it was worth it</td>\n",
              "      <td>positive</td>\n",
              "      <td>But it was worth it</td>\n",
              "      <td>But it wa worth it</td>\n",
              "    </tr>\n",
              "  </tbody>\n",
              "</table>\n",
              "<p>16363 rows × 5 columns</p>\n",
              "</div>\n",
              "      <button class=\"colab-df-convert\" onclick=\"convertToInteractive('df-a0d79815-03bd-461a-806f-7d9fe63d9287')\"\n",
              "              title=\"Convert this dataframe to an interactive table.\"\n",
              "              style=\"display:none;\">\n",
              "        \n",
              "  <svg xmlns=\"http://www.w3.org/2000/svg\" height=\"24px\"viewBox=\"0 0 24 24\"\n",
              "       width=\"24px\">\n",
              "    <path d=\"M0 0h24v24H0V0z\" fill=\"none\"/>\n",
              "    <path d=\"M18.56 5.44l.94 2.06.94-2.06 2.06-.94-2.06-.94-.94-2.06-.94 2.06-2.06.94zm-11 1L8.5 8.5l.94-2.06 2.06-.94-2.06-.94L8.5 2.5l-.94 2.06-2.06.94zm10 10l.94 2.06.94-2.06 2.06-.94-2.06-.94-.94-2.06-.94 2.06-2.06.94z\"/><path d=\"M17.41 7.96l-1.37-1.37c-.4-.4-.92-.59-1.43-.59-.52 0-1.04.2-1.43.59L10.3 9.45l-7.72 7.72c-.78.78-.78 2.05 0 2.83L4 21.41c.39.39.9.59 1.41.59.51 0 1.02-.2 1.41-.59l7.78-7.78 2.81-2.81c.8-.78.8-2.07 0-2.86zM5.41 20L4 18.59l7.72-7.72 1.47 1.35L5.41 20z\"/>\n",
              "  </svg>\n",
              "      </button>\n",
              "      \n",
              "  <style>\n",
              "    .colab-df-container {\n",
              "      display:flex;\n",
              "      flex-wrap:wrap;\n",
              "      gap: 12px;\n",
              "    }\n",
              "\n",
              "    .colab-df-convert {\n",
              "      background-color: #E8F0FE;\n",
              "      border: none;\n",
              "      border-radius: 50%;\n",
              "      cursor: pointer;\n",
              "      display: none;\n",
              "      fill: #1967D2;\n",
              "      height: 32px;\n",
              "      padding: 0 0 0 0;\n",
              "      width: 32px;\n",
              "    }\n",
              "\n",
              "    .colab-df-convert:hover {\n",
              "      background-color: #E2EBFA;\n",
              "      box-shadow: 0px 1px 2px rgba(60, 64, 67, 0.3), 0px 1px 3px 1px rgba(60, 64, 67, 0.15);\n",
              "      fill: #174EA6;\n",
              "    }\n",
              "\n",
              "    [theme=dark] .colab-df-convert {\n",
              "      background-color: #3B4455;\n",
              "      fill: #D2E3FC;\n",
              "    }\n",
              "\n",
              "    [theme=dark] .colab-df-convert:hover {\n",
              "      background-color: #434B5C;\n",
              "      box-shadow: 0px 1px 3px 1px rgba(0, 0, 0, 0.15);\n",
              "      filter: drop-shadow(0px 1px 2px rgba(0, 0, 0, 0.3));\n",
              "      fill: #FFFFFF;\n",
              "    }\n",
              "  </style>\n",
              "\n",
              "      <script>\n",
              "        const buttonEl =\n",
              "          document.querySelector('#df-a0d79815-03bd-461a-806f-7d9fe63d9287 button.colab-df-convert');\n",
              "        buttonEl.style.display =\n",
              "          google.colab.kernel.accessAllowed ? 'block' : 'none';\n",
              "\n",
              "        async function convertToInteractive(key) {\n",
              "          const element = document.querySelector('#df-a0d79815-03bd-461a-806f-7d9fe63d9287');\n",
              "          const dataTable =\n",
              "            await google.colab.kernel.invokeFunction('convertToInteractive',\n",
              "                                                     [key], {});\n",
              "          if (!dataTable) return;\n",
              "\n",
              "          const docLinkHtml = 'Like what you see? Visit the ' +\n",
              "            '<a target=\"_blank\" href=https://colab.research.google.com/notebooks/data_table.ipynb>data table notebook</a>'\n",
              "            + ' to learn more about interactive tables.';\n",
              "          element.innerHTML = '';\n",
              "          dataTable['output_type'] = 'display_data';\n",
              "          await google.colab.output.renderOutput(dataTable, element);\n",
              "          const docLink = document.createElement('div');\n",
              "          docLink.innerHTML = docLinkHtml;\n",
              "          element.appendChild(docLink);\n",
              "        }\n",
              "      </script>\n",
              "    </div>\n",
              "  </div>\n",
              "  "
            ]
          },
          "metadata": {},
          "execution_count": 12
        }
      ]
    },
    {
      "cell_type": "code",
      "source": [
        "train_df.head()"
      ],
      "metadata": {
        "colab": {
          "base_uri": "https://localhost:8080/",
          "height": 206
        },
        "id": "A3MZm2ZxzCEl",
        "outputId": "68ae8056-2b24-4d10-8e0e-890bb73f4742"
      },
      "execution_count": null,
      "outputs": [
        {
          "output_type": "execute_result",
          "data": {
            "text/plain": [
              "           id                                               text sentiment  \\\n",
              "0  549e992a42      Sooo SAD I will miss you here in San Diego!!!  negative   \n",
              "1  088c60f138                            my boss is bullying me   negative   \n",
              "2  9642c003ef                     what interview! leave me alone  negative   \n",
              "3  358bd9e861   Sons of , why couldn`t they put them on the r...  negative   \n",
              "4  6e0c6d75b1  2am feedings for the baby are fun when he is a...  positive   \n",
              "\n",
              "                                     Tokenised_Text1  \\\n",
              "0   Sooo SAD I will miss you here in San Diego ! ! !   \n",
              "1                             my boss is bullying me   \n",
              "2                    what interview ! leave me alone   \n",
              "3  Sons of , why couldn ` t they put them on the ...   \n",
              "4  2am feedings for the baby are fun when he is a...   \n",
              "\n",
              "                                    Lemmatised_Text1  \n",
              "0   Sooo SAD I will miss you here in San Diego ! ! !  \n",
              "1                              my bos is bullying me  \n",
              "2                    what interview ! leave me alone  \n",
              "3  Sons of , why couldn ` t they put them on the ...  \n",
              "4  2am feeding for the baby are fun when he is al...  "
            ],
            "text/html": [
              "\n",
              "  <div id=\"df-cb2dcf0a-e629-44aa-b189-31ff24e09423\">\n",
              "    <div class=\"colab-df-container\">\n",
              "      <div>\n",
              "<style scoped>\n",
              "    .dataframe tbody tr th:only-of-type {\n",
              "        vertical-align: middle;\n",
              "    }\n",
              "\n",
              "    .dataframe tbody tr th {\n",
              "        vertical-align: top;\n",
              "    }\n",
              "\n",
              "    .dataframe thead th {\n",
              "        text-align: right;\n",
              "    }\n",
              "</style>\n",
              "<table border=\"1\" class=\"dataframe\">\n",
              "  <thead>\n",
              "    <tr style=\"text-align: right;\">\n",
              "      <th></th>\n",
              "      <th>id</th>\n",
              "      <th>text</th>\n",
              "      <th>sentiment</th>\n",
              "      <th>Tokenised_Text1</th>\n",
              "      <th>Lemmatised_Text1</th>\n",
              "    </tr>\n",
              "  </thead>\n",
              "  <tbody>\n",
              "    <tr>\n",
              "      <th>0</th>\n",
              "      <td>549e992a42</td>\n",
              "      <td>Sooo SAD I will miss you here in San Diego!!!</td>\n",
              "      <td>negative</td>\n",
              "      <td>Sooo SAD I will miss you here in San Diego ! ! !</td>\n",
              "      <td>Sooo SAD I will miss you here in San Diego ! ! !</td>\n",
              "    </tr>\n",
              "    <tr>\n",
              "      <th>1</th>\n",
              "      <td>088c60f138</td>\n",
              "      <td>my boss is bullying me</td>\n",
              "      <td>negative</td>\n",
              "      <td>my boss is bullying me</td>\n",
              "      <td>my bos is bullying me</td>\n",
              "    </tr>\n",
              "    <tr>\n",
              "      <th>2</th>\n",
              "      <td>9642c003ef</td>\n",
              "      <td>what interview! leave me alone</td>\n",
              "      <td>negative</td>\n",
              "      <td>what interview ! leave me alone</td>\n",
              "      <td>what interview ! leave me alone</td>\n",
              "    </tr>\n",
              "    <tr>\n",
              "      <th>3</th>\n",
              "      <td>358bd9e861</td>\n",
              "      <td>Sons of , why couldn`t they put them on the r...</td>\n",
              "      <td>negative</td>\n",
              "      <td>Sons of , why couldn ` t they put them on the ...</td>\n",
              "      <td>Sons of , why couldn ` t they put them on the ...</td>\n",
              "    </tr>\n",
              "    <tr>\n",
              "      <th>4</th>\n",
              "      <td>6e0c6d75b1</td>\n",
              "      <td>2am feedings for the baby are fun when he is a...</td>\n",
              "      <td>positive</td>\n",
              "      <td>2am feedings for the baby are fun when he is a...</td>\n",
              "      <td>2am feeding for the baby are fun when he is al...</td>\n",
              "    </tr>\n",
              "  </tbody>\n",
              "</table>\n",
              "</div>\n",
              "      <button class=\"colab-df-convert\" onclick=\"convertToInteractive('df-cb2dcf0a-e629-44aa-b189-31ff24e09423')\"\n",
              "              title=\"Convert this dataframe to an interactive table.\"\n",
              "              style=\"display:none;\">\n",
              "        \n",
              "  <svg xmlns=\"http://www.w3.org/2000/svg\" height=\"24px\"viewBox=\"0 0 24 24\"\n",
              "       width=\"24px\">\n",
              "    <path d=\"M0 0h24v24H0V0z\" fill=\"none\"/>\n",
              "    <path d=\"M18.56 5.44l.94 2.06.94-2.06 2.06-.94-2.06-.94-.94-2.06-.94 2.06-2.06.94zm-11 1L8.5 8.5l.94-2.06 2.06-.94-2.06-.94L8.5 2.5l-.94 2.06-2.06.94zm10 10l.94 2.06.94-2.06 2.06-.94-2.06-.94-.94-2.06-.94 2.06-2.06.94z\"/><path d=\"M17.41 7.96l-1.37-1.37c-.4-.4-.92-.59-1.43-.59-.52 0-1.04.2-1.43.59L10.3 9.45l-7.72 7.72c-.78.78-.78 2.05 0 2.83L4 21.41c.39.39.9.59 1.41.59.51 0 1.02-.2 1.41-.59l7.78-7.78 2.81-2.81c.8-.78.8-2.07 0-2.86zM5.41 20L4 18.59l7.72-7.72 1.47 1.35L5.41 20z\"/>\n",
              "  </svg>\n",
              "      </button>\n",
              "      \n",
              "  <style>\n",
              "    .colab-df-container {\n",
              "      display:flex;\n",
              "      flex-wrap:wrap;\n",
              "      gap: 12px;\n",
              "    }\n",
              "\n",
              "    .colab-df-convert {\n",
              "      background-color: #E8F0FE;\n",
              "      border: none;\n",
              "      border-radius: 50%;\n",
              "      cursor: pointer;\n",
              "      display: none;\n",
              "      fill: #1967D2;\n",
              "      height: 32px;\n",
              "      padding: 0 0 0 0;\n",
              "      width: 32px;\n",
              "    }\n",
              "\n",
              "    .colab-df-convert:hover {\n",
              "      background-color: #E2EBFA;\n",
              "      box-shadow: 0px 1px 2px rgba(60, 64, 67, 0.3), 0px 1px 3px 1px rgba(60, 64, 67, 0.15);\n",
              "      fill: #174EA6;\n",
              "    }\n",
              "\n",
              "    [theme=dark] .colab-df-convert {\n",
              "      background-color: #3B4455;\n",
              "      fill: #D2E3FC;\n",
              "    }\n",
              "\n",
              "    [theme=dark] .colab-df-convert:hover {\n",
              "      background-color: #434B5C;\n",
              "      box-shadow: 0px 1px 3px 1px rgba(0, 0, 0, 0.15);\n",
              "      filter: drop-shadow(0px 1px 2px rgba(0, 0, 0, 0.3));\n",
              "      fill: #FFFFFF;\n",
              "    }\n",
              "  </style>\n",
              "\n",
              "      <script>\n",
              "        const buttonEl =\n",
              "          document.querySelector('#df-cb2dcf0a-e629-44aa-b189-31ff24e09423 button.colab-df-convert');\n",
              "        buttonEl.style.display =\n",
              "          google.colab.kernel.accessAllowed ? 'block' : 'none';\n",
              "\n",
              "        async function convertToInteractive(key) {\n",
              "          const element = document.querySelector('#df-cb2dcf0a-e629-44aa-b189-31ff24e09423');\n",
              "          const dataTable =\n",
              "            await google.colab.kernel.invokeFunction('convertToInteractive',\n",
              "                                                     [key], {});\n",
              "          if (!dataTable) return;\n",
              "\n",
              "          const docLinkHtml = 'Like what you see? Visit the ' +\n",
              "            '<a target=\"_blank\" href=https://colab.research.google.com/notebooks/data_table.ipynb>data table notebook</a>'\n",
              "            + ' to learn more about interactive tables.';\n",
              "          element.innerHTML = '';\n",
              "          dataTable['output_type'] = 'display_data';\n",
              "          await google.colab.output.renderOutput(dataTable, element);\n",
              "          const docLink = document.createElement('div');\n",
              "          docLink.innerHTML = docLinkHtml;\n",
              "          element.appendChild(docLink);\n",
              "        }\n",
              "      </script>\n",
              "    </div>\n",
              "  </div>\n",
              "  "
            ]
          },
          "metadata": {},
          "execution_count": 13
        }
      ]
    },
    {
      "cell_type": "markdown",
      "source": [
        "Stop word removal is a process of removing commonly used words (e.g., \"the,\" \"a,\" \"an,\" and \"is\"), which are usually referred to as stop words, from a text. Stop words are usually considered irrelevant to the meaning of a sentence and are often removed to improve search engine accuracy and the overall readability of a text."
      ],
      "metadata": {
        "id": "2fzVGG22UKyT"
      }
    },
    {
      "cell_type": "markdown",
      "source": [
        "This code creates a set of English stopwords using the stopwords library from the NLTK library. Stopwords are words that are typically filtered out of natural language processing tasks such as text analysis. The set of stopwords can then be used to filter out words from a text in order to identify meaningful words and phrases."
      ],
      "metadata": {
        "id": "H-bseG6L3KRR"
      }
    },
    {
      "cell_type": "code",
      "metadata": {
        "colab": {
          "base_uri": "https://localhost:8080/"
        },
        "id": "5NqYDVZwiTUx",
        "outputId": "3e6cf0a2-6113-432f-ef2c-0e43ee3ebefb"
      },
      "source": [
        "# get English stopwords\n",
        "stop_words = set(stopwords.words('english')) \n",
        "print(stop_words)"
      ],
      "execution_count": null,
      "outputs": [
        {
          "output_type": "stream",
          "name": "stdout",
          "text": [
            "{'weren', \"shan't\", 'nor', 'their', \"she's\", 'they', 'aren', \"shouldn't\", 'having', 'again', \"you've\", 'it', 'theirs', 'when', 'while', \"mustn't\", \"needn't\", 'had', 'the', 'hers', 'further', 'if', 'other', 'll', 'been', \"that'll\", \"you'd\", 'itself', 'more', 'ourselves', 'we', 'its', 'on', 'our', 'very', 'ain', 'couldn', 'needn', 'i', 'what', 'those', 'such', 'isn', 'were', 'did', 'yourselves', 'or', 'no', 'won', 'down', 'mightn', 'myself', 'whom', 'for', 'against', 'and', 'into', 'up', \"don't\", \"hadn't\", 'y', 'mustn', 'during', 'your', 'yourself', 're', 'off', 'yours', 'which', 'all', 'was', 'have', 'but', 'them', 'below', 'here', 'hasn', 'under', 'my', \"should've\", 'didn', 'am', 'who', 'has', 'after', 'each', 'then', \"weren't\", 'himself', 'you', 'is', 'than', 'at', 'not', \"it's\", 'ma', 'can', 'few', \"couldn't\", 'these', 'being', 'wasn', 'some', 'a', 'out', 'about', 'hadn', \"hasn't\", 'doing', 'd', 'there', 'an', 'once', \"wouldn't\", \"you're\", 'ours', 'between', 'in', 'will', 'haven', 'most', \"mightn't\", \"isn't\", 'him', 'with', 's', 'shan', 'to', 'through', 'her', 'm', 'she', \"aren't\", 'from', 'over', 'too', 'how', 'don', 'do', 'so', 'should', 'themselves', 'both', 'as', 't', 'his', 'why', 'until', 'where', 'o', 'now', 'wouldn', \"won't\", 'does', 'same', 'he', 'that', 'by', 'this', 'doesn', \"doesn't\", \"you'll\", 'because', 'only', 'be', 'own', \"didn't\", \"haven't\", 'any', 'of', 'me', \"wasn't\", 'above', 've', 'herself', 'are', 'just', 'before', 'shouldn'}\n"
          ]
        }
      ]
    },
    {
      "cell_type": "markdown",
      "source": [
        "This code is used to split the data into training and validation sets. The train_test_split function is used to split the training data into two datasets: X_train_text, X_val_text and y_train, y_val. The test_size argument is used to specify the proportion of the data to be used for the validation set, in this case 0.3. The random_state argument is used to specify a random seed to ensure the same split is used each time the code is run. \n",
        "\n",
        "The same process is repeated for the tokenised text (X_train_tokenised_text and X_val_tokenised_text) and lemmatised text (X_train_lemmatised_text and X_val_lemmatised_text). \n",
        "\n",
        "The class_list variable is then used to specify the classes to be used for plotting the confusion matrix."
      ],
      "metadata": {
        "id": "0Pw6c2Iy3Wqr"
      }
    },
    {
      "cell_type": "code",
      "metadata": {
        "colab": {
          "base_uri": "https://localhost:8080/"
        },
        "id": "6ESYYpOPlkxr",
        "outputId": "f2a8e577-d58d-4b79-b62a-4740a5d3a81e"
      },
      "source": [
        "# use raw text\n",
        "X_train_text, X_val_text, y_train, y_val = train_test_split(train_df['text'], train_df['sentiment'], test_size=0.3, random_state=RANDOM_SEED)\n",
        "print(f'training data set size: {len(X_train_text)}')\n",
        "print(f'validation data set size: {len(X_val_text)}')\n",
        "\n",
        "# use tokenised text\n",
        "X_train_tokenised_text, X_val_tokenised_text, y_train, y_val = train_test_split(train_df['Tokenised_Text1'], train_df['sentiment'], test_size=0.3, random_state=RANDOM_SEED)\n",
        "print(f'training data set size: {len(X_train_tokenised_text)}')\n",
        "print(f'validation data set size: {len(X_val_tokenised_text)}')\n",
        "\n",
        "# use lemmatised text\n",
        "X_train_lemmatised_text, X_val_lemmatised_text, y_train, y_val = train_test_split(train_df['Lemmatised_Text1'], train_df['sentiment'], test_size=0.3, random_state=RANDOM_SEED)\n",
        "print(f'training data set size: {len(X_train_lemmatised_text)}')\n",
        "print(f'validation data set size: {len(X_val_lemmatised_text)}')\n",
        "\n",
        "# define class_names to using with plot_confusion_matrix\n",
        "class_list = ['positive', 'negative']"
      ],
      "execution_count": null,
      "outputs": [
        {
          "output_type": "stream",
          "name": "stdout",
          "text": [
            "training data set size: 11454\n",
            "validation data set size: 4909\n",
            "training data set size: 11454\n",
            "validation data set size: 4909\n",
            "training data set size: 11454\n",
            "validation data set size: 4909\n"
          ]
        }
      ]
    },
    {
      "cell_type": "markdown",
      "source": [
        "This code is used to evaluate the performance of a classification model. The evaluate() function takes three parameters: actuals, predictions and class_names. The accuracy score is calculated using the metrics.accuracy_score() function. The confusion matrix is calculated using the metrics.confusion_matrix() function, which takes the actuals, predictions and class_names as parameters. The plot_confusion_matrix() function is then used to plot the confusion matrix. Finally, the accuracy and the confusion matrix are returned by the evaluate() function."
      ],
      "metadata": {
        "id": "_AgJDNqt3iUV"
      }
    },
    {
      "cell_type": "code",
      "metadata": {
        "id": "M9ur6ln6ayjX"
      },
      "source": [
        "# method to plot confusion matrix\n",
        "def plot_confusion_matrix(matrix, class_names):\n",
        "    plt.clf()\n",
        "    plt.imshow(matrix, interpolation='nearest', cmap=plt.cm.Set2_r)\n",
        "    plt.title('Confusion Matrix')\n",
        "    plt.ylabel('Actual')\n",
        "    plt.xlabel('Predicted')\n",
        "    tick_marks = np.arange(len(class_names))\n",
        "    plt.xticks(tick_marks, class_names)\n",
        "    plt.yticks(tick_marks, class_names)\n",
        "    s = [['TP','FN'], ['FP', 'TN']]\n",
        "\n",
        "    for i in range(2):\n",
        "        for j in range(2):\n",
        "            plt.text(j,i, str(s[i][j])+\" = \"+str(matrix[i][j]))\n",
        "    plt.show()\n",
        "\n",
        "# method to calculate evaluation results\n",
        "def evaluate(actuals, predictions, class_names):\n",
        "  accuracy = metrics.accuracy_score(actuals, predictions)\n",
        "  confusion_matrix = metrics.confusion_matrix(actuals, predictions, labels=class_names)\n",
        "  return accuracy, confusion_matrix"
      ],
      "execution_count": null,
      "outputs": []
    },
    {
      "cell_type": "markdown",
      "metadata": {
        "id": "V-afXrnwWWwU"
      },
      "source": [
        "## SVM\n",
        "Support Vector Machines (SVMs) are supervised learning models with associated learning algorithms that analyze data used for classification and regression analysis. The goal of an SVM is to find the best possible hyperplane that separates different classes of data points in an n-dimensional space, where n is the number of features."
      ]
    },
    {
      "cell_type": "markdown",
      "source": [
        "This code defines a function to train and predict using the Support Vector Machine (SVM) classifier. The function takes in the training and validation data and labels (X_train, X_val, y_train, y_val, class_names) and builds a linear SVM model. The model is then used to make predictions on the validation data and the performance is evaluated with an accuracy and confusion matrix. The accuracy and confusion matrix are printed and the trained model is returned."
      ],
      "metadata": {
        "id": "LJN7VIwf3u11"
      }
    },
    {
      "cell_type": "code",
      "metadata": {
        "id": "RzpTMkyqa0Zj"
      },
      "source": [
        "# method to train and predict using SVM classifier\n",
        "def get_svm_predictions(X_train, X_val, y_train, y_val, class_names):\n",
        "  # build model\n",
        "  clf = svm.SVC(kernel='linear', random_state=RANDOM_SEED) \n",
        "  clf.fit(X_train, y_train)\n",
        "\n",
        "  # Make predictions on test data\n",
        "  y_pred = clf.predict(X_val)\n",
        "\n",
        "  # evalution\n",
        "  accuracy, confusion_matrix = evaluate(y_val, y_pred, class_names)\n",
        "  print(f'Accuracy: {accuracy}')\n",
        "  plot_confusion_matrix(confusion_matrix, class_names)\n",
        "\n",
        "  return clf"
      ],
      "execution_count": null,
      "outputs": []
    },
    {
      "cell_type": "markdown",
      "source": [
        "## Logistic Regression\n",
        "Logistic regression is a type of statistical analysis used in machine learning that is used to predict the probability of a certain outcome based on a set of independent variables. Logistic regression is a classification algorithm used to assign observations to a discrete set of classes. Unlike linear regression, which is used to predict a continuous outcome, logistic regression is used to predict a binary outcome. Logistic regression is often used to determine whether a customer will purchase a product, whether an email is a spam, or whether a tumour is malignant or benign."
      ],
      "metadata": {
        "id": "GXANktpOV4mz"
      }
    },
    {
      "cell_type": "markdown",
      "source": [
        "This code creates a logistic regression model and uses it to make predictions on a test dataset. The evaluate function is used to evaluate the accuracy of the model and the plot_confusion_matrix function is used to plot the confusion matrix. The accuracy and the confusion matrix are then printed out."
      ],
      "metadata": {
        "id": "hVWZEnyM3wvF"
      }
    },
    {
      "cell_type": "code",
      "source": [
        "from sklearn.linear_model import LogisticRegression\n",
        "def get_logistic_predictions(X_train, X_val, y_train, y_val, class_names):\n",
        "  # build model\n",
        "\n",
        "  #clf = svm.SVC(kernel='linear', random_state=RANDOM_SEED)\n",
        "  clf = LogisticRegression(random_state=RANDOM_SEED)\n",
        "  clf.fit(X_train, y_train)\n",
        "\n",
        "  # Make predictions on test data\n",
        "  y_pred = clf.predict(X_val)\n",
        "\n",
        "  # evalution\n",
        "  accuracy, confusion_matrix = evaluate(y_val, y_pred, class_names)\n",
        "  print(f'Accuracy: {accuracy}')\n",
        "  plot_confusion_matrix(confusion_matrix, class_names)\n",
        "\n",
        "  return clf"
      ],
      "metadata": {
        "id": "WUD95co9gZ5M"
      },
      "execution_count": null,
      "outputs": []
    },
    {
      "cell_type": "markdown",
      "source": [
        "## Decision Tree\n",
        "Decision trees are a type of supervised machine-learning algorithm used for both classification and regression tasks. They are a tree-like graph or model of decisions and their possible consequences. It is one way to visually and explicitly represent decisions and decision-making. The branches of the tree represent different decisions, and the leaves represent the end results. The goal of a decision tree is to maximize the accuracy of the prediction by minimizing the deviation from the true value."
      ],
      "metadata": {
        "id": "F4jh-Fi-WQvD"
      }
    },
    {
      "cell_type": "markdown",
      "source": [
        "This code is a method to train and predict using a Decision Tree Classifier. First, it creates a Decision Tree Classifier object with a random seed. Then, it fits the Decision Tree Classifier model with the X_train and y_train data. After that, it makes predictions on the X_val data and evaluates the accuracy and confusion matrix of the predictions. Finally, it prints out the accuracy and plots the confusion matrix and returns the classifier."
      ],
      "metadata": {
        "id": "m1gWK-RD360e"
      }
    },
    {
      "cell_type": "code",
      "metadata": {
        "id": "UkGfmqxcnjEp"
      },
      "source": [
        "# method to train and predict using Decision Tree\n",
        "def get_dt_predictions(X_train, X_val, y_train, y_val, class_list):\n",
        "  # build model\n",
        "  clf = tree.DecisionTreeClassifier(random_state=RANDOM_SEED)\n",
        "  clf.fit(X_train, y_train)\n",
        "\n",
        "  # Make predictions on test data\n",
        "  y_pred = clf.predict(X_val)\n",
        "\n",
        "  # evalution\n",
        "  accuracy, confusion_matrix = evaluate(y_val, y_pred, class_list)\n",
        "  print(f'Accuracy: {accuracy}')\n",
        "  plot_confusion_matrix(confusion_matrix, class_list)\n",
        "\n",
        "  return clf"
      ],
      "execution_count": null,
      "outputs": []
    },
    {
      "cell_type": "markdown",
      "metadata": {
        "id": "5D7Xhvta2hRL"
      },
      "source": [
        "### Model M1\n",
        "\n",
        "* Data preprocessing - lower casing, punctuation removal\n",
        "* Features - term occurrence vector (1-grams)\n",
        "* Algorithm - SVM"
      ]
    },
    {
      "cell_type": "markdown",
      "source": [
        "This code is used to build a support vector machine classifier to classify text data. First, it uses the CountVectorizer class to create a vectorizer object and fit it to the training data. Then, it converts the text data into numeric vectors using the vectorizer object. Finally, it calls the get_svm_predictions function to train a support vector machine classifier using the converted data and predict labels for the validation data."
      ],
      "metadata": {
        "id": "fLTNZrgq4Qd1"
      }
    },
    {
      "cell_type": "code",
      "metadata": {
        "colab": {
          "base_uri": "https://localhost:8080/",
          "height": 312
        },
        "id": "Us1OlvYchCpg",
        "outputId": "b6a9d92e-c198-4ba5-8b0f-302abbb3d660"
      },
      "source": [
        "vectorizer = CountVectorizer()  # default: lowercase=True, ngram_range=(1,1)\n",
        "vectorizer.fit(X_train_text)\n",
        "\n",
        "# convert train and test text data to numeric vectors\n",
        "X_train = vectorizer.transform(X_train_text)\n",
        "X_val = vectorizer.transform(X_val_text)\n",
        "\n",
        "m1 = get_svm_predictions(X_train, X_val, y_train, y_val, class_list)"
      ],
      "execution_count": null,
      "outputs": [
        {
          "output_type": "stream",
          "name": "stdout",
          "text": [
            "Accuracy: 0.8598492564677124\n"
          ]
        },
        {
          "output_type": "display_data",
          "data": {
            "text/plain": [
              "<Figure size 432x288 with 1 Axes>"
            ],
            "image/png": "[encoded data removed]"
          },
          "metadata": {
            "needs_background": "light"
          }
        }
      ]
    },
    {
      "cell_type": "markdown",
      "metadata": {
        "id": "NMj8IMfC5Njq"
      },
      "source": [
        "### Model M2\n",
        "\n",
        "* Data preprocessing - lower casing, punctuation removal\n",
        "* Features - tf-idf vector (1-grams)\n",
        "* Algorithm - SVM"
      ]
    },
    {
      "cell_type": "markdown",
      "source": [
        "This code is used to train a Support Vector Machine (SVM) model to classify text data. The code first imports the necessary libraries such as TfidfVectorizer and SVC. Then it splits the data into training and validation sets. The next step is to use the TfidfVectorizer to convert the text data into numeric vectors which can be used by the SVM. Finally, the get_svm_predictions function is used to train the SVM on the training data and make predictions on the validation data using the SVC class from the sklearn library. The predictions are then returned as a matrix of probabilities for each class."
      ],
      "metadata": {
        "id": "aLBZR7-o4bxu"
      }
    },
    {
      "cell_type": "code",
      "metadata": {
        "colab": {
          "base_uri": "https://localhost:8080/",
          "height": 312
        },
        "id": "nbzNipU4iH-O",
        "outputId": "ca4fc2ca-4f26-4930-a36f-32edaabdf57e"
      },
      "source": [
        "vectorizer = TfidfVectorizer()  # default: lowercase=True, ngram_range=(1,1)\n",
        "vectorizer.fit(X_train_text)\n",
        "\n",
        "# convert train and test text data to numeric vectors\n",
        "X_train = vectorizer.transform(X_train_text)\n",
        "X_val = vectorizer.transform(X_val_text)\n",
        "\n",
        "m2 = get_svm_predictions(X_train, X_val, y_train, y_val, class_list)"
      ],
      "execution_count": null,
      "outputs": [
        {
          "output_type": "stream",
          "name": "stdout",
          "text": [
            "Accuracy: 0.8679975555102872\n"
          ]
        },
        {
          "output_type": "display_data",
          "data": {
            "text/plain": [
              "<Figure size 432x288 with 1 Axes>"
            ],
            "image/png": "[encoded data removed]"
          },
          "metadata": {
            "needs_background": "light"
          }
        }
      ]
    },
    {
      "cell_type": "markdown",
      "metadata": {
        "id": "BHsj_iV-4RLV"
      },
      "source": [
        "### Model M3\n",
        "\n",
        "* Data preprocessing - lower casing, punctuation removal, tokenisation(NLTK)\n",
        "* Features - tf-idf vector (1-grams)\n",
        "* Algorithm - SVM"
      ]
    },
    {
      "cell_type": "markdown",
      "source": [
        "This code is performing natural language processing to prepare text data for use in a support vector machine (SVM) classification model. It first splits the dataset into a training and validation set. It then tokenizes the text data in the training and validation sets, meaning it splits the text into individual words. Then it uses a TfidfVectorizer to convert the tokenized text data into numeric vectors. Finally, it uses the get_svm_predictions function to fit an SVM model to the training data and make predictions on the validation data."
      ],
      "metadata": {
        "id": "pfnvlUE64eB2"
      }
    },
    {
      "cell_type": "code",
      "metadata": {
        "colab": {
          "base_uri": "https://localhost:8080/",
          "height": 312
        },
        "id": "5EHwvVx6iyT-",
        "outputId": "e66d4b78-ebb6-4ce7-f6a8-b490fe60ed5e"
      },
      "source": [
        "vectorizer = TfidfVectorizer()  # default: lowercase=True, ngram_range=(1,1)\n",
        "vectorizer.fit(X_train_tokenised_text)\n",
        "\n",
        "# convert train and test text data to numeric vectors\n",
        "X_train = vectorizer.transform(X_train_tokenised_text)\n",
        "X_val = vectorizer.transform(X_val_tokenised_text)\n",
        "\n",
        "m3 = get_svm_predictions(X_train, X_val, y_train, y_val, class_list)"
      ],
      "execution_count": null,
      "outputs": [
        {
          "output_type": "stream",
          "name": "stdout",
          "text": [
            "Accuracy: 0.8669790181299654\n"
          ]
        },
        {
          "output_type": "display_data",
          "data": {
            "text/plain": [
              "<Figure size 432x288 with 1 Axes>"
            ],
            "image/png": "[encoded data removed]"
          },
          "metadata": {
            "needs_background": "light"
          }
        }
      ]
    },
    {
      "cell_type": "markdown",
      "metadata": {
        "id": "LX8lvAd0jbkZ"
      },
      "source": [
        "### Model M4\n",
        "\n",
        "* Data preprocessing - lower casing, punctuation removal, lemmatisation(WordNet)\n",
        "* Features - tf-idf vector (1-grams)\n",
        "* Algorithm - SVM"
      ]
    },
    {
      "cell_type": "markdown",
      "source": [
        "This code is used to train and test a Support Vector Machine (SVM) model using lemmatized text data from a dataset. The code first loads in the dataset and separates the text data from the labels. It then performs lemmatization on the text data using the NLTK WordNetLemmatizer. The TfidfVectorizer is then used to convert the text data into numeric vectors. Finally, the get_svm_predictions function is called to train and test the SVM model on the lemmatized text data."
      ],
      "metadata": {
        "id": "sASlCww041Ck"
      }
    },
    {
      "cell_type": "code",
      "metadata": {
        "colab": {
          "base_uri": "https://localhost:8080/",
          "height": 312
        },
        "id": "BsM4bk14jg-w",
        "outputId": "3a996537-a169-4ab3-ee67-b311a518e751"
      },
      "source": [
        "vectorizer = TfidfVectorizer()  # default: lowercase=True, ngram_range=(1,1)\n",
        "vectorizer.fit(X_train_lemmatised_text)\n",
        "\n",
        "# convert train and test text data to numeric vectors\n",
        "X_train = vectorizer.transform(X_train_lemmatised_text)\n",
        "X_val = vectorizer.transform(X_val_lemmatised_text)\n",
        "\n",
        "m4 = get_svm_predictions(X_train, X_val, y_train, y_val, class_list)"
      ],
      "execution_count": null,
      "outputs": [
        {
          "output_type": "stream",
          "name": "stdout",
          "text": [
            "Accuracy: 0.8698309227948666\n"
          ]
        },
        {
          "output_type": "display_data",
          "data": {
            "text/plain": [
              "<Figure size 432x288 with 1 Axes>"
            ],
            "image/png": "[encoded data removed]"
          },
          "metadata": {
            "needs_background": "light"
          }
        }
      ]
    },
    {
      "cell_type": "markdown",
      "metadata": {
        "id": "Vy3rzIj8j_zs"
      },
      "source": [
        "### Model M5\n",
        "\n",
        "* Data preprocessing - lower casing, punctuation removal, tokenisation(NLTK), stop word removal\n",
        "* Features - tf-idf vector (1-grams)\n",
        "* Algorithm - SVM"
      ]
    },
    {
      "cell_type": "markdown",
      "source": [
        "\n",
        "This code is used to train a support vector machine (SVM) to classify text data. First, it imports the necessary libraries (numpy, pandas, sklearn, etc). Next, it reads in the training and validation data for the text classification task. Then, it preprocesses the text by tokenizing it, removing stop words (common words like 'the', 'a', etc.) and stemming the words. \n",
        "\n",
        "Next, it uses the TfidfVectorizer to convert the text data into numeric vectors. This vectorizer assigns weights to each word in the text based on its frequency in the dataset. Finally, it calls the get_svm_predictions() function to train a SVM model on the vectorised text data and make predictions on the validation set."
      ],
      "metadata": {
        "id": "0SFv5xRi5Ae0"
      }
    },
    {
      "cell_type": "code",
      "metadata": {
        "colab": {
          "base_uri": "https://localhost:8080/",
          "height": 312
        },
        "id": "KABdHf6mkC17",
        "outputId": "ffe69d3b-f5e4-4e19-9113-c0f8cedd12d4"
      },
      "source": [
        "vectorizer = TfidfVectorizer(stop_words=stop_words)  # default: lowercase=True, ngram_range=(1,1)\n",
        "vectorizer.fit(X_train_tokenised_text)\n",
        "\n",
        "# convert train and test text data to numeric vectors\n",
        "X_train = vectorizer.transform(X_train_tokenised_text)\n",
        "X_val = vectorizer.transform(X_val_tokenised_text)\n",
        "\n",
        "m5 = get_svm_predictions(X_train, X_val, y_train, y_val, class_list)"
      ],
      "execution_count": null,
      "outputs": [
        {
          "output_type": "stream",
          "name": "stdout",
          "text": [
            "Accuracy: 0.8588307190873905\n"
          ]
        },
        {
          "output_type": "display_data",
          "data": {
            "text/plain": [
              "<Figure size 432x288 with 1 Axes>"
            ],
            "image/png": "[encoded data removed]"
          },
          "metadata": {
            "needs_background": "light"
          }
        }
      ]
    },
    {
      "cell_type": "markdown",
      "metadata": {
        "id": "FCDnVSSCkVOs"
      },
      "source": [
        "### Model M6\n",
        "\n",
        "* Data preprocessing - lower casing, punctuation removal, lemmatisation(WordNet), stop word removal\n",
        "* Features - tf-idf vector (1-grams)\n",
        "* Algorithm - SVM"
      ]
    },
    {
      "cell_type": "markdown",
      "source": [
        "This code is used to create a Support Vector Machine (SVM) model, which is a supervised learning algorithm used to classify data into different classes. The code begins by defining the stop_words which are words that should be ignored when processing the text. It then creates a TfidfVectorizer object which is used to convert the text into numerical vectors. The X_train_lemmatised_text and X_val_lemmatised_text are then converted to numerical vectors using the vectorizer. After this, the get_svm_predictions() function is called which uses the X_train, X_val, y_train, y_val and class_list to create the SVM model. Finally, the model is used to make predictions on the data."
      ],
      "metadata": {
        "id": "DrCtLh035Cpt"
      }
    },
    {
      "cell_type": "code",
      "metadata": {
        "colab": {
          "base_uri": "https://localhost:8080/",
          "height": 312
        },
        "id": "3iKF7myFkYJ_",
        "outputId": "7f2fdb3d-fc0c-48c6-bbb9-2c3bb2f3d943"
      },
      "source": [
        "vectorizer = TfidfVectorizer(stop_words=stop_words)  # default: lowercase=True, ngram_range=(1,1)\n",
        "vectorizer.fit(X_train_lemmatised_text)\n",
        "\n",
        "# convert train and test text data to numeric vectors\n",
        "X_train = vectorizer.transform(X_train_lemmatised_text)\n",
        "X_val = vectorizer.transform(X_val_lemmatised_text)\n",
        "\n",
        "m6 = get_svm_predictions(X_train, X_val, y_train, y_val, class_list)"
      ],
      "execution_count": null,
      "outputs": [
        {
          "output_type": "stream",
          "name": "stdout",
          "text": [
            "Accuracy: 0.8576084742310043\n"
          ]
        },
        {
          "output_type": "display_data",
          "data": {
            "text/plain": [
              "<Figure size 432x288 with 1 Axes>"
            ],
            "image/png": "[encoded data removed]"
          },
          "metadata": {
            "needs_background": "light"
          }
        }
      ]
    },
    {
      "cell_type": "markdown",
      "source": [
        "### Model M7\n",
        "\n",
        "* Data preprocessing - lower casing, punctuation removal, tokenisation(NLTK), stop word removal\n",
        "* Features - tf-idf vector (1-grams)\n",
        "* Algorithm - Logistic Regression"
      ],
      "metadata": {
        "id": "tIUOSYDqllkd"
      }
    },
    {
      "cell_type": "markdown",
      "source": [
        "This code is used to create a logistic regression model. It begins by loading the data and splitting it into train and validation sets. It then uses the TfidfVectorizer() to convert the text data into numeric vectors. Finally, it uses the get_logistic_predictions() function to fit the logistic model on the training data and then evaluate it on the validation data. The get_logistic_predictions() function returns the predictions made by the model."
      ],
      "metadata": {
        "id": "VI4vsxRS5XpF"
      }
    },
    {
      "cell_type": "code",
      "source": [
        "vectorizer = TfidfVectorizer()  # default: lowercase=True, ngram_range=(1,1)\n",
        "vectorizer.fit(X_train_text)\n",
        "\n",
        "# convert train and test text data to numeric vectors\n",
        "X_train = vectorizer.transform(X_train_text)\n",
        "X_val = vectorizer.transform(X_val_text)\n",
        "\n",
        "m7 = get_logistic_predictions(X_train, X_val, y_train, y_val, class_list)"
      ],
      "metadata": {
        "colab": {
          "base_uri": "https://localhost:8080/",
          "height": 312
        },
        "id": "iK6DPYsNlkS1",
        "outputId": "5119a894-4675-4d8f-d850-e35d9d893a36"
      },
      "execution_count": null,
      "outputs": [
        {
          "output_type": "stream",
          "name": "stdout",
          "text": [
            "Accuracy: 0.8637196985129354\n"
          ]
        },
        {
          "output_type": "display_data",
          "data": {
            "text/plain": [
              "<Figure size 432x288 with 1 Axes>"
            ],
            "image/png": "[encoded data removed]"
          },
          "metadata": {
            "needs_background": "light"
          }
        }
      ]
    },
    {
      "cell_type": "markdown",
      "source": [
        "### Model M8\n",
        "\n",
        "* Data preprocessing - lower casing, punctuation removal, lemmatisation(WordNet)\n",
        "* Features - tf-idf vector (1-grams)\n",
        "* Algorithm - Logistic Regression\n"
      ],
      "metadata": {
        "id": "x1axcAS2p-6r"
      }
    },
    {
      "cell_type": "markdown",
      "source": [
        "This code is creating a logistic regression model to classify text data. The first step is to tokenize the text data. This is done by splitting the text into individual words, or tokens. Then, a TF-IDF vectorizer is used to convert the text data into numeric vectors. This vectorizer is used to fit the training data, and then the training and validation data are transformed into numeric vectors. Finally, the logistic regression model is trained on the training data and used to make predictions on the validation data. The model's performance is then evaluated using the class list."
      ],
      "metadata": {
        "id": "ceUtn2N_5ZlU"
      }
    },
    {
      "cell_type": "code",
      "source": [
        "vectorizer = TfidfVectorizer()  # default: lowercase=True, ngram_range=(1,1)\n",
        "vectorizer.fit(X_train_tokenised_text)\n",
        "\n",
        "# convert train and test text data to numeric vectors\n",
        "X_train = vectorizer.transform(X_train_tokenised_text)\n",
        "X_val = vectorizer.transform(X_val_tokenised_text)\n",
        "\n",
        "m8 = get_logistic_predictions(X_train, X_val, y_train, y_val, class_list)"
      ],
      "metadata": {
        "colab": {
          "base_uri": "https://localhost:8080/",
          "height": 312
        },
        "id": "T5LA22PamPsM",
        "outputId": "67b66fd3-d3f9-4552-eb7e-78289771f09e"
      },
      "execution_count": null,
      "outputs": [
        {
          "output_type": "stream",
          "name": "stdout",
          "text": [
            "Accuracy: 0.8645345284171929\n"
          ]
        },
        {
          "output_type": "display_data",
          "data": {
            "text/plain": [
              "<Figure size 432x288 with 1 Axes>"
            ],
            "image/png": "[encoded data removed]"
          },
          "metadata": {
            "needs_background": "light"
          }
        }
      ]
    },
    {
      "cell_type": "markdown",
      "source": [
        "### Model M9\n",
        "\n",
        "* Data preprocessing - lower casing, punctuation removal, tokenisation(NLTK)\n",
        "* Features - tf-idf vector (1-grams)\n",
        "* Algorithm - Logisctic Regression"
      ],
      "metadata": {
        "id": "x-bQcmHnqlOk"
      }
    },
    {
      "cell_type": "markdown",
      "source": [
        "This code is creating a logistic regression model to predict labels for text data. It first creates a TfidfVectorizer() object which is a type of feature extraction used to transform text data into numeric vectors. The vectorizer is then fitted to the training data set X_train_lemmatised_text. The training and validation data sets are then converted to numeric vectors using the vectorizer. Finally, a logistic regression model is created using the get_logistic_predictions() function. The function takes in the training and validation sets, as well as the labels for the training and validation sets and a list of classes for the labels. The model is then used to make predictions for the validation set."
      ],
      "metadata": {
        "id": "G2WcSYi75rfO"
      }
    },
    {
      "cell_type": "code",
      "source": [
        "vectorizer = TfidfVectorizer()  # default: lowercase=True, ngram_range=(1,1)\n",
        "vectorizer.fit(X_train_lemmatised_text)\n",
        "\n",
        "# convert train and test text data to numeric vectors\n",
        "X_train = vectorizer.transform(X_train_lemmatised_text)\n",
        "X_val = vectorizer.transform(X_val_lemmatised_text)\n",
        "\n",
        "m9 = get_logistic_predictions(X_train, X_val, y_train, y_val, class_list)"
      ],
      "metadata": {
        "colab": {
          "base_uri": "https://localhost:8080/",
          "height": 312
        },
        "id": "J02Y7Y2PmPvL",
        "outputId": "66431c84-228a-40e6-b14b-054a1980f311"
      },
      "execution_count": null,
      "outputs": [
        {
          "output_type": "stream",
          "name": "stdout",
          "text": [
            "Accuracy: 0.865145650845386\n"
          ]
        },
        {
          "output_type": "display_data",
          "data": {
            "text/plain": [
              "<Figure size 432x288 with 1 Axes>"
            ],
            "image/png": "[encoded data removed]"
          },
          "metadata": {
            "needs_background": "light"
          }
        }
      ]
    },
    {
      "cell_type": "markdown",
      "metadata": {
        "id": "eCu0kpHuYWfp"
      },
      "source": [
        "### Decision Tree\n",
        "### Model M10"
      ]
    },
    {
      "cell_type": "markdown",
      "source": [
        "\n",
        "* Data preprocessing - lower casing, punctuation removal\n",
        "* Features - tf-idf vector (1-grams)\n",
        "* Algorithm - DecisionTreeClassifier"
      ],
      "metadata": {
        "id": "kk60Jy0RshXW"
      }
    },
    {
      "cell_type": "markdown",
      "source": [
        "This code is used to create a Decision Tree classifier for a text classification problem. The first step is to define a TfidfVectorizer and fit it to the training data. The TfidfVectorizer is used to convert the text data into numeric vectors. Then the get_dt_predictions function is called to train the Decision Tree classifier on the training data and make predictions on the validation data. Finally, the classifier's performance is evaluated on the validation set."
      ],
      "metadata": {
        "id": "ozKdKuuO54Qv"
      }
    },
    {
      "cell_type": "code",
      "metadata": {
        "colab": {
          "base_uri": "https://localhost:8080/",
          "height": 312
        },
        "id": "jbHQjhLCn7Ps",
        "outputId": "496f9eec-3244-444d-d4bc-4ee8255ee564"
      },
      "source": [
        "vectorizer = TfidfVectorizer()  # default: lowercase=True, ngram_range=(1,1)\n",
        "vectorizer.fit(X_train_text)\n",
        "\n",
        "# convert train and test text data to numeric vectors\n",
        "X_train = vectorizer.transform(X_train_text)\n",
        "X_val = vectorizer.transform(X_val_text)\n",
        "\n",
        "m9 = get_dt_predictions(X_train, X_val, y_train, y_val, class_list)"
      ],
      "execution_count": null,
      "outputs": [
        {
          "output_type": "stream",
          "name": "stdout",
          "text": [
            "Accuracy: 0.8022000407414952\n"
          ]
        },
        {
          "output_type": "display_data",
          "data": {
            "text/plain": [
              "<Figure size 432x288 with 1 Axes>"
            ],
            "image/png": "[encoded data removed]"
          },
          "metadata": {
            "needs_background": "light"
          }
        }
      ]
    },
    {
      "cell_type": "markdown",
      "metadata": {
        "id": "WQtlYxRGpTmm"
      },
      "source": [
        "# Predictions"
      ]
    },
    {
      "cell_type": "code",
      "metadata": {
        "id": "p5prk_t2pUem"
      },
      "source": [
        "test_reviews = pd.read_csv('/content/test.csv')"
      ],
      "execution_count": null,
      "outputs": []
    },
    {
      "cell_type": "code",
      "source": [
        "test_reviews.head()"
      ],
      "metadata": {
        "colab": {
          "base_uri": "https://localhost:8080/",
          "height": 206
        },
        "id": "sz7afnmAbgMx",
        "outputId": "b30c6d1d-3223-4934-e6ab-e35357c14fe0"
      },
      "execution_count": null,
      "outputs": [
        {
          "output_type": "execute_result",
          "data": {
            "text/plain": [
              "           id                                               text\n",
              "0  96d74cb729   Shanghai is also really exciting (precisely -...\n",
              "1  eee518ae67  Recession hit Veronique Branquinho, she has to...\n",
              "2  01082688c6                                        happy bday!\n",
              "3  33987a8ee5             http://twitpic.com/4w75p - I like it!!\n",
              "4  726e501993                    that`s great!! weee!! visitors!"
            ],
            "text/html": [
              "\n",
              "  <div id=\"df-bf0a3dd2-ddb5-4b6b-9e55-229073ef04d1\">\n",
              "    <div class=\"colab-df-container\">\n",
              "      <div>\n",
              "<style scoped>\n",
              "    .dataframe tbody tr th:only-of-type {\n",
              "        vertical-align: middle;\n",
              "    }\n",
              "\n",
              "    .dataframe tbody tr th {\n",
              "        vertical-align: top;\n",
              "    }\n",
              "\n",
              "    .dataframe thead th {\n",
              "        text-align: right;\n",
              "    }\n",
              "</style>\n",
              "<table border=\"1\" class=\"dataframe\">\n",
              "  <thead>\n",
              "    <tr style=\"text-align: right;\">\n",
              "      <th></th>\n",
              "      <th>id</th>\n",
              "      <th>text</th>\n",
              "    </tr>\n",
              "  </thead>\n",
              "  <tbody>\n",
              "    <tr>\n",
              "      <th>0</th>\n",
              "      <td>96d74cb729</td>\n",
              "      <td>Shanghai is also really exciting (precisely -...</td>\n",
              "    </tr>\n",
              "    <tr>\n",
              "      <th>1</th>\n",
              "      <td>eee518ae67</td>\n",
              "      <td>Recession hit Veronique Branquinho, she has to...</td>\n",
              "    </tr>\n",
              "    <tr>\n",
              "      <th>2</th>\n",
              "      <td>01082688c6</td>\n",
              "      <td>happy bday!</td>\n",
              "    </tr>\n",
              "    <tr>\n",
              "      <th>3</th>\n",
              "      <td>33987a8ee5</td>\n",
              "      <td>http://twitpic.com/4w75p - I like it!!</td>\n",
              "    </tr>\n",
              "    <tr>\n",
              "      <th>4</th>\n",
              "      <td>726e501993</td>\n",
              "      <td>that`s great!! weee!! visitors!</td>\n",
              "    </tr>\n",
              "  </tbody>\n",
              "</table>\n",
              "</div>\n",
              "      <button class=\"colab-df-convert\" onclick=\"convertToInteractive('df-bf0a3dd2-ddb5-4b6b-9e55-229073ef04d1')\"\n",
              "              title=\"Convert this dataframe to an interactive table.\"\n",
              "              style=\"display:none;\">\n",
              "        \n",
              "  <svg xmlns=\"http://www.w3.org/2000/svg\" height=\"24px\"viewBox=\"0 0 24 24\"\n",
              "       width=\"24px\">\n",
              "    <path d=\"M0 0h24v24H0V0z\" fill=\"none\"/>\n",
              "    <path d=\"M18.56 5.44l.94 2.06.94-2.06 2.06-.94-2.06-.94-.94-2.06-.94 2.06-2.06.94zm-11 1L8.5 8.5l.94-2.06 2.06-.94-2.06-.94L8.5 2.5l-.94 2.06-2.06.94zm10 10l.94 2.06.94-2.06 2.06-.94-2.06-.94-.94-2.06-.94 2.06-2.06.94z\"/><path d=\"M17.41 7.96l-1.37-1.37c-.4-.4-.92-.59-1.43-.59-.52 0-1.04.2-1.43.59L10.3 9.45l-7.72 7.72c-.78.78-.78 2.05 0 2.83L4 21.41c.39.39.9.59 1.41.59.51 0 1.02-.2 1.41-.59l7.78-7.78 2.81-2.81c.8-.78.8-2.07 0-2.86zM5.41 20L4 18.59l7.72-7.72 1.47 1.35L5.41 20z\"/>\n",
              "  </svg>\n",
              "      </button>\n",
              "      \n",
              "  <style>\n",
              "    .colab-df-container {\n",
              "      display:flex;\n",
              "      flex-wrap:wrap;\n",
              "      gap: 12px;\n",
              "    }\n",
              "\n",
              "    .colab-df-convert {\n",
              "      background-color: #E8F0FE;\n",
              "      border: none;\n",
              "      border-radius: 50%;\n",
              "      cursor: pointer;\n",
              "      display: none;\n",
              "      fill: #1967D2;\n",
              "      height: 32px;\n",
              "      padding: 0 0 0 0;\n",
              "      width: 32px;\n",
              "    }\n",
              "\n",
              "    .colab-df-convert:hover {\n",
              "      background-color: #E2EBFA;\n",
              "      box-shadow: 0px 1px 2px rgba(60, 64, 67, 0.3), 0px 1px 3px 1px rgba(60, 64, 67, 0.15);\n",
              "      fill: #174EA6;\n",
              "    }\n",
              "\n",
              "    [theme=dark] .colab-df-convert {\n",
              "      background-color: #3B4455;\n",
              "      fill: #D2E3FC;\n",
              "    }\n",
              "\n",
              "    [theme=dark] .colab-df-convert:hover {\n",
              "      background-color: #434B5C;\n",
              "      box-shadow: 0px 1px 3px 1px rgba(0, 0, 0, 0.15);\n",
              "      filter: drop-shadow(0px 1px 2px rgba(0, 0, 0, 0.3));\n",
              "      fill: #FFFFFF;\n",
              "    }\n",
              "  </style>\n",
              "\n",
              "      <script>\n",
              "        const buttonEl =\n",
              "          document.querySelector('#df-bf0a3dd2-ddb5-4b6b-9e55-229073ef04d1 button.colab-df-convert');\n",
              "        buttonEl.style.display =\n",
              "          google.colab.kernel.accessAllowed ? 'block' : 'none';\n",
              "\n",
              "        async function convertToInteractive(key) {\n",
              "          const element = document.querySelector('#df-bf0a3dd2-ddb5-4b6b-9e55-229073ef04d1');\n",
              "          const dataTable =\n",
              "            await google.colab.kernel.invokeFunction('convertToInteractive',\n",
              "                                                     [key], {});\n",
              "          if (!dataTable) return;\n",
              "\n",
              "          const docLinkHtml = 'Like what you see? Visit the ' +\n",
              "            '<a target=\"_blank\" href=https://colab.research.google.com/notebooks/data_table.ipynb>data table notebook</a>'\n",
              "            + ' to learn more about interactive tables.';\n",
              "          element.innerHTML = '';\n",
              "          dataTable['output_type'] = 'display_data';\n",
              "          await google.colab.output.renderOutput(dataTable, element);\n",
              "          const docLink = document.createElement('div');\n",
              "          docLink.innerHTML = docLinkHtml;\n",
              "          element.appendChild(docLink);\n",
              "        }\n",
              "      </script>\n",
              "    </div>\n",
              "  </div>\n",
              "  "
            ]
          },
          "metadata": {},
          "execution_count": 32
        }
      ]
    },
    {
      "cell_type": "markdown",
      "metadata": {
        "id": "eERzIqmoqy8e"
      },
      "source": [
        "Testing with the best model"
      ]
    },
    {
      "cell_type": "code",
      "source": [
        "vectorizer = TfidfVectorizer()  # default: lowercase=True, ngram_range=(1,1)\n",
        "vectorizer.fit(X_train_lemmatised_text)\n",
        "\n",
        "# convert train and test text data to numeric vectors\n",
        "X_train = vectorizer.transform(X_train_lemmatised_text)\n",
        "X_val = vectorizer.transform(X_val_lemmatised_text)\n",
        "\n",
        "m4 = get_svm_predictions(X_train, X_val, y_train, y_val, class_list)"
      ],
      "metadata": {
        "colab": {
          "base_uri": "https://localhost:8080/",
          "height": 312
        },
        "id": "4Uz_6b1hxcAT",
        "outputId": "b68091d1-d998-4e21-de4a-373d7d8d4857"
      },
      "execution_count": null,
      "outputs": [
        {
          "output_type": "stream",
          "name": "stdout",
          "text": [
            "Accuracy: 0.8698309227948666\n"
          ]
        },
        {
          "output_type": "display_data",
          "data": {
            "text/plain": [
              "<Figure size 432x288 with 1 Axes>"
            ],
            "image/png": "[encoded data removed]"
          },
          "metadata": {
            "needs_background": "light"
          }
        }
      ]
    },
    {
      "cell_type": "markdown",
      "source": [
        "This code is using a pre-trained machine learning model, m4, to predict sentiment labels for a set of test reviews. It first uses a vectorizer to transform the text of the reviews into numerical features. Then it uses the predict function from the model to generate predictions for the sentiment labels. The predictions are printed once they have been generated."
      ],
      "metadata": {
        "id": "CzHwyHx-6Wx_"
      }
    },
    {
      "cell_type": "code",
      "metadata": {
        "id": "kzwPFkSfrBf0",
        "colab": {
          "base_uri": "https://localhost:8080/"
        },
        "outputId": "8142a4cb-5d69-4d33-fb61-8642dc37b73c"
      },
      "source": [
        "X_test = vectorizer.transform(test_reviews['text'])\n",
        "predictions = m4.predict(X_test)\n",
        "print(predictions)"
      ],
      "execution_count": null,
      "outputs": [
        {
          "output_type": "stream",
          "name": "stdout",
          "text": [
            "['positive' 'negative' 'positive' 'positive' 'positive' 'negative'\n",
            " 'negative' 'negative' 'negative' 'negative' 'negative' 'negative'\n",
            " 'negative' 'positive' 'negative' 'negative' 'negative' 'negative'\n",
            " 'positive' 'positive' 'negative' 'positive' 'positive' 'negative'\n",
            " 'negative' 'negative' 'negative' 'positive' 'positive' 'negative'\n",
            " 'positive' 'negative' 'positive' 'positive' 'positive' 'negative'\n",
            " 'negative' 'positive' 'negative' 'positive' 'positive' 'positive'\n",
            " 'negative' 'negative' 'negative' 'positive' 'positive' 'positive'\n",
            " 'positive' 'negative' 'negative' 'negative' 'positive' 'positive'\n",
            " 'negative' 'positive' 'positive' 'negative' 'positive' 'negative'\n",
            " 'positive' 'negative' 'positive' 'positive' 'negative' 'negative'\n",
            " 'negative' 'positive' 'negative' 'positive' 'positive' 'negative'\n",
            " 'negative' 'positive' 'positive' 'positive' 'negative' 'negative'\n",
            " 'positive' 'positive' 'negative' 'positive' 'negative' 'negative'\n",
            " 'positive' 'positive' 'positive' 'negative' 'negative' 'positive'\n",
            " 'positive' 'positive' 'positive' 'positive' 'positive' 'positive'\n",
            " 'negative' 'negative' 'negative' 'positive' 'positive' 'positive'\n",
            " 'positive' 'negative' 'negative' 'negative' 'negative' 'negative'\n",
            " 'positive' 'positive' 'positive' 'negative' 'negative' 'negative'\n",
            " 'negative' 'negative' 'negative' 'positive' 'positive' 'positive'\n",
            " 'positive' 'negative' 'negative' 'positive' 'negative' 'negative'\n",
            " 'positive' 'positive' 'positive' 'positive' 'negative' 'negative'\n",
            " 'positive' 'negative' 'positive' 'negative' 'positive' 'negative'\n",
            " 'positive' 'negative' 'positive' 'negative' 'negative' 'positive'\n",
            " 'negative' 'positive' 'negative' 'negative' 'negative' 'negative'\n",
            " 'positive' 'negative' 'negative' 'positive' 'positive' 'negative'\n",
            " 'positive' 'negative' 'negative' 'positive' 'negative' 'positive'\n",
            " 'negative' 'positive' 'negative' 'positive' 'positive' 'positive'\n",
            " 'negative' 'negative' 'positive' 'negative' 'positive' 'positive'\n",
            " 'negative' 'positive' 'negative' 'negative' 'positive' 'positive'\n",
            " 'positive' 'negative' 'positive' 'negative' 'negative' 'negative'\n",
            " 'positive' 'positive' 'positive' 'positive' 'positive' 'negative'\n",
            " 'positive' 'negative' 'negative' 'negative' 'positive' 'positive'\n",
            " 'negative' 'positive' 'negative' 'negative' 'positive' 'positive'\n",
            " 'negative' 'negative' 'negative' 'negative' 'positive' 'negative'\n",
            " 'negative' 'negative' 'positive' 'negative' 'positive' 'negative'\n",
            " 'negative' 'positive' 'negative' 'positive' 'negative' 'negative'\n",
            " 'positive' 'positive' 'positive' 'positive' 'negative' 'positive'\n",
            " 'negative' 'positive' 'positive' 'positive' 'positive' 'negative'\n",
            " 'positive' 'negative' 'positive' 'negative' 'negative' 'positive'\n",
            " 'positive' 'positive' 'negative' 'negative' 'negative' 'positive'\n",
            " 'positive' 'positive' 'negative' 'positive' 'positive' 'negative'\n",
            " 'negative' 'positive' 'negative' 'positive' 'positive' 'positive'\n",
            " 'negative' 'positive' 'negative' 'positive' 'positive' 'negative'\n",
            " 'negative' 'positive' 'negative' 'positive' 'positive' 'positive'\n",
            " 'negative' 'positive' 'positive' 'positive' 'positive' 'negative'\n",
            " 'negative' 'negative' 'positive' 'positive' 'negative' 'positive'\n",
            " 'negative' 'positive' 'positive' 'positive' 'positive' 'negative'\n",
            " 'negative' 'positive' 'negative' 'negative' 'negative' 'positive'\n",
            " 'positive' 'negative' 'negative' 'positive' 'positive' 'positive'\n",
            " 'positive' 'negative' 'positive' 'negative' 'positive' 'negative'\n",
            " 'negative' 'positive' 'negative' 'negative' 'negative' 'negative'\n",
            " 'negative' 'negative' 'positive' 'positive' 'positive' 'positive'\n",
            " 'positive' 'negative' 'positive' 'positive' 'negative' 'positive'\n",
            " 'negative' 'negative' 'negative' 'positive' 'positive' 'negative'\n",
            " 'positive' 'positive' 'positive' 'positive' 'negative' 'negative'\n",
            " 'positive' 'negative' 'positive' 'negative' 'positive' 'positive'\n",
            " 'positive' 'negative' 'positive' 'positive' 'positive' 'negative'\n",
            " 'negative' 'negative' 'positive' 'positive' 'negative' 'negative'\n",
            " 'positive' 'positive' 'positive' 'negative' 'negative' 'negative'\n",
            " 'positive' 'negative' 'negative' 'negative' 'positive' 'negative'\n",
            " 'negative' 'negative' 'positive' 'positive' 'negative' 'negative'\n",
            " 'positive' 'negative' 'negative' 'negative' 'negative' 'positive'\n",
            " 'positive' 'positive' 'negative' 'positive' 'negative' 'positive'\n",
            " 'positive' 'positive' 'positive' 'negative' 'positive' 'negative'\n",
            " 'positive' 'negative' 'positive' 'negative' 'negative' 'negative'\n",
            " 'negative' 'positive' 'negative' 'positive' 'negative' 'positive'\n",
            " 'positive' 'negative' 'positive' 'positive' 'positive' 'positive'\n",
            " 'positive' 'negative' 'negative' 'negative' 'negative' 'negative'\n",
            " 'negative' 'positive' 'positive' 'negative' 'negative' 'positive'\n",
            " 'positive' 'negative' 'negative' 'negative' 'negative' 'positive'\n",
            " 'positive' 'positive' 'negative' 'positive' 'positive' 'negative'\n",
            " 'negative' 'positive' 'negative' 'negative' 'negative' 'positive'\n",
            " 'positive' 'negative' 'positive' 'negative' 'positive' 'negative'\n",
            " 'positive' 'negative' 'negative' 'negative' 'negative' 'negative'\n",
            " 'negative' 'positive' 'positive' 'negative' 'negative' 'positive'\n",
            " 'positive' 'negative' 'negative' 'negative' 'positive' 'positive'\n",
            " 'negative' 'positive' 'negative' 'negative' 'positive' 'positive'\n",
            " 'positive' 'positive' 'positive' 'negative' 'negative' 'positive'\n",
            " 'positive' 'positive' 'negative' 'positive' 'positive' 'negative'\n",
            " 'positive' 'positive' 'positive' 'negative' 'negative' 'negative'\n",
            " 'positive' 'positive' 'positive' 'positive' 'positive' 'negative'\n",
            " 'negative' 'negative' 'positive' 'positive' 'positive' 'positive'\n",
            " 'negative' 'positive' 'negative' 'positive' 'negative' 'positive'\n",
            " 'negative' 'positive' 'positive' 'negative' 'negative' 'positive'\n",
            " 'positive' 'positive' 'negative' 'negative' 'positive' 'positive'\n",
            " 'positive' 'positive' 'positive' 'positive' 'negative' 'negative'\n",
            " 'positive' 'negative' 'positive' 'positive' 'negative' 'negative'\n",
            " 'negative' 'positive' 'positive' 'positive' 'positive' 'positive'\n",
            " 'positive' 'positive' 'negative' 'negative' 'negative' 'negative'\n",
            " 'positive' 'positive' 'negative' 'positive' 'negative' 'positive'\n",
            " 'positive' 'positive' 'negative' 'negative' 'positive' 'negative'\n",
            " 'negative' 'positive' 'positive' 'negative' 'positive' 'negative'\n",
            " 'negative' 'negative' 'positive' 'positive' 'positive' 'negative'\n",
            " 'positive' 'negative' 'negative' 'negative' 'negative' 'positive'\n",
            " 'positive' 'negative' 'negative' 'negative' 'positive' 'negative'\n",
            " 'positive' 'positive' 'negative' 'negative' 'positive' 'negative'\n",
            " 'negative' 'negative' 'positive' 'positive' 'positive' 'positive'\n",
            " 'positive' 'negative' 'negative' 'negative' 'positive' 'negative'\n",
            " 'negative' 'positive' 'negative' 'negative' 'negative' 'negative'\n",
            " 'positive' 'positive' 'positive' 'positive' 'negative' 'positive'\n",
            " 'negative' 'positive' 'positive' 'positive' 'positive' 'negative'\n",
            " 'negative' 'negative' 'positive' 'positive' 'negative' 'positive'\n",
            " 'positive' 'positive' 'negative' 'positive' 'negative' 'positive'\n",
            " 'negative' 'positive' 'negative' 'negative' 'negative' 'negative'\n",
            " 'positive' 'negative' 'positive' 'negative' 'negative' 'negative'\n",
            " 'positive' 'positive' 'positive' 'positive' 'negative' 'positive'\n",
            " 'negative' 'negative' 'negative' 'negative' 'negative' 'positive'\n",
            " 'positive' 'positive' 'positive' 'positive' 'negative' 'negative'\n",
            " 'positive' 'positive' 'negative' 'negative' 'positive' 'negative'\n",
            " 'positive' 'negative' 'negative' 'negative' 'negative' 'negative'\n",
            " 'negative' 'negative' 'positive' 'negative' 'positive' 'negative'\n",
            " 'negative' 'positive' 'positive' 'positive' 'negative' 'negative'\n",
            " 'positive' 'negative' 'positive' 'positive' 'positive' 'negative'\n",
            " 'positive' 'negative' 'negative' 'negative' 'negative' 'positive'\n",
            " 'positive' 'negative' 'positive' 'negative' 'negative' 'negative'\n",
            " 'negative' 'negative' 'negative' 'positive' 'negative' 'positive'\n",
            " 'negative' 'positive' 'positive' 'positive' 'negative' 'positive'\n",
            " 'negative' 'positive' 'negative' 'negative' 'negative' 'negative'\n",
            " 'negative' 'positive' 'positive' 'positive' 'negative' 'negative'\n",
            " 'positive' 'positive' 'positive' 'positive' 'negative' 'positive'\n",
            " 'positive' 'negative' 'negative' 'negative' 'positive' 'positive'\n",
            " 'negative' 'negative' 'positive' 'negative' 'positive' 'positive'\n",
            " 'positive' 'negative' 'positive' 'negative' 'negative' 'negative'\n",
            " 'positive' 'positive' 'negative' 'positive' 'positive' 'negative'\n",
            " 'negative' 'negative' 'positive' 'negative' 'negative' 'positive'\n",
            " 'negative' 'negative' 'negative' 'negative' 'positive' 'positive'\n",
            " 'positive' 'negative' 'positive' 'positive' 'negative' 'negative'\n",
            " 'negative' 'negative' 'positive' 'positive' 'negative' 'negative'\n",
            " 'positive' 'negative' 'negative' 'negative' 'negative' 'positive'\n",
            " 'negative' 'positive' 'negative' 'positive' 'positive' 'negative'\n",
            " 'positive' 'positive' 'positive' 'positive' 'positive' 'positive'\n",
            " 'positive' 'positive' 'negative' 'negative' 'positive' 'positive'\n",
            " 'positive' 'positive' 'positive' 'negative' 'positive' 'negative'\n",
            " 'positive' 'negative' 'negative' 'positive' 'negative' 'positive'\n",
            " 'positive' 'negative' 'negative' 'negative' 'positive' 'positive'\n",
            " 'positive' 'negative' 'positive' 'negative' 'negative' 'negative'\n",
            " 'positive' 'positive' 'positive' 'positive' 'positive' 'negative'\n",
            " 'positive' 'negative' 'positive' 'positive' 'negative' 'positive'\n",
            " 'negative' 'positive' 'negative' 'negative' 'negative' 'positive'\n",
            " 'positive' 'negative' 'positive' 'positive' 'negative' 'negative'\n",
            " 'negative' 'negative' 'negative' 'positive' 'negative' 'negative'\n",
            " 'positive' 'positive' 'positive' 'positive' 'positive' 'negative'\n",
            " 'negative' 'positive' 'positive' 'positive' 'negative' 'positive'\n",
            " 'positive' 'positive' 'negative' 'positive' 'positive' 'positive'\n",
            " 'negative' 'positive' 'positive' 'positive' 'positive' 'positive'\n",
            " 'positive' 'negative' 'positive' 'negative' 'positive' 'positive'\n",
            " 'negative' 'positive' 'negative' 'positive' 'negative' 'negative'\n",
            " 'negative' 'positive' 'negative' 'positive' 'positive' 'positive'\n",
            " 'positive' 'negative' 'negative' 'positive' 'negative' 'negative'\n",
            " 'positive' 'negative' 'negative' 'negative' 'negative' 'positive'\n",
            " 'positive' 'negative' 'positive' 'negative' 'negative' 'positive'\n",
            " 'negative' 'positive' 'positive' 'positive' 'negative' 'positive'\n",
            " 'negative' 'negative' 'negative' 'positive' 'negative' 'positive'\n",
            " 'positive' 'negative' 'positive' 'positive' 'positive' 'positive'\n",
            " 'negative' 'positive' 'positive' 'positive' 'negative' 'negative'\n",
            " 'negative' 'negative' 'positive' 'positive' 'positive' 'negative'\n",
            " 'negative' 'positive' 'positive' 'negative' 'negative' 'positive'\n",
            " 'positive' 'negative' 'negative' 'negative' 'negative' 'negative'\n",
            " 'positive' 'positive' 'negative' 'negative' 'positive' 'negative'\n",
            " 'negative' 'positive' 'negative' 'positive' 'negative' 'negative'\n",
            " 'negative' 'positive' 'negative' 'negative' 'negative' 'positive'\n",
            " 'positive' 'negative' 'negative' 'negative' 'negative' 'positive'\n",
            " 'positive' 'positive' 'negative' 'positive' 'positive' 'positive'\n",
            " 'positive' 'negative' 'positive' 'positive' 'negative' 'negative'\n",
            " 'negative' 'positive' 'positive' 'negative' 'positive' 'positive'\n",
            " 'negative' 'positive' 'negative' 'positive']\n"
          ]
        }
      ]
    },
    {
      "cell_type": "code",
      "source": [
        "# Code to predict and display sentiments from test dataset\n",
        "\n",
        "predictions = m4.predict(X_test)\n",
        "\n",
        "# Write the sentiments to a csv file\n",
        "import csv\n",
        "\n",
        "with open('sentiments.csv', mode='w') as predictions_file:\n",
        "    predictions_writer = csv.writer(predictions_file, delimiter=',', quotechar='\"', quoting=csv.QUOTE_MINIMAL)\n",
        "\n",
        "    for prediction in predictions:\n",
        "        predictions_writer.writerow([prediction])"
      ],
      "metadata": {
        "id": "uFZWlaGR8WqY"
      },
      "execution_count": null,
      "outputs": []
    },
    {
      "cell_type": "code",
      "source": [
        "test_reviews.head(5)"
      ],
      "metadata": {
        "colab": {
          "base_uri": "https://localhost:8080/",
          "height": 206
        },
        "id": "D1YhzDI6O_lg",
        "outputId": "37dbbbbd-c531-4309-8779-fbdc8743b3f5"
      },
      "execution_count": null,
      "outputs": [
        {
          "output_type": "execute_result",
          "data": {
            "text/plain": [
              "           id                                               text\n",
              "0  96d74cb729   Shanghai is also really exciting (precisely -...\n",
              "1  eee518ae67  Recession hit Veronique Branquinho, she has to...\n",
              "2  01082688c6                                        happy bday!\n",
              "3  33987a8ee5             http://twitpic.com/4w75p - I like it!!\n",
              "4  726e501993                    that`s great!! weee!! visitors!"
            ],
            "text/html": [
              "\n",
              "  <div id=\"df-6f85f32b-5749-4bef-9185-bc5782c77fda\">\n",
              "    <div class=\"colab-df-container\">\n",
              "      <div>\n",
              "<style scoped>\n",
              "    .dataframe tbody tr th:only-of-type {\n",
              "        vertical-align: middle;\n",
              "    }\n",
              "\n",
              "    .dataframe tbody tr th {\n",
              "        vertical-align: top;\n",
              "    }\n",
              "\n",
              "    .dataframe thead th {\n",
              "        text-align: right;\n",
              "    }\n",
              "</style>\n",
              "<table border=\"1\" class=\"dataframe\">\n",
              "  <thead>\n",
              "    <tr style=\"text-align: right;\">\n",
              "      <th></th>\n",
              "      <th>id</th>\n",
              "      <th>text</th>\n",
              "    </tr>\n",
              "  </thead>\n",
              "  <tbody>\n",
              "    <tr>\n",
              "      <th>0</th>\n",
              "      <td>96d74cb729</td>\n",
              "      <td>Shanghai is also really exciting (precisely -...</td>\n",
              "    </tr>\n",
              "    <tr>\n",
              "      <th>1</th>\n",
              "      <td>eee518ae67</td>\n",
              "      <td>Recession hit Veronique Branquinho, she has to...</td>\n",
              "    </tr>\n",
              "    <tr>\n",
              "      <th>2</th>\n",
              "      <td>01082688c6</td>\n",
              "      <td>happy bday!</td>\n",
              "    </tr>\n",
              "    <tr>\n",
              "      <th>3</th>\n",
              "      <td>33987a8ee5</td>\n",
              "      <td>http://twitpic.com/4w75p - I like it!!</td>\n",
              "    </tr>\n",
              "    <tr>\n",
              "      <th>4</th>\n",
              "      <td>726e501993</td>\n",
              "      <td>that`s great!! weee!! visitors!</td>\n",
              "    </tr>\n",
              "  </tbody>\n",
              "</table>\n",
              "</div>\n",
              "      <button class=\"colab-df-convert\" onclick=\"convertToInteractive('df-6f85f32b-5749-4bef-9185-bc5782c77fda')\"\n",
              "              title=\"Convert this dataframe to an interactive table.\"\n",
              "              style=\"display:none;\">\n",
              "        \n",
              "  <svg xmlns=\"http://www.w3.org/2000/svg\" height=\"24px\"viewBox=\"0 0 24 24\"\n",
              "       width=\"24px\">\n",
              "    <path d=\"M0 0h24v24H0V0z\" fill=\"none\"/>\n",
              "    <path d=\"M18.56 5.44l.94 2.06.94-2.06 2.06-.94-2.06-.94-.94-2.06-.94 2.06-2.06.94zm-11 1L8.5 8.5l.94-2.06 2.06-.94-2.06-.94L8.5 2.5l-.94 2.06-2.06.94zm10 10l.94 2.06.94-2.06 2.06-.94-2.06-.94-.94-2.06-.94 2.06-2.06.94z\"/><path d=\"M17.41 7.96l-1.37-1.37c-.4-.4-.92-.59-1.43-.59-.52 0-1.04.2-1.43.59L10.3 9.45l-7.72 7.72c-.78.78-.78 2.05 0 2.83L4 21.41c.39.39.9.59 1.41.59.51 0 1.02-.2 1.41-.59l7.78-7.78 2.81-2.81c.8-.78.8-2.07 0-2.86zM5.41 20L4 18.59l7.72-7.72 1.47 1.35L5.41 20z\"/>\n",
              "  </svg>\n",
              "      </button>\n",
              "      \n",
              "  <style>\n",
              "    .colab-df-container {\n",
              "      display:flex;\n",
              "      flex-wrap:wrap;\n",
              "      gap: 12px;\n",
              "    }\n",
              "\n",
              "    .colab-df-convert {\n",
              "      background-color: #E8F0FE;\n",
              "      border: none;\n",
              "      border-radius: 50%;\n",
              "      cursor: pointer;\n",
              "      display: none;\n",
              "      fill: #1967D2;\n",
              "      height: 32px;\n",
              "      padding: 0 0 0 0;\n",
              "      width: 32px;\n",
              "    }\n",
              "\n",
              "    .colab-df-convert:hover {\n",
              "      background-color: #E2EBFA;\n",
              "      box-shadow: 0px 1px 2px rgba(60, 64, 67, 0.3), 0px 1px 3px 1px rgba(60, 64, 67, 0.15);\n",
              "      fill: #174EA6;\n",
              "    }\n",
              "\n",
              "    [theme=dark] .colab-df-convert {\n",
              "      background-color: #3B4455;\n",
              "      fill: #D2E3FC;\n",
              "    }\n",
              "\n",
              "    [theme=dark] .colab-df-convert:hover {\n",
              "      background-color: #434B5C;\n",
              "      box-shadow: 0px 1px 3px 1px rgba(0, 0, 0, 0.15);\n",
              "      filter: drop-shadow(0px 1px 2px rgba(0, 0, 0, 0.3));\n",
              "      fill: #FFFFFF;\n",
              "    }\n",
              "  </style>\n",
              "\n",
              "      <script>\n",
              "        const buttonEl =\n",
              "          document.querySelector('#df-6f85f32b-5749-4bef-9185-bc5782c77fda button.colab-df-convert');\n",
              "        buttonEl.style.display =\n",
              "          google.colab.kernel.accessAllowed ? 'block' : 'none';\n",
              "\n",
              "        async function convertToInteractive(key) {\n",
              "          const element = document.querySelector('#df-6f85f32b-5749-4bef-9185-bc5782c77fda');\n",
              "          const dataTable =\n",
              "            await google.colab.kernel.invokeFunction('convertToInteractive',\n",
              "                                                     [key], {});\n",
              "          if (!dataTable) return;\n",
              "\n",
              "          const docLinkHtml = 'Like what you see? Visit the ' +\n",
              "            '<a target=\"_blank\" href=https://colab.research.google.com/notebooks/data_table.ipynb>data table notebook</a>'\n",
              "            + ' to learn more about interactive tables.';\n",
              "          element.innerHTML = '';\n",
              "          dataTable['output_type'] = 'display_data';\n",
              "          await google.colab.output.renderOutput(dataTable, element);\n",
              "          const docLink = document.createElement('div');\n",
              "          docLink.innerHTML = docLinkHtml;\n",
              "          element.appendChild(docLink);\n",
              "        }\n",
              "      </script>\n",
              "    </div>\n",
              "  </div>\n",
              "  "
            ]
          },
          "metadata": {},
          "execution_count": 36
        }
      ]
    },
    {
      "cell_type": "code",
      "source": [
        "df1 = pd.DataFrame(test_reviews)"
      ],
      "metadata": {
        "id": "VNCq_ytiP3LK"
      },
      "execution_count": null,
      "outputs": []
    },
    {
      "cell_type": "code",
      "source": [
        "df1 = df1.assign(prediction = predictions)"
      ],
      "metadata": {
        "id": "Z_BizlmKQAh5"
      },
      "execution_count": null,
      "outputs": []
    },
    {
      "cell_type": "code",
      "source": [
        "df1.head(20)"
      ],
      "metadata": {
        "colab": {
          "base_uri": "https://localhost:8080/",
          "height": 676
        },
        "id": "EQXew-MiQWob",
        "outputId": "50e6993c-2820-49d0-f863-5f62c8463ec9"
      },
      "execution_count": null,
      "outputs": [
        {
          "output_type": "execute_result",
          "data": {
            "text/plain": [
              "            id                                               text prediction\n",
              "0   96d74cb729   Shanghai is also really exciting (precisely -...   positive\n",
              "1   eee518ae67  Recession hit Veronique Branquinho, she has to...   negative\n",
              "2   01082688c6                                        happy bday!   positive\n",
              "3   33987a8ee5             http://twitpic.com/4w75p - I like it!!   positive\n",
              "4   726e501993                    that`s great!! weee!! visitors!   positive\n",
              "5   261932614e            I THINK EVERYONE HATES ME ON HERE   lol   negative\n",
              "6   afa11da83f   soooooo wish i could, but im in school and my...   negative\n",
              "7   24c92644a4  My bike was put on hold...should have known th...   negative\n",
              "8   5c1e0b61a1  I`m in VA for the weekend, my youngest son tur...   negative\n",
              "9   504e45d9d9  Its coming out the socket  I feel like my phon...   negative\n",
              "10  ae93ad52a0  So hot today =_=  don`t like it and i hate my ...   negative\n",
              "11  9fce30159a                                           Miss you   negative\n",
              "12  00d5195223                                       Cramps . . .   negative\n",
              "13  33f19050cf   you guys didn`t say hi or answer my questions...   positive\n",
              "14  9ef44428d0              Stupid storm. No river for us tonight   negative\n",
              "15  be634ebeb0  My dead grandpa pays more attention to me than...   negative\n",
              "16  3dcf4f7e13  ... need retail therapy, bad. AHHH.....gimme m...   negative\n",
              "17  8be365118e               you are lame  go make me breakfast!!   negative\n",
              "18  c50bdd4567                                      thats so cool   positive\n",
              "19  1fa8e6ad66   look who I found just for you  --->  http://t...   positive"
            ],
            "text/html": [
              "\n",
              "  <div id=\"df-ded88b22-2882-4a1d-8e6a-44e7c24de183\">\n",
              "    <div class=\"colab-df-container\">\n",
              "      <div>\n",
              "<style scoped>\n",
              "    .dataframe tbody tr th:only-of-type {\n",
              "        vertical-align: middle;\n",
              "    }\n",
              "\n",
              "    .dataframe tbody tr th {\n",
              "        vertical-align: top;\n",
              "    }\n",
              "\n",
              "    .dataframe thead th {\n",
              "        text-align: right;\n",
              "    }\n",
              "</style>\n",
              "<table border=\"1\" class=\"dataframe\">\n",
              "  <thead>\n",
              "    <tr style=\"text-align: right;\">\n",
              "      <th></th>\n",
              "      <th>id</th>\n",
              "      <th>text</th>\n",
              "      <th>prediction</th>\n",
              "    </tr>\n",
              "  </thead>\n",
              "  <tbody>\n",
              "    <tr>\n",
              "      <th>0</th>\n",
              "      <td>96d74cb729</td>\n",
              "      <td>Shanghai is also really exciting (precisely -...</td>\n",
              "      <td>positive</td>\n",
              "    </tr>\n",
              "    <tr>\n",
              "      <th>1</th>\n",
              "      <td>eee518ae67</td>\n",
              "      <td>Recession hit Veronique Branquinho, she has to...</td>\n",
              "      <td>negative</td>\n",
              "    </tr>\n",
              "    <tr>\n",
              "      <th>2</th>\n",
              "      <td>01082688c6</td>\n",
              "      <td>happy bday!</td>\n",
              "      <td>positive</td>\n",
              "    </tr>\n",
              "    <tr>\n",
              "      <th>3</th>\n",
              "      <td>33987a8ee5</td>\n",
              "      <td>http://twitpic.com/4w75p - I like it!!</td>\n",
              "      <td>positive</td>\n",
              "    </tr>\n",
              "    <tr>\n",
              "      <th>4</th>\n",
              "      <td>726e501993</td>\n",
              "      <td>that`s great!! weee!! visitors!</td>\n",
              "      <td>positive</td>\n",
              "    </tr>\n",
              "    <tr>\n",
              "      <th>5</th>\n",
              "      <td>261932614e</td>\n",
              "      <td>I THINK EVERYONE HATES ME ON HERE   lol</td>\n",
              "      <td>negative</td>\n",
              "    </tr>\n",
              "    <tr>\n",
              "      <th>6</th>\n",
              "      <td>afa11da83f</td>\n",
              "      <td>soooooo wish i could, but im in school and my...</td>\n",
              "      <td>negative</td>\n",
              "    </tr>\n",
              "    <tr>\n",
              "      <th>7</th>\n",
              "      <td>24c92644a4</td>\n",
              "      <td>My bike was put on hold...should have known th...</td>\n",
              "      <td>negative</td>\n",
              "    </tr>\n",
              "    <tr>\n",
              "      <th>8</th>\n",
              "      <td>5c1e0b61a1</td>\n",
              "      <td>I`m in VA for the weekend, my youngest son tur...</td>\n",
              "      <td>negative</td>\n",
              "    </tr>\n",
              "    <tr>\n",
              "      <th>9</th>\n",
              "      <td>504e45d9d9</td>\n",
              "      <td>Its coming out the socket  I feel like my phon...</td>\n",
              "      <td>negative</td>\n",
              "    </tr>\n",
              "    <tr>\n",
              "      <th>10</th>\n",
              "      <td>ae93ad52a0</td>\n",
              "      <td>So hot today =_=  don`t like it and i hate my ...</td>\n",
              "      <td>negative</td>\n",
              "    </tr>\n",
              "    <tr>\n",
              "      <th>11</th>\n",
              "      <td>9fce30159a</td>\n",
              "      <td>Miss you</td>\n",
              "      <td>negative</td>\n",
              "    </tr>\n",
              "    <tr>\n",
              "      <th>12</th>\n",
              "      <td>00d5195223</td>\n",
              "      <td>Cramps . . .</td>\n",
              "      <td>negative</td>\n",
              "    </tr>\n",
              "    <tr>\n",
              "      <th>13</th>\n",
              "      <td>33f19050cf</td>\n",
              "      <td>you guys didn`t say hi or answer my questions...</td>\n",
              "      <td>positive</td>\n",
              "    </tr>\n",
              "    <tr>\n",
              "      <th>14</th>\n",
              "      <td>9ef44428d0</td>\n",
              "      <td>Stupid storm. No river for us tonight</td>\n",
              "      <td>negative</td>\n",
              "    </tr>\n",
              "    <tr>\n",
              "      <th>15</th>\n",
              "      <td>be634ebeb0</td>\n",
              "      <td>My dead grandpa pays more attention to me than...</td>\n",
              "      <td>negative</td>\n",
              "    </tr>\n",
              "    <tr>\n",
              "      <th>16</th>\n",
              "      <td>3dcf4f7e13</td>\n",
              "      <td>... need retail therapy, bad. AHHH.....gimme m...</td>\n",
              "      <td>negative</td>\n",
              "    </tr>\n",
              "    <tr>\n",
              "      <th>17</th>\n",
              "      <td>8be365118e</td>\n",
              "      <td>you are lame  go make me breakfast!!</td>\n",
              "      <td>negative</td>\n",
              "    </tr>\n",
              "    <tr>\n",
              "      <th>18</th>\n",
              "      <td>c50bdd4567</td>\n",
              "      <td>thats so cool</td>\n",
              "      <td>positive</td>\n",
              "    </tr>\n",
              "    <tr>\n",
              "      <th>19</th>\n",
              "      <td>1fa8e6ad66</td>\n",
              "      <td>look who I found just for you  ---&gt;  http://t...</td>\n",
              "      <td>positive</td>\n",
              "    </tr>\n",
              "  </tbody>\n",
              "</table>\n",
              "</div>\n",
              "      <button class=\"colab-df-convert\" onclick=\"convertToInteractive('df-ded88b22-2882-4a1d-8e6a-44e7c24de183')\"\n",
              "              title=\"Convert this dataframe to an interactive table.\"\n",
              "              style=\"display:none;\">\n",
              "        \n",
              "  <svg xmlns=\"http://www.w3.org/2000/svg\" height=\"24px\"viewBox=\"0 0 24 24\"\n",
              "       width=\"24px\">\n",
              "    <path d=\"M0 0h24v24H0V0z\" fill=\"none\"/>\n",
              "    <path d=\"M18.56 5.44l.94 2.06.94-2.06 2.06-.94-2.06-.94-.94-2.06-.94 2.06-2.06.94zm-11 1L8.5 8.5l.94-2.06 2.06-.94-2.06-.94L8.5 2.5l-.94 2.06-2.06.94zm10 10l.94 2.06.94-2.06 2.06-.94-2.06-.94-.94-2.06-.94 2.06-2.06.94z\"/><path d=\"M17.41 7.96l-1.37-1.37c-.4-.4-.92-.59-1.43-.59-.52 0-1.04.2-1.43.59L10.3 9.45l-7.72 7.72c-.78.78-.78 2.05 0 2.83L4 21.41c.39.39.9.59 1.41.59.51 0 1.02-.2 1.41-.59l7.78-7.78 2.81-2.81c.8-.78.8-2.07 0-2.86zM5.41 20L4 18.59l7.72-7.72 1.47 1.35L5.41 20z\"/>\n",
              "  </svg>\n",
              "      </button>\n",
              "      \n",
              "  <style>\n",
              "    .colab-df-container {\n",
              "      display:flex;\n",
              "      flex-wrap:wrap;\n",
              "      gap: 12px;\n",
              "    }\n",
              "\n",
              "    .colab-df-convert {\n",
              "      background-color: #E8F0FE;\n",
              "      border: none;\n",
              "      border-radius: 50%;\n",
              "      cursor: pointer;\n",
              "      display: none;\n",
              "      fill: #1967D2;\n",
              "      height: 32px;\n",
              "      padding: 0 0 0 0;\n",
              "      width: 32px;\n",
              "    }\n",
              "\n",
              "    .colab-df-convert:hover {\n",
              "      background-color: #E2EBFA;\n",
              "      box-shadow: 0px 1px 2px rgba(60, 64, 67, 0.3), 0px 1px 3px 1px rgba(60, 64, 67, 0.15);\n",
              "      fill: #174EA6;\n",
              "    }\n",
              "\n",
              "    [theme=dark] .colab-df-convert {\n",
              "      background-color: #3B4455;\n",
              "      fill: #D2E3FC;\n",
              "    }\n",
              "\n",
              "    [theme=dark] .colab-df-convert:hover {\n",
              "      background-color: #434B5C;\n",
              "      box-shadow: 0px 1px 3px 1px rgba(0, 0, 0, 0.15);\n",
              "      filter: drop-shadow(0px 1px 2px rgba(0, 0, 0, 0.3));\n",
              "      fill: #FFFFFF;\n",
              "    }\n",
              "  </style>\n",
              "\n",
              "      <script>\n",
              "        const buttonEl =\n",
              "          document.querySelector('#df-ded88b22-2882-4a1d-8e6a-44e7c24de183 button.colab-df-convert');\n",
              "        buttonEl.style.display =\n",
              "          google.colab.kernel.accessAllowed ? 'block' : 'none';\n",
              "\n",
              "        async function convertToInteractive(key) {\n",
              "          const element = document.querySelector('#df-ded88b22-2882-4a1d-8e6a-44e7c24de183');\n",
              "          const dataTable =\n",
              "            await google.colab.kernel.invokeFunction('convertToInteractive',\n",
              "                                                     [key], {});\n",
              "          if (!dataTable) return;\n",
              "\n",
              "          const docLinkHtml = 'Like what you see? Visit the ' +\n",
              "            '<a target=\"_blank\" href=https://colab.research.google.com/notebooks/data_table.ipynb>data table notebook</a>'\n",
              "            + ' to learn more about interactive tables.';\n",
              "          element.innerHTML = '';\n",
              "          dataTable['output_type'] = 'display_data';\n",
              "          await google.colab.output.renderOutput(dataTable, element);\n",
              "          const docLink = document.createElement('div');\n",
              "          docLink.innerHTML = docLinkHtml;\n",
              "          element.appendChild(docLink);\n",
              "        }\n",
              "      </script>\n",
              "    </div>\n",
              "  </div>\n",
              "  "
            ]
          },
          "metadata": {},
          "execution_count": 39
        }
      ]
    },
    {
      "cell_type": "code",
      "source": [
        "pred = df1[['id','prediction']]"
      ],
      "metadata": {
        "id": "ibl7WGFd66v3"
      },
      "execution_count": null,
      "outputs": []
    },
    {
      "cell_type": "code",
      "source": [
        "pred.to_csv('saved_dataframe.csv')"
      ],
      "metadata": {
        "id": "PBqbCk_o6ltB"
      },
      "execution_count": null,
      "outputs": []
    },
    {
      "cell_type": "code",
      "source": [
        "saved = pd.read_csv('/content/saved_dataframe.csv')"
      ],
      "metadata": {
        "id": "MyNG5fx848iq"
      },
      "execution_count": null,
      "outputs": []
    },
    {
      "cell_type": "code",
      "source": [
        "saved.head(5)"
      ],
      "metadata": {
        "colab": {
          "base_uri": "https://localhost:8080/",
          "height": 206
        },
        "id": "ugx1S3b05TPx",
        "outputId": "aa0e60ca-f53d-4060-bf01-00b8cbbaac20"
      },
      "execution_count": null,
      "outputs": [
        {
          "output_type": "execute_result",
          "data": {
            "text/plain": [
              "   Unnamed: 0          id prediction\n",
              "0           0  96d74cb729   positive\n",
              "1           1  eee518ae67   negative\n",
              "2           2  01082688c6   positive\n",
              "3           3  33987a8ee5   positive\n",
              "4           4  726e501993   positive"
            ],
            "text/html": [
              "\n",
              "  <div id=\"df-9e093b3d-8007-4242-bd85-6633f62e9c46\">\n",
              "    <div class=\"colab-df-container\">\n",
              "      <div>\n",
              "<style scoped>\n",
              "    .dataframe tbody tr th:only-of-type {\n",
              "        vertical-align: middle;\n",
              "    }\n",
              "\n",
              "    .dataframe tbody tr th {\n",
              "        vertical-align: top;\n",
              "    }\n",
              "\n",
              "    .dataframe thead th {\n",
              "        text-align: right;\n",
              "    }\n",
              "</style>\n",
              "<table border=\"1\" class=\"dataframe\">\n",
              "  <thead>\n",
              "    <tr style=\"text-align: right;\">\n",
              "      <th></th>\n",
              "      <th>Unnamed: 0</th>\n",
              "      <th>id</th>\n",
              "      <th>prediction</th>\n",
              "    </tr>\n",
              "  </thead>\n",
              "  <tbody>\n",
              "    <tr>\n",
              "      <th>0</th>\n",
              "      <td>0</td>\n",
              "      <td>96d74cb729</td>\n",
              "      <td>positive</td>\n",
              "    </tr>\n",
              "    <tr>\n",
              "      <th>1</th>\n",
              "      <td>1</td>\n",
              "      <td>eee518ae67</td>\n",
              "      <td>negative</td>\n",
              "    </tr>\n",
              "    <tr>\n",
              "      <th>2</th>\n",
              "      <td>2</td>\n",
              "      <td>01082688c6</td>\n",
              "      <td>positive</td>\n",
              "    </tr>\n",
              "    <tr>\n",
              "      <th>3</th>\n",
              "      <td>3</td>\n",
              "      <td>33987a8ee5</td>\n",
              "      <td>positive</td>\n",
              "    </tr>\n",
              "    <tr>\n",
              "      <th>4</th>\n",
              "      <td>4</td>\n",
              "      <td>726e501993</td>\n",
              "      <td>positive</td>\n",
              "    </tr>\n",
              "  </tbody>\n",
              "</table>\n",
              "</div>\n",
              "      <button class=\"colab-df-convert\" onclick=\"convertToInteractive('df-9e093b3d-8007-4242-bd85-6633f62e9c46')\"\n",
              "              title=\"Convert this dataframe to an interactive table.\"\n",
              "              style=\"display:none;\">\n",
              "        \n",
              "  <svg xmlns=\"http://www.w3.org/2000/svg\" height=\"24px\"viewBox=\"0 0 24 24\"\n",
              "       width=\"24px\">\n",
              "    <path d=\"M0 0h24v24H0V0z\" fill=\"none\"/>\n",
              "    <path d=\"M18.56 5.44l.94 2.06.94-2.06 2.06-.94-2.06-.94-.94-2.06-.94 2.06-2.06.94zm-11 1L8.5 8.5l.94-2.06 2.06-.94-2.06-.94L8.5 2.5l-.94 2.06-2.06.94zm10 10l.94 2.06.94-2.06 2.06-.94-2.06-.94-.94-2.06-.94 2.06-2.06.94z\"/><path d=\"M17.41 7.96l-1.37-1.37c-.4-.4-.92-.59-1.43-.59-.52 0-1.04.2-1.43.59L10.3 9.45l-7.72 7.72c-.78.78-.78 2.05 0 2.83L4 21.41c.39.39.9.59 1.41.59.51 0 1.02-.2 1.41-.59l7.78-7.78 2.81-2.81c.8-.78.8-2.07 0-2.86zM5.41 20L4 18.59l7.72-7.72 1.47 1.35L5.41 20z\"/>\n",
              "  </svg>\n",
              "      </button>\n",
              "      \n",
              "  <style>\n",
              "    .colab-df-container {\n",
              "      display:flex;\n",
              "      flex-wrap:wrap;\n",
              "      gap: 12px;\n",
              "    }\n",
              "\n",
              "    .colab-df-convert {\n",
              "      background-color: #E8F0FE;\n",
              "      border: none;\n",
              "      border-radius: 50%;\n",
              "      cursor: pointer;\n",
              "      display: none;\n",
              "      fill: #1967D2;\n",
              "      height: 32px;\n",
              "      padding: 0 0 0 0;\n",
              "      width: 32px;\n",
              "    }\n",
              "\n",
              "    .colab-df-convert:hover {\n",
              "      background-color: #E2EBFA;\n",
              "      box-shadow: 0px 1px 2px rgba(60, 64, 67, 0.3), 0px 1px 3px 1px rgba(60, 64, 67, 0.15);\n",
              "      fill: #174EA6;\n",
              "    }\n",
              "\n",
              "    [theme=dark] .colab-df-convert {\n",
              "      background-color: #3B4455;\n",
              "      fill: #D2E3FC;\n",
              "    }\n",
              "\n",
              "    [theme=dark] .colab-df-convert:hover {\n",
              "      background-color: #434B5C;\n",
              "      box-shadow: 0px 1px 3px 1px rgba(0, 0, 0, 0.15);\n",
              "      filter: drop-shadow(0px 1px 2px rgba(0, 0, 0, 0.3));\n",
              "      fill: #FFFFFF;\n",
              "    }\n",
              "  </style>\n",
              "\n",
              "      <script>\n",
              "        const buttonEl =\n",
              "          document.querySelector('#df-9e093b3d-8007-4242-bd85-6633f62e9c46 button.colab-df-convert');\n",
              "        buttonEl.style.display =\n",
              "          google.colab.kernel.accessAllowed ? 'block' : 'none';\n",
              "\n",
              "        async function convertToInteractive(key) {\n",
              "          const element = document.querySelector('#df-9e093b3d-8007-4242-bd85-6633f62e9c46');\n",
              "          const dataTable =\n",
              "            await google.colab.kernel.invokeFunction('convertToInteractive',\n",
              "                                                     [key], {});\n",
              "          if (!dataTable) return;\n",
              "\n",
              "          const docLinkHtml = 'Like what you see? Visit the ' +\n",
              "            '<a target=\"_blank\" href=https://colab.research.google.com/notebooks/data_table.ipynb>data table notebook</a>'\n",
              "            + ' to learn more about interactive tables.';\n",
              "          element.innerHTML = '';\n",
              "          dataTable['output_type'] = 'display_data';\n",
              "          await google.colab.output.renderOutput(dataTable, element);\n",
              "          const docLink = document.createElement('div');\n",
              "          docLink.innerHTML = docLinkHtml;\n",
              "          element.appendChild(docLink);\n",
              "        }\n",
              "      </script>\n",
              "    </div>\n",
              "  </div>\n",
              "  "
            ]
          },
          "metadata": {},
          "execution_count": 43
        }
      ]
    },
    {
      "cell_type": "markdown",
      "source": [
        "This code is used to create a JSON file from a dataframe. It takes the dataframe, reads the id and prediction columns and stores it in a list. The list is then written in a JSON file. This JSON file is then used as a submission file to the dataset."
      ],
      "metadata": {
        "id": "ZPto_seE6qlt"
      }
    },
    {
      "cell_type": "code",
      "source": [
        "import json\n",
        "\n",
        "import pandas as pd\n",
        "\n",
        "#test_file_path = \"data/test-predictions.csv\"\n",
        "df_test = saved\n",
        "df_test = df_test[[\"id\", \"prediction\"]]\n",
        "\n",
        "data = []\n",
        "for index, row in df_test.iterrows():\n",
        "    data.append({'id': row['id'], 'prediction': row['prediction']})\n",
        "\n",
        "print(data[0:2])\n",
        "\n",
        "submission_file_path = \"submission.json\"\n",
        "with open(submission_file_path, 'w') as fp:\n",
        "    fp.write('\\n'.join(json.dumps(i) for i in data))"
      ],
      "metadata": {
        "colab": {
          "base_uri": "https://localhost:8080/"
        },
        "id": "TF-SZ7li7qUx",
        "outputId": "a7c9f264-cb42-4b4a-8115-cd62250cc8a4"
      },
      "execution_count": null,
      "outputs": [
        {
          "output_type": "stream",
          "name": "stdout",
          "text": [
            "[{'id': '96d74cb729', 'prediction': 'positive'}, {'id': 'eee518ae67', 'prediction': 'negative'}]\n"
          ]
        }
      ]
    }
  ]
}