{
  "cells": [
    {
      "cell_type": "markdown",
      "source": [
        "**Introduction**\n",
        "The goal of this challenge is to create a machine learning algorithm to accurately predict whether an image contains either a cat or a dog. This type of task is useful in tasks such as animal species image recognition for restricting access. Human beings can easily differentiate between a cat and a dog, but it is a tedious task that needs full-time availability. Machine learning can be used to provide an automated solution for this.\n",
        "\n",
        "**Data**\n",
        "The data set is composed of two folders and two .csv files. The train_images folder contains 10,000 labelled images, each with an id that is referred to in the train.csv file. The test_images folder contains 1,000 test images for which the labels need to be predicted using the model. The train.csv and test.csv files contain the details of the training and testing data, respectively.\n",
        "\n",
        "**Methodology**\n",
        "Any machine learning algorithm can be used to build the models, either from the sessions or from research based on the topics discussed. The random state should be set to 100 in order to generate comparative results.\n"
      ],
      "metadata": {
        "id": "g28pxtwMCt3h"
      }
    },
    {
      "cell_type": "code",
      "execution_count": null,
      "metadata": {
        "id": "3es8QvDsYmoq"
      },
      "outputs": [],
      "source": [
        "# import libraries\n",
        "import os\n",
        "import pandas as pd\n",
        "import numpy as np\n",
        "\n",
        "import cv2\n",
        "from skimage.feature import hog\n",
        "\n",
        "from sklearn.model_selection import train_test_split\n",
        "\n",
        "from sklearn.decomposition import PCA\n",
        "\n",
        "# libraries for data plotting\n",
        "import seaborn as sns\n",
        "import matplotlib.pyplot as plt \n",
        "\n",
        "# library for evaluation\n",
        "from sklearn import metrics\n",
        "\n",
        "# libraries for ML algorithms\n",
        "from sklearn import svm\n",
        "\n",
        "from random import randint\n",
        "from random import seed\n",
        "\n",
        "RANDOM_SEED = 100"
      ]
    },
    {
      "cell_type": "markdown",
      "metadata": {
        "id": "wgUunytVzS49"
      },
      "source": [
        "Drive and file setup"
      ]
    },
    {
      "cell_type": "code",
      "execution_count": null,
      "metadata": {
        "colab": {
          "base_uri": "https://localhost:8080/"
        },
        "id": "Gl1vhXbrzTlz",
        "outputId": "37673575-cff3-4ec0-fcd5-56a09ffc32cc"
      },
      "outputs": [
        {
          "output_type": "stream",
          "name": "stdout",
          "text": [
            "Mounted at /content/drive\n"
          ]
        }
      ],
      "source": [
        "# mount your Google Drive\n",
        "from google.colab import drive\n",
        "drive.mount('/content/drive')"
      ]
    },
    {
      "cell_type": "code",
      "execution_count": null,
      "metadata": {
        "id": "G_roO6-UzVz0"
      },
      "outputs": [],
      "source": [
        " # unzip file\n",
        "import shutil\n",
        "shutil.unpack_archive('/content/drive/MyDrive/Colab Notebooks/train_images.zip')"
      ]
    },
    {
      "cell_type": "code",
      "execution_count": null,
      "metadata": {
        "id": "hH0nNkU-JhPN"
      },
      "outputs": [],
      "source": [
        "# unzip file\n",
        "import shutil\n",
        "shutil.unpack_archive('/content/drive/MyDrive/Colab Notebooks/test_images.zip')"
      ]
    },
    {
      "cell_type": "markdown",
      "metadata": {
        "id": "RLLNcRTAY4Es"
      },
      "source": [
        "##Load image data sets"
      ]
    },
    {
      "cell_type": "code",
      "execution_count": null,
      "metadata": {
        "id": "Ys8MHtxQ0Lvb"
      },
      "outputs": [],
      "source": [
        "data_train = ('/content/drive/MyDrive/Colab Notebooks/train.csv')"
      ]
    },
    {
      "cell_type": "code",
      "execution_count": null,
      "metadata": {
        "id": "kpJQccxVJpQt"
      },
      "outputs": [],
      "source": [
        "data_test = ('/content/drive/MyDrive/Colab Notebooks/test.csv')"
      ]
    },
    {
      "cell_type": "code",
      "execution_count": null,
      "metadata": {
        "colab": {
          "base_uri": "https://localhost:8080/",
          "height": 223
        },
        "id": "QXIG_cOKY1ig",
        "outputId": "ac760298-fea2-41e8-dd95-149fba18b2f4"
      },
      "outputs": [
        {
          "output_type": "stream",
          "name": "stdout",
          "text": [
            "Number of entries: 10000\n"
          ]
        },
        {
          "output_type": "execute_result",
          "data": {
            "text/plain": [
              "   id label\n",
              "0   1   cat\n",
              "1   2   dog\n",
              "2   3   cat\n",
              "3   4   cat\n",
              "4   5   cat"
            ],
            "text/html": [
              "\n",
              "  <div id=\"df-cdb60226-869f-4011-a109-b00e541fa2cd\">\n",
              "    <div class=\"colab-df-container\">\n",
              "      <div>\n",
              "<style scoped>\n",
              "    .dataframe tbody tr th:only-of-type {\n",
              "        vertical-align: middle;\n",
              "    }\n",
              "\n",
              "    .dataframe tbody tr th {\n",
              "        vertical-align: top;\n",
              "    }\n",
              "\n",
              "    .dataframe thead th {\n",
              "        text-align: right;\n",
              "    }\n",
              "</style>\n",
              "<table border=\"1\" class=\"dataframe\">\n",
              "  <thead>\n",
              "    <tr style=\"text-align: right;\">\n",
              "      <th></th>\n",
              "      <th>id</th>\n",
              "      <th>label</th>\n",
              "    </tr>\n",
              "  </thead>\n",
              "  <tbody>\n",
              "    <tr>\n",
              "      <th>0</th>\n",
              "      <td>1</td>\n",
              "      <td>cat</td>\n",
              "    </tr>\n",
              "    <tr>\n",
              "      <th>1</th>\n",
              "      <td>2</td>\n",
              "      <td>dog</td>\n",
              "    </tr>\n",
              "    <tr>\n",
              "      <th>2</th>\n",
              "      <td>3</td>\n",
              "      <td>cat</td>\n",
              "    </tr>\n",
              "    <tr>\n",
              "      <th>3</th>\n",
              "      <td>4</td>\n",
              "      <td>cat</td>\n",
              "    </tr>\n",
              "    <tr>\n",
              "      <th>4</th>\n",
              "      <td>5</td>\n",
              "      <td>cat</td>\n",
              "    </tr>\n",
              "  </tbody>\n",
              "</table>\n",
              "</div>\n",
              "      <button class=\"colab-df-convert\" onclick=\"convertToInteractive('df-cdb60226-869f-4011-a109-b00e541fa2cd')\"\n",
              "              title=\"Convert this dataframe to an interactive table.\"\n",
              "              style=\"display:none;\">\n",
              "        \n",
              "  <svg xmlns=\"http://www.w3.org/2000/svg\" height=\"24px\"viewBox=\"0 0 24 24\"\n",
              "       width=\"24px\">\n",
              "    <path d=\"M0 0h24v24H0V0z\" fill=\"none\"/>\n",
              "    <path d=\"M18.56 5.44l.94 2.06.94-2.06 2.06-.94-2.06-.94-.94-2.06-.94 2.06-2.06.94zm-11 1L8.5 8.5l.94-2.06 2.06-.94-2.06-.94L8.5 2.5l-.94 2.06-2.06.94zm10 10l.94 2.06.94-2.06 2.06-.94-2.06-.94-.94-2.06-.94 2.06-2.06.94z\"/><path d=\"M17.41 7.96l-1.37-1.37c-.4-.4-.92-.59-1.43-.59-.52 0-1.04.2-1.43.59L10.3 9.45l-7.72 7.72c-.78.78-.78 2.05 0 2.83L4 21.41c.39.39.9.59 1.41.59.51 0 1.02-.2 1.41-.59l7.78-7.78 2.81-2.81c.8-.78.8-2.07 0-2.86zM5.41 20L4 18.59l7.72-7.72 1.47 1.35L5.41 20z\"/>\n",
              "  </svg>\n",
              "      </button>\n",
              "      \n",
              "  <style>\n",
              "    .colab-df-container {\n",
              "      display:flex;\n",
              "      flex-wrap:wrap;\n",
              "      gap: 12px;\n",
              "    }\n",
              "\n",
              "    .colab-df-convert {\n",
              "      background-color: #E8F0FE;\n",
              "      border: none;\n",
              "      border-radius: 50%;\n",
              "      cursor: pointer;\n",
              "      display: none;\n",
              "      fill: #1967D2;\n",
              "      height: 32px;\n",
              "      padding: 0 0 0 0;\n",
              "      width: 32px;\n",
              "    }\n",
              "\n",
              "    .colab-df-convert:hover {\n",
              "      background-color: #E2EBFA;\n",
              "      box-shadow: 0px 1px 2px rgba(60, 64, 67, 0.3), 0px 1px 3px 1px rgba(60, 64, 67, 0.15);\n",
              "      fill: #174EA6;\n",
              "    }\n",
              "\n",
              "    [theme=dark] .colab-df-convert {\n",
              "      background-color: #3B4455;\n",
              "      fill: #D2E3FC;\n",
              "    }\n",
              "\n",
              "    [theme=dark] .colab-df-convert:hover {\n",
              "      background-color: #434B5C;\n",
              "      box-shadow: 0px 1px 3px 1px rgba(0, 0, 0, 0.15);\n",
              "      filter: drop-shadow(0px 1px 2px rgba(0, 0, 0, 0.3));\n",
              "      fill: #FFFFFF;\n",
              "    }\n",
              "  </style>\n",
              "\n",
              "      <script>\n",
              "        const buttonEl =\n",
              "          document.querySelector('#df-cdb60226-869f-4011-a109-b00e541fa2cd button.colab-df-convert');\n",
              "        buttonEl.style.display =\n",
              "          google.colab.kernel.accessAllowed ? 'block' : 'none';\n",
              "\n",
              "        async function convertToInteractive(key) {\n",
              "          const element = document.querySelector('#df-cdb60226-869f-4011-a109-b00e541fa2cd');\n",
              "          const dataTable =\n",
              "            await google.colab.kernel.invokeFunction('convertToInteractive',\n",
              "                                                     [key], {});\n",
              "          if (!dataTable) return;\n",
              "\n",
              "          const docLinkHtml = 'Like what you see? Visit the ' +\n",
              "            '<a target=\"_blank\" href=https://colab.research.google.com/notebooks/data_table.ipynb>data table notebook</a>'\n",
              "            + ' to learn more about interactive tables.';\n",
              "          element.innerHTML = '';\n",
              "          dataTable['output_type'] = 'display_data';\n",
              "          await google.colab.output.renderOutput(dataTable, element);\n",
              "          const docLink = document.createElement('div');\n",
              "          docLink.innerHTML = docLinkHtml;\n",
              "          element.appendChild(docLink);\n",
              "        }\n",
              "      </script>\n",
              "    </div>\n",
              "  </div>\n",
              "  "
            ]
          },
          "metadata": {},
          "execution_count": 7
        }
      ],
      "source": [
        "# load training data\n",
        "df_train = pd.read_csv(os.path.join(data_train))\n",
        "\n",
        "# summarise the details\n",
        "print(f'Number of entries: {len(df_train)}')\n",
        "df_train.head()"
      ]
    },
    {
      "cell_type": "code",
      "execution_count": null,
      "metadata": {
        "colab": {
          "base_uri": "https://localhost:8080/",
          "height": 223
        },
        "id": "9OnPaCcSktqc",
        "outputId": "e19615e1-1958-4299-ccf2-b2e881ffd10b"
      },
      "outputs": [
        {
          "output_type": "stream",
          "name": "stdout",
          "text": [
            "Number of entries: 1000\n"
          ]
        },
        {
          "output_type": "execute_result",
          "data": {
            "text/plain": [
              "   id\n",
              "0   1\n",
              "1   2\n",
              "2   3\n",
              "3   4\n",
              "4   5"
            ],
            "text/html": [
              "\n",
              "  <div id=\"df-a614e49a-12fa-4298-a27d-44165d8f54f0\">\n",
              "    <div class=\"colab-df-container\">\n",
              "      <div>\n",
              "<style scoped>\n",
              "    .dataframe tbody tr th:only-of-type {\n",
              "        vertical-align: middle;\n",
              "    }\n",
              "\n",
              "    .dataframe tbody tr th {\n",
              "        vertical-align: top;\n",
              "    }\n",
              "\n",
              "    .dataframe thead th {\n",
              "        text-align: right;\n",
              "    }\n",
              "</style>\n",
              "<table border=\"1\" class=\"dataframe\">\n",
              "  <thead>\n",
              "    <tr style=\"text-align: right;\">\n",
              "      <th></th>\n",
              "      <th>id</th>\n",
              "    </tr>\n",
              "  </thead>\n",
              "  <tbody>\n",
              "    <tr>\n",
              "      <th>0</th>\n",
              "      <td>1</td>\n",
              "    </tr>\n",
              "    <tr>\n",
              "      <th>1</th>\n",
              "      <td>2</td>\n",
              "    </tr>\n",
              "    <tr>\n",
              "      <th>2</th>\n",
              "      <td>3</td>\n",
              "    </tr>\n",
              "    <tr>\n",
              "      <th>3</th>\n",
              "      <td>4</td>\n",
              "    </tr>\n",
              "    <tr>\n",
              "      <th>4</th>\n",
              "      <td>5</td>\n",
              "    </tr>\n",
              "  </tbody>\n",
              "</table>\n",
              "</div>\n",
              "      <button class=\"colab-df-convert\" onclick=\"convertToInteractive('df-a614e49a-12fa-4298-a27d-44165d8f54f0')\"\n",
              "              title=\"Convert this dataframe to an interactive table.\"\n",
              "              style=\"display:none;\">\n",
              "        \n",
              "  <svg xmlns=\"http://www.w3.org/2000/svg\" height=\"24px\"viewBox=\"0 0 24 24\"\n",
              "       width=\"24px\">\n",
              "    <path d=\"M0 0h24v24H0V0z\" fill=\"none\"/>\n",
              "    <path d=\"M18.56 5.44l.94 2.06.94-2.06 2.06-.94-2.06-.94-.94-2.06-.94 2.06-2.06.94zm-11 1L8.5 8.5l.94-2.06 2.06-.94-2.06-.94L8.5 2.5l-.94 2.06-2.06.94zm10 10l.94 2.06.94-2.06 2.06-.94-2.06-.94-.94-2.06-.94 2.06-2.06.94z\"/><path d=\"M17.41 7.96l-1.37-1.37c-.4-.4-.92-.59-1.43-.59-.52 0-1.04.2-1.43.59L10.3 9.45l-7.72 7.72c-.78.78-.78 2.05 0 2.83L4 21.41c.39.39.9.59 1.41.59.51 0 1.02-.2 1.41-.59l7.78-7.78 2.81-2.81c.8-.78.8-2.07 0-2.86zM5.41 20L4 18.59l7.72-7.72 1.47 1.35L5.41 20z\"/>\n",
              "  </svg>\n",
              "      </button>\n",
              "      \n",
              "  <style>\n",
              "    .colab-df-container {\n",
              "      display:flex;\n",
              "      flex-wrap:wrap;\n",
              "      gap: 12px;\n",
              "    }\n",
              "\n",
              "    .colab-df-convert {\n",
              "      background-color: #E8F0FE;\n",
              "      border: none;\n",
              "      border-radius: 50%;\n",
              "      cursor: pointer;\n",
              "      display: none;\n",
              "      fill: #1967D2;\n",
              "      height: 32px;\n",
              "      padding: 0 0 0 0;\n",
              "      width: 32px;\n",
              "    }\n",
              "\n",
              "    .colab-df-convert:hover {\n",
              "      background-color: #E2EBFA;\n",
              "      box-shadow: 0px 1px 2px rgba(60, 64, 67, 0.3), 0px 1px 3px 1px rgba(60, 64, 67, 0.15);\n",
              "      fill: #174EA6;\n",
              "    }\n",
              "\n",
              "    [theme=dark] .colab-df-convert {\n",
              "      background-color: #3B4455;\n",
              "      fill: #D2E3FC;\n",
              "    }\n",
              "\n",
              "    [theme=dark] .colab-df-convert:hover {\n",
              "      background-color: #434B5C;\n",
              "      box-shadow: 0px 1px 3px 1px rgba(0, 0, 0, 0.15);\n",
              "      filter: drop-shadow(0px 1px 2px rgba(0, 0, 0, 0.3));\n",
              "      fill: #FFFFFF;\n",
              "    }\n",
              "  </style>\n",
              "\n",
              "      <script>\n",
              "        const buttonEl =\n",
              "          document.querySelector('#df-a614e49a-12fa-4298-a27d-44165d8f54f0 button.colab-df-convert');\n",
              "        buttonEl.style.display =\n",
              "          google.colab.kernel.accessAllowed ? 'block' : 'none';\n",
              "\n",
              "        async function convertToInteractive(key) {\n",
              "          const element = document.querySelector('#df-a614e49a-12fa-4298-a27d-44165d8f54f0');\n",
              "          const dataTable =\n",
              "            await google.colab.kernel.invokeFunction('convertToInteractive',\n",
              "                                                     [key], {});\n",
              "          if (!dataTable) return;\n",
              "\n",
              "          const docLinkHtml = 'Like what you see? Visit the ' +\n",
              "            '<a target=\"_blank\" href=https://colab.research.google.com/notebooks/data_table.ipynb>data table notebook</a>'\n",
              "            + ' to learn more about interactive tables.';\n",
              "          element.innerHTML = '';\n",
              "          dataTable['output_type'] = 'display_data';\n",
              "          await google.colab.output.renderOutput(dataTable, element);\n",
              "          const docLink = document.createElement('div');\n",
              "          docLink.innerHTML = docLinkHtml;\n",
              "          element.appendChild(docLink);\n",
              "        }\n",
              "      </script>\n",
              "    </div>\n",
              "  </div>\n",
              "  "
            ]
          },
          "metadata": {},
          "execution_count": 8
        }
      ],
      "source": [
        "# load testing data\n",
        "df_test = pd.read_csv(os.path.join(data_test))\n",
        "\n",
        "# summarise the details\n",
        "print(f'Number of entries: {len(df_test)}')\n",
        "df_test.head()"
      ]
    },
    {
      "cell_type": "code",
      "execution_count": null,
      "metadata": {
        "colab": {
          "base_uri": "https://localhost:8080/",
          "height": 296
        },
        "id": "4xDNv-HVz-zB",
        "outputId": "13455afb-7e0d-4253-c1ef-d3b430f10567"
      },
      "outputs": [
        {
          "output_type": "execute_result",
          "data": {
            "text/plain": [
              "<AxesSubplot:xlabel='label', ylabel='count'>"
            ]
          },
          "metadata": {},
          "execution_count": 9
        },
        {
          "output_type": "display_data",
          "data": {
            "text/plain": [
              "<Figure size 432x288 with 1 Axes>"
            ],
            "image/png": "[encoded data removed]"
          },
          "metadata": {
            "needs_background": "light"
          }
        }
      ],
      "source": [
        "# Summarise label details in training data\n",
        "sns.countplot(x=df_train['label'])"
      ]
    },
    {
      "cell_type": "markdown",
      "metadata": {
        "id": "0T1JqzBw02ov"
      },
      "source": [
        "This code defines a Python function called \"load_images\" that takes as input a list of image ids, a folder path where the images are stored, and the dimensions to resize the images to. The function returns a list of resized images.\n",
        "\n",
        "The function starts by creating an empty list called \"images\" to hold the loaded and resized images.\n",
        "\n",
        "It then iterates over each image id in the input \"ids\" list using a for loop. For each image id, it constructs the file path to the corresponding image file by concatenating the \"folder_path\" and the image id with the \".jpg\" file extension. It then loads the image file using the OpenCV function \"cv2.imread\", which reads the image data from the file into a NumPy array.\n",
        "\n",
        "After loading the image, the function checks if the image dimensions match the desired dimensions specified by the \"dim\" parameter. If the dimensions do not match, the function resizes the image using the OpenCV function \"cv2.resize\", which resizes the image to the desired dimensions. The resulting resized image is appended to the \"images\" list.\n",
        "\n",
        "This process is repeated for each image id in the input list, resulting in a list of resized images.\n",
        "\n",
        "Overall, this function provides a convenient way to load and resize a set of images for use in a machine learning model. It uses the OpenCV library to read and manipulate image data, which is a common library used for computer vision tasks."
      ]
    },
    {
      "cell_type": "code",
      "execution_count": null,
      "metadata": {
        "id": "ihQijjmibPXj"
      },
      "outputs": [],
      "source": [
        "# parameters\n",
        "# ids - list of image ids\n",
        "# folder_path - path to image folder\n",
        "# dim - dimensions to resize images\n",
        "def load_images(ids, folder_path, dim):\n",
        "  images = []\n",
        "  for id in ids:\n",
        "    image_path = os.path.join(folder_path, f'{id}.jpg')\n",
        "    img = cv2.imread(image_path)\n",
        "\n",
        "    # Resize if necessary\n",
        "    if img.shape[0] != dim[1] or img.shape[1] != dim[0]:\n",
        "      img = cv2.resize(img, dim)\n",
        "    images.append(img)\n",
        "  return images"
      ]
    },
    {
      "cell_type": "markdown",
      "source": [
        "This code loads a set of training and testing images for use in a machine learning model.\n",
        "\n",
        "The first line defines the desired base dimensions for the images, which is a tuple of (200, 200).\n",
        "\n",
        "The next two lines load the training and testing images, respectively.\n",
        "\n",
        "For the training images, it uses the \"load_images\" function to load the first 7000 images from the training set, as specified by the slice notation [0:7000]/[0:9000] of the \"df_train['id']\" column. The function loads the images from the \"train_images\" folder and resizes them to the base dimensions specified by \"base_dim\". The resulting list of resized images is stored in the \"train_images\" variable, and the number of images loaded is printed to the console.\n",
        "\n",
        "For the testing images, it also uses the \"load_images\" function to load all of the images from the \"df_test['id']\" column. The function loads the images from the \"test_images\" folder and resizes them to the base dimensions specified by \"base_dim\". The resulting list of resized images is stored in the \"test_images\" variable, and the number of images loaded is printed to the console.\n",
        "\n",
        "Overall, this code provides a simple way to load a set of training and testing images for use in a machine learning model. It uses the \"load_images\" function to read the image data from disk and resize the images as necessary, and stores the resulting images in memory as lists."
      ],
      "metadata": {
        "id": "pA3t9OKvaHoB"
      }
    },
    {
      "cell_type": "code",
      "execution_count": null,
      "metadata": {
        "colab": {
          "base_uri": "https://localhost:8080/"
        },
        "id": "0ayw62e4kgZt",
        "outputId": "a8b494e7-30df-4b9c-cbde-e060d6722b87"
      },
      "outputs": [
        {
          "output_type": "stream",
          "name": "stdout",
          "text": [
            "Number of training images loaded: 7000\n",
            "Number of testing images loaded: 1000\n"
          ]
        }
      ],
      "source": [
        "base_dim = (200, 200)\n",
        "\n",
        "# load train images\n",
        "train_image_folder = os.path.join('train_images')\n",
        "train_images = load_images(df_train['id'][0:7000], train_image_folder, base_dim)\n",
        "print(f'Number of training images loaded: {len(train_images)}')\n",
        "\n",
        "# load test images\n",
        "test_image_folder = os.path.join('test_images')\n",
        "test_images = load_images(df_test['id'], test_image_folder, base_dim)\n",
        "print(f'Number of testing images loaded: {len(test_images)}')"
      ]
    },
    {
      "cell_type": "markdown",
      "metadata": {
        "id": "LDgfRkS1kV9Q"
      },
      "source": [
        "## Feature extraction and model generation"
      ]
    },
    {
      "cell_type": "markdown",
      "source": [
        "This code is a Python script for evaluating a classification model. It includes two methods - one for plotting a confusion matrix and one for calculating evaluation results such as accuracy and confusion matrix. The method for plotting a confusion matrix takes an input of a matrix and plots it using matplotlib. The method for evaluating takes two inputs - actual values and predicted values - and returns the accuracy and a confusion matrix."
      ],
      "metadata": {
        "id": "V5qO3vnBaRXJ"
      }
    },
    {
      "cell_type": "code",
      "execution_count": null,
      "metadata": {
        "id": "UKtAoOUcujQa"
      },
      "outputs": [],
      "source": [
        "# method to plot confusion matrix\n",
        "def plot_confusion_matrix(matrix):\n",
        "    plt.clf()\n",
        "    plt.imshow(matrix, interpolation='nearest', cmap=plt.cm.Set2_r)\n",
        "    classNames = ['0', '1']\n",
        "    plt.title('Confusion Matrix')\n",
        "    plt.ylabel('Actual')\n",
        "    plt.xlabel('Predicted')\n",
        "    tick_marks = np.arange(len(classNames))\n",
        "    plt.xticks(tick_marks, classNames)\n",
        "    plt.yticks(tick_marks, classNames)\n",
        "    s = [['TN','FP'], ['FN', 'TP']]\n",
        "\n",
        "    for i in range(2):\n",
        "        for j in range(2):\n",
        "            plt.text(j,i, str(s[i][j])+\" = \"+str(matrix[i][j]))\n",
        "    plt.show()\n",
        "\n",
        "# method to calculate evaluation results\n",
        "def evaluate(actuals, predictions):\n",
        "  accuracy = metrics.accuracy_score(actuals, predictions)\n",
        "  confusion_matrix = metrics.confusion_matrix(actuals, predictions)\n",
        "  return accuracy, confusion_matrix"
      ]
    },
    {
      "cell_type": "markdown",
      "metadata": {
        "id": "oUAtz0IKIlCd"
      },
      "source": [
        "### SVM\n",
        "Support Vector Machines (SVMs) are a type of supervised machine learning algorithm that are used for both classification and regression tasks. SVMs are based on the idea of finding the optimal hyperplane that best separates the data points in a higher dimensional space. It is also used to detect outliers and classify data points by constructing a hyperplane to separate them."
      ]
    },
    {
      "cell_type": "markdown",
      "source": [
        "This code is building a support vector machine (SVM) model using a linear kernel. The model is built using the X_train and y_train data sets, and then tested with the X_val and y_val data sets. The model is initialized with a random seed to ensure reproducibility of results."
      ],
      "metadata": {
        "id": "Lnw5OS51aZ9o"
      }
    },
    {
      "cell_type": "code",
      "execution_count": null,
      "metadata": {
        "id": "miHFLfq69Bn9"
      },
      "outputs": [],
      "source": [
        "def build_svm_model(X_train, X_val, y_train, y_val):\n",
        "  # build model\n",
        "  clf = svm.SVC(kernel='linear', random_state=RANDOM_SEED) \n",
        "  clf.fit(X_train, y_train)\n",
        "  return clf"
      ]
    },
    {
      "cell_type": "markdown",
      "source": [
        "### KNN\n",
        "\n",
        "K Nearest Neighbors (KNN) is a supervised machine learning algorithm that is used for classification and regression. KNN is a non-parametric, lazy learning algorithm. It uses a distance-based approach to classify a given data point into a given class. The algorithm requires a training dataset which is used to classify the test data. It calculates the distance between a test data point and all other training data points and assigns the most frequent class to the test data point."
      ],
      "metadata": {
        "id": "oXliA06kTNNq"
      }
    },
    {
      "cell_type": "markdown",
      "source": [
        "This code builds a K-Nearest Neighbors (KNN) classification model. The parameter n_neighbors is set to 3 and the model is trained using the X_train and y_train data. The model is then returned and can be used to make predictions on unseen data, such as X_val."
      ],
      "metadata": {
        "id": "l0OItsODai6m"
      }
    },
    {
      "cell_type": "code",
      "source": [
        "from sklearn.neighbors import KNeighborsClassifier\n",
        "\n",
        "def build_knn_model(X_train, X_val, y_train, y_val):\n",
        "  # build model\n",
        "  clf = KNeighborsClassifier(n_neighbors=3) \n",
        "  clf.fit(X_train, y_train)\n",
        "  return clf"
      ],
      "metadata": {
        "id": "Vxjj5VkP45Cr"
      },
      "execution_count": null,
      "outputs": []
    },
    {
      "cell_type": "markdown",
      "metadata": {
        "id": "reHMYa0mIZ_k"
      },
      "source": [
        "#### Model M1\n",
        "\n",
        "- Preprocessing - gray scaling<br>\n",
        "- Features - image vector<br>\n",
        "- Algorithm - SVM <br>"
      ]
    },
    {
      "cell_type": "markdown",
      "source": [
        "The function starts by creating an empty list called \"features_list\" to hold the feature vectors for each image.\n",
        "\n",
        "It then iterates over each image in the input \"images\" list using a for loop. For each image, it performs a simple preprocessing step to convert the image from BGR (blue-green-red) color space to grayscale using the OpenCV function \"cv2.cvtColor\". This converts the image from a 3-channel color image to a single-channel grayscale image, which can simplify subsequent feature extraction steps.\n",
        "\n",
        "After the preprocessing step, the function extracts features from the grayscale image by flattening it into a 1D vector using the NumPy function \"flatten\". This converts the 2D grayscale image into a 1D feature vector, which can be used as input to a machine learning model.\n",
        "\n",
        "The resulting feature vector is appended to the \"features_list\" using the \"append\" method. This process is repeated for each image in the input list, resulting in a list of feature vectors, where each vector represents the features of one image.\n",
        "\n",
        "Finally, the list of feature vectors is converted to a NumPy array using the \"np.array\" function and returned by the function.\n",
        "\n",
        "Overall, this function performs a simple feature extraction process for grayscale images, which can be used as a baseline for more complex feature extraction methods."
      ],
      "metadata": {
        "id": "5gbpLdZKatyg"
      }
    },
    {
      "cell_type": "code",
      "execution_count": null,
      "metadata": {
        "id": "7i7UIVwGlAbo"
      },
      "outputs": [],
      "source": [
        "# method to get image features\n",
        "def get_features_m1(images):\n",
        "  features_list = []\n",
        "  for img in images:\n",
        "    # image preprocessing\n",
        "    img_grayscaled = cv2.cvtColor(img, cv2.COLOR_BGR2GRAY)\n",
        "\n",
        "    # vectorise/ feature extraction\n",
        "    features = img_grayscaled.flatten()\n",
        "\n",
        "    features_list.append(features)\n",
        "\n",
        "  features_list = np.array(features_list)\n",
        "  return features_list"
      ]
    },
    {
      "cell_type": "markdown",
      "metadata": {
        "id": "M1bmnSmrwQf-"
      },
      "source": [
        "Train and validate model"
      ]
    },
    {
      "cell_type": "markdown",
      "source": [
        "The first line of code calls the \"get_features_m1\" function, passing in a set of training images called \"train_images\". The function performs processing or feature extraction on the images to extract numerical features that can be used as inputs to a machine learning model. The resulting feature matrix is assigned to the variable \"features_train\".\n",
        "\n",
        "The second line of code prints out the shape of the feature matrix using the \"shape\" attribute of the NumPy array. This allows us to see how many instances (i.e., images) are in the training data and how many features were extracted for each instance. For example, if the output is (1000, 1024), it would mean that there are 1000 images in the training set, and for each image, 1024 features were extracted. The specific shape of the feature matrix will depend on the implementation of the feature extraction function and the characteristics of the input images."
      ],
      "metadata": {
        "id": "TUkM23TAa3Aw"
      }
    },
    {
      "cell_type": "code",
      "execution_count": null,
      "metadata": {
        "colab": {
          "base_uri": "https://localhost:8080/"
        },
        "id": "fMAMCltH9wIt",
        "outputId": "d53b362e-5e65-43fe-a16e-d3d122505438"
      },
      "outputs": [
        {
          "output_type": "stream",
          "name": "stdout",
          "text": [
            "(7000, 40000)\n"
          ]
        }
      ],
      "source": [
        "# feature extraction\n",
        "features_train = get_features_m1(train_images)\n",
        "print(features_train.shape)"
      ]
    },
    {
      "cell_type": "markdown",
      "source": [
        "This code is building a knn model using a train-test split. It takes four parameters - features_train (the training data), df_train (DataFrame containing the label column), X_train and X_val (the training and validation data, respectively) and y_train and y_val (the training and validation labels, respectively). It then uses the build_knn_model() function to train the model on the data and return the trained model (m1)."
      ],
      "metadata": {
        "id": "cmm5-YRQa-gI"
      }
    },
    {
      "cell_type": "code",
      "execution_count": null,
      "metadata": {
        "id": "7OavUvCD9x9H"
      },
      "outputs": [],
      "source": [
        "# data split for train and validation\n",
        "X_train, X_val, y_train, y_val = train_test_split(features_train, df_train['label'][0:7000], test_size=0.3, random_state=RANDOM_SEED)\n",
        "\n",
        "# train model\n",
        "m1 = build_knn_model(X_train, X_val, y_train, y_val)"
      ]
    },
    {
      "cell_type": "markdown",
      "source": [
        "\n",
        "This code is used to build a Support Vector Machine (SVM) model. The code splits the data into a training set and a validation set, and then builds the SVM model using the training set. The validation set is used to evaluate the accuracy of the model. The model is then used to classify new data points."
      ],
      "metadata": {
        "id": "ok-8CeoDbLs-"
      }
    },
    {
      "cell_type": "code",
      "source": [
        "# data split for train and validation\n",
        "X_train, X_val, y_train, y_val = train_test_split(features_train, df_train['label'][0:7000], test_size=0.3, random_state=RANDOM_SEED)\n",
        "\n",
        "# train model\n",
        "m1 = build_svm_model(X_train, X_val, y_train, y_val)"
      ],
      "metadata": {
        "id": "OhmKMSUbS2i8"
      },
      "execution_count": null,
      "outputs": []
    },
    {
      "cell_type": "markdown",
      "source": [
        "This code is used to evaluate the performance of a machine learning model. Firstly, the model m1 is used to make predictions on the validation data X_val. Then, the accuracy and confusion matrix are evaluated by a function called evaluate() which takes in y_val and y_pred as parameters. Finally, the confusion matrix is plotted using the plot_confusion_matrix function."
      ],
      "metadata": {
        "id": "Y9rtUdqgbURn"
      }
    },
    {
      "cell_type": "code",
      "execution_count": null,
      "metadata": {
        "id": "fx4pGnMu-EAh",
        "colab": {
          "base_uri": "https://localhost:8080/",
          "height": 367
        },
        "outputId": "6b315484-1752-41c6-ddd6-6c9c57dad422"
      },
      "outputs": [
        {
          "output_type": "stream",
          "name": "stderr",
          "text": [
            "/usr/local/lib/python3.8/dist-packages/sklearn/neighbors/_classification.py:228: FutureWarning: Unlike other reduction functions (e.g. `skew`, `kurtosis`), the default behavior of `mode` typically preserves the axis it acts along. In SciPy 1.11.0, this behavior will change: the default value of `keepdims` will become False, the `axis` over which the statistic is taken will be eliminated, and the value None will no longer be accepted. Set `keepdims` to True or False to avoid this warning.\n",
            "  mode, _ = stats.mode(_y[neigh_ind, k], axis=1)\n"
          ]
        },
        {
          "output_type": "stream",
          "name": "stdout",
          "text": [
            "Accuracy: 0.5347619047619048\n"
          ]
        },
        {
          "output_type": "display_data",
          "data": {
            "text/plain": [
              "<Figure size 432x288 with 1 Axes>"
            ],
            "image/png": "[encoded data removed]"
          },
          "metadata": {
            "needs_background": "light"
          }
        }
      ],
      "source": [
        "# make predictions on validation data\n",
        "y_pred = m1.predict(X_val)\n",
        "\n",
        "# evaluate model\n",
        "accuracy, confusion_matrix = evaluate(y_val, y_pred)\n",
        "print(f'Accuracy: {accuracy}')\n",
        "plot_confusion_matrix(confusion_matrix)\n"
      ]
    },
    {
      "cell_type": "markdown",
      "metadata": {
        "id": "GEJqr6diwVsC"
      },
      "source": [
        "Make predictions on test images\n",
        "\n",
        "The first line of code extracts features from the test images using a function called \"get_features_m1\" and assigns the resulting feature matrix to the variable \"features_test\". The \"get_features_m1\" function likely takes in the raw test images and performs some sort of processing or feature extraction to transform the images into a numerical feature representation that can be fed into the machine learning model.\n",
        "\n",
        "The second line of code uses the trained model \"m1\" to make predictions on the test data. The \"predict\" method of the model object takes in the feature matrix as input and returns a vector of predicted labels or values for each instance in the test data. The resulting predictions are assigned to the variable \"predictions\".\n",
        "\n",
        "Finally, the third line of code simply prints out the predictions so we can see the output of the model. The output could be in different formats depending on the type of problem and the specific implementation of the model, but it will likely be a vector or matrix of predicted labels or values for each instance in the test data."
      ]
    },
    {
      "cell_type": "code",
      "execution_count": null,
      "metadata": {
        "id": "hVZqTsFCjDTw",
        "colab": {
          "base_uri": "https://localhost:8080/"
        },
        "outputId": "9bdb07cb-131f-4db7-acdb-806dd5bfe36c"
      },
      "outputs": [
        {
          "output_type": "stream",
          "name": "stdout",
          "text": [
            "(1000, 40000)\n",
            "['cat' 'cat' 'cat' 'cat' 'dog' 'cat' 'dog' 'dog' 'dog' 'cat' 'cat' 'dog'\n",
            " 'cat' 'cat' 'cat' 'cat' 'dog' 'dog' 'dog' 'dog' 'cat' 'dog' 'dog' 'cat'\n",
            " 'dog' 'dog' 'cat' 'cat' 'cat' 'cat' 'cat' 'dog' 'dog' 'dog' 'cat' 'cat'\n",
            " 'cat' 'cat' 'dog' 'cat' 'cat' 'dog' 'cat' 'cat' 'dog' 'dog' 'dog' 'dog'\n",
            " 'cat' 'cat' 'dog' 'cat' 'cat' 'cat' 'cat' 'cat' 'dog' 'dog' 'cat' 'dog'\n",
            " 'cat' 'cat' 'cat' 'cat' 'dog' 'dog' 'cat' 'cat' 'dog' 'dog' 'dog' 'cat'\n",
            " 'dog' 'cat' 'dog' 'dog' 'cat' 'cat' 'dog' 'dog' 'dog' 'dog' 'cat' 'cat'\n",
            " 'cat' 'dog' 'dog' 'dog' 'dog' 'cat' 'dog' 'cat' 'dog' 'cat' 'dog' 'dog'\n",
            " 'dog' 'dog' 'dog' 'cat' 'dog' 'dog' 'cat' 'dog' 'cat' 'cat' 'dog' 'cat'\n",
            " 'cat' 'cat' 'cat' 'cat' 'dog' 'dog' 'cat' 'cat' 'dog' 'cat' 'cat' 'cat'\n",
            " 'cat' 'cat' 'dog' 'cat' 'dog' 'cat' 'cat' 'cat' 'dog' 'cat' 'dog' 'cat'\n",
            " 'dog' 'cat' 'cat' 'dog' 'dog' 'cat' 'cat' 'cat' 'cat' 'cat' 'dog' 'cat'\n",
            " 'dog' 'cat' 'cat' 'cat' 'cat' 'cat' 'dog' 'cat' 'dog' 'cat' 'cat' 'dog'\n",
            " 'dog' 'dog' 'dog' 'cat' 'cat' 'dog' 'cat' 'dog' 'dog' 'dog' 'cat' 'cat'\n",
            " 'cat' 'cat' 'dog' 'cat' 'dog' 'dog' 'cat' 'dog' 'cat' 'cat' 'cat' 'dog'\n",
            " 'cat' 'cat' 'dog' 'dog' 'cat' 'dog' 'cat' 'cat' 'dog' 'cat' 'cat' 'cat'\n",
            " 'cat' 'cat' 'cat' 'dog' 'dog' 'cat' 'cat' 'cat' 'dog' 'cat' 'dog' 'cat'\n",
            " 'dog' 'cat' 'dog' 'dog' 'cat' 'cat' 'cat' 'cat' 'dog' 'cat' 'cat' 'cat'\n",
            " 'cat' 'dog' 'cat' 'dog' 'cat' 'cat' 'dog' 'dog' 'cat' 'cat' 'cat' 'cat'\n",
            " 'cat' 'cat' 'cat' 'cat' 'cat' 'cat' 'cat' 'dog' 'cat' 'cat' 'cat' 'dog'\n",
            " 'cat' 'dog' 'cat' 'dog' 'cat' 'dog' 'cat' 'dog' 'cat' 'cat' 'cat' 'cat'\n",
            " 'cat' 'cat' 'dog' 'dog' 'cat' 'cat' 'cat' 'cat' 'cat' 'cat' 'cat' 'cat'\n",
            " 'cat' 'cat' 'cat' 'dog' 'dog' 'cat' 'cat' 'dog' 'dog' 'cat' 'cat' 'cat'\n",
            " 'dog' 'dog' 'cat' 'cat' 'cat' 'cat' 'dog' 'cat' 'dog' 'cat' 'dog' 'dog'\n",
            " 'dog' 'cat' 'dog' 'dog' 'dog' 'cat' 'cat' 'dog' 'cat' 'dog' 'cat' 'cat'\n",
            " 'dog' 'dog' 'cat' 'cat' 'dog' 'dog' 'cat' 'cat' 'dog' 'dog' 'dog' 'cat'\n",
            " 'cat' 'cat' 'dog' 'dog' 'dog' 'dog' 'dog' 'cat' 'dog' 'cat' 'cat' 'dog'\n",
            " 'cat' 'cat' 'dog' 'cat' 'dog' 'cat' 'cat' 'cat' 'cat' 'cat' 'cat' 'cat'\n",
            " 'dog' 'dog' 'cat' 'dog' 'dog' 'cat' 'dog' 'cat' 'cat' 'dog' 'cat' 'cat'\n",
            " 'cat' 'cat' 'cat' 'dog' 'cat' 'dog' 'cat' 'dog' 'cat' 'dog' 'dog' 'cat'\n",
            " 'dog' 'dog' 'dog' 'dog' 'dog' 'dog' 'cat' 'cat' 'dog' 'dog' 'dog' 'dog'\n",
            " 'dog' 'cat' 'cat' 'dog' 'cat' 'cat' 'dog' 'cat' 'cat' 'cat' 'cat' 'dog'\n",
            " 'cat' 'dog' 'dog' 'dog' 'dog' 'dog' 'dog' 'cat' 'cat' 'dog' 'dog' 'dog'\n",
            " 'cat' 'dog' 'cat' 'cat' 'dog' 'cat' 'cat' 'dog' 'cat' 'dog' 'dog' 'cat'\n",
            " 'cat' 'cat' 'cat' 'dog' 'cat' 'dog' 'cat' 'cat' 'cat' 'dog' 'cat' 'cat'\n",
            " 'cat' 'dog' 'cat' 'cat' 'dog' 'dog' 'cat' 'cat' 'cat' 'cat' 'dog' 'cat'\n",
            " 'cat' 'dog' 'dog' 'cat' 'dog' 'dog' 'dog' 'dog' 'dog' 'cat' 'dog' 'dog'\n",
            " 'dog' 'dog' 'dog' 'dog' 'cat' 'cat' 'dog' 'cat' 'cat' 'cat' 'cat' 'cat'\n",
            " 'cat' 'dog' 'cat' 'dog' 'cat' 'cat' 'cat' 'cat' 'cat' 'dog' 'cat' 'dog'\n",
            " 'dog' 'cat' 'cat' 'dog' 'cat' 'dog' 'cat' 'dog' 'dog' 'cat' 'cat' 'cat'\n",
            " 'cat' 'dog' 'cat' 'cat' 'cat' 'dog' 'cat' 'dog' 'cat' 'cat' 'cat' 'cat'\n",
            " 'dog' 'dog' 'dog' 'cat' 'cat' 'cat' 'dog' 'cat' 'cat' 'cat' 'cat' 'cat'\n",
            " 'dog' 'cat' 'cat' 'cat' 'dog' 'cat' 'dog' 'cat' 'dog' 'cat' 'cat' 'cat'\n",
            " 'dog' 'dog' 'cat' 'dog' 'dog' 'cat' 'cat' 'cat' 'dog' 'dog' 'cat' 'dog'\n",
            " 'cat' 'dog' 'cat' 'dog' 'dog' 'cat' 'cat' 'cat' 'cat' 'dog' 'cat' 'cat'\n",
            " 'dog' 'cat' 'dog' 'cat' 'cat' 'dog' 'dog' 'dog' 'cat' 'dog' 'cat' 'dog'\n",
            " 'dog' 'cat' 'cat' 'dog' 'dog' 'cat' 'cat' 'dog' 'dog' 'cat' 'cat' 'cat'\n",
            " 'cat' 'cat' 'dog' 'dog' 'cat' 'cat' 'dog' 'cat' 'cat' 'cat' 'cat' 'cat'\n",
            " 'dog' 'cat' 'cat' 'dog' 'cat' 'cat' 'cat' 'dog' 'cat' 'dog' 'cat' 'cat'\n",
            " 'dog' 'cat' 'dog' 'cat' 'cat' 'cat' 'dog' 'cat' 'dog' 'cat' 'cat' 'dog'\n",
            " 'cat' 'cat' 'dog' 'cat' 'cat' 'dog' 'cat' 'cat' 'dog' 'cat' 'dog' 'cat'\n",
            " 'cat' 'cat' 'cat' 'cat' 'cat' 'cat' 'cat' 'dog' 'cat' 'cat' 'cat' 'dog'\n",
            " 'dog' 'dog' 'dog' 'cat' 'dog' 'dog' 'cat' 'cat' 'dog' 'cat' 'dog' 'dog'\n",
            " 'cat' 'dog' 'dog' 'dog' 'cat' 'dog' 'cat' 'cat' 'cat' 'cat' 'cat' 'dog'\n",
            " 'cat' 'dog' 'cat' 'dog' 'cat' 'cat' 'cat' 'cat' 'cat' 'dog' 'cat' 'cat'\n",
            " 'cat' 'dog' 'dog' 'dog' 'cat' 'cat' 'cat' 'cat' 'cat' 'cat' 'cat' 'cat'\n",
            " 'cat' 'dog' 'cat' 'dog' 'dog' 'cat' 'dog' 'dog' 'dog' 'dog' 'cat' 'cat'\n",
            " 'cat' 'dog' 'cat' 'dog' 'cat' 'cat' 'dog' 'cat' 'dog' 'cat' 'dog' 'cat'\n",
            " 'cat' 'cat' 'cat' 'cat' 'dog' 'cat' 'cat' 'cat' 'dog' 'cat' 'cat' 'cat'\n",
            " 'dog' 'cat' 'cat' 'dog' 'cat' 'dog' 'cat' 'dog' 'dog' 'dog' 'cat' 'dog'\n",
            " 'cat' 'cat' 'cat' 'cat' 'dog' 'cat' 'cat' 'dog' 'cat' 'cat' 'cat' 'cat'\n",
            " 'cat' 'cat' 'cat' 'dog' 'dog' 'cat' 'cat' 'cat' 'cat' 'dog' 'dog' 'dog'\n",
            " 'cat' 'dog' 'cat' 'cat' 'cat' 'cat' 'dog' 'dog' 'cat' 'cat' 'dog' 'dog'\n",
            " 'cat' 'cat' 'dog' 'cat' 'cat' 'dog' 'dog' 'cat' 'cat' 'cat' 'cat' 'dog'\n",
            " 'dog' 'cat' 'dog' 'cat' 'dog' 'cat' 'cat' 'dog' 'cat' 'dog' 'cat' 'cat'\n",
            " 'dog' 'dog' 'cat' 'dog' 'dog' 'cat' 'cat' 'cat' 'dog' 'dog' 'dog' 'cat'\n",
            " 'dog' 'dog' 'cat' 'cat' 'cat' 'cat' 'cat' 'cat' 'dog' 'dog' 'dog' 'dog'\n",
            " 'cat' 'dog' 'cat' 'dog' 'cat' 'cat' 'cat' 'cat' 'dog' 'cat' 'cat' 'cat'\n",
            " 'dog' 'cat' 'dog' 'dog' 'dog' 'cat' 'dog' 'cat' 'dog' 'cat' 'dog' 'cat'\n",
            " 'cat' 'dog' 'cat' 'dog' 'dog' 'cat' 'cat' 'cat' 'cat' 'dog' 'cat' 'dog'\n",
            " 'dog' 'cat' 'cat' 'dog' 'cat' 'dog' 'cat' 'cat' 'dog' 'cat' 'cat' 'cat'\n",
            " 'dog' 'cat' 'cat' 'cat' 'cat' 'cat' 'cat' 'dog' 'dog' 'dog' 'cat' 'dog'\n",
            " 'cat' 'cat' 'cat' 'cat' 'dog' 'cat' 'cat' 'cat' 'cat' 'cat' 'cat' 'cat'\n",
            " 'cat' 'cat' 'dog' 'cat' 'cat' 'cat' 'cat' 'cat' 'cat' 'dog' 'dog' 'cat'\n",
            " 'dog' 'dog' 'dog' 'dog' 'dog' 'dog' 'cat' 'cat' 'dog' 'cat' 'dog' 'dog'\n",
            " 'dog' 'cat' 'cat' 'cat' 'dog' 'cat' 'dog' 'cat' 'dog' 'dog' 'cat' 'cat'\n",
            " 'dog' 'cat' 'cat' 'cat' 'cat' 'cat' 'cat' 'cat' 'dog' 'cat' 'cat' 'cat'\n",
            " 'cat' 'dog' 'cat' 'dog' 'cat' 'cat' 'cat' 'dog' 'dog' 'dog' 'dog' 'cat'\n",
            " 'cat' 'cat' 'cat' 'dog' 'cat' 'dog' 'cat' 'cat' 'cat' 'cat' 'cat' 'dog'\n",
            " 'cat' 'cat' 'cat' 'dog' 'cat' 'cat' 'dog' 'cat' 'cat' 'dog' 'dog' 'dog'\n",
            " 'cat' 'cat' 'dog' 'cat' 'cat' 'cat' 'dog' 'cat' 'dog' 'dog' 'cat' 'dog'\n",
            " 'dog' 'cat' 'cat' 'dog' 'cat' 'cat' 'dog' 'cat' 'cat' 'cat' 'dog' 'dog'\n",
            " 'cat' 'cat' 'dog' 'cat' 'cat' 'dog' 'dog' 'dog' 'cat' 'dog' 'dog' 'cat'\n",
            " 'cat' 'cat' 'cat' 'cat']\n"
          ]
        }
      ],
      "source": [
        "# feature extraction - test data\n",
        "features_test = get_features_m1(test_images)\n",
        "print(features_test.shape)\n",
        "\n",
        "# get model predictions\n",
        "predictions = m1.predict(features_test)\n",
        "print(predictions)"
      ]
    },
    {
      "cell_type": "markdown",
      "source": [
        "The first line creates a new variable called \"arr\" and assigns it the value of the \"predictions\" variable, which should be a NumPy array containing the model's predictions on the test data.\n",
        "\n",
        "The second line creates a new pandas DataFrame called \"df\" by passing the \"arr\" variable to the DataFrame constructor and specifying the column name as 'predictions'. This converts the NumPy array into a DataFrame with one column and as many rows as there are instances in the test data.\n",
        "\n",
        "The third line simply prints the resulting DataFrame to the console, which should display the predictions in a tabular format with one column named 'predictions' and one row for each instance in the test data. The DataFrame can be further manipulated or saved as a file for further analysis or comparison with other models or predictions."
      ],
      "metadata": {
        "id": "Jnt3cK4Hb7A1"
      }
    },
    {
      "cell_type": "code",
      "source": [
        "import pandas as pd\n",
        "\n",
        "# Create an array\n",
        "arr = predictions\n",
        "\n",
        "# Convert the array into a pandas DataFrame\n",
        "df = pd.DataFrame(arr, columns=['predictions'])\n",
        "\n",
        "print(df)"
      ],
      "metadata": {
        "id": "OdVXl4ZW-sTy"
      },
      "execution_count": null,
      "outputs": []
    },
    {
      "cell_type": "code",
      "source": [
        "id_add = df_test"
      ],
      "metadata": {
        "id": "dQR95msRGQRR"
      },
      "execution_count": null,
      "outputs": []
    },
    {
      "cell_type": "code",
      "source": [
        "final=pd.concat([df, id_add], axis=1)"
      ],
      "metadata": {
        "id": "N0EFGTzqBst1"
      },
      "execution_count": null,
      "outputs": []
    },
    {
      "cell_type": "code",
      "source": [
        "final.to_csv('submission.csv')"
      ],
      "metadata": {
        "id": "vIqCNABXAENJ"
      },
      "execution_count": null,
      "outputs": []
    },
    {
      "cell_type": "code",
      "source": [
        "final.head(10)"
      ],
      "metadata": {
        "id": "QVSCcczQCSu5"
      },
      "execution_count": null,
      "outputs": []
    },
    {
      "cell_type": "code",
      "source": [
        "fin_ren = final.rename(columns={'predictions': 'prediction'})"
      ],
      "metadata": {
        "id": "yBw8TXgqDNal"
      },
      "execution_count": null,
      "outputs": []
    },
    {
      "cell_type": "markdown",
      "source": [
        "The first line imports the necessary libraries for working with JSON and pandas dataframes. The second line selects two columns, \"id\" and \"prediction\", from a pandas dataframe called \"fin_ren\" and assigns the resulting dataframe to a new variable called \"df_test\".\n",
        "\n",
        "The third line creates an empty list called \"data\" to hold the JSON-formatted data. The next few lines iterate over the rows of the \"df_test\" dataframe and append a dictionary to the \"data\" list for each row. The dictionary has two keys, \"id\" and \"prediction\", which correspond to the two columns in the original dataframe. The value for each key is the value from the corresponding column in the current row.\n",
        "\n",
        "The fifth line prints the first five items in the \"data\" list to the console for debugging or verification purposes.\n",
        "\n",
        "The next line specifies the file path and name for the output JSON file as \"submission_file_path\".\n",
        "\n",
        "The \"with open\" block on lines 8-10 opens the file specified in \"submission_file_path\" in write mode, and iterates over the \"data\" list, writing each item to the file as a new line using the json.dumps method. This converts each dictionary in the list to a JSON-formatted string and writes it to the file.\n",
        "\n",
        "Once the block is complete, the resulting file at \"submission_file_path\" should contain one line for each instance in the test data, with the \"id\" and \"prediction\" values separated by a colon and formatted as JSON. This file can then be submitted for evaluation to a competition or evaluation platform that accepts JSON-formatted predictions."
      ],
      "metadata": {
        "id": "6wIpvqZWcSh4"
      }
    },
    {
      "cell_type": "code",
      "source": [
        "import json\n",
        "\n",
        "import pandas as pd\n",
        "\n",
        "df_test = fin_ren[[\"id\", \"prediction\"]]\n",
        "\n",
        "data = []\n",
        "for index, row in df_test.iterrows():\n",
        "    data.append({'id': row['id'], 'prediction': row['prediction']})\n",
        "\n",
        "print(data[0:5])\n",
        "\n",
        "submission_file_path = \"submission.json\"\n",
        "with open(submission_file_path, 'w') as fp:\n",
        "    fp.write('\\n'.join(json.dumps(i) for i in data))\n"
      ],
      "metadata": {
        "id": "dUkGbu9f97VD"
      },
      "execution_count": null,
      "outputs": []
    }
  ],
  "metadata": {
    "accelerator": "TPU",
    "colab": {
      "provenance": []
    },
    "gpuClass": "standard",
    "kernelspec": {
      "display_name": "Python 3",
      "name": "python3"
    }
  },
  "nbformat": 4,
  "nbformat_minor": 0
}